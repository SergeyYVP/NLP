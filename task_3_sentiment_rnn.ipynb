{
 "cells": [
  {
   "cell_type": "markdown",
   "metadata": {},
   "source": [
    "## Assignment 2.3: Text classification via RNN (30 points)"
   ]
  },
  {
   "cell_type": "markdown",
   "metadata": {},
   "source": [
    "In this assignment you will perform sentiment analysis of the IMDBs reviews by using RNN. An additional goal is to learn high abstactions of the **torchtext** module that consists of data processing utilities and popular datasets for natural language."
   ]
  },
  {
   "cell_type": "code",
   "execution_count": 1,
   "metadata": {},
   "outputs": [],
   "source": [
    "import pandas as pd\n",
    "import numpy as np\n",
    "import torch\n",
    "\n",
    "from torchtext import datasets\n",
    "\n",
    "from torchtext.data import Field, LabelField\n",
    "from torchtext.data import BucketIterator\n",
    "\n",
    "import torch.nn as nn\n",
    "import torch.nn.functional as F\n",
    "import torch.optim as optim\n",
    "import os\n",
    "import spacy\n",
    "import re\n",
    "import pickle\n",
    "import matplotlib.pyplot as plt"
   ]
  },
  {
   "cell_type": "code",
   "execution_count": 2,
   "metadata": {},
   "outputs": [],
   "source": [
    "def set_random_seed(seed):\n",
    "    os.environ['PYTHONHASHSEED'] = str(seed)\n",
    "    np.random.seed(seed)\n",
    "    torch.manual_seed(seed)\n",
    "    torch.backends.cudnn.benchmark = False\n",
    "    torch.backends.cudnn.deterministic = True\n",
    "    torch.cuda.manual_seed(seed)\n",
    "    torch.manual_seed(seed)\n",
    "\n",
    "set_random_seed(42)"
   ]
  },
  {
   "cell_type": "code",
   "execution_count": 3,
   "metadata": {},
   "outputs": [],
   "source": [
    "device = 'cuda'"
   ]
  },
  {
   "cell_type": "markdown",
   "metadata": {},
   "source": [
    "### Preparing Data"
   ]
  },
  {
   "cell_type": "code",
   "execution_count": 4,
   "metadata": {},
   "outputs": [],
   "source": [
    "nlp = spacy.load('en_core_web_sm', disable=['parser', 'tagger', 'ner'])"
   ]
  },
  {
   "cell_type": "code",
   "execution_count": 5,
   "metadata": {},
   "outputs": [],
   "source": [
    "def text_cleaner(text):\n",
    "    text = re.sub(r'[^A-Za-z0-9]+', ' ', text)\n",
    "    return text.strip()\n",
    "\n",
    "def tokenizer(s): \n",
    "    return [w.text.lower() for w in nlp(text_cleaner(s))]"
   ]
  },
  {
   "cell_type": "code",
   "execution_count": 6,
   "metadata": {},
   "outputs": [],
   "source": [
    "TEXT = Field(sequential=True, tokenize=tokenizer, include_lengths=True)\n",
    "LABEL = LabelField(dtype=torch.float)"
   ]
  },
  {
   "cell_type": "code",
   "execution_count": 7,
   "metadata": {},
   "outputs": [],
   "source": [
    "train, tst = datasets.IMDB.splits(TEXT, LABEL)\n",
    "trn, vld = train.split()"
   ]
  },
  {
   "cell_type": "code",
   "execution_count": 8,
   "metadata": {},
   "outputs": [],
   "source": [
    "from torchtext import vocab"
   ]
  },
  {
   "cell_type": "code",
   "execution_count": 9,
   "metadata": {},
   "outputs": [],
   "source": [
    "vec = vocab.Vectors('wiki.en.align.vec', './data')"
   ]
  },
  {
   "cell_type": "code",
   "execution_count": 10,
   "metadata": {},
   "outputs": [
    {
     "name": "stdout",
     "output_type": "stream",
     "text": [
      "Wall time: 1.52 s\n"
     ]
    }
   ],
   "source": [
    "%%time\n",
    "TEXT.build_vocab(trn, vld, vectors=vec)"
   ]
  },
  {
   "cell_type": "code",
   "execution_count": 11,
   "metadata": {},
   "outputs": [
    {
     "name": "stdout",
     "output_type": "stream",
     "text": [
      "torch.Size([74407, 300])\n"
     ]
    }
   ],
   "source": [
    "print(TEXT.vocab.vectors.shape)"
   ]
  },
  {
   "cell_type": "code",
   "execution_count": 12,
   "metadata": {},
   "outputs": [
    {
     "data": {
      "text/plain": [
       "tensor([-6.8400e-02,  1.6300e-02, -3.0000e-03,  3.9500e-02, -2.3600e-02,\n",
       "         9.0000e-03, -1.1410e-01, -7.7000e-02,  1.0640e-01, -5.5200e-02,\n",
       "        -1.0000e-04,  1.1600e-02, -1.5200e-02, -1.8200e-02, -1.6900e-02,\n",
       "        -2.3700e-02,  7.0000e-03,  2.3500e-02,  7.1500e-02,  7.9600e-02,\n",
       "        -2.8600e-02,  5.8000e-03,  2.6700e-02, -4.1100e-02, -3.2900e-02,\n",
       "         4.7100e-02,  3.5400e-02, -3.4800e-02, -3.9400e-02, -7.9000e-03,\n",
       "        -4.9200e-02,  6.4300e-02, -5.6500e-02,  2.5700e-02, -1.6900e-02,\n",
       "        -4.8000e-02,  6.3000e-02, -6.6000e-03,  4.6400e-02,  5.2300e-02,\n",
       "         5.5300e-02,  1.3300e-02, -9.2000e-03, -2.8400e-02, -4.0000e-02,\n",
       "         1.5900e-02,  2.2600e-02, -1.0540e-01, -2.1000e-02, -4.3100e-02,\n",
       "         2.0900e-02, -3.0000e-03,  6.7500e-02, -1.8400e-02, -8.9200e-02,\n",
       "        -2.9000e-02, -1.8100e-02,  2.9000e-03,  6.6300e-02,  6.9000e-03,\n",
       "         5.9000e-02,  4.2600e-02, -2.7600e-02,  1.9400e-02, -7.7000e-03,\n",
       "        -1.2500e-02,  6.6900e-02,  4.8900e-02,  2.1000e-02,  6.4500e-02,\n",
       "        -3.3600e-02,  3.4000e-03,  1.4650e-01,  4.8000e-03, -6.3400e-02,\n",
       "         6.4100e-02, -4.4000e-02,  9.9000e-03, -3.4400e-02, -2.5800e-02,\n",
       "        -4.0200e-02, -2.2300e-02, -4.8400e-02,  5.8700e-02, -2.5000e-02,\n",
       "        -6.0000e-03, -1.9300e-02,  1.1740e-01,  1.5400e-02,  6.0900e-02,\n",
       "         2.8100e-02, -3.6600e-02,  1.5970e-01, -8.6700e-02,  4.7600e-02,\n",
       "        -3.2500e-02, -3.1300e-02,  2.8200e-02, -1.8200e-02, -5.9300e-02,\n",
       "        -5.1700e-02, -1.1470e-01,  6.5300e-02, -0.0000e+00, -1.8300e-02,\n",
       "        -6.4700e-02, -3.4900e-02,  6.8800e-02, -1.6500e-02, -3.9500e-02,\n",
       "         7.8000e-03, -5.5800e-02, -7.1800e-02, -2.3000e-03, -1.2800e-02,\n",
       "        -5.9500e-02,  3.8500e-02,  8.1000e-03,  2.8500e-02,  5.4700e-02,\n",
       "         7.5900e-02,  6.5900e-02, -7.9300e-02,  1.4950e-01, -1.3220e-01,\n",
       "        -4.6000e-02,  4.9100e-02, -9.3200e-02,  1.9000e-03,  5.6000e-02,\n",
       "        -1.1200e-02, -9.4500e-02,  1.9400e-02, -4.7000e-03,  7.3100e-02,\n",
       "         6.6000e-03,  9.3000e-03,  2.6100e-02,  2.5200e-02,  2.9000e-02,\n",
       "         1.3400e-02, -3.0300e-02,  8.1500e-02,  1.0300e-02,  8.7000e-03,\n",
       "         1.2400e-02,  6.7000e-03, -1.1690e-01, -8.6900e-02, -6.7000e-03,\n",
       "         5.9000e-02, -1.1200e-02,  7.1500e-02, -2.5000e-03, -1.2840e-01,\n",
       "         1.8800e-02, -1.6200e-02, -3.7300e-02,  6.4200e-02, -7.1500e-02,\n",
       "        -3.7300e-02,  7.5000e-02, -8.2500e-02, -1.3170e-01, -5.0800e-02,\n",
       "        -6.8600e-02, -9.0900e-02, -2.0500e-02,  1.3130e-01,  3.0300e-02,\n",
       "        -7.0000e-02, -8.8800e-02, -9.5200e-02, -2.9600e-02, -3.4000e-02,\n",
       "         2.6900e-02, -4.5200e-02,  9.7300e-02, -2.4600e-02, -3.6700e-02,\n",
       "        -1.4600e-02, -2.4200e-02,  9.0000e-03,  9.0200e-02, -4.1400e-02,\n",
       "         9.8000e-02, -4.0900e-02, -6.8900e-02,  1.8400e-02,  4.5000e-02,\n",
       "         9.0600e-02, -5.8000e-02,  9.1100e-02,  7.4600e-02, -7.7600e-02,\n",
       "         5.8000e-02,  7.1700e-02,  8.0000e-03, -9.0000e-02, -3.5200e-02,\n",
       "        -2.6900e-02, -5.7100e-02,  3.0400e-02, -4.0000e-04, -8.9700e-02,\n",
       "         3.7300e-02, -2.9800e-02,  2.7300e-02, -2.5000e-03, -2.4700e-02,\n",
       "         5.4800e-02,  1.4260e-01,  7.0400e-02,  5.2000e-03,  1.5400e-02,\n",
       "        -6.0300e-02,  3.0900e-02,  6.3600e-02, -6.0400e-02,  2.9100e-02,\n",
       "         5.0000e-04, -5.9800e-02, -1.7150e-01,  1.4200e-01, -1.8600e-02,\n",
       "        -2.4300e-02, -5.8500e-02, -7.5000e-03, -2.8600e-02, -1.3700e-02,\n",
       "        -4.8100e-02,  3.2700e-02,  3.1000e-02, -7.1300e-02,  2.2100e-02,\n",
       "        -4.0300e-02, -4.2000e-03, -1.2700e-02,  3.5800e-02, -1.1200e-02,\n",
       "        -3.9000e-02,  4.3200e-02,  1.1270e-01, -1.9000e-03, -1.8800e-02,\n",
       "         1.4800e-01,  2.6600e-02,  1.0410e-01, -3.0400e-02, -7.3400e-02,\n",
       "         9.7300e-02,  3.2200e-02, -4.7300e-02, -8.2000e-03,  5.0600e-02,\n",
       "        -4.8500e-02, -2.6400e-02, -1.0600e-02,  1.5800e-02, -6.7000e-02,\n",
       "        -1.5700e-02,  2.5700e-02,  4.5900e-02, -5.0800e-02, -2.7700e-02,\n",
       "        -3.6600e-02, -3.9200e-02, -4.8000e-02, -7.5700e-02, -7.3600e-02,\n",
       "        -1.1470e-01, -1.5200e-02,  8.6100e-02, -7.6100e-02, -5.3000e-03,\n",
       "         7.4200e-02, -8.1000e-03, -2.6400e-02,  4.2200e-02, -3.7300e-02,\n",
       "         4.4900e-02,  9.6000e-03, -6.9000e-03, -1.7700e-02,  6.7700e-02,\n",
       "        -1.0800e-01,  1.1170e-01,  1.2370e-01, -9.8700e-02, -1.4500e-02,\n",
       "        -1.3880e-01,  3.7000e-03, -2.2100e-02, -1.0380e-01, -4.5200e-02,\n",
       "        -3.7000e-03, -1.9900e-02, -1.9000e-03,  2.8400e-02,  7.4000e-02])"
      ]
     },
     "execution_count": 12,
     "metadata": {},
     "output_type": "execute_result"
    }
   ],
   "source": [
    "TEXT.vocab.vectors[TEXT.vocab.stoi['word']]"
   ]
  },
  {
   "cell_type": "code",
   "execution_count": 13,
   "metadata": {},
   "outputs": [],
   "source": [
    "LABEL.build_vocab(trn)"
   ]
  },
  {
   "cell_type": "markdown",
   "metadata": {},
   "source": [
    "The vocab.freqs is a collections.Counter object, so we can take a look at the most frequent words."
   ]
  },
  {
   "cell_type": "code",
   "execution_count": 14,
   "metadata": {},
   "outputs": [
    {
     "data": {
      "text/plain": [
       "(74407, 2)"
      ]
     },
     "execution_count": 14,
     "metadata": {},
     "output_type": "execute_result"
    }
   ],
   "source": [
    "len(TEXT.vocab), len(LABEL.vocab)"
   ]
  },
  {
   "cell_type": "code",
   "execution_count": 15,
   "metadata": {},
   "outputs": [
    {
     "data": {
      "text/plain": [
       "[('the', 336758),\n",
       " ('and', 164141),\n",
       " ('a', 163159),\n",
       " ('of', 145865),\n",
       " ('to', 135724),\n",
       " ('is', 107349),\n",
       " ('br', 101872),\n",
       " ('it', 96474),\n",
       " ('in', 93981),\n",
       " ('i', 87855)]"
      ]
     },
     "execution_count": 15,
     "metadata": {},
     "output_type": "execute_result"
    }
   ],
   "source": [
    "TEXT.vocab.freqs.most_common(10)"
   ]
  },
  {
   "cell_type": "code",
   "execution_count": 16,
   "metadata": {},
   "outputs": [
    {
     "data": {
      "text/plain": [
       "[('pos', 8760), ('neg', 8740)]"
      ]
     },
     "execution_count": 16,
     "metadata": {},
     "output_type": "execute_result"
    }
   ],
   "source": [
    "LABEL.vocab.freqs.most_common()"
   ]
  },
  {
   "cell_type": "code",
   "execution_count": 18,
   "metadata": {},
   "outputs": [],
   "source": [
    "# from gensim.models import KeyedVectors"
   ]
  },
  {
   "cell_type": "code",
   "execution_count": 19,
   "metadata": {},
   "outputs": [],
   "source": [
    "# try:\n",
    "#     with open('data/wiki.en.align.pkl', 'rb') as f:\n",
    "#         ft_en = pickle.load(f)\n",
    "# except:\n",
    "#     ft = KeyedVectors.load_word2vec_format('data/wiki.en.align.vec')\n",
    "#     ft_en = ft.get_vector\n",
    "#     with open('data/wiki.en.align.pkl', 'wb') as f:\n",
    "#         pickle.dump(ft_en, f)"
   ]
  },
  {
   "cell_type": "code",
   "execution_count": 20,
   "metadata": {},
   "outputs": [],
   "source": [
    "# a = []\n",
    "# for i, z in LABEL.vocab:\n",
    "#     print(i, z)\n",
    "#     break"
   ]
  },
  {
   "cell_type": "markdown",
   "metadata": {},
   "source": [
    "### Creating the Iterator (2 points)"
   ]
  },
  {
   "cell_type": "markdown",
   "metadata": {},
   "source": [
    "During training, we'll be using a special kind of Iterator, called the **BucketIterator**. When we pass data into a neural network, we want the data to be padded to be the same length so that we can process them in batch:\n",
    "\n",
    "e.g.\n",
    "\\[ \n",
    "\\[3, 15, 2, 7\\],\n",
    "\\[4, 1\\], \n",
    "\\[5, 5, 6, 8, 1\\] \n",
    "\\] -> \\[ \n",
    "\\[3, 15, 2, 7, **0**\\],\n",
    "\\[4, 1, **0**, **0**, **0**\\], \n",
    "\\[5, 5, 6, 8, 1\\] \n",
    "\\] \n",
    "\n",
    "If the sequences differ greatly in length, the padding will consume a lot of wasteful memory and time. The BucketIterator groups sequences of similar lengths together for each batch to minimize padding.\n",
    "\n",
    "Complete the definition of the **BucketIterator** object"
   ]
  },
  {
   "cell_type": "code",
   "execution_count": 17,
   "metadata": {},
   "outputs": [
    {
     "data": {
      "text/plain": [
       "['i',\n",
       " 'm',\n",
       " 'sorry',\n",
       " 'but',\n",
       " 'this',\n",
       " 'is',\n",
       " 'just',\n",
       " 'awful',\n",
       " 'i',\n",
       " 'have',\n",
       " 'told',\n",
       " 'people',\n",
       " 'about',\n",
       " 'this',\n",
       " 'film',\n",
       " 'and',\n",
       " 'some',\n",
       " 'of',\n",
       " 'the',\n",
       " 'bad']"
      ]
     },
     "execution_count": 17,
     "metadata": {},
     "output_type": "execute_result"
    }
   ],
   "source": [
    "next(trn.text)[:20]"
   ]
  },
  {
   "cell_type": "code",
   "execution_count": 18,
   "metadata": {},
   "outputs": [],
   "source": [
    "train_iter, val_iter, test_iter = BucketIterator.splits(\n",
    "        (trn, vld, tst),\n",
    "        batch_sizes=(32, 32, 32),\n",
    "        sort_key= lambda x: len(x.text),\n",
    "        sort_within_batch=True,\n",
    "        device=device,\n",
    "        repeat=False,\n",
    ")"
   ]
  },
  {
   "cell_type": "markdown",
   "metadata": {},
   "source": [
    "Let's take a look at what the output of the BucketIterator looks like. Do not be suprised **batch_first=True**"
   ]
  },
  {
   "cell_type": "code",
   "execution_count": 19,
   "metadata": {},
   "outputs": [
    {
     "data": {
      "text/plain": [
       "(tensor([[   11, 13366,    12,  ...,  2098,    16,   944],\n",
       "         [  139,    12,    21,  ...,  1586,   110, 11451],\n",
       "         [ 1587,    21,    15,  ...,   518,  1967,    14],\n",
       "         ...,\n",
       "         [   15,    10,  1989,  ...,     1,     1,     1],\n",
       "         [  181,    12,     8,  ...,     1,     1,     1],\n",
       "         [  678,    19,     8,  ...,     1,     1,     1]], device='cuda:0'),\n",
       " tensor([303, 303, 303, 303, 302, 302, 302, 302, 302, 302, 301, 301, 301, 301,\n",
       "         301, 301, 300, 300, 300, 300, 300, 299, 299, 299, 298, 298, 298, 298,\n",
       "         298, 297, 297, 297], device='cuda:0'))"
      ]
     },
     "execution_count": 19,
     "metadata": {},
     "output_type": "execute_result"
    }
   ],
   "source": [
    "batch = next(train_iter.__iter__()); batch.text"
   ]
  },
  {
   "cell_type": "markdown",
   "metadata": {},
   "source": [
    "The batch has all the fields we passed to the Dataset as attributes. The batch data can be accessed through the attribute with the same name."
   ]
  },
  {
   "cell_type": "code",
   "execution_count": 20,
   "metadata": {},
   "outputs": [
    {
     "data": {
      "text/plain": [
       "tensor([303, 303, 303, 303, 302, 302, 302, 302, 302, 302, 301, 301, 301, 301,\n",
       "        301, 301, 300, 300, 300, 300, 300, 299, 299, 299, 298, 298, 298, 298,\n",
       "        298, 297, 297, 297], device='cuda:0')"
      ]
     },
     "execution_count": 20,
     "metadata": {},
     "output_type": "execute_result"
    }
   ],
   "source": [
    "batch.text[1]"
   ]
  },
  {
   "cell_type": "code",
   "execution_count": 21,
   "metadata": {},
   "outputs": [
    {
     "data": {
      "text/plain": [
       "torch.Size([303, 32])"
      ]
     },
     "execution_count": 21,
     "metadata": {},
     "output_type": "execute_result"
    }
   ],
   "source": [
    "batch.text[0].size()"
   ]
  },
  {
   "cell_type": "code",
   "execution_count": 22,
   "metadata": {},
   "outputs": [
    {
     "data": {
      "text/plain": [
       "tensor([1., 1., 1., 1., 1., 0., 1., 1., 1., 1., 0., 1., 0., 0., 0., 0., 0., 1.,\n",
       "        1., 0., 1., 0., 0., 0., 1., 0., 1., 1., 1., 1., 0., 1.],\n",
       "       device='cuda:0')"
      ]
     },
     "execution_count": 22,
     "metadata": {},
     "output_type": "execute_result"
    }
   ],
   "source": [
    "batch.label"
   ]
  },
  {
   "cell_type": "code",
   "execution_count": 23,
   "metadata": {},
   "outputs": [
    {
     "data": {
      "text/plain": [
       "dict_keys(['batch_size', 'dataset', 'fields', 'input_fields', 'target_fields', 'text', 'label'])"
      ]
     },
     "execution_count": 23,
     "metadata": {},
     "output_type": "execute_result"
    }
   ],
   "source": [
    "batch.__dict__.keys()"
   ]
  },
  {
   "cell_type": "markdown",
   "metadata": {},
   "source": [
    "### Define the RNN-based text classification model (10 points)"
   ]
  },
  {
   "cell_type": "markdown",
   "metadata": {},
   "source": [
    "Start simple first. Implement the model according to the shema below.  \n",
    "![alt text](https://miro.medium.com/max/1396/1*v-tLYQCsni550A-hznS0mw.jpeg)\n"
   ]
  },
  {
   "cell_type": "code",
   "execution_count": 24,
   "metadata": {},
   "outputs": [],
   "source": [
    "vocab_size = len(TEXT.vocab)"
   ]
  },
  {
   "cell_type": "code",
   "execution_count": 25,
   "metadata": {},
   "outputs": [],
   "source": [
    "from torch.nn.utils.rnn import pack_padded_sequence, pad_packed_sequence"
   ]
  },
  {
   "cell_type": "code",
   "execution_count": 105,
   "metadata": {},
   "outputs": [],
   "source": [
    "def evaluate_model(model, batch_iter):\n",
    "    TP = 0\n",
    "    TN = 0\n",
    "    FP = 0\n",
    "    FN = 0\n",
    "    TOTAL = 0\n",
    "    for batch in batch_iter:\n",
    "        x, lens = batch.text\n",
    "        y = batch.label\n",
    "        y_hat = torch.sigmoid(model(x, lens))\n",
    "        TP += torch.sum(y_hat[y == 1] >= 0.5).item()\n",
    "        FP += torch.sum(y_hat[y == 0] >= 0.5).item()\n",
    "        TN += torch.sum(y_hat[y == 0] < 0.5).item()\n",
    "        FN += torch.sum(y_hat[y == 1] < 0.5).item()\n",
    "        TOTAL += len(y)\n",
    "    accuracy = (TP + TN) / TOTAL\n",
    "    precision = TP / (TP + FP)\n",
    "    recall = TP / (TP + FN)\n",
    "    f1 = 2 / (1/precision + 1/recall)\n",
    "    return accuracy, precision, recall, f1\n",
    "\n",
    "def print_eval_results(accuracy, precision, recall, f1):\n",
    "    print(f'accuracy = {accuracy}')\n",
    "    print(f'precision = {precision}')\n",
    "    print(f'recall = {recall}')\n",
    "    print(f'f1 = {f1}')"
   ]
  },
  {
   "cell_type": "markdown",
   "metadata": {},
   "source": [
    "### Experiments (10 points)\n",
    "\n",
    "Experiment with the model and achieve better results. You can find advices [here](https://arxiv.org/abs/1801.06146). Implement and describe your experiments in details, mention what was helpful."
   ]
  },
  {
   "cell_type": "markdown",
   "metadata": {},
   "source": [
    "### 1. RNN with freezed fasttext embeddings"
   ]
  },
  {
   "cell_type": "code",
   "execution_count": 112,
   "metadata": {},
   "outputs": [],
   "source": [
    "class RNNB_with_fasttext(nn.Module):\n",
    "    def __init__(self, hidden_dim, emb_dim, vocab_size, pretrained_vecs):\n",
    "        super(RNNB_with_fasttext, self).__init__()\n",
    "        self.hidden_dim = hidden_dim\n",
    "        self.emb_dim = emb_dim\n",
    "        self.vocab_size = vocab_size\n",
    "        self.embed = nn.Embedding(vocab_size, emb_dim, padding_idx=1)\n",
    "        self.embed.weight.data.copy_(pretrained_vecs)\n",
    "        self.embed.weight.requires_grad = False\n",
    "        self.gru = nn.GRU(emb_dim, hidden_dim, batch_first=False)\n",
    "        self.fc = nn.Linear(hidden_dim, 1)\n",
    "            \n",
    "    def forward(self, seq, lens):\n",
    "        embeds = self.embed(seq)\n",
    "        embeds = pack_padded_sequence(embeds, lens)\n",
    "        gru_out, h = self.gru(embeds)\n",
    "        preds = self.fc(h).view(-1)\n",
    "        return preds"
   ]
  },
  {
   "cell_type": "code",
   "execution_count": 139,
   "metadata": {},
   "outputs": [],
   "source": [
    "em_sz = 300\n",
    "nh = 300\n",
    "model_with_ft = RNNB_with_fasttext(nh, emb_dim=em_sz, vocab_size=vocab_size, \n",
    "                    pretrained_vecs=TEXT.vocab.vectors).to(device)"
   ]
  },
  {
   "cell_type": "code",
   "execution_count": 140,
   "metadata": {},
   "outputs": [
    {
     "data": {
      "text/plain": [
       "RNNB_with_fasttext(\n",
       "  (embed): Embedding(74407, 300, padding_idx=1)\n",
       "  (gru): GRU(300, 300)\n",
       "  (fc): Linear(in_features=300, out_features=1, bias=True)\n",
       ")"
      ]
     },
     "execution_count": 140,
     "metadata": {},
     "output_type": "execute_result"
    }
   ],
   "source": [
    "model_with_ft"
   ]
  },
  {
   "cell_type": "code",
   "execution_count": 141,
   "metadata": {},
   "outputs": [
    {
     "data": {
      "text/plain": [
       "RNNB_with_fasttext(\n",
       "  (embed): Embedding(74407, 300, padding_idx=1)\n",
       "  (gru): GRU(300, 300)\n",
       "  (fc): Linear(in_features=300, out_features=1, bias=True)\n",
       ")"
      ]
     },
     "execution_count": 141,
     "metadata": {},
     "output_type": "execute_result"
    }
   ],
   "source": [
    "model_with_ft.cuda()"
   ]
  },
  {
   "cell_type": "code",
   "execution_count": 142,
   "metadata": {},
   "outputs": [],
   "source": [
    "opt = optim.Adam(filter(lambda p: p.requires_grad, model_with_ft.parameters()), lr=1e-3)\n",
    "loss_func = nn.BCEWithLogitsLoss()"
   ]
  },
  {
   "cell_type": "code",
   "execution_count": 143,
   "metadata": {},
   "outputs": [],
   "source": [
    "epochs = 8\n",
    "train_losses = [] \n",
    "val_losses = []"
   ]
  },
  {
   "cell_type": "code",
   "execution_count": 144,
   "metadata": {},
   "outputs": [
    {
     "name": "stdout",
     "output_type": "stream",
     "text": [
      "Epoch: 1, Training Loss: 0.6163450338395902, Validation Loss: 0.3914361259404649\n",
      "Epoch: 2, Training Loss: 0.3532551243165729, Validation Loss: 0.30802246186327426\n",
      "Epoch: 3, Training Loss: 0.29151465085895234, Validation Loss: 0.2849146946313533\n",
      "Epoch: 4, Training Loss: 0.26773786897578666, Validation Loss: 0.29140718620508277\n",
      "Epoch: 5, Training Loss: 0.2438537054771806, Validation Loss: 0.2751834032541894\n",
      "Epoch: 6, Training Loss: 0.23128782223630867, Validation Loss: 0.26762453263744396\n",
      "Epoch: 7, Training Loss: 0.20934435697289447, Validation Loss: 0.26684344127140147\n",
      "Epoch: 8, Training Loss: 0.18788630558583047, Validation Loss: 0.27804637770069407\n",
      "Wall time: 2min 34s\n"
     ]
    }
   ],
   "source": [
    "%%time\n",
    "with torch.autograd.set_detect_anomaly(True):\n",
    "    for epoch in range(1, epochs + 1):\n",
    "        running_loss = 0.0\n",
    "        running_corrects = 0\n",
    "        model_with_ft.train() \n",
    "        for i, batch in enumerate(train_iter): \n",
    "            x, lens = batch.text\n",
    "            y = batch.label\n",
    "            opt.zero_grad()\n",
    "            preds = model_with_ft(x, lens)\n",
    "            loss = loss_func(preds, y)\n",
    "            loss.backward()\n",
    "            opt.step()\n",
    "            running_loss += loss.item()\n",
    "        epoch_loss = running_loss / len(train_iter)\n",
    "        train_losses.append(epoch_loss)\n",
    "\n",
    "        val_loss = 0.0\n",
    "        model_with_ft.eval()\n",
    "        for j, batch in enumerate(val_iter):\n",
    "            with torch.no_grad():\n",
    "                x, lens = batch.text\n",
    "                y = batch.label\n",
    "                preds = model_with_ft(x, lens) \n",
    "                loss = loss_func(preds, y)\n",
    "                val_loss += loss.item()\n",
    "\n",
    "        val_loss /= len(val_iter)\n",
    "        val_losses.append(val_loss)\n",
    "        print('Epoch: {}, Training Loss: {}, Validation Loss: {}'.format(epoch, epoch_loss, val_loss))"
   ]
  },
  {
   "cell_type": "code",
   "execution_count": 145,
   "metadata": {},
   "outputs": [
    {
     "data": {
      "image/png": "[encoded data removed]",
      "text/plain": [
       "<Figure size 864x432 with 1 Axes>"
      ]
     },
     "metadata": {
      "needs_background": "light"
     },
     "output_type": "display_data"
    }
   ],
   "source": [
    "plt.figure(figsize=(12,6))\n",
    "plt.plot(train_losses)\n",
    "plt.plot(val_losses)\n",
    "ticks = plt.xticks(range(epochs + 1))"
   ]
  },
  {
   "cell_type": "code",
   "execution_count": 146,
   "metadata": {},
   "outputs": [],
   "source": [
    "accuracy, precision, recall, f1 = evaluate_model(model_with_ft, train_iter)"
   ]
  },
  {
   "cell_type": "code",
   "execution_count": 147,
   "metadata": {},
   "outputs": [
    {
     "name": "stdout",
     "output_type": "stream",
     "text": [
      "accuracy = 0.9472\n",
      "precision = 0.9568985710939331\n",
      "recall = 0.9362823745129498\n",
      "f1 = 0.9464782205746063\n"
     ]
    }
   ],
   "source": [
    "print_eval_results(accuracy, precision, recall, f1)"
   ]
  },
  {
   "cell_type": "code",
   "execution_count": 148,
   "metadata": {},
   "outputs": [],
   "source": [
    "accuracy, precision, recall, f1 = evaluate_model(model_with_ft, test_iter)"
   ]
  },
  {
   "cell_type": "code",
   "execution_count": 149,
   "metadata": {},
   "outputs": [
    {
     "name": "stdout",
     "output_type": "stream",
     "text": [
      "accuracy = 0.89308\n",
      "precision = 0.9093559943347497\n",
      "recall = 0.8732\n",
      "f1 = 0.8909113169815942\n"
     ]
    }
   ],
   "source": [
    "print_eval_results(accuracy, precision, recall, f1)"
   ]
  },
  {
   "cell_type": "markdown",
   "metadata": {},
   "source": [
    "Присутствует переобучение."
   ]
  },
  {
   "cell_type": "code",
   "execution_count": null,
   "metadata": {},
   "outputs": [],
   "source": []
  },
  {
   "cell_type": "code",
   "execution_count": null,
   "metadata": {},
   "outputs": [],
   "source": []
  },
  {
   "cell_type": "markdown",
   "metadata": {},
   "source": [
    "### 2. LSTM 2-layers + fully connected 2 layers + dropout"
   ]
  },
  {
   "cell_type": "code",
   "execution_count": 203,
   "metadata": {},
   "outputs": [],
   "source": [
    "class RNNB_lstm_2l(nn.Module):\n",
    "    def __init__(self, hidden_dim, emb_dim, vocab_size, pretrained_vecs, num_layers=2):\n",
    "        super(RNNB_lstm_2l, self).__init__()\n",
    "        self.hidden_dim = hidden_dim\n",
    "        self.emb_dim = emb_dim\n",
    "        self.vocab_size = vocab_size\n",
    "        self.num_layers = num_layers\n",
    "        self.embed = nn.Embedding(vocab_size, emb_dim, padding_idx=1)\n",
    "        self.embed.weight.data.copy_(pretrained_vecs)\n",
    "        self.embed.weight.requires_grad = False\n",
    "        self.lstm = nn.LSTM(emb_dim, hidden_dim, batch_first=False, \n",
    "                            num_layers=self.num_layers, dropout=0.5)\n",
    "        self.fc_1 = nn.Linear(hidden_dim, hidden_dim)\n",
    "        self.fc_2 = nn.Linear(hidden_dim, 1)\n",
    "        self.dropout = nn.Dropout(0.5)\n",
    "            \n",
    "    def forward(self, seq, lens):\n",
    "        embeds = self.embed(seq)\n",
    "        embeds = pack_padded_sequence(embeds, lens)\n",
    "        lstm_out, (h, c) = self.lstm(embeds)\n",
    "        x = self.dropout(F.relu((self.fc_1(h[0]))))\n",
    "        preds = self.fc_2(x).view(-1)\n",
    "        return preds"
   ]
  },
  {
   "cell_type": "code",
   "execution_count": 215,
   "metadata": {},
   "outputs": [],
   "source": [
    "em_sz = 300\n",
    "nh = 300\n",
    "model_lstm_2l = RNNB_lstm_2l(nh, emb_dim=em_sz, vocab_size=vocab_size, \n",
    "                    pretrained_vecs=TEXT.vocab.vectors).to(device)"
   ]
  },
  {
   "cell_type": "code",
   "execution_count": 216,
   "metadata": {},
   "outputs": [
    {
     "data": {
      "text/plain": [
       "RNNB_lstm_2l(\n",
       "  (embed): Embedding(74407, 300, padding_idx=1)\n",
       "  (lstm): LSTM(300, 300, num_layers=2, dropout=0.5)\n",
       "  (fc_1): Linear(in_features=300, out_features=300, bias=True)\n",
       "  (fc_2): Linear(in_features=300, out_features=1, bias=True)\n",
       "  (dropout): Dropout(p=0.5, inplace=False)\n",
       ")"
      ]
     },
     "execution_count": 216,
     "metadata": {},
     "output_type": "execute_result"
    }
   ],
   "source": [
    "model_lstm_2l"
   ]
  },
  {
   "cell_type": "code",
   "execution_count": 217,
   "metadata": {},
   "outputs": [
    {
     "data": {
      "text/plain": [
       "RNNB_lstm_2l(\n",
       "  (embed): Embedding(74407, 300, padding_idx=1)\n",
       "  (lstm): LSTM(300, 300, num_layers=2, dropout=0.5)\n",
       "  (fc_1): Linear(in_features=300, out_features=300, bias=True)\n",
       "  (fc_2): Linear(in_features=300, out_features=1, bias=True)\n",
       "  (dropout): Dropout(p=0.5, inplace=False)\n",
       ")"
      ]
     },
     "execution_count": 217,
     "metadata": {},
     "output_type": "execute_result"
    }
   ],
   "source": [
    "model_lstm_2l.cuda()"
   ]
  },
  {
   "cell_type": "code",
   "execution_count": 218,
   "metadata": {},
   "outputs": [],
   "source": [
    "opt = optim.Adam(filter(lambda p: p.requires_grad, model_lstm_2l.parameters()), lr=1e-3)\n",
    "loss_func = nn.BCEWithLogitsLoss()"
   ]
  },
  {
   "cell_type": "code",
   "execution_count": 219,
   "metadata": {},
   "outputs": [],
   "source": [
    "epochs = 10\n",
    "train_losses = [] \n",
    "val_losses = []"
   ]
  },
  {
   "cell_type": "code",
   "execution_count": 220,
   "metadata": {},
   "outputs": [
    {
     "name": "stdout",
     "output_type": "stream",
     "text": [
      "Epoch: 1, Training Loss: 0.6817321137710725, Validation Loss: 0.6665233645033329\n",
      "Epoch: 2, Training Loss: 0.6395041554131063, Validation Loss: 0.6448780523969772\n",
      "Epoch: 3, Training Loss: 0.6416101796753446, Validation Loss: 0.49138374036930976\n",
      "Epoch: 4, Training Loss: 0.5369910539504161, Validation Loss: 0.5656834721565247\n",
      "Epoch: 5, Training Loss: 0.4518655747774532, Validation Loss: 0.415679635519677\n",
      "Epoch: 6, Training Loss: 0.38632461401400664, Validation Loss: 0.3653774986241726\n",
      "Epoch: 7, Training Loss: 0.3327577691627377, Validation Loss: 0.3190475223863378\n",
      "Epoch: 8, Training Loss: 0.3072290660394611, Validation Loss: 0.30786867230496506\n",
      "Epoch: 9, Training Loss: 0.29233190252477986, Validation Loss: 0.29233444507451767\n",
      "Epoch: 10, Training Loss: 0.28426524227182, Validation Loss: 0.28391524115775496\n",
      "Wall time: 5min 59s\n"
     ]
    }
   ],
   "source": [
    "%%time\n",
    "with torch.autograd.set_detect_anomaly(True):\n",
    "    for epoch in range(1, epochs + 1):\n",
    "        running_loss = 0.0\n",
    "        running_corrects = 0\n",
    "        model_lstm_2l.train() \n",
    "        for i, batch in enumerate(train_iter): \n",
    "            x, lens = batch.text\n",
    "            y = batch.label\n",
    "\n",
    "            opt.zero_grad()\n",
    "            preds = model_lstm_2l(x, lens)\n",
    "            loss = loss_func(preds, y)\n",
    "            loss.backward()\n",
    "            opt.step()\n",
    "            running_loss += loss.item()\n",
    "\n",
    "        epoch_loss = running_loss / len(train_iter)\n",
    "        train_losses.append(epoch_loss)\n",
    "\n",
    "        val_loss = 0.0\n",
    "        model_lstm_2l.eval()\n",
    "        for j, batch in enumerate(val_iter):\n",
    "            with torch.no_grad():\n",
    "                x, lens = batch.text\n",
    "                y = batch.label\n",
    "\n",
    "                preds = model_lstm_2l(x, lens) \n",
    "                loss = loss_func(preds, y)\n",
    "                val_loss += loss.item()\n",
    "\n",
    "        val_loss /= len(val_iter)\n",
    "        val_losses.append(val_loss)\n",
    "        print('Epoch: {}, Training Loss: {}, Validation Loss: {}'.format(epoch, epoch_loss, val_loss))"
   ]
  },
  {
   "cell_type": "code",
   "execution_count": 221,
   "metadata": {},
   "outputs": [
    {
     "data": {
      "image/png": "[encoded data removed]",
      "text/plain": [
       "<Figure size 864x432 with 1 Axes>"
      ]
     },
     "metadata": {
      "needs_background": "light"
     },
     "output_type": "display_data"
    }
   ],
   "source": [
    "plt.figure(figsize=(12,6))\n",
    "plt.plot(train_losses)\n",
    "plt.plot(val_losses)\n",
    "ticks = plt.xticks(range(epochs + 1))"
   ]
  },
  {
   "cell_type": "code",
   "execution_count": 222,
   "metadata": {},
   "outputs": [],
   "source": [
    "accuracy, precision, recall, f1 = evaluate_model(model_lstm_2l, train_iter)"
   ]
  },
  {
   "cell_type": "code",
   "execution_count": 223,
   "metadata": {},
   "outputs": [
    {
     "name": "stdout",
     "output_type": "stream",
     "text": [
      "accuracy = 0.8976\n",
      "precision = 0.8768478260869565\n",
      "recall = 0.924478569791428\n",
      "f1 = 0.9000334709360706\n"
     ]
    }
   ],
   "source": [
    "print_eval_results(accuracy, precision, recall, f1)"
   ]
  },
  {
   "cell_type": "code",
   "execution_count": 224,
   "metadata": {},
   "outputs": [],
   "source": [
    "accuracy, precision, recall, f1 = evaluate_model(model_lstm_2l, test_iter)"
   ]
  },
  {
   "cell_type": "code",
   "execution_count": 225,
   "metadata": {},
   "outputs": [
    {
     "name": "stdout",
     "output_type": "stream",
     "text": [
      "accuracy = 0.88036\n",
      "precision = 0.8638555138899517\n",
      "recall = 0.90304\n",
      "f1 = 0.88301325927954\n"
     ]
    }
   ],
   "source": [
    "print_eval_results(accuracy, precision, recall, f1)"
   ]
  },
  {
   "cell_type": "code",
   "execution_count": null,
   "metadata": {},
   "outputs": [],
   "source": []
  },
  {
   "cell_type": "code",
   "execution_count": null,
   "metadata": {},
   "outputs": [],
   "source": []
  },
  {
   "cell_type": "code",
   "execution_count": null,
   "metadata": {},
   "outputs": [],
   "source": []
  }
 ],
 "metadata": {
  "kernelspec": {
   "display_name": "Python 3",
   "language": "python",
   "name": "python3"
  },
  "language_info": {
   "codemirror_mode": {
    "name": "ipython",
    "version": 3
   },
   "file_extension": ".py",
   "mimetype": "text/x-python",
   "name": "python",
   "nbconvert_exporter": "python",
   "pygments_lexer": "ipython3",
   "version": "3.7.6"
  }
 },
 "nbformat": 4,
 "nbformat_minor": 4
}
