{
 "cells": [
  {
   "cell_type": "markdown",
   "metadata": {},
   "source": [
    "# Assignment 2. Language modeling.\n",
    "\n",
    "This task is devoted to language modeling. Its goal is to write in PyTorch an RNN-based language model. Since word-based language modeling requires long training and is memory-consuming due to large vocabulary, we start with character-based language modeling. We are going to train the model to generate words as sequence of characters. During training we teach it to predict characters of the words in the training set.\n",
    "\n",
    "\n",
    "\n",
    "## Task 1. Character-based language modeling: data preparation (15 points)."
   ]
  },
  {
   "cell_type": "markdown",
   "metadata": {},
   "source": [
    "We train the language models on the materials of **Sigmorphon 2018 Shared Task**. First, download the Russian datasets."
   ]
  },
  {
   "cell_type": "code",
   "execution_count": 1,
   "metadata": {},
   "outputs": [
    {
     "name": "stderr",
     "output_type": "stream",
     "text": [
      "--2020-03-26 19:33:50--  https://raw.githubusercontent.com/sigmorphon/conll2018/master/task1/surprise/russian-train-high\n",
      "Resolving raw.githubusercontent.com (raw.githubusercontent.com)... 151.101.192.133, 151.101.0.133, 151.101.64.133, ...\n",
      "Connecting to raw.githubusercontent.com (raw.githubusercontent.com)|151.101.192.133|:443... connected.\n",
      "HTTP request sent, awaiting response... 200 OK\n",
      "Length: 533309 (521K) [text/plain]\n",
      "Saving to: 'russian-train-high.1'\n",
      "\n",
      "     0K .......... .......... .......... .......... ..........  9%  389K 1s\n",
      "    50K .......... .......... .......... .......... .......... 19%  514K 1s\n",
      "   100K .......... .......... .......... .......... .......... 28% 4,49M 1s\n",
      "   150K .......... .......... .......... .......... .......... 38% 6,15M 0s\n",
      "   200K .......... .......... .......... .......... .......... 48%  885K 0s\n",
      "   250K .......... .......... .......... .......... .......... 57% 5,67M 0s\n",
      "   300K .......... .......... .......... .......... .......... 67%  948K 0s\n",
      "   350K .......... .......... .......... .......... .......... 76% 3,92M 0s\n",
      "   400K .......... .......... .......... .......... .......... 86% 6,74M 0s\n",
      "   450K .......... .......... .......... .......... .......... 96% 7,66M 0s\n",
      "   500K .......... ..........                                 100% 6,59M=0,4s\n",
      "\n",
      "2020-03-26 19:33:51 (1,30 MB/s) - 'russian-train-high.1' saved [533309/533309]\n",
      "\n",
      "--2020-03-26 19:33:51--  https://raw.githubusercontent.com/sigmorphon/conll2018/master/task1/surprise/russian-dev\n",
      "Resolving raw.githubusercontent.com (raw.githubusercontent.com)... 151.101.192.133, 151.101.0.133, 151.101.64.133, ...\n",
      "Connecting to raw.githubusercontent.com (raw.githubusercontent.com)|151.101.192.133|:443... connected.\n",
      "HTTP request sent, awaiting response... 200 OK\n",
      "Length: 53671 (52K) [text/plain]\n",
      "Saving to: 'russian-dev.1'\n",
      "\n",
      "     0K .......... .......... .......... .......... .......... 95%  498K 0s\n",
      "    50K ..                                                    100% 46,0G=0,1s\n",
      "\n",
      "2020-03-26 19:33:52 (522 KB/s) - 'russian-dev.1' saved [53671/53671]\n",
      "\n",
      "--2020-03-26 19:33:52--  https://raw.githubusercontent.com/sigmorphon/conll2018/master/task1/surprise/russian-test\n",
      "Resolving raw.githubusercontent.com (raw.githubusercontent.com)... 151.101.192.133, 151.101.0.133, 151.101.64.133, ...\n",
      "Connecting to raw.githubusercontent.com (raw.githubusercontent.com)|151.101.192.133|:443... connected.\n",
      "HTTP request sent, awaiting response... 200 OK\n",
      "Length: 53514 (52K) [text/plain]\n",
      "Saving to: 'russian-test.1'\n",
      "\n",
      "     0K .......... .......... .......... .......... .......... 95%  431K 0s\n",
      "    50K ..                                                    100% 2,09M=0,1s\n",
      "\n",
      "2020-03-26 19:33:53 (446 KB/s) - 'russian-test.1' saved [53514/53514]\n",
      "\n"
     ]
    }
   ],
   "source": [
    "!wget https://raw.githubusercontent.com/sigmorphon/conll2018/master/task1/surprise/russian-train-high\n",
    "!wget https://raw.githubusercontent.com/sigmorphon/conll2018/master/task1/surprise/russian-dev\n",
    "!wget https://raw.githubusercontent.com/sigmorphon/conll2018/master/task1/surprise/russian-test"
   ]
  },
  {
   "cell_type": "markdown",
   "metadata": {},
   "source": [
    "**1.1 (1 points)**\n",
    "All the files contain tab-separated triples ```<lemma>-<form>-<tags>```, where ```<form>``` may contain spaces (*будете соответствовать*). Write a function that loads a list of all word forms, that do not contain spaces.  "
   ]
  },
  {
   "cell_type": "code",
   "execution_count": 303,
   "metadata": {},
   "outputs": [],
   "source": [
    "def read_infile(infile):\n",
    "    \"\"\"\n",
    "    == YOUR CODE HERE ==\n",
    "    \"\"\"\n",
    "    words = []\n",
    "    with open(infile, 'r', encoding='utf-8') as f:\n",
    "        for line in f.readlines():\n",
    "            if ' ' not in line:\n",
    "                words += line.lower().split('\\t')[:-1]\n",
    "    return words"
   ]
  },
  {
   "cell_type": "code",
   "execution_count": 304,
   "metadata": {},
   "outputs": [
    {
     "name": "stdout",
     "output_type": "stream",
     "text": [
      "18426 1834 1844\n",
      "валлонский валлонскому незаконченный незаконченным истрёпывать истрёпывав личный личного серьга серьгам\n"
     ]
    }
   ],
   "source": [
    "train_words = read_infile(\"russian-train-high\")\n",
    "dev_words = read_infile(\"russian-dev\")\n",
    "test_words = read_infile(\"russian-test\")\n",
    "print(len(train_words), len(dev_words), len(test_words))\n",
    "print(*train_words[:10])"
   ]
  },
  {
   "cell_type": "code",
   "execution_count": 305,
   "metadata": {},
   "outputs": [],
   "source": [
    "def count_chars(words):\n",
    "    return len(''.join(words))"
   ]
  },
  {
   "cell_type": "code",
   "execution_count": 306,
   "metadata": {},
   "outputs": [
    {
     "data": {
      "text/plain": [
       "(174617, 17547, 17511)"
      ]
     },
     "execution_count": 306,
     "metadata": {},
     "output_type": "execute_result"
    }
   ],
   "source": [
    "count_chars(train_words), count_chars(dev_words), count_chars(test_words)"
   ]
  },
  {
   "cell_type": "code",
   "execution_count": 307,
   "metadata": {},
   "outputs": [],
   "source": [
    "train_set = set(train_words)\n",
    "dev_set = set(dev_words)\n",
    "test_set = set(test_words)"
   ]
  },
  {
   "cell_type": "code",
   "execution_count": 308,
   "metadata": {},
   "outputs": [
    {
     "data": {
      "text/plain": [
       "(15935, 1733, 1737)"
      ]
     },
     "execution_count": 308,
     "metadata": {},
     "output_type": "execute_result"
    }
   ],
   "source": [
    "len(train_set), len(dev_set), len(test_set)"
   ]
  },
  {
   "cell_type": "code",
   "execution_count": 309,
   "metadata": {},
   "outputs": [
    {
     "data": {
      "text/plain": [
       "(1468, 1435)"
      ]
     },
     "execution_count": 309,
     "metadata": {},
     "output_type": "execute_result"
    }
   ],
   "source": [
    "len(dev_set - train_set), len(test_set - train_set)"
   ]
  },
  {
   "cell_type": "code",
   "execution_count": 310,
   "metadata": {},
   "outputs": [
    {
     "data": {
      "text/plain": [
       "27"
      ]
     },
     "execution_count": 310,
     "metadata": {},
     "output_type": "execute_result"
    }
   ],
   "source": [
    "max(map(len, train_words + dev_words + test_words))"
   ]
  },
  {
   "cell_type": "code",
   "execution_count": 311,
   "metadata": {},
   "outputs": [
    {
     "data": {
      "text/plain": [
       "2"
      ]
     },
     "execution_count": 311,
     "metadata": {},
     "output_type": "execute_result"
    }
   ],
   "source": [
    "min(map(len, train_words + dev_words + test_words))"
   ]
  },
  {
   "cell_type": "code",
   "execution_count": 312,
   "metadata": {},
   "outputs": [
    {
     "data": {
      "text/plain": [
       "['информационно-аналитический', 'информационно-аналитическое']"
      ]
     },
     "execution_count": 312,
     "metadata": {},
     "output_type": "execute_result"
    }
   ],
   "source": [
    "list(filter(lambda x: len(x)==27, train_words + dev_words + test_words))"
   ]
  },
  {
   "cell_type": "code",
   "execution_count": 313,
   "metadata": {},
   "outputs": [
    {
     "data": {
      "text/plain": [
       "['ус', 'юз', 'ас', 'ом', 'ат', 'ум']"
      ]
     },
     "execution_count": 313,
     "metadata": {},
     "output_type": "execute_result"
    }
   ],
   "source": [
    "list(filter(lambda x: len(x)==2, train_words + dev_words + test_words))"
   ]
  },
  {
   "cell_type": "code",
   "execution_count": 314,
   "metadata": {},
   "outputs": [
    {
     "name": "stdout",
     "output_type": "stream",
     "text": [
      "{'х', 'а', 'ь', 'т', 'д', 'е', 'у', 'ю', 'н', '-', 'ъ', 'з', 'ё', 'ж', 'э', 'с', 'ф', 'г', 'м', 'о', 'ц', 'и', 'я', 'в', 'п', 'к', 'ш', 'б', 'й', 'щ', 'л', 'р', 'ы', 'ч'}\n"
     ]
    }
   ],
   "source": [
    "print(set(''.join(train_set | dev_set | test_set)))"
   ]
  },
  {
   "cell_type": "code",
   "execution_count": 315,
   "metadata": {},
   "outputs": [
    {
     "data": {
      "text/plain": [
       "34"
      ]
     },
     "execution_count": 315,
     "metadata": {},
     "output_type": "execute_result"
    }
   ],
   "source": [
    "len(set(''.join(train_set | dev_set | test_set)))"
   ]
  },
  {
   "cell_type": "code",
   "execution_count": 316,
   "metadata": {},
   "outputs": [],
   "source": [
    "train_words = list(train_set)\n",
    "dev_words = list(dev_set)\n",
    "test_words = list(test_set)"
   ]
  },
  {
   "cell_type": "markdown",
   "metadata": {},
   "source": [
    "**1.2 (2 points)** Write a **Vocabulary** class that allows to transform symbols into their indexes. The class should have the method ```__call__``` that applies this transformation to sequences of symbols and batches of sequences as well. You can also use [SimpleVocabulary](https://github.com/deepmipt/DeepPavlov/blob/c10b079b972493220c82a643d47d718d5358c7f4/deeppavlov/core/data/simple_vocab.py#L31) from DeepPavlov. Fit an instance of this class on the training data."
   ]
  },
  {
   "cell_type": "code",
   "execution_count": 317,
   "metadata": {},
   "outputs": [],
   "source": [
    "from itertools import count"
   ]
  },
  {
   "cell_type": "code",
   "execution_count": 318,
   "metadata": {},
   "outputs": [],
   "source": [
    "chars = ['PAD'] + list('абвгдеёжзийклмнопрстуфхцчшщъыьэюя-') + ['BOUND']\n",
    "char2ind = dict(zip(chars, count()))\n",
    "ind2char = dict(zip(count(), chars))"
   ]
  },
  {
   "cell_type": "code",
   "execution_count": 319,
   "metadata": {},
   "outputs": [],
   "source": [
    "class Vocabulary():\n",
    "    def __init__(self, dct):\n",
    "        self.dct = dct\n",
    "        self.bound = [self.dct['BOUND']]\n",
    "    \n",
    "    def __call__(self, words):\n",
    "        if isinstance(words, str):\n",
    "            return self.bound + [self.dct[char] for char in words] + self.bound\n",
    "        elif isinstance(words, list):\n",
    "            return [self.bound + [self.dct[char] for char in word] + self.bound for word in words]\n",
    "        else:\n",
    "            raise 'TypeError'"
   ]
  },
  {
   "cell_type": "code",
   "execution_count": 320,
   "metadata": {},
   "outputs": [],
   "source": [
    "vocab = Vocabulary(char2ind)"
   ]
  },
  {
   "cell_type": "code",
   "execution_count": 321,
   "metadata": {},
   "outputs": [
    {
     "data": {
      "text/plain": [
       "[[35, 18, 1, 9, 35], [35, 5, 3, 1, 35]]"
      ]
     },
     "execution_count": 321,
     "metadata": {},
     "output_type": "execute_result"
    }
   ],
   "source": [
    "vocab(['раз', 'два'])"
   ]
  },
  {
   "cell_type": "code",
   "execution_count": 322,
   "metadata": {},
   "outputs": [
    {
     "data": {
      "text/plain": [
       "[35, 18, 1, 9, 35]"
      ]
     },
     "execution_count": 322,
     "metadata": {},
     "output_type": "execute_result"
    }
   ],
   "source": [
    "vocab('раз')"
   ]
  },
  {
   "cell_type": "markdown",
   "metadata": {},
   "source": [
    "**1.3 (2 points)** Write a **Dataset** class, which should be inherited from ```torch.utils.data.Dataset```. It should take a list of words and the ```vocab``` as initialization arguments."
   ]
  },
  {
   "cell_type": "code",
   "execution_count": 324,
   "metadata": {},
   "outputs": [],
   "source": [
    "import torch\n",
    "import numpy as np\n",
    "from torch.utils.data import Dataset as TorchDataset"
   ]
  },
  {
   "cell_type": "code",
   "execution_count": 325,
   "metadata": {},
   "outputs": [],
   "source": [
    "device = 'cuda'\n",
    "dtype = torch.long"
   ]
  },
  {
   "cell_type": "code",
   "execution_count": 326,
   "metadata": {},
   "outputs": [],
   "source": [
    "class Dataset(TorchDataset):\n",
    "    \n",
    "    \"\"\"Custom data.Dataset compatible with data.DataLoader.\"\"\"\n",
    "    def __init__(self, data, vocab, dtype=dtype, device=device):\n",
    "        self.data = data\n",
    "        self.vocab = vocab\n",
    "        self.dtype = dtype\n",
    "        self.device = device\n",
    "    \n",
    "    def __getitem__(self, index):\n",
    "        \"\"\"\n",
    "        Returns one tensor pair (source and target). The source tensor corresponds to the input word,\n",
    "        with \"BEGIN\" and \"END\" symbols attached. The target tensor should contain the answers\n",
    "        for the language model that obtain these word as input.        \n",
    "        \"\"\"\n",
    "        \"\"\"\n",
    "        == YOUR CODE HERE ==\n",
    "        \"\"\"\n",
    "        word = self.vocab(self.data[index])\n",
    "        source_tensor = torch.tensor(word[:-1], dtype=dtype, device=device)\n",
    "        target_tensor = torch.tensor(word[1:], dtype=dtype, device=device)\n",
    "        \n",
    "        return source_tensor, target_tensor\n",
    "\n",
    "    def __len__(self):\n",
    "        \"\"\"\n",
    "        == YOUR CODE HERE ==\n",
    "        \"\"\"\n",
    "        return len(self.data)"
   ]
  },
  {
   "cell_type": "code",
   "execution_count": 327,
   "metadata": {},
   "outputs": [],
   "source": [
    "train_dataset = Dataset(train_words, vocab)\n",
    "dev_dataset = Dataset(dev_words, vocab)\n",
    "test_dataset = Dataset(test_words, vocab)"
   ]
  },
  {
   "cell_type": "markdown",
   "metadata": {},
   "source": [
    "**1.4 (3 points)** Use a standard ```torch.utils.data.DataLoader``` to obtain an iterable over batches. Print the shape of first 10 input batches with ```batch_size=1```."
   ]
  },
  {
   "cell_type": "code",
   "execution_count": 328,
   "metadata": {},
   "outputs": [],
   "source": [
    "from torch.utils.data import DataLoader\n",
    "\n",
    "\"\"\"\n",
    "== YOUR CODE HERE ==\n",
    "\"\"\"\n",
    "train_generator = DataLoader(train_dataset, batch_size=1)\n",
    "dev_generator = DataLoader(dev_dataset, batch_size=1)\n",
    "test_generator = DataLoader(test_dataset, batch_size=1)"
   ]
  },
  {
   "cell_type": "code",
   "execution_count": 329,
   "metadata": {},
   "outputs": [
    {
     "name": "stdout",
     "output_type": "stream",
     "text": [
      "x size: torch.Size([1, 11]), y size: torch.Size([1, 11])\n",
      "x size: torch.Size([1, 11]), y size: torch.Size([1, 11])\n",
      "x size: torch.Size([1, 11]), y size: torch.Size([1, 11])\n",
      "x size: torch.Size([1, 11]), y size: torch.Size([1, 11])\n",
      "x size: torch.Size([1, 15]), y size: torch.Size([1, 15])\n",
      "x size: torch.Size([1, 10]), y size: torch.Size([1, 10])\n",
      "x size: torch.Size([1, 10]), y size: torch.Size([1, 10])\n",
      "x size: torch.Size([1, 10]), y size: torch.Size([1, 10])\n",
      "x size: torch.Size([1, 10]), y size: torch.Size([1, 10])\n",
      "x size: torch.Size([1, 11]), y size: torch.Size([1, 11])\n",
      "tensor([[35, 19,  1, 12, 18,  1, 13, 30, 15, 16, 11]], device='cuda:0')\n",
      "tensor([[19,  1, 12, 18,  1, 13, 30, 15, 16, 11, 35]], device='cuda:0')\n"
     ]
    }
   ],
   "source": [
    "for i, (x, y) in enumerate(train_generator):\n",
    "    if i < 10:\n",
    "        print(f'x size: {x.size()}, y size: {y.size()}')\n",
    "    else:\n",
    "        break\n",
    "print(x)\n",
    "print(y)"
   ]
  },
  {
   "cell_type": "markdown",
   "metadata": {},
   "source": [
    "**(1.5) 1 point** Explain, why this does not work with larger batch size."
   ]
  },
  {
   "cell_type": "markdown",
   "metadata": {},
   "source": [
    "Because different words have different lengths, but tensor must contain only equally sized subtensors along any of the axis."
   ]
  },
  {
   "cell_type": "markdown",
   "metadata": {},
   "source": [
    "**(1.6) 5 points** Write a function **collate** that allows you to deal with batches of greater size. See [discussion](https://discuss.pytorch.org/t/dataloader-for-various-length-of-data/6418/8) for an example. Implement your function as a class ```__call__``` method to make it more flexible."
   ]
  },
  {
   "cell_type": "code",
   "execution_count": 330,
   "metadata": {},
   "outputs": [],
   "source": [
    "def pad_tensor(vec, length, dim, pad_symbol=0):\n",
    "    \"\"\"\n",
    "    Pads a vector ``vec`` up to length ``length`` along axis ``dim`` with pad symbol ``pad_symbol``.\n",
    "    \"\"\"\n",
    "    \"\"\"\n",
    "    == YOUR CODE HERE ==\n",
    "    \"\"\"\n",
    "    if vec.size(dim) < length:\n",
    "        pad_size = list(vec.size())\n",
    "        pad_size[dim] = length - vec.size(dim)\n",
    "        pad_tensor = torch.zeros(*pad_size, dtype=dtype, device=device)\n",
    "        return torch.cat([vec, pad_tensor], dim=dim)\n",
    "    else:\n",
    "        return vec\n",
    "    \n",
    "    \n",
    "class Padder:\n",
    "    def __init__(self, dim=0, pad_symbol=0):\n",
    "        self.dim = dim\n",
    "        self.pad_symbol = pad_symbol\n",
    "        \n",
    "    def __call__(self, batch):\n",
    "        \"\"\"\n",
    "        == YOUR CODE HERE ==\n",
    "        \"\"\"\n",
    "        x_lens = list(map(lambda x: x[0].shape[self.dim], batch))\n",
    "        max_len = max(map(lambda x: x[0].shape[self.dim], batch))\n",
    "        batch = list(map(lambda x:\n",
    "                    (pad_tensor(x[0], length=max_len, dim=self.dim), \n",
    "                     pad_tensor(x[1], length=max_len, dim=self.dim)), \n",
    "                    batch\n",
    "                ))\n",
    "        x_pad = torch.stack(list(map(lambda x: x[0], batch)), dim=0)\n",
    "        y_pad = torch.stack(list(map(lambda x: x[1], batch)), dim=0)\n",
    "        \n",
    "        return x_pad, y_pad, x_lens"
   ]
  },
  {
   "cell_type": "markdown",
   "metadata": {},
   "source": [
    "**(1.7) 1 points** Again, use ```torch.utils.data.DataLoader``` to obtain an iterable over batches. Print the shape of first 10 input batches with the batch size you like."
   ]
  },
  {
   "cell_type": "code",
   "execution_count": 331,
   "metadata": {},
   "outputs": [],
   "source": [
    "from torch.utils.data import DataLoader\n",
    "\n",
    "\"\"\"\n",
    "== YOUR CODE HERE ==\n",
    "\"\"\"\n",
    "# train_loader = DataLoader(ds, ..., collate_fn=PadCollate(dim=0))\n",
    "batch_size = 10\n",
    "train_generator = DataLoader(train_dataset, collate_fn=Padder(), batch_size=batch_size, shuffle=True)\n",
    "dev_generator = DataLoader(dev_dataset, collate_fn=Padder(), batch_size=batch_size, shuffle=True)\n",
    "test_generator = DataLoader(test_dataset, collate_fn=Padder(), batch_size=batch_size, shuffle=True)"
   ]
  },
  {
   "cell_type": "code",
   "execution_count": 332,
   "metadata": {},
   "outputs": [
    {
     "name": "stdout",
     "output_type": "stream",
     "text": [
      "x size: torch.Size([10, 13]), y size: torch.Size([10, 13])\n",
      "x size: torch.Size([10, 13]), y size: torch.Size([10, 13])\n",
      "x size: torch.Size([10, 15]), y size: torch.Size([10, 15])\n",
      "x size: torch.Size([10, 13]), y size: torch.Size([10, 13])\n",
      "x size: torch.Size([10, 17]), y size: torch.Size([10, 17])\n",
      "x size: torch.Size([10, 14]), y size: torch.Size([10, 14])\n",
      "x size: torch.Size([10, 21]), y size: torch.Size([10, 21])\n",
      "x size: torch.Size([10, 14]), y size: torch.Size([10, 14])\n",
      "x size: torch.Size([10, 16]), y size: torch.Size([10, 16])\n",
      "x size: torch.Size([10, 13]), y size: torch.Size([10, 13])\n",
      "tensor([[35, 18, 10, 22, 14,  1,  0,  0,  0,  0,  0,  0,  0],\n",
      "        [35,  9,  1, 14, 16, 25, 15, 29, 11,  0,  0,  0,  0],\n",
      "        [35, 17, 18,  1, 11, 14,  6, 18,  0,  0,  0,  0,  0],\n",
      "        [35, 19, 12, 16, 18,  2, 15, 29, 11,  0,  0,  0,  0],\n",
      "        [35,  1, 12, 18, 16, 19, 20, 10, 23, 16,  3,  0,  0],\n",
      "        [35, 15, 33, 15, 10,  0,  0,  0,  0,  0,  0,  0,  0],\n",
      "        [35, 19,  3,  1, 13, 10, 20, 19, 33,  0,  0,  0,  0],\n",
      "        [35, 19, 14,  6, 18, 20, 16, 15, 16, 19, 15, 29, 23],\n",
      "        [35,  4, 16, 18, 32, 25, 10, 14,  0,  0,  0,  0,  0],\n",
      "        [35, 16, 20, 21, 25, 10, 20, 30,  0,  0,  0,  0,  0]], device='cuda:0')\n",
      "tensor([[18, 10, 22, 14,  1, 35,  0,  0,  0,  0,  0,  0,  0],\n",
      "        [ 9,  1, 14, 16, 25, 15, 29, 11, 35,  0,  0,  0,  0],\n",
      "        [17, 18,  1, 11, 14,  6, 18, 35,  0,  0,  0,  0,  0],\n",
      "        [19, 12, 16, 18,  2, 15, 29, 11, 35,  0,  0,  0,  0],\n",
      "        [ 1, 12, 18, 16, 19, 20, 10, 23, 16,  3, 35,  0,  0],\n",
      "        [15, 33, 15, 10, 35,  0,  0,  0,  0,  0,  0,  0,  0],\n",
      "        [19,  3,  1, 13, 10, 20, 19, 33, 35,  0,  0,  0,  0],\n",
      "        [19, 14,  6, 18, 20, 16, 15, 16, 19, 15, 29, 23, 35],\n",
      "        [ 4, 16, 18, 32, 25, 10, 14, 35,  0,  0,  0,  0,  0],\n",
      "        [16, 20, 21, 25, 10, 20, 30, 35,  0,  0,  0,  0,  0]], device='cuda:0')\n",
      "[6, 9, 8, 9, 11, 5, 9, 13, 8, 8]\n"
     ]
    }
   ],
   "source": [
    "for i, (x, y, lens) in enumerate(train_generator):\n",
    "    if i < 10:\n",
    "        print(f'x size: {x.size()}, y size: {y.size()}')\n",
    "    else:\n",
    "        break\n",
    "print(x)\n",
    "print(y)\n",
    "print(lens)"
   ]
  },
  {
   "cell_type": "markdown",
   "metadata": {},
   "source": [
    "\n",
    "## Task 2. Character-based language modeling. (35 points)"
   ]
  },
  {
   "cell_type": "markdown",
   "metadata": {},
   "source": [
    "**2.1 (5 points)** Write a network that performs language modeling. It should include three layers:\n",
    "1. **Embedding** layer that transforms input symbols into vectors.\n",
    "2. An **RNN** layer that outputs a sequence of hidden states (you may use https://pytorch.org/docs/stable/nn.html#gru).\n",
    "3. A **Linear** layer with ``softmax`` activation that produces the output distribution for each symbol."
   ]
  },
  {
   "cell_type": "code",
   "execution_count": 361,
   "metadata": {},
   "outputs": [],
   "source": [
    "import torch.nn as nn\n",
    "import torch.nn.functional as F\n",
    "import torch.optim as optim\n",
    "from torch.nn.utils.rnn import pack_padded_sequence, pad_packed_sequence\n",
    "\n",
    "class RNNLM(nn.Module):\n",
    "\n",
    "    def __init__(self, vocab_size, hidden_size, embed_dim, batch_size, num_layers=1):\n",
    "        super(RNNLM, self).__init__()\n",
    "        \"\"\"\n",
    "        == YOUR CODE HERE ==\n",
    "        \"\"\"\n",
    "        self.num_layers = num_layers\n",
    "        self.char_embeds = nn.Embedding(vocab_size, embed_dim, padding_idx=0)\n",
    "        self.gru = nn.GRU(embed_dim, hidden_size, batch_first=True)\n",
    "        self.fc_1 = nn.Linear(hidden_size, hidden_size)\n",
    "        self.fc_2 = nn.Linear(hidden_size, vocab_size)\n",
    "        \n",
    "    def forward(self, inputs, lens, h_n=None):\n",
    "        \"\"\"\n",
    "        == YOUR CODE HERE ==\n",
    "        \"\"\"   \n",
    "        # inputs : batch_size x seq_len\n",
    "        batch_size, seq_len = inputs.size()\n",
    "        embeds = self.char_embeds(inputs) #  batch_size x seq_len x vocab_size\n",
    "        embeds = torch.nn.utils.rnn.pack_padded_sequence(embeds, lens, batch_first=True, enforce_sorted=False)\n",
    "        if h_n is None:\n",
    "            h_n = self.init_hidden(batch_size) # 1 x batch_size x hidden_size\n",
    "        h_t, h_n = self.gru(embeds, h_n) # batch_size x seq_len x hidden_size\n",
    "        h_t, _ = pad_packed_sequence(h_t, batch_first=True)\n",
    "        h_t = h_t.contiguous() # batch_size x seq_len x hidden_size\n",
    "        x = F.relu(self.fc_1(h_t.view(-1, hidden_size))) # batch_size*seq_len x hidden_size\n",
    "        y_scores = self.fc_2(x) # batch_size*seq_len x vocab_size\n",
    "        y_prob = F.log_softmax(y_scores, dim=1) # batch_size*seq_len x vocab_size\n",
    "        \n",
    "        return y_prob, h_t, h_n\n",
    "    \n",
    "    def init_hidden(self, batch_size):\n",
    "        h = torch.zeros(1, batch_size, hidden_size, device=device)\n",
    "        return h"
   ]
  },
  {
   "cell_type": "markdown",
   "metadata": {},
   "source": [
    "**2.2 (1 points)** Write a function ``validate_on_batch`` that takes as input a model, a batch of inputs and a batch of outputs, and the loss criterion, and outputs the loss tensor for the whole batch. This loss should not be normalized."
   ]
  },
  {
   "cell_type": "code",
   "execution_count": 362,
   "metadata": {},
   "outputs": [],
   "source": [
    "dev_generator = DataLoader(dev_dataset, collate_fn=Padder(), batch_size=len(dev_dataset))"
   ]
  },
  {
   "cell_type": "code",
   "execution_count": 363,
   "metadata": {},
   "outputs": [],
   "source": [
    "def validate_on_batch(model, criterion, x, y, lens):\n",
    "    \"\"\"\n",
    "    == YOUR CODE HERE ==\n",
    "    \"\"\"\n",
    "    return criterion(model.forward(x, lens)[0], y.view(-1))\n",
    "\n",
    "\n",
    "def check_val_loss(loader, model, criterion):\n",
    "    model = model.eval()\n",
    "    with torch.no_grad():\n",
    "        for x, y, lens in loader:\n",
    "            return validate_on_batch(model, criterion, x, y, lens)"
   ]
  },
  {
   "cell_type": "markdown",
   "metadata": {},
   "source": [
    "**2.3 (1 points)** Write a function ``train_on_batch`` that accepts all the arguments of ``validate_on_batch`` and also an optimizer, calculates loss and makes a single step of gradient optimization. This function should call ``validate_on_batch`` inside."
   ]
  },
  {
   "cell_type": "code",
   "execution_count": 364,
   "metadata": {},
   "outputs": [],
   "source": [
    "def train_on_batch(model, criterion, x, y, lens, optimizer, i, epoch, t0):\n",
    "    \"\"\"\n",
    "    == YOUR CODE HERE ==\n",
    "    \"\"\"\n",
    "    val_loss = None\n",
    "    model.zero_grad()\n",
    "    loss = validate_on_batch(model, criterion, x, y, lens)\n",
    "    loss.backward()\n",
    "    optimizer.step()\n",
    "    if i%100 == 0:\n",
    "        val_loss = check_val_loss(dev_generator, model, criterion)\n",
    "        print((f'epoch: {epoch}, iteration: {i},',\n",
    "               f'time: {datetime.now() - t0}, train_loss: {loss},',\n",
    "               f'val_loss: {val_loss}'\n",
    "            ))\n",
    "    if val_loss:\n",
    "        return loss, val_loss\n",
    "    return loss, None"
   ]
  },
  {
   "cell_type": "markdown",
   "metadata": {},
   "source": [
    "**2.4 (3 points)** Write a training loop. You should define your ``RNNLM`` model, the criterion, the optimizer and the hyperparameters (number of epochs and batch size). Then train the model for a required number of epochs. On each epoch evaluate the average training loss and the average loss on the validation set. \n",
    "\n",
    "**2.5 (3 points)** Do not forget to average your loss over only non-padding symbols, otherwise it will be too optimistic."
   ]
  },
  {
   "cell_type": "code",
   "execution_count": 365,
   "metadata": {},
   "outputs": [],
   "source": [
    "from datetime import datetime"
   ]
  },
  {
   "cell_type": "code",
   "execution_count": 370,
   "metadata": {},
   "outputs": [],
   "source": [
    "epochs = 20\n",
    "lr = 2e-3\n",
    "hidden_size = 150\n",
    "embed_dim = 100\n",
    "vocab_size = len(char2ind)\n",
    "model = RNNLM(vocab_size, hidden_size, embed_dim, batch_size)\n",
    "model = model.to(device=device)\n",
    "\n",
    "criterion = nn.NLLLoss(ignore_index=0)\n",
    "# optimizer = optim.Adam(model.parameters(), lr, weight_decay=1e-4)\n",
    "optimizer = optim.Adam(model.parameters(), lr)"
   ]
  },
  {
   "cell_type": "code",
   "execution_count": 371,
   "metadata": {},
   "outputs": [],
   "source": [
    "train_dataset = Dataset(train_words, vocab)\n",
    "dev_dataset = Dataset(dev_words, vocab)\n",
    "test_dataset = Dataset(test_words, vocab)"
   ]
  },
  {
   "cell_type": "code",
   "execution_count": 372,
   "metadata": {},
   "outputs": [],
   "source": [
    "batch_size = 20\n",
    "train_generator = DataLoader(train_dataset, collate_fn=Padder(), batch_size=batch_size, shuffle=True)\n",
    "dev_generator = DataLoader(dev_dataset, collate_fn=Padder(), batch_size=batch_size, shuffle=True)\n",
    "test_generator = DataLoader(test_dataset, collate_fn=Padder(), batch_size=batch_size, shuffle=True)"
   ]
  },
  {
   "cell_type": "code",
   "execution_count": 373,
   "metadata": {},
   "outputs": [
    {
     "name": "stdout",
     "output_type": "stream",
     "text": [
      "('epoch: 1, iteration: 0,', 'time: 0:00:00.057872, train_loss: 3.576045513153076,', 'val_loss: 3.5338189601898193')\n",
      "('epoch: 1, iteration: 100,', 'time: 0:00:03.021101, train_loss: 2.308213472366333,', 'val_loss: 2.392408609390259')\n",
      "('epoch: 1, iteration: 200,', 'time: 0:00:06.017056, train_loss: 2.0896799564361572,', 'val_loss: 2.2256882190704346')\n",
      "('epoch: 1, iteration: 300,', 'time: 0:00:08.958215, train_loss: 2.143332004547119,', 'val_loss: 2.1678528785705566')\n",
      "('epoch: 1, iteration: 400,', 'time: 0:00:11.947338, train_loss: 2.2208800315856934,', 'val_loss: 2.103095531463623')\n",
      "('epoch: 1, iteration: 500,', 'time: 0:00:14.894962, train_loss: 2.1976702213287354,', 'val_loss: 1.9331189393997192')\n",
      "('epoch: 1, iteration: 600,', 'time: 0:00:17.830367, train_loss: 2.2570786476135254,', 'val_loss: 2.0275516510009766')\n",
      "('epoch: 1, iteration: 700,', 'time: 0:00:20.707186, train_loss: 2.0036063194274902,', 'val_loss: 2.2176103591918945')\n",
      "('epoch: 2, iteration: 0,', 'time: 0:00:23.528671, train_loss: 2.231475830078125,', 'val_loss: 2.254328727722168')\n",
      "('epoch: 2, iteration: 100,', 'time: 0:00:26.428208, train_loss: 2.12435245513916,', 'val_loss: 2.0488827228546143')\n",
      "('epoch: 2, iteration: 200,', 'time: 0:00:29.323800, train_loss: 1.9626628160476685,', 'val_loss: 2.1999623775482178')\n",
      "('epoch: 2, iteration: 300,', 'time: 0:00:32.165568, train_loss: 2.075888156890869,', 'val_loss: 2.093195676803589')\n",
      "('epoch: 2, iteration: 400,', 'time: 0:00:35.031495, train_loss: 2.1681509017944336,', 'val_loss: 1.9923949241638184')\n",
      "('epoch: 2, iteration: 500,', 'time: 0:00:37.955670, train_loss: 2.05515193939209,', 'val_loss: 1.8676865100860596')\n",
      "('epoch: 2, iteration: 600,', 'time: 0:00:40.897682, train_loss: 1.9491856098175049,', 'val_loss: 2.06583309173584')\n",
      "('epoch: 2, iteration: 700,', 'time: 0:00:43.873724, train_loss: 1.8415240049362183,', 'val_loss: 2.017146110534668')\n",
      "('epoch: 3, iteration: 0,', 'time: 0:00:46.739062, train_loss: 1.763386845588684,', 'val_loss: 2.1019034385681152')\n",
      "('epoch: 3, iteration: 100,', 'time: 0:00:49.649938, train_loss: 2.035397529602051,', 'val_loss: 2.033414602279663')\n",
      "('epoch: 3, iteration: 200,', 'time: 0:00:52.502308, train_loss: 1.7857065200805664,', 'val_loss: 1.89171302318573')\n",
      "('epoch: 3, iteration: 300,', 'time: 0:00:55.389178, train_loss: 1.7702274322509766,', 'val_loss: 2.1067237854003906')\n",
      "('epoch: 3, iteration: 400,', 'time: 0:00:58.346810, train_loss: 1.8169935941696167,', 'val_loss: 2.0323662757873535')\n",
      "('epoch: 3, iteration: 500,', 'time: 0:01:01.266573, train_loss: 1.921854853630066,', 'val_loss: 2.020967960357666')\n",
      "('epoch: 3, iteration: 600,', 'time: 0:01:04.129148, train_loss: 1.6546885967254639,', 'val_loss: 1.8246361017227173')\n",
      "('epoch: 3, iteration: 700,', 'time: 0:01:07.134227, train_loss: 1.9597179889678955,', 'val_loss: 1.8149867057800293')\n",
      "('epoch: 4, iteration: 0,', 'time: 0:01:09.994177, train_loss: 1.79364013671875,', 'val_loss: 1.8282413482666016')\n",
      "('epoch: 4, iteration: 100,', 'time: 0:01:12.957822, train_loss: 1.782003402709961,', 'val_loss: 2.154994249343872')\n",
      "('epoch: 4, iteration: 200,', 'time: 0:01:15.905842, train_loss: 1.868419885635376,', 'val_loss: 2.1178343296051025')\n",
      "('epoch: 4, iteration: 300,', 'time: 0:01:18.856953, train_loss: 1.7339848279953003,', 'val_loss: 1.7966654300689697')\n",
      "('epoch: 4, iteration: 400,', 'time: 0:01:21.725502, train_loss: 1.6153054237365723,', 'val_loss: 1.8521687984466553')\n",
      "('epoch: 4, iteration: 500,', 'time: 0:01:24.649145, train_loss: 1.733487844467163,', 'val_loss: 2.0610175132751465')\n",
      "('epoch: 4, iteration: 600,', 'time: 0:01:27.580390, train_loss: 1.8350931406021118,', 'val_loss: 1.9415196180343628')\n",
      "('epoch: 4, iteration: 700,', 'time: 0:01:30.447715, train_loss: 1.6317180395126343,', 'val_loss: 1.818422794342041')\n",
      "('epoch: 5, iteration: 0,', 'time: 0:01:33.300658, train_loss: 1.8191876411437988,', 'val_loss: 1.896392583847046')\n",
      "('epoch: 5, iteration: 100,', 'time: 0:01:36.192430, train_loss: 1.5940214395523071,', 'val_loss: 1.964808464050293')\n",
      "('epoch: 5, iteration: 200,', 'time: 0:01:39.104263, train_loss: 1.764792561531067,', 'val_loss: 2.0357165336608887')\n",
      "('epoch: 5, iteration: 300,', 'time: 0:01:42.022594, train_loss: 1.6457971334457397,', 'val_loss: 1.980660319328308')\n",
      "('epoch: 5, iteration: 400,', 'time: 0:01:44.964494, train_loss: 1.5981338024139404,', 'val_loss: 1.8352404832839966')\n",
      "('epoch: 5, iteration: 500,', 'time: 0:01:47.941973, train_loss: 1.7908247709274292,', 'val_loss: 1.9959462881088257')\n",
      "('epoch: 5, iteration: 600,', 'time: 0:01:50.871677, train_loss: 1.7375032901763916,', 'val_loss: 1.9215433597564697')\n",
      "('epoch: 5, iteration: 700,', 'time: 0:01:53.845858, train_loss: 1.705886721611023,', 'val_loss: 1.9650437831878662')\n",
      "('epoch: 6, iteration: 0,', 'time: 0:01:56.715349, train_loss: 1.6226519346237183,', 'val_loss: 1.9408248662948608')\n",
      "('epoch: 6, iteration: 100,', 'time: 0:01:59.637195, train_loss: 1.8098547458648682,', 'val_loss: 1.8520234823226929')\n",
      "('epoch: 6, iteration: 200,', 'time: 0:02:02.584308, train_loss: 1.773026704788208,', 'val_loss: 2.4086968898773193')\n",
      "('epoch: 6, iteration: 300,', 'time: 0:02:05.513812, train_loss: 1.79124116897583,', 'val_loss: 2.1740188598632812')\n",
      "('epoch: 6, iteration: 400,', 'time: 0:02:08.418186, train_loss: 1.5288807153701782,', 'val_loss: 1.9418482780456543')\n",
      "('epoch: 6, iteration: 500,', 'time: 0:02:11.356591, train_loss: 1.7855119705200195,', 'val_loss: 1.5587072372436523')\n",
      "('epoch: 6, iteration: 600,', 'time: 0:02:14.278821, train_loss: 1.5521748065948486,', 'val_loss: 2.0602452754974365')\n",
      "('epoch: 6, iteration: 700,', 'time: 0:02:17.185306, train_loss: 1.6011924743652344,', 'val_loss: 2.051753044128418')\n",
      "('epoch: 7, iteration: 0,', 'time: 0:02:20.042358, train_loss: 1.608585000038147,', 'val_loss: 1.8186007738113403')\n",
      "('epoch: 7, iteration: 100,', 'time: 0:02:22.971631, train_loss: 1.8051038980484009,', 'val_loss: 2.339623212814331')\n",
      "('epoch: 7, iteration: 200,', 'time: 0:02:25.901444, train_loss: 1.614734411239624,', 'val_loss: 2.081700325012207')\n",
      "('epoch: 7, iteration: 300,', 'time: 0:02:28.816914, train_loss: 1.6615993976593018,', 'val_loss: 2.0613319873809814')\n",
      "('epoch: 7, iteration: 400,', 'time: 0:02:31.723831, train_loss: 1.6554385423660278,', 'val_loss: 2.168567419052124')\n",
      "('epoch: 7, iteration: 500,', 'time: 0:02:34.638176, train_loss: 1.6909821033477783,', 'val_loss: 2.0175490379333496')\n",
      "('epoch: 7, iteration: 600,', 'time: 0:02:37.622416, train_loss: 1.607598066329956,', 'val_loss: 1.7666335105895996')\n",
      "('epoch: 7, iteration: 700,', 'time: 0:02:40.553325, train_loss: 1.6020283699035645,', 'val_loss: 1.7908611297607422')\n",
      "('epoch: 8, iteration: 0,', 'time: 0:02:43.362811, train_loss: 1.4706699848175049,', 'val_loss: 2.0109777450561523')\n",
      "('epoch: 8, iteration: 100,', 'time: 0:02:46.316484, train_loss: 1.6058378219604492,', 'val_loss: 1.6919602155685425')\n",
      "('epoch: 8, iteration: 200,', 'time: 0:02:49.259332, train_loss: 1.4719250202178955,', 'val_loss: 1.997807502746582')\n",
      "('epoch: 8, iteration: 300,', 'time: 0:02:52.194607, train_loss: 1.4926114082336426,', 'val_loss: 2.0246388912200928')\n",
      "('epoch: 8, iteration: 400,', 'time: 0:02:55.162886, train_loss: 1.5162914991378784,', 'val_loss: 2.048105239868164')\n",
      "('epoch: 8, iteration: 500,', 'time: 0:02:58.102136, train_loss: 1.525640845298767,', 'val_loss: 1.8393255472183228')\n",
      "('epoch: 8, iteration: 600,', 'time: 0:03:01.015217, train_loss: 1.4524695873260498,', 'val_loss: 1.7465113401412964')\n",
      "('epoch: 8, iteration: 700,', 'time: 0:03:03.934987, train_loss: 1.5638867616653442,', 'val_loss: 1.840774416923523')\n",
      "('epoch: 9, iteration: 0,', 'time: 0:03:06.748744, train_loss: 1.6521574258804321,', 'val_loss: 1.9474754333496094')\n",
      "('epoch: 9, iteration: 100,', 'time: 0:03:09.681434, train_loss: 1.520153284072876,', 'val_loss: 2.1321449279785156')\n",
      "('epoch: 9, iteration: 200,', 'time: 0:03:12.568894, train_loss: 1.376610517501831,', 'val_loss: 2.148953914642334')\n",
      "('epoch: 9, iteration: 300,', 'time: 0:03:15.384684, train_loss: 1.6923527717590332,', 'val_loss: 1.8134790658950806')\n",
      "('epoch: 9, iteration: 400,', 'time: 0:03:18.302612, train_loss: 1.5115561485290527,', 'val_loss: 2.01908802986145')\n",
      "('epoch: 9, iteration: 500,', 'time: 0:03:21.245424, train_loss: 1.6231054067611694,', 'val_loss: 1.8828767538070679')\n",
      "('epoch: 9, iteration: 600,', 'time: 0:03:24.137941, train_loss: 1.3099277019500732,', 'val_loss: 2.19105863571167')\n",
      "('epoch: 9, iteration: 700,', 'time: 0:03:27.038867, train_loss: 1.4251359701156616,', 'val_loss: 2.065959930419922')\n",
      "('epoch: 10, iteration: 0,', 'time: 0:03:29.847363, train_loss: 1.4254485368728638,', 'val_loss: 2.2429769039154053')\n",
      "('epoch: 10, iteration: 100,', 'time: 0:03:32.834947, train_loss: 1.5027867555618286,', 'val_loss: 1.957573652267456')\n",
      "('epoch: 10, iteration: 200,', 'time: 0:03:35.753649, train_loss: 1.3292840719223022,', 'val_loss: 1.8302805423736572')\n",
      "('epoch: 10, iteration: 300,', 'time: 0:03:38.683354, train_loss: 1.4546934366226196,', 'val_loss: 2.3775687217712402')\n",
      "('epoch: 10, iteration: 400,', 'time: 0:03:41.528861, train_loss: 1.3399125337600708,', 'val_loss: 2.1963205337524414')\n",
      "('epoch: 10, iteration: 500,', 'time: 0:03:44.538942, train_loss: 1.5863776206970215,', 'val_loss: 2.046433687210083')\n",
      "('epoch: 10, iteration: 600,', 'time: 0:03:47.492632, train_loss: 1.6151660680770874,', 'val_loss: 2.08940052986145')\n",
      "('epoch: 10, iteration: 700,', 'time: 0:03:50.342155, train_loss: 1.541866421699524,', 'val_loss: 1.912229061126709')\n",
      "('epoch: 11, iteration: 0,', 'time: 0:03:53.148185, train_loss: 1.444485068321228,', 'val_loss: 2.2212541103363037')\n",
      "('epoch: 11, iteration: 100,', 'time: 0:03:56.045592, train_loss: 1.4274276494979858,', 'val_loss: 2.1689560413360596')\n",
      "('epoch: 11, iteration: 200,', 'time: 0:03:58.982515, train_loss: 1.5275484323501587,', 'val_loss: 1.9103965759277344')\n",
      "('epoch: 11, iteration: 300,', 'time: 0:04:01.930741, train_loss: 1.4475789070129395,', 'val_loss: 1.8712882995605469')\n",
      "('epoch: 11, iteration: 400,', 'time: 0:04:04.895280, train_loss: 1.3727227449417114,', 'val_loss: 2.4140899181365967')\n",
      "('epoch: 11, iteration: 500,', 'time: 0:04:07.848155, train_loss: 1.4530224800109863,', 'val_loss: 2.1975135803222656')\n",
      "('epoch: 11, iteration: 600,', 'time: 0:04:10.802010, train_loss: 1.462893009185791,', 'val_loss: 1.867952585220337')\n",
      "('epoch: 11, iteration: 700,', 'time: 0:04:13.722905, train_loss: 1.616520643234253,', 'val_loss: 1.7253494262695312')\n",
      "('epoch: 12, iteration: 0,', 'time: 0:04:16.595330, train_loss: 1.5804435014724731,', 'val_loss: 2.153181552886963')\n",
      "('epoch: 12, iteration: 100,', 'time: 0:04:19.471305, train_loss: 1.4953089952468872,', 'val_loss: 2.261962890625')\n",
      "('epoch: 12, iteration: 200,', 'time: 0:04:22.436057, train_loss: 1.49403715133667,', 'val_loss: 2.1290669441223145')\n",
      "('epoch: 12, iteration: 300,', 'time: 0:04:25.355480, train_loss: 1.5072270631790161,', 'val_loss: 1.951943039894104')\n",
      "('epoch: 12, iteration: 400,', 'time: 0:04:28.333667, train_loss: 1.4691778421401978,', 'val_loss: 2.1653103828430176')\n",
      "('epoch: 12, iteration: 500,', 'time: 0:04:31.251014, train_loss: 1.5106631517410278,', 'val_loss: 2.013371467590332')\n",
      "('epoch: 12, iteration: 600,', 'time: 0:04:34.185320, train_loss: 1.5074821710586548,', 'val_loss: 2.0425493717193604')\n",
      "('epoch: 12, iteration: 700,', 'time: 0:04:37.145523, train_loss: 1.5672909021377563,', 'val_loss: 2.3974876403808594')\n",
      "('epoch: 13, iteration: 0,', 'time: 0:04:40.044912, train_loss: 1.4022786617279053,', 'val_loss: 2.078101396560669')\n",
      "('epoch: 13, iteration: 100,', 'time: 0:04:42.974073, train_loss: 1.5203646421432495,', 'val_loss: 2.274343490600586')\n",
      "('epoch: 13, iteration: 200,', 'time: 0:04:45.915915, train_loss: 1.5086854696273804,', 'val_loss: 1.6528136730194092')\n",
      "('epoch: 13, iteration: 300,', 'time: 0:04:48.868933, train_loss: 1.477388858795166,', 'val_loss: 2.069594383239746')\n",
      "('epoch: 13, iteration: 400,', 'time: 0:04:51.774727, train_loss: 1.4519503116607666,', 'val_loss: 1.9990885257720947')\n",
      "('epoch: 13, iteration: 500,', 'time: 0:04:54.728426, train_loss: 1.3954493999481201,', 'val_loss: 2.078700304031372')\n",
      "('epoch: 13, iteration: 600,', 'time: 0:04:57.666141, train_loss: 1.6094534397125244,', 'val_loss: 2.3444578647613525')\n",
      "('epoch: 13, iteration: 700,', 'time: 0:05:00.618800, train_loss: 1.4770880937576294,', 'val_loss: 2.1195569038391113')\n",
      "('epoch: 14, iteration: 0,', 'time: 0:05:03.506085, train_loss: 1.3243218660354614,', 'val_loss: 1.8664299249649048')\n",
      "('epoch: 14, iteration: 100,', 'time: 0:05:06.436773, train_loss: 1.4675335884094238,', 'val_loss: 2.0800037384033203')\n",
      "('epoch: 14, iteration: 200,', 'time: 0:05:09.344136, train_loss: 1.472049593925476,', 'val_loss: 2.3611972332000732')\n",
      "('epoch: 14, iteration: 300,', 'time: 0:05:12.297503, train_loss: 1.4400930404663086,', 'val_loss: 2.1016674041748047')\n",
      "('epoch: 14, iteration: 400,', 'time: 0:05:15.230191, train_loss: 1.5818419456481934,', 'val_loss: 2.5099198818206787')\n",
      "('epoch: 14, iteration: 500,', 'time: 0:05:18.132017, train_loss: 1.4447962045669556,', 'val_loss: 1.9696333408355713')\n",
      "('epoch: 14, iteration: 600,', 'time: 0:05:21.083270, train_loss: 1.4846101999282837,', 'val_loss: 2.0378332138061523')\n",
      "('epoch: 14, iteration: 700,', 'time: 0:05:24.038083, train_loss: 1.4223371744155884,', 'val_loss: 2.1215062141418457')\n",
      "('epoch: 15, iteration: 0,', 'time: 0:05:26.850238, train_loss: 1.4289751052856445,', 'val_loss: 1.8545771837234497')\n",
      "('epoch: 15, iteration: 100,', 'time: 0:05:29.792073, train_loss: 1.4208850860595703,', 'val_loss: 2.0056679248809814')\n",
      "('epoch: 15, iteration: 200,', 'time: 0:05:32.733859, train_loss: 1.3758615255355835,', 'val_loss: 2.191969394683838')\n",
      "('epoch: 15, iteration: 300,', 'time: 0:05:35.596819, train_loss: 1.2586613893508911,', 'val_loss: 1.9464502334594727')\n",
      "('epoch: 15, iteration: 400,', 'time: 0:05:38.491654, train_loss: 1.4022822380065918,', 'val_loss: 2.1508147716522217')\n",
      "('epoch: 15, iteration: 500,', 'time: 0:05:41.453413, train_loss: 1.370401382446289,', 'val_loss: 2.053051710128784')\n",
      "('epoch: 15, iteration: 600,', 'time: 0:05:44.366880, train_loss: 1.5559258460998535,', 'val_loss: 2.1167948246002197')\n",
      "('epoch: 15, iteration: 700,', 'time: 0:05:47.269518, train_loss: 1.4097607135772705,', 'val_loss: 2.2078003883361816')\n",
      "('epoch: 16, iteration: 0,', 'time: 0:05:50.097081, train_loss: 1.4124876260757446,', 'val_loss: 2.477095603942871')\n",
      "('epoch: 16, iteration: 100,', 'time: 0:05:53.013819, train_loss: 1.3464264869689941,', 'val_loss: 2.1248855590820312')\n",
      "('epoch: 16, iteration: 200,', 'time: 0:05:55.935755, train_loss: 1.3345566987991333,', 'val_loss: 2.2336275577545166')\n",
      "('epoch: 16, iteration: 300,', 'time: 0:05:58.840163, train_loss: 1.5763376951217651,', 'val_loss: 2.7205891609191895')\n",
      "('epoch: 16, iteration: 400,', 'time: 0:06:01.820880, train_loss: 1.4057282209396362,', 'val_loss: 2.1170766353607178')\n",
      "('epoch: 16, iteration: 500,', 'time: 0:06:04.776014, train_loss: 1.2905811071395874,', 'val_loss: 2.0633747577667236')\n",
      "('epoch: 16, iteration: 600,', 'time: 0:06:07.736356, train_loss: 1.3702305555343628,', 'val_loss: 2.3441150188446045')\n",
      "('epoch: 16, iteration: 700,', 'time: 0:06:10.701147, train_loss: 1.407468318939209,', 'val_loss: 2.1412296295166016')\n",
      "('epoch: 17, iteration: 0,', 'time: 0:06:13.495376, train_loss: 1.327042818069458,', 'val_loss: 2.4105958938598633')\n",
      "('epoch: 17, iteration: 100,', 'time: 0:06:16.352805, train_loss: 1.4232579469680786,', 'val_loss: 2.0305287837982178')\n",
      "('epoch: 17, iteration: 200,', 'time: 0:06:19.280268, train_loss: 1.2964171171188354,', 'val_loss: 2.3575501441955566')\n",
      "('epoch: 17, iteration: 300,', 'time: 0:06:22.214527, train_loss: 1.5328842401504517,', 'val_loss: 1.9291551113128662')\n",
      "('epoch: 17, iteration: 400,', 'time: 0:06:25.083007, train_loss: 1.3083566427230835,', 'val_loss: 2.495516777038574')\n",
      "('epoch: 17, iteration: 500,', 'time: 0:06:28.045080, train_loss: 1.4717094898223877,', 'val_loss: 2.2615809440612793')\n",
      "('epoch: 17, iteration: 600,', 'time: 0:06:30.912142, train_loss: 1.338575005531311,', 'val_loss: 2.0294113159179688')\n",
      "('epoch: 17, iteration: 700,', 'time: 0:06:33.801428, train_loss: 1.4948512315750122,', 'val_loss: 2.187988042831421')\n",
      "('epoch: 18, iteration: 0,', 'time: 0:06:36.638490, train_loss: 1.354327917098999,', 'val_loss: 2.169074058532715')\n",
      "('epoch: 18, iteration: 100,', 'time: 0:06:39.527340, train_loss: 1.4213907718658447,', 'val_loss: 2.2249317169189453')\n",
      "('epoch: 18, iteration: 200,', 'time: 0:06:42.407348, train_loss: 1.3089001178741455,', 'val_loss: 2.035031318664551')\n",
      "('epoch: 18, iteration: 300,', 'time: 0:06:45.369388, train_loss: 1.3849174976348877,', 'val_loss: 2.028782606124878')\n",
      "('epoch: 18, iteration: 400,', 'time: 0:06:48.289312, train_loss: 1.376240611076355,', 'val_loss: 2.2574639320373535')\n",
      "('epoch: 18, iteration: 500,', 'time: 0:06:51.182715, train_loss: 1.6117256879806519,', 'val_loss: 1.9202744960784912')\n",
      "('epoch: 18, iteration: 600,', 'time: 0:06:54.117441, train_loss: 1.42838454246521,', 'val_loss: 1.9586329460144043')\n",
      "('epoch: 18, iteration: 700,', 'time: 0:06:57.097045, train_loss: 1.3652650117874146,', 'val_loss: 2.0291922092437744')\n",
      "('epoch: 19, iteration: 0,', 'time: 0:06:59.940556, train_loss: 1.2841122150421143,', 'val_loss: 2.269007921218872')\n",
      "('epoch: 19, iteration: 100,', 'time: 0:07:02.747907, train_loss: 1.5203018188476562,', 'val_loss: 2.164016008377075')\n",
      "('epoch: 19, iteration: 200,', 'time: 0:07:05.617532, train_loss: 1.3500808477401733,', 'val_loss: 2.0860743522644043')\n",
      "('epoch: 19, iteration: 300,', 'time: 0:07:08.505577, train_loss: 1.346526026725769,', 'val_loss: 1.9964983463287354')\n",
      "('epoch: 19, iteration: 400,', 'time: 0:07:11.388315, train_loss: 1.4451886415481567,', 'val_loss: 2.125138521194458')\n",
      "('epoch: 19, iteration: 500,', 'time: 0:07:14.290842, train_loss: 1.3753881454467773,', 'val_loss: 2.527421712875366')\n",
      "('epoch: 19, iteration: 600,', 'time: 0:07:17.141359, train_loss: 1.2632944583892822,', 'val_loss: 2.4296844005584717')\n",
      "('epoch: 19, iteration: 700,', 'time: 0:07:20.068212, train_loss: 1.162231683731079,', 'val_loss: 2.0804500579833984')\n",
      "('epoch: 20, iteration: 0,', 'time: 0:07:22.856077, train_loss: 1.2535691261291504,', 'val_loss: 2.0810434818267822')\n",
      "('epoch: 20, iteration: 100,', 'time: 0:07:25.770124, train_loss: 1.4472354650497437,', 'val_loss: 2.580181837081909')\n",
      "('epoch: 20, iteration: 200,', 'time: 0:07:28.683054, train_loss: 1.3757984638214111,', 'val_loss: 2.1406989097595215')\n",
      "('epoch: 20, iteration: 300,', 'time: 0:07:31.668220, train_loss: 1.4564908742904663,', 'val_loss: 1.933239221572876')\n",
      "('epoch: 20, iteration: 400,', 'time: 0:07:34.607352, train_loss: 1.495192050933838,', 'val_loss: 1.9345448017120361')\n",
      "('epoch: 20, iteration: 500,', 'time: 0:07:37.754028, train_loss: 1.41495680809021,', 'val_loss: 1.6761471033096313')\n",
      "('epoch: 20, iteration: 600,', 'time: 0:07:40.652099, train_loss: 1.4592015743255615,', 'val_loss: 2.340520143508911')\n",
      "('epoch: 20, iteration: 700,', 'time: 0:07:43.469316, train_loss: 1.2367124557495117,', 'val_loss: 2.1592941284179688')\n"
     ]
    }
   ],
   "source": [
    "\"\"\"\n",
    "== YOUR CODE HERE ==\n",
    "\"\"\"\n",
    "t0 = datetime.now()\n",
    "losses = []\n",
    "train_losses = []\n",
    "val_losses = []\n",
    "for epoch in range(1, epochs+1):  # again, normally you would NOT do 300 epochs, it is toy data\n",
    "    for i, (x, y, lens) in enumerate(train_generator):\n",
    "        model = model.train()\n",
    "        loss, val_loss = train_on_batch(model, criterion, x, y, lens, optimizer, i, epoch, t0)\n",
    "        losses.append(loss)\n",
    "        if val_loss:\n",
    "            train_losses.append(loss)\n",
    "            val_losses.append(val_loss)"
   ]
  },
  {
   "cell_type": "code",
   "execution_count": 374,
   "metadata": {},
   "outputs": [],
   "source": [
    "import matplotlib.pyplot as plt"
   ]
  },
  {
   "cell_type": "code",
   "execution_count": 375,
   "metadata": {},
   "outputs": [
    {
     "data": {
      "text/plain": [
       "[<matplotlib.lines.Line2D at 0x2822065da48>]"
      ]
     },
     "execution_count": 375,
     "metadata": {},
     "output_type": "execute_result"
    },
    {
     "data": {
      "image/png": "[encoded data removed]",
      "text/plain": [
       "<Figure size 864x432 with 1 Axes>"
      ]
     },
     "metadata": {
      "needs_background": "light"
     },
     "output_type": "display_data"
    }
   ],
   "source": [
    "plt.figure(figsize=(12,6))\n",
    "plt.plot(losses[::10])"
   ]
  },
  {
   "cell_type": "code",
   "execution_count": 376,
   "metadata": {},
   "outputs": [
    {
     "data": {
      "text/plain": [
       "[<matplotlib.lines.Line2D at 0x28223b57e08>]"
      ]
     },
     "execution_count": 376,
     "metadata": {},
     "output_type": "execute_result"
    },
    {
     "data": {
      "image/png": "[encoded data removed]",
      "text/plain": [
       "<Figure size 864x432 with 1 Axes>"
      ]
     },
     "metadata": {
      "needs_background": "light"
     },
     "output_type": "display_data"
    }
   ],
   "source": [
    "plt.figure(figsize=(12,6))\n",
    "plt.plot(train_losses)\n",
    "plt.plot(val_losses)"
   ]
  },
  {
   "cell_type": "markdown",
   "metadata": {},
   "source": [
    "**2.6 (5 points)** Write a function **predict_on_batch** that outputs letter probabilities of all words in the batch."
   ]
  },
  {
   "cell_type": "code",
   "execution_count": 377,
   "metadata": {},
   "outputs": [],
   "source": [
    "\"\"\"\n",
    "== YOUR CODE HERE ==\n",
    "\"\"\"\n",
    "train_generator = DataLoader(train_dataset, collate_fn=Padder(), batch_size=batch_size)\n",
    "batches = list(train_generator)\n",
    "num_batches = len(batches)"
   ]
  },
  {
   "cell_type": "code",
   "execution_count": 378,
   "metadata": {},
   "outputs": [],
   "source": [
    "np.random.seed(1)\n",
    "batch = batches[np.random.randint(0, num_batches+1, 1)[0]]"
   ]
  },
  {
   "cell_type": "code",
   "execution_count": 379,
   "metadata": {},
   "outputs": [],
   "source": [
    "def predict_on_batch(model, batch):\n",
    "    x_batch, y_batch, lens = batch\n",
    "    batch_size, max_len = x_batch.shape\n",
    "    model = model.eval()\n",
    "    result = []\n",
    "    with torch.no_grad():\n",
    "        y, *_ = model.forward(x_batch, lens)\n",
    "        probs = torch.exp(y[np.arange(y.shape[0]), y_batch.view(-1)]).reshape(batch_size, -1)\n",
    "    for chars_idxs, chars_probs, word_len in zip(y_batch.cpu(), probs.cpu(), lens):\n",
    "        result.append([])\n",
    "        for char_idx, char_prob in zip(chars_idxs[: word_len+1], chars_probs[: word_len+1]):\n",
    "            if char_idx.item() == char2ind['BOUND']:\n",
    "                break\n",
    "            result[-1].append((ind2char[char_idx.item()], char_prob.item()))\n",
    "    return result"
   ]
  },
  {
   "cell_type": "code",
   "execution_count": 380,
   "metadata": {},
   "outputs": [
    {
     "data": {
      "text/plain": [
       "[[('з', 0.03613690286874771),\n",
       "  ('а', 0.8539401888847351),\n",
       "  ('с', 0.06652694195508957),\n",
       "  ('т', 0.374347984790802),\n",
       "  ('а', 0.03415820002555847),\n",
       "  ('р', 0.3798711597919464),\n",
       "  ('е', 0.45129165053367615),\n",
       "  ('л', 0.41478729248046875),\n",
       "  ('ы', 0.1397506445646286),\n",
       "  ('й', 0.5739513635635376)],\n",
       " [('а', 0.043088071048259735),\n",
       "  ('в', 0.10837674885988235),\n",
       "  ('а', 0.1664450466632843),\n",
       "  ('н', 0.4143446981906891),\n",
       "  ('п', 0.4056839346885681),\n",
       "  ('о', 0.9368792772293091),\n",
       "  ('с', 0.48339685797691345),\n",
       "  ('т', 0.8019792437553406)],\n",
       " [('р', 0.05038710683584213),\n",
       "  ('а', 0.5836698412895203),\n",
       "  ('з', 0.47909078001976013),\n",
       "  ('м', 0.058943815529346466),\n",
       "  ('я', 0.010030084289610386),\n",
       "  ('т', 0.721739649772644),\n",
       "  ('ь', 0.6634500622749329)],\n",
       " [('п', 0.16168366372585297),\n",
       "  ('е', 0.10415658354759216),\n",
       "  ('р', 0.7433016896247864),\n",
       "  ('е', 0.9537763595581055),\n",
       "  ('ш', 0.002762027084827423),\n",
       "  ('а', 0.27914154529571533),\n",
       "  ('г', 0.8326393961906433),\n",
       "  ('н', 0.03217937424778938),\n",
       "  ('у', 0.5029332637786865),\n",
       "  ('л', 0.7170507311820984),\n",
       "  ('о', 0.532668948173523)],\n",
       " [('ц', 0.0061201974749565125),\n",
       "  ('в', 0.061597079038619995),\n",
       "  ('е', 0.9642400145530701),\n",
       "  ('т', 0.9320428967475891),\n",
       "  ('о', 0.9155344367027283),\n",
       "  ('ч', 0.9225817322731018),\n",
       "  ('к', 0.22760842740535736),\n",
       "  ('о', 0.37965691089630127),\n",
       "  ('в', 0.02353537082672119)],\n",
       " [('а', 0.043088071048259735),\n",
       "  ('б', 0.14772696793079376),\n",
       "  ('с', 0.24552318453788757),\n",
       "  ('е', 0.04239655286073685),\n",
       "  ('н', 0.03320591151714325),\n",
       "  ('т', 0.7406831383705139)],\n",
       " [('н', 0.05742166191339493),\n",
       "  ('о', 0.08922238647937775),\n",
       "  ('к', 0.011055396869778633),\n",
       "  ('а', 0.4911171793937683),\n",
       "  ('у', 0.024015888571739197),\n",
       "  ('т', 0.6287137866020203)],\n",
       " [('п', 0.16168366372585297),\n",
       "  ('о', 0.37630680203437805),\n",
       "  ('р', 0.044897228479385376),\n",
       "  ('я', 0.08200503140687943),\n",
       "  ('д', 0.43402209877967834),\n",
       "  ('к', 0.44331595301628113),\n",
       "  ('о', 0.893439531326294),\n",
       "  ('в', 0.9639015793800354),\n",
       "  ('ы', 0.7075011730194092),\n",
       "  ('й', 0.6233097910881042)],\n",
       " [('х', 0.01134206261485815),\n",
       "  ('е', 0.026804175227880478),\n",
       "  ('з', 0.04489811882376671),\n",
       "  ('б', 0.381457656621933),\n",
       "  ('о', 0.8929880857467651),\n",
       "  ('л', 0.17926092445850372),\n",
       "  ('л', 0.4809345006942749),\n",
       "  ('а', 0.4006997346878052)],\n",
       " [('с', 0.09417470544576645),\n",
       "  ('м', 0.03917533531785011),\n",
       "  ('е', 0.38423147797584534),\n",
       "  ('щ', 0.09754738956689835),\n",
       "  ('а', 0.6533090472221375),\n",
       "  ('т', 0.250247597694397),\n",
       "  ('ь', 0.9957072138786316),\n",
       "  ('с', 0.4802666902542114),\n",
       "  ('я', 0.9977794289588928)],\n",
       " [('с', 0.09417470544576645),\n",
       "  ('у', 0.04879223182797432),\n",
       "  ('х', 0.2136681079864502),\n",
       "  ('о', 0.8169237375259399),\n",
       "  ('п', 0.04023948311805725),\n",
       "  ('у', 0.2504313290119171),\n",
       "  ('т', 0.9693344235420227),\n",
       "  ('н', 0.9252837300300598),\n",
       "  ('ы', 0.7832527160644531),\n",
       "  ('й', 0.6811965107917786)],\n",
       " [('к', 0.06296190619468689),\n",
       "  ('а', 0.19917556643486023),\n",
       "  ('с', 0.021473929286003113),\n",
       "  ('т', 0.556743323802948),\n",
       "  ('р', 0.7277094125747681),\n",
       "  ('ю', 0.6489743590354919),\n",
       "  ('л', 0.7119879722595215),\n",
       "  ('я', 0.05178786441683769)],\n",
       " [('л', 0.022885549813508987),\n",
       "  ('е', 0.230037659406662),\n",
       "  ('с', 0.3071659803390503),\n",
       "  ('и', 0.0225374735891819),\n",
       "  ('с', 0.024272171780467033),\n",
       "  ('т', 0.9991439580917358),\n",
       "  ('о', 0.7568680047988892),\n",
       "  ('с', 0.1309242844581604),\n",
       "  ('т', 0.721245288848877),\n",
       "  ('ь', 0.5025025010108948)],\n",
       " [('д', 0.037751246243715286),\n",
       "  ('в', 0.06843036413192749),\n",
       "  ('у', 0.46217110753059387),\n",
       "  ('в', 0.011097126640379429),\n",
       "  ('и', 0.35450464487075806),\n",
       "  ('д', 0.6964178085327148),\n",
       "  ('о', 0.8006067276000977),\n",
       "  ('в', 0.9831678867340088),\n",
       "  ('о', 0.5206828713417053),\n",
       "  ('й', 0.42783093452453613)],\n",
       " [('а', 0.043088071048259735),\n",
       "  ('у', 0.017835436388850212),\n",
       "  ('д', 0.8859462141990662),\n",
       "  ('и', 0.968864917755127),\n",
       "  ('е', 0.18165095150470734),\n",
       "  ('н', 0.5441924333572388),\n",
       "  ('ц', 0.9322109222412109),\n",
       "  ('и', 0.9958714842796326),\n",
       "  ('и', 0.573989987373352)],\n",
       " [('д', 0.037751246243715286),\n",
       "  ('р', 0.10011503100395203),\n",
       "  ('е', 0.5195179581642151),\n",
       "  ('в', 0.8904190063476562),\n",
       "  ('н', 0.2726866900920868),\n",
       "  ('и', 0.34033477306365967),\n",
       "  ('х', 0.06246074661612511)],\n",
       " [('г', 0.027640633285045624),\n",
       "  ('и', 0.09421708434820175),\n",
       "  ('т', 0.18534547090530396),\n",
       "  ('л', 0.02318715490400791),\n",
       "  ('е', 0.5249691009521484),\n",
       "  ('р', 0.755781352519989),\n",
       "  ('о', 0.5188787579536438),\n",
       "  ('в', 0.8721739053726196),\n",
       "  ('с', 0.7808868885040283),\n",
       "  ('к', 0.9996215105056763),\n",
       "  ('и', 0.45558419823646545),\n",
       "  ('х', 0.314200222492218)],\n",
       " [('в', 0.0674465000629425),\n",
       "  ('о', 0.14500799775123596),\n",
       "  ('п', 0.04196679964661598),\n",
       "  ('р', 0.1272459626197815),\n",
       "  ('о', 0.894373893737793),\n",
       "  ('с', 0.620943009853363),\n",
       "  ('н', 0.47443345189094543),\n",
       "  ('ы', 0.43321293592453003),\n",
       "  ('й', 0.5835387706756592)],\n",
       " [('п', 0.16168366372585297),\n",
       "  ('е', 0.10415658354759216),\n",
       "  ('р', 0.7433016896247864),\n",
       "  ('е', 0.9537763595581055),\n",
       "  ('с', 0.12369737774133682),\n",
       "  ('е', 0.07605637609958649),\n",
       "  ('л', 0.7719894647598267),\n",
       "  ('я', 0.18469496071338654),\n",
       "  ('т', 0.48151159286499023),\n",
       "  ('ь', 0.9802122116088867),\n",
       "  ('с', 0.48254385590553284),\n",
       "  ('я', 0.9982486963272095)],\n",
       " [('с', 0.09417470544576645),\n",
       "  ('о', 0.17198455333709717),\n",
       "  ('ц', 0.10740552097558975),\n",
       "  ('и', 0.897632896900177),\n",
       "  ('а', 0.16581612825393677),\n",
       "  ('л', 0.9959236979484558),\n",
       "  ('-', 0.155696839094162),\n",
       "  ('д', 0.799882709980011),\n",
       "  ('е', 0.9675583839416504),\n",
       "  ('м', 0.9638161659240723),\n",
       "  ('о', 0.6264966726303101),\n",
       "  ('к', 0.8109236359596252),\n",
       "  ('р', 0.8994864821434021),\n",
       "  ('а', 0.9532034397125244),\n",
       "  ('т', 0.9923768639564514)]]"
      ]
     },
     "execution_count": 380,
     "metadata": {},
     "output_type": "execute_result"
    }
   ],
   "source": [
    "predict_on_batch(model, batch)"
   ]
  },
  {
   "cell_type": "markdown",
   "metadata": {},
   "source": [
    "**2.7 (1 points)** Calculate the letter probabilities for all words in the test dataset. Print them for 20 last words. Do not forget to disable shuffling in the ``DataLoader``."
   ]
  },
  {
   "cell_type": "code",
   "execution_count": 381,
   "metadata": {},
   "outputs": [],
   "source": [
    "\"\"\"\n",
    "== YOUR CODE HERE ==\n",
    "\"\"\"\n",
    "test_generator = DataLoader(test_dataset, collate_fn=Padder(), batch_size=len(test_dataset))\n",
    "batch = list(test_generator)[0]"
   ]
  },
  {
   "cell_type": "code",
   "execution_count": 382,
   "metadata": {},
   "outputs": [],
   "source": [
    "test_letter_probs = predict_on_batch(model, batch)"
   ]
  },
  {
   "cell_type": "code",
   "execution_count": 383,
   "metadata": {},
   "outputs": [
    {
     "data": {
      "text/plain": [
       "[[('ц', 0.0061201974749565125),\n",
       "  ('е', 0.7486222386360168),\n",
       "  ('н', 0.033211540430784225),\n",
       "  ('т', 0.6001260280609131),\n",
       "  ('р', 0.796393632888794),\n",
       "  ('о', 0.029125021770596504),\n",
       "  ('б', 0.009010003879666328),\n",
       "  ('е', 0.011784114874899387),\n",
       "  ('ж', 0.009670182131230831),\n",
       "  ('н', 0.2571954131126404),\n",
       "  ('о', 0.3844072222709656),\n",
       "  ('й', 0.28209057450294495)],\n",
       " [('п', 0.16168363392353058),\n",
       "  ('е', 0.10415660589933395),\n",
       "  ('р', 0.7433016896247864),\n",
       "  ('в', 0.007741591893136501),\n",
       "  ('о', 0.08920121937990189),\n",
       "  ('к', 3.2914882467594e-05),\n",
       "  ('л', 0.0012384969741106033),\n",
       "  ('а', 0.26204508543014526),\n",
       "  ('с', 0.48841655254364014),\n",
       "  ('с', 0.5323621034622192),\n",
       "  ('н', 0.025530461221933365),\n",
       "  ('ы', 0.23448321223258972),\n",
       "  ('й', 0.7036784887313843)],\n",
       " [('т', 0.037275370210409164),\n",
       "  ('р', 0.2713366150856018),\n",
       "  ('у', 0.17555852234363556),\n",
       "  ('д', 0.2751152217388153),\n",
       "  ('о', 0.8579317927360535),\n",
       "  ('в', 0.40698614716529846),\n",
       "  ('о', 0.7109337449073792),\n",
       "  ('й', 0.42429956793785095)],\n",
       " [('л', 0.022885549813508987),\n",
       "  ('а', 0.21121786534786224),\n",
       "  ('к', 0.10351040959358215),\n",
       "  ('о', 0.09538954496383667),\n",
       "  ('н', 0.2190065085887909),\n",
       "  ('и', 0.030137434601783752),\n",
       "  ('ч', 0.9605017900466919),\n",
       "  ('н', 0.008868646807968616),\n",
       "  ('ы', 0.6037752032279968),\n",
       "  ('м', 0.06290285289287567)],\n",
       " [('б', 0.04795188829302788),\n",
       "  ('е', 0.2731529176235199),\n",
       "  ('з', 0.5023890733718872),\n",
       "  ('в', 0.1151721179485321),\n",
       "  ('о', 0.1822059452533722),\n",
       "  ('л', 0.7693066000938416),\n",
       "  ('и', 0.0009645175887271762),\n",
       "  ('е', 0.012934180907905102)],\n",
       " [('р', 0.05038711801171303),\n",
       "  ('а', 0.5836698412895203),\n",
       "  ('с', 0.4137164056301117),\n",
       "  ('ш', 0.010085305199027061),\n",
       "  ('и', 0.8289729952812195),\n",
       "  ('ф', 0.12590505182743073),\n",
       "  ('р', 0.9947381615638733),\n",
       "  ('о', 0.9344629049301147),\n",
       "  ('в', 0.758817195892334),\n",
       "  ('ы', 0.0008671515388414264),\n",
       "  ('в', 0.001497912802733481),\n",
       "  ('а', 0.06077016517519951),\n",
       "  ('л', 0.009148177690804005),\n",
       "  ('о', 0.08512228727340698)],\n",
       " [('м', 0.04296884313225746),\n",
       "  ('а', 0.2228594869375229),\n",
       "  ('л', 0.16675087809562683),\n",
       "  ('ю', 0.00458032451570034),\n",
       "  ('с', 0.04249820113182068),\n",
       "  ('е', 0.0003148357500322163),\n",
       "  ('н', 0.003851631423458457),\n",
       "  ('ь', 0.08246330171823502),\n",
       "  ('к', 0.42030763626098633),\n",
       "  ('о', 0.46113428473472595),\n",
       "  ('м', 0.24252688884735107)],\n",
       " [('с', 0.09417470544576645),\n",
       "  ('и', 0.047796595841646194),\n",
       "  ('н', 0.4104693531990051),\n",
       "  ('е', 0.2387077808380127),\n",
       "  ('в', 0.07698452472686768),\n",
       "  ('а', 0.08497866988182068),\n",
       "  ('т', 0.10800692439079285),\n",
       "  ('ы', 0.004042509943246841),\n",
       "  ('е', 0.0028283775318413973)],\n",
       " [('я', 0.004778557922691107),\n",
       "  ('н', 0.14868514239788055),\n",
       "  ('в', 0.15120001137256622),\n",
       "  ('а', 0.36954423785209656),\n",
       "  ('р', 0.9800850749015808),\n",
       "  ('с', 0.014364720322191715),\n",
       "  ('к', 0.9997758865356445),\n",
       "  ('и', 0.483740895986557),\n",
       "  ('й', 0.6139682531356812)],\n",
       " [('д', 0.03775123879313469),\n",
       "  ('и', 0.21594679355621338),\n",
       "  ('р', 0.08245078474283218),\n",
       "  ('и', 0.40495991706848145),\n",
       "  ('ж', 0.6978959441184998),\n",
       "  ('а', 0.30379098653793335),\n",
       "  ('б', 1.359708585368935e-05),\n",
       "  ('л', 0.058662090450525284),\n",
       "  ('е', 0.013971046544611454),\n",
       "  ('м', 0.01503116637468338)],\n",
       " [('с', 0.09417470544576645),\n",
       "  ('л', 0.046533454209566116),\n",
       "  ('а', 0.1643371284008026),\n",
       "  ('в', 0.6008603572845459),\n",
       "  ('и', 0.2069118171930313),\n",
       "  ('с', 0.14630429446697235),\n",
       "  ('т', 0.8395444750785828),\n",
       "  ('и', 0.011568285524845123),\n",
       "  ('к', 0.40834251046180725),\n",
       "  ('у', 0.12192609906196594)],\n",
       " [('р', 0.05038711801171303),\n",
       "  ('а', 0.5836698412895203),\n",
       "  ('с', 0.4137164056301117),\n",
       "  ('ч', 0.008541367948055267),\n",
       "  ('ё', 0.5188916325569153),\n",
       "  ('т', 0.06390753388404846),\n",
       "  ('н', 0.007179507985711098),\n",
       "  ('ы', 0.8849814534187317),\n",
       "  ('й', 0.5995597839355469)],\n",
       " [('о', 0.0678488239645958),\n",
       "  ('б', 0.36687523126602173),\n",
       "  ('е', 0.07831212133169174),\n",
       "  ('з', 0.3648700416088104),\n",
       "  ('д', 0.1194307953119278),\n",
       "  ('о', 0.8815270662307739),\n",
       "  ('л', 0.9841270446777344),\n",
       "  ('и', 0.734340250492096),\n",
       "  ('т', 0.1308770626783371),\n",
       "  ('ь', 0.8900560736656189)],\n",
       " [('л', 0.022885549813508987),\n",
       "  ('е', 0.23003771901130676),\n",
       "  ('с', 0.3071659803390503),\n",
       "  ('о', 0.8510239720344543),\n",
       "  ('о', 0.09096892923116684),\n",
       "  ('х', 0.03203875571489334),\n",
       "  ('р', 0.41303005814552307),\n",
       "  ('а', 0.9015970230102539),\n",
       "  ('н', 0.8507218956947327),\n",
       "  ('е', 0.12091841548681259),\n",
       "  ('н', 0.9978393912315369),\n",
       "  ('и', 0.973446249961853),\n",
       "  ('е', 0.1842372864484787)],\n",
       " [('р', 0.05038711801171303),\n",
       "  ('а', 0.5836698412895203),\n",
       "  ('б', 0.02177642658352852),\n",
       "  ('о', 0.5979583859443665),\n",
       "  ('ч', 0.49686962366104126),\n",
       "  ('е', 0.1253604143857956),\n",
       "  ('-', 0.5702911019325256),\n",
       "  ('к', 0.36954158544540405),\n",
       "  ('р', 0.8884578943252563),\n",
       "  ('е', 0.8405767679214478),\n",
       "  ('с', 0.5542217493057251),\n",
       "  ('т', 0.8811849355697632),\n",
       "  ('ь', 0.25448310375213623),\n",
       "  ('я', 0.6528612375259399),\n",
       "  ('н', 0.9295352101325989),\n",
       "  ('с', 0.9906483888626099),\n",
       "  ('к', 0.9916011691093445),\n",
       "  ('о', 0.26581570506095886),\n",
       "  ('й', 0.12557333707809448)],\n",
       " [('и', 0.02709394134581089),\n",
       "  ('с', 0.17483292520046234),\n",
       "  ('к', 0.1919209063053131),\n",
       "  ('л', 0.24808311462402344),\n",
       "  ('ю', 0.3476358652114868),\n",
       "  ('ч', 0.995606541633606),\n",
       "  ('у', 1.463343323848676e-06),\n",
       "  ('с', 0.10963569581508636),\n",
       "  ('ь', 0.8332967758178711)],\n",
       " [('б', 0.04795188829302788),\n",
       "  ('р', 0.09336303919553757),\n",
       "  ('ю', 0.12757068872451782),\n",
       "  ('с', 0.004807189106941223),\n",
       "  ('с', 2.0235769625287503e-05),\n",
       "  ('е', 0.01045782957226038),\n",
       "  ('л', 0.00027214043075218797),\n",
       "  ('ь', 0.05120314285159111),\n",
       "  ('с', 0.2380303293466568),\n",
       "  ('к', 0.9803842902183533),\n",
       "  ('и', 0.7605502605438232),\n",
       "  ('м', 0.055724505335092545)],\n",
       " [('в', 0.0674465149641037),\n",
       "  ('и', 0.04803679510951042),\n",
       "  ('н', 0.1732969731092453),\n",
       "  ('н', 0.03568138927221298),\n",
       "  ('ы', 0.4344203770160675),\n",
       "  ('й', 0.6172065138816833)],\n",
       " [('р', 0.05038711801171303),\n",
       "  ('а', 0.5836698412895203),\n",
       "  ('з', 0.47909078001976013),\n",
       "  ('д', 0.41175490617752075),\n",
       "  ('у', 0.023266088217496872),\n",
       "  ('в', 0.0014171008951961994),\n",
       "  ('а', 0.958983302116394),\n",
       "  ('т', 0.48520204424858093),\n",
       "  ('ь', 0.9990048408508301)],\n",
       " [('к', 0.06296190619468689),\n",
       "  ('о', 0.44756099581718445),\n",
       "  ('н', 0.28224942088127136),\n",
       "  ('ч', 0.02164383791387081),\n",
       "  ('и', 0.8928978443145752),\n",
       "  ('т', 0.5193827748298645),\n",
       "  ('ь', 0.6239869594573975),\n",
       "  ('с', 0.49340111017227173),\n",
       "  ('я', 0.9999961256980896)]]"
      ]
     },
     "execution_count": 383,
     "metadata": {},
     "output_type": "execute_result"
    }
   ],
   "source": [
    "test_letter_probs[:20]"
   ]
  },
  {
   "cell_type": "markdown",
   "metadata": {},
   "source": [
    "**2.8 (5 points)** Write a function that generates a single word (sequence of indexes) given the model. Do not forget about the hidden state! Be careful about start and end symbol indexes. Use ``torch.multinomial`` for sampling."
   ]
  },
  {
   "cell_type": "code",
   "execution_count": 384,
   "metadata": {},
   "outputs": [],
   "source": [
    "def generate(model, max_length=20):\n",
    "    \"\"\"\n",
    "    == YOUR CODE HERE ==\n",
    "    \"\"\"\n",
    "    model = model.eval()\n",
    "    chars = [char2ind['BOUND']]\n",
    "    hidden = model.init_hidden(1)\n",
    "    with torch.no_grad():\n",
    "        for i in range(max_length):\n",
    "            y, h, hidden = model.forward(torch.tensor([[chars[-1]]], device=device), [1], hidden)\n",
    "            probs = torch.exp(y[0])\n",
    "            char = torch.multinomial(probs, 1).item()\n",
    "            if char == char2ind['BOUND']:\n",
    "                return chars[1:]\n",
    "            else:\n",
    "                chars.append(char)\n",
    "        return chars[1:]"
   ]
  },
  {
   "cell_type": "code",
   "execution_count": 385,
   "metadata": {},
   "outputs": [
    {
     "data": {
      "text/plain": [
       "[16, 12, 18, 16, 3, 10, 26, 30]"
      ]
     },
     "execution_count": 385,
     "metadata": {},
     "output_type": "execute_result"
    }
   ],
   "source": [
    "generate(model, max_length=20)"
   ]
  },
  {
   "cell_type": "markdown",
   "metadata": {},
   "source": [
    "**2.9 (1 points)** Use ``generate`` to sample 20 pseudowords. Do not forget to transform indexes to letters."
   ]
  },
  {
   "cell_type": "code",
   "execution_count": 386,
   "metadata": {},
   "outputs": [
    {
     "name": "stdout",
     "output_type": "stream",
     "text": [
      "тяг\n",
      "антисемизм\n",
      "травушка\n",
      "муэтанныем\n",
      "ночкретных\n",
      "монотариям\n",
      "процешь\n",
      "серьёзным\n",
      "уделяла\n",
      "губнутого\n",
      "кофического\n",
      "страчами\n",
      "фотократический\n",
      "уричевший\n",
      "близостер\n",
      "всхище\n",
      "опап\n",
      "атеизнатого\n",
      "обегора\n",
      "наплывляемоми\n"
     ]
    }
   ],
   "source": [
    "for i in range(20):\n",
    "    \"\"\"\n",
    "    == YOUR CODE HERE ==\n",
    "    \"\"\"\n",
    "    print(''.join([ind2char[char_ind] for char_ind in generate(model, max_length=20)]))"
   ]
  },
  {
   "cell_type": "code",
   "execution_count": 387,
   "metadata": {},
   "outputs": [
    {
     "name": "stdout",
     "output_type": "stream",
     "text": [
      "преддавило\n",
      "щаль\n",
      "вздевало\n",
      "рекайской\n",
      "акционизациям\n",
      "стрясовые\n",
      "конзистых\n",
      "бладовать\n",
      "засмочом\n",
      "шкаталя\n",
      "стостовкой\n",
      "звеменче\n",
      "хоругвям\n",
      "акрыхи\n",
      "микрое\n",
      "нехитречни\n",
      "тюменской\n",
      "калиловка\n",
      "придвижеть\n",
      "конъюнктурным\n"
     ]
    }
   ],
   "source": [
    "for i in range(20):\n",
    "    \"\"\"\n",
    "    == YOUR CODE HERE ==\n",
    "    \"\"\"\n",
    "    print(''.join([ind2char[char_ind] for char_ind in generate(model, max_length=20)]))"
   ]
  },
  {
   "cell_type": "markdown",
   "metadata": {},
   "source": [
    "**(2.10) 5 points** Write a batched version of the generation function. You should sample the following symbol only for the words that are not finished yet, so apply a boolean mask to trace active words."
   ]
  },
  {
   "cell_type": "code",
   "execution_count": 388,
   "metadata": {},
   "outputs": [],
   "source": [
    "def generate_batch(model, batch_size, max_length = 20):\n",
    "    \"\"\"\n",
    "    == YOUR CODE HERE ==\n",
    "    \"\"\"\n",
    "    model = model.eval()\n",
    "    chars = np.repeat(char2ind['BOUND'], batch_size).reshape(batch_size, 1)\n",
    "    hidden = model.init_hidden(batch_size)\n",
    "    with torch.no_grad():\n",
    "        for i in range(max_length):\n",
    "            y, h, hidden = model.forward(torch.from_numpy(chars[:,-1:]).cuda().long(), [1]*batch_size, hidden)\n",
    "            probs = torch.exp(y)\n",
    "            char = torch.multinomial(probs, 1).cpu().detach().numpy()\n",
    "            chars = np.concatenate((chars, char), axis=1)\n",
    "        mask = np.argmax(chars[:, 1:] == char2ind['BOUND'], axis=1) + 1\n",
    "        return chars, mask"
   ]
  },
  {
   "cell_type": "code",
   "execution_count": 389,
   "metadata": {},
   "outputs": [],
   "source": [
    "batch_size = 10"
   ]
  },
  {
   "cell_type": "code",
   "execution_count": 390,
   "metadata": {},
   "outputs": [],
   "source": [
    "chars, mask = generate_batch(model, batch_size, max_length = 20)"
   ]
  },
  {
   "cell_type": "code",
   "execution_count": 391,
   "metadata": {},
   "outputs": [
    {
     "data": {
      "text/plain": [
       "array([[35, 18,  1,  9,  5, 18, 16,  2, 13, 32, 35, 35,  1, 32, 12,  1,\n",
       "        11, 20,  6, 35, 19],\n",
       "       [35, 16, 12, 18, 21,  4, 13, 29, 14, 35, 10, 19, 20, 10, 25,  6,\n",
       "        19, 12, 10, 11, 35],\n",
       "       [35, 18,  1,  9,  2,  6,  9,  8,  3, 21, 25,  1, 20, 30, 19, 33,\n",
       "        35, 19, 12, 16, 15],\n",
       "       [35, 17, 18, 16, 18, 20, 15, 29, 11, 35, 12, 18,  1, 13, 30, 12,\n",
       "        35,  1, 20, 10, 16],\n",
       "       [35, 17, 16,  5, 19, 13,  6,  5, 19, 20,  3,  6, 15, 15, 29, 11,\n",
       "        35, 10, 14, 14, 35],\n",
       "       [35,  2,  6, 19, 19, 20,  1,  3, 15, 16, 11, 35, 21, 15, 33, 20,\n",
       "        16, 12, 35, 35,  6],\n",
       "       [35, 17, 18, 16,  4, 15,  6, 20, 35, 30, 12, 16,  4, 16, 35, 21,\n",
       "        13, 29, 23,  1, 15],\n",
       "       [35, 16, 17, 21, 23, 15, 29, 11, 35,  6, 35,  1, 18, 16, 14, 12,\n",
       "        10, 35, 21, 31, 18],\n",
       "       [35, 14,  1,  9, 33, 20, 30, 35,  1, 18, 10, 33, 35, 27,  1, 23,\n",
       "        35, 16,  3,  1, 20],\n",
       "       [35, 16, 18, 10,  6, 15, 20, 10, 18, 16,  3,  1, 20, 30, 19, 33,\n",
       "        35, 14, 27, 10, 14]], dtype=int64)"
      ]
     },
     "execution_count": 391,
     "metadata": {},
     "output_type": "execute_result"
    }
   ],
   "source": [
    "chars"
   ]
  },
  {
   "cell_type": "code",
   "execution_count": 392,
   "metadata": {},
   "outputs": [
    {
     "data": {
      "text/plain": [
       "array([10,  9, 16,  9, 16, 11,  8,  8,  7, 16], dtype=int64)"
      ]
     },
     "execution_count": 392,
     "metadata": {},
     "output_type": "execute_result"
    }
   ],
   "source": [
    "mask"
   ]
  },
  {
   "cell_type": "code",
   "execution_count": 393,
   "metadata": {},
   "outputs": [],
   "source": [
    "# generated = []\n",
    "# for _ in range(2):\n",
    "#     generated += generate_batch(model, batch_size=10)\n",
    "    "
   ]
  },
  {
   "cell_type": "code",
   "execution_count": 394,
   "metadata": {},
   "outputs": [
    {
     "name": "stdout",
     "output_type": "stream",
     "text": [
      "самодъят\n",
      "загребм\n",
      "орального\n",
      "заянический\n",
      "переджурка\n",
      "полнестовать\n",
      "вограх\n",
      "мномялок\n",
      "примечатает\n",
      "белоурный\n"
     ]
    }
   ],
   "source": [
    "\"\"\"\n",
    "== YOUR CODE HERE ==\n",
    "\"\"\"\n",
    "chars, masks = generate_batch(model, batch_size, max_length = 20)\n",
    "for word, mask in zip(chars, masks):\n",
    "    print(\"\".join([ind2char[char] for char in word[1: mask]]))"
   ]
  },
  {
   "cell_type": "markdown",
   "metadata": {},
   "source": [
    "**(2.11) 5 points** Experiment with the type of RNN, number of layers, units and/or dropout to improve the perplexity of the model."
   ]
  },
  {
   "cell_type": "code",
   "execution_count": 496,
   "metadata": {},
   "outputs": [],
   "source": [
    "class RNNLM_LSTM(nn.Module):\n",
    "\n",
    "    def __init__(self, vocab_size, hidden_size, embed_dim, batch_size, num_layers=1):\n",
    "        super(RNNLM_LSTM, self).__init__()\n",
    "        \"\"\"\n",
    "        == YOUR CODE HERE ==\n",
    "        \"\"\"\n",
    "        self.num_layers = num_layers\n",
    "        self.char_embeds = nn.Embedding(vocab_size, embed_dim, padding_idx=0)\n",
    "        self.lstm = nn.LSTM(embed_dim, hidden_size, batch_first=True)\n",
    "        self.fc_1 = nn.Linear(hidden_size, hidden_size)\n",
    "        self.fc_2 = nn.Linear(hidden_size, vocab_size)\n",
    "        \n",
    "        \n",
    "    def forward(self, inputs, lens, hc_n=None):\n",
    "        \"\"\"\n",
    "        == YOUR CODE HERE ==\n",
    "        \"\"\"   \n",
    "        # inputs : batch_size x seq_len\n",
    "        batch_size, seq_len = inputs.size()\n",
    "        embeds = self.char_embeds(inputs) #  batch_size x seq_len x vocab_size\n",
    "        embeds = torch.nn.utils.rnn.pack_padded_sequence(embeds, lens, batch_first=True, enforce_sorted=False)\n",
    "        if hc_n is None:\n",
    "            hc_n = self.init_hc(batch_size) # (1 x batch_size x hidden_size, 1 x batch_size x hidden_size)\n",
    "        h_t, hc_n = self.lstm(embeds, hc_n)\n",
    "        h_t, _ = pad_packed_sequence(h_t, batch_first=True)\n",
    "        h_t = h_t.contiguous() # batch_size x seq_len x hidden_size\n",
    "        x = F.relu(self.fc_1(h_t.view(-1, hidden_size))) # batch_size*seq_len x hidden_size\n",
    "        y_scores = self.fc_2(x) # batch_size*seq_len x vocab_size\n",
    "        y_prob = F.log_softmax(y_scores, dim=1) # batch_size*seq_len x vocab_size\n",
    "        \n",
    "        return y_prob, h_t, hc_n\n",
    "    \n",
    "    def init_hc(self, batch_size):\n",
    "        h_n = torch.zeros(self.num_layers, batch_size, hidden_size, device=device)\n",
    "        c_n = torch.zeros(self.num_layers, batch_size, hidden_size, device=device)\n",
    "        return (h_n, c_n)"
   ]
  },
  {
   "cell_type": "code",
   "execution_count": 506,
   "metadata": {},
   "outputs": [],
   "source": [
    "epochs = 20\n",
    "lr = 2e-3\n",
    "hidden_size = 150\n",
    "embed_dim = 100\n",
    "vocab_size = len(char2ind)\n",
    "model_lstm = RNNLM_LSTM(vocab_size, hidden_size, embed_dim, batch_size)\n",
    "model_lstm = model_lstm.to(device=device)\n",
    "optimizer = optim.Adam(model_lstm.parameters(), lr)"
   ]
  },
  {
   "cell_type": "code",
   "execution_count": 507,
   "metadata": {},
   "outputs": [],
   "source": [
    "batch_size = 20\n",
    "train_generator = DataLoader(train_dataset, collate_fn=Padder(), batch_size=batch_size, shuffle=True)\n",
    "dev_generator = DataLoader(dev_dataset, collate_fn=Padder(), batch_size=batch_size, shuffle=True)\n",
    "test_generator = DataLoader(test_dataset, collate_fn=Padder(), batch_size=batch_size, shuffle=True)"
   ]
  },
  {
   "cell_type": "code",
   "execution_count": 508,
   "metadata": {
    "collapsed": true,
    "jupyter": {
     "outputs_hidden": true
    }
   },
   "outputs": [
    {
     "name": "stdout",
     "output_type": "stream",
     "text": [
      "('epoch: 1, iteration: 0,', 'time: 0:00:00.064862, train_loss: 3.5817320346832275,', 'val_loss: 3.567594528198242')\n",
      "('epoch: 1, iteration: 100,', 'time: 0:00:03.040118, train_loss: 2.315737009048462,', 'val_loss: 2.3161416053771973')\n",
      "('epoch: 1, iteration: 200,', 'time: 0:00:06.000879, train_loss: 2.083756923675537,', 'val_loss: 2.1821084022521973')\n",
      "('epoch: 1, iteration: 300,', 'time: 0:00:08.991446, train_loss: 2.062284231185913,', 'val_loss: 2.137530565261841')\n",
      "('epoch: 1, iteration: 400,', 'time: 0:00:11.951087, train_loss: 2.214289665222168,', 'val_loss: 2.212406873703003')\n",
      "('epoch: 1, iteration: 500,', 'time: 0:00:14.882386, train_loss: 2.0394480228424072,', 'val_loss: 2.175424814224243')\n",
      "('epoch: 1, iteration: 600,', 'time: 0:00:17.833491, train_loss: 2.0049242973327637,', 'val_loss: 2.173738718032837')\n",
      "('epoch: 1, iteration: 700,', 'time: 0:00:20.791396, train_loss: 2.114419937133789,', 'val_loss: 2.2799527645111084')\n",
      "('epoch: 2, iteration: 0,', 'time: 0:00:23.640889, train_loss: 2.0292906761169434,', 'val_loss: 2.2769458293914795')\n",
      "('epoch: 2, iteration: 100,', 'time: 0:00:26.583199, train_loss: 2.0752549171447754,', 'val_loss: 1.8705850839614868')\n",
      "('epoch: 2, iteration: 200,', 'time: 0:00:29.552256, train_loss: 1.9902124404907227,', 'val_loss: 2.0561153888702393')\n",
      "('epoch: 2, iteration: 300,', 'time: 0:00:32.533789, train_loss: 2.016138792037964,', 'val_loss: 1.9550600051879883')\n",
      "('epoch: 2, iteration: 400,', 'time: 0:00:35.465217, train_loss: 2.0935921669006348,', 'val_loss: 1.8996868133544922')\n",
      "('epoch: 2, iteration: 500,', 'time: 0:00:38.414622, train_loss: 2.254030704498291,', 'val_loss: 1.9487230777740479')\n",
      "('epoch: 2, iteration: 600,', 'time: 0:00:41.329970, train_loss: 2.0222573280334473,', 'val_loss: 2.164371967315674')\n",
      "('epoch: 2, iteration: 700,', 'time: 0:00:44.267263, train_loss: 1.8612140417099,', 'val_loss: 2.1582388877868652')\n",
      "('epoch: 3, iteration: 0,', 'time: 0:00:47.152686, train_loss: 1.9017066955566406,', 'val_loss: 1.9010088443756104')\n",
      "('epoch: 3, iteration: 100,', 'time: 0:00:50.143654, train_loss: 1.7849781513214111,', 'val_loss: 2.0560319423675537')\n",
      "('epoch: 3, iteration: 200,', 'time: 0:00:53.043021, train_loss: 1.8071703910827637,', 'val_loss: 1.947501301765442')\n",
      "('epoch: 3, iteration: 300,', 'time: 0:00:55.591460, train_loss: 1.7348333597183228,', 'val_loss: 1.8478769063949585')\n",
      "('epoch: 3, iteration: 400,', 'time: 0:00:58.559637, train_loss: 2.0392465591430664,', 'val_loss: 1.7899729013442993')\n",
      "('epoch: 3, iteration: 500,', 'time: 0:01:01.543218, train_loss: 1.9774078130722046,', 'val_loss: 1.9300013780593872')\n",
      "('epoch: 3, iteration: 600,', 'time: 0:01:04.547314, train_loss: 1.8943747282028198,', 'val_loss: 1.8756437301635742')\n",
      "('epoch: 3, iteration: 700,', 'time: 0:01:07.469039, train_loss: 1.9725559949874878,', 'val_loss: 1.7785725593566895')\n",
      "('epoch: 4, iteration: 0,', 'time: 0:01:10.375973, train_loss: 1.9734926223754883,', 'val_loss: 1.9068950414657593')\n",
      "('epoch: 4, iteration: 100,', 'time: 0:01:13.384503, train_loss: 1.81482994556427,', 'val_loss: 1.9896113872528076')\n",
      "('epoch: 4, iteration: 200,', 'time: 0:01:16.303226, train_loss: 1.7385625839233398,', 'val_loss: 2.143332004547119')\n",
      "('epoch: 4, iteration: 300,', 'time: 0:01:19.265467, train_loss: 1.6599431037902832,', 'val_loss: 1.9862149953842163')\n",
      "('epoch: 4, iteration: 400,', 'time: 0:01:22.259446, train_loss: 1.6520310640335083,', 'val_loss: 1.9565538167953491')\n",
      "('epoch: 4, iteration: 500,', 'time: 0:01:25.177345, train_loss: 1.6685304641723633,', 'val_loss: 1.9191359281539917')\n",
      "('epoch: 4, iteration: 600,', 'time: 0:01:28.147490, train_loss: 1.574363350868225,', 'val_loss: 1.8663238286972046')\n",
      "('epoch: 4, iteration: 700,', 'time: 0:01:31.060425, train_loss: 1.7428443431854248,', 'val_loss: 1.8098640441894531')\n",
      "('epoch: 5, iteration: 0,', 'time: 0:01:33.954824, train_loss: 1.8239102363586426,', 'val_loss: 1.8826097249984741')\n",
      "('epoch: 5, iteration: 100,', 'time: 0:01:36.950368, train_loss: 1.7523916959762573,', 'val_loss: 2.0161750316619873')\n",
      "('epoch: 5, iteration: 200,', 'time: 0:01:39.919720, train_loss: 1.6205049753189087,', 'val_loss: 2.319800853729248')\n",
      "('epoch: 5, iteration: 300,', 'time: 0:01:42.918270, train_loss: 1.8229020833969116,', 'val_loss: 2.1199092864990234')\n",
      "('epoch: 5, iteration: 400,', 'time: 0:01:45.892453, train_loss: 1.7866624593734741,', 'val_loss: 1.8086323738098145')\n",
      "('epoch: 5, iteration: 500,', 'time: 0:01:48.849809, train_loss: 1.5887293815612793,', 'val_loss: 1.7548614740371704')\n",
      "('epoch: 5, iteration: 600,', 'time: 0:01:51.821563, train_loss: 1.7394613027572632,', 'val_loss: 1.991738200187683')\n",
      "('epoch: 5, iteration: 700,', 'time: 0:01:54.757383, train_loss: 1.5762805938720703,', 'val_loss: 2.092193603515625')\n",
      "('epoch: 6, iteration: 0,', 'time: 0:01:57.627863, train_loss: 1.5259345769882202,', 'val_loss: 2.178351879119873')\n",
      "('epoch: 6, iteration: 100,', 'time: 0:02:00.619552, train_loss: 1.5360292196273804,', 'val_loss: 2.0396039485931396')\n",
      "('epoch: 6, iteration: 200,', 'time: 0:02:03.597713, train_loss: 1.5578281879425049,', 'val_loss: 1.9299170970916748')\n",
      "('epoch: 6, iteration: 300,', 'time: 0:02:06.583300, train_loss: 1.618335485458374,', 'val_loss: 1.927471399307251')\n",
      "('epoch: 6, iteration: 400,', 'time: 0:02:09.504043, train_loss: 1.6917495727539062,', 'val_loss: 2.107999563217163')\n",
      "('epoch: 6, iteration: 500,', 'time: 0:02:12.442466, train_loss: 1.8434771299362183,', 'val_loss: 1.8730567693710327')\n",
      "('epoch: 6, iteration: 600,', 'time: 0:02:15.382172, train_loss: 1.5078266859054565,', 'val_loss: 2.0072343349456787')\n",
      "('epoch: 6, iteration: 700,', 'time: 0:02:18.319882, train_loss: 1.731314778327942,', 'val_loss: 1.872043251991272')\n",
      "('epoch: 7, iteration: 0,', 'time: 0:02:21.220551, train_loss: 1.633389949798584,', 'val_loss: 1.917595624923706')\n",
      "('epoch: 7, iteration: 100,', 'time: 0:02:24.147511, train_loss: 1.6002053022384644,', 'val_loss: 2.0167689323425293')\n",
      "('epoch: 7, iteration: 200,', 'time: 0:02:27.112992, train_loss: 1.363430380821228,', 'val_loss: 1.8773808479309082')\n",
      "('epoch: 7, iteration: 300,', 'time: 0:02:30.116658, train_loss: 1.3708436489105225,', 'val_loss: 2.1346259117126465')\n",
      "('epoch: 7, iteration: 400,', 'time: 0:02:33.106808, train_loss: 1.575373649597168,', 'val_loss: 1.7424646615982056')\n",
      "('epoch: 7, iteration: 500,', 'time: 0:02:36.019704, train_loss: 1.5683778524398804,', 'val_loss: 1.9234601259231567')\n",
      "('epoch: 7, iteration: 600,', 'time: 0:02:38.975933, train_loss: 1.367427945137024,', 'val_loss: 1.8197059631347656')\n",
      "('epoch: 7, iteration: 700,', 'time: 0:02:41.973865, train_loss: 1.5584583282470703,', 'val_loss: 1.9920308589935303')\n",
      "('epoch: 8, iteration: 0,', 'time: 0:02:44.865266, train_loss: 1.5967931747436523,', 'val_loss: 1.9876635074615479')\n",
      "('epoch: 8, iteration: 100,', 'time: 0:02:47.825494, train_loss: 1.6018474102020264,', 'val_loss: 1.8554631471633911')\n",
      "('epoch: 8, iteration: 200,', 'time: 0:02:50.792691, train_loss: 1.5680407285690308,', 'val_loss: 1.834967017173767')\n",
      "('epoch: 8, iteration: 300,', 'time: 0:02:53.783828, train_loss: 1.3928124904632568,', 'val_loss: 1.6197696924209595')\n",
      "('epoch: 8, iteration: 400,', 'time: 0:02:56.798450, train_loss: 1.444146752357483,', 'val_loss: 2.0911872386932373')\n",
      "('epoch: 8, iteration: 500,', 'time: 0:02:59.768210, train_loss: 1.7528444528579712,', 'val_loss: 1.9096546173095703')\n",
      "('epoch: 8, iteration: 600,', 'time: 0:03:02.716976, train_loss: 1.4418236017227173,', 'val_loss: 2.1555871963500977')\n",
      "('epoch: 8, iteration: 700,', 'time: 0:03:05.725064, train_loss: 1.4893497228622437,', 'val_loss: 1.8490262031555176')\n",
      "('epoch: 9, iteration: 0,', 'time: 0:03:08.615354, train_loss: 1.5585079193115234,', 'val_loss: 2.1669163703918457')\n",
      "('epoch: 9, iteration: 100,', 'time: 0:03:11.564181, train_loss: 1.5202244520187378,', 'val_loss: 1.8905318975448608')\n",
      "('epoch: 9, iteration: 200,', 'time: 0:03:14.517428, train_loss: 1.5019100904464722,', 'val_loss: 1.9679559469223022')\n",
      "('epoch: 9, iteration: 300,', 'time: 0:03:17.491747, train_loss: 1.4982889890670776,', 'val_loss: 1.974952220916748')\n",
      "('epoch: 9, iteration: 400,', 'time: 0:03:20.417170, train_loss: 1.4954625368118286,', 'val_loss: 1.9731712341308594')\n",
      "('epoch: 9, iteration: 500,', 'time: 0:03:23.410307, train_loss: 1.365478277206421,', 'val_loss: 1.8425806760787964')\n",
      "('epoch: 9, iteration: 600,', 'time: 0:03:26.360559, train_loss: 1.4511971473693848,', 'val_loss: 2.0088865756988525')\n",
      "('epoch: 9, iteration: 700,', 'time: 0:03:29.365094, train_loss: 1.4703973531723022,', 'val_loss: 1.984605073928833')\n",
      "('epoch: 10, iteration: 0,', 'time: 0:03:32.234566, train_loss: 1.284895896911621,', 'val_loss: 2.055169105529785')\n",
      "('epoch: 10, iteration: 100,', 'time: 0:03:35.181553, train_loss: 1.5414929389953613,', 'val_loss: 1.8578135967254639')\n",
      "('epoch: 10, iteration: 200,', 'time: 0:03:38.164144, train_loss: 1.3819010257720947,', 'val_loss: 2.0437092781066895')\n",
      "('epoch: 10, iteration: 300,', 'time: 0:03:41.142558, train_loss: 1.3876123428344727,', 'val_loss: 1.7920353412628174')\n",
      "('epoch: 10, iteration: 400,', 'time: 0:03:44.094635, train_loss: 1.2683453559875488,', 'val_loss: 2.1810050010681152')\n",
      "('epoch: 10, iteration: 500,', 'time: 0:03:47.099869, train_loss: 1.3827794790267944,', 'val_loss: 2.272526979446411')\n",
      "('epoch: 10, iteration: 600,', 'time: 0:03:50.070491, train_loss: 1.5217527151107788,', 'val_loss: 2.1193580627441406')\n",
      "('epoch: 10, iteration: 700,', 'time: 0:03:53.049663, train_loss: 1.4099386930465698,', 'val_loss: 1.7650493383407593')\n",
      "('epoch: 11, iteration: 0,', 'time: 0:03:55.901189, train_loss: 1.4447094202041626,', 'val_loss: 2.11072039604187')\n",
      "('epoch: 11, iteration: 100,', 'time: 0:03:58.890732, train_loss: 1.377113699913025,', 'val_loss: 1.980973720550537')\n",
      "('epoch: 11, iteration: 200,', 'time: 0:04:01.759786, train_loss: 1.4955641031265259,', 'val_loss: 2.095935583114624')\n",
      "('epoch: 11, iteration: 300,', 'time: 0:04:04.629377, train_loss: 1.3619728088378906,', 'val_loss: 1.941063642501831')\n",
      "('epoch: 11, iteration: 400,', 'time: 0:04:07.643835, train_loss: 1.4896897077560425,', 'val_loss: 1.6666988134384155')\n",
      "('epoch: 11, iteration: 500,', 'time: 0:04:10.619263, train_loss: 1.5002100467681885,', 'val_loss: 2.17187762260437')\n",
      "('epoch: 11, iteration: 600,', 'time: 0:04:13.606422, train_loss: 1.4310365915298462,', 'val_loss: 2.2194159030914307')\n",
      "('epoch: 11, iteration: 700,', 'time: 0:04:16.609268, train_loss: 1.4003031253814697,', 'val_loss: 1.9975591897964478')\n",
      "('epoch: 12, iteration: 0,', 'time: 0:04:19.530022, train_loss: 1.2622230052947998,', 'val_loss: 1.9854074716567993')\n",
      "('epoch: 12, iteration: 100,', 'time: 0:04:22.541228, train_loss: 1.3230226039886475,', 'val_loss: 1.904534935951233')\n",
      "('epoch: 12, iteration: 200,', 'time: 0:04:25.575107, train_loss: 1.364357352256775,', 'val_loss: 2.320517063140869')\n",
      "('epoch: 12, iteration: 300,', 'time: 0:04:28.597443, train_loss: 1.4631818532943726,', 'val_loss: 2.562326192855835')\n",
      "('epoch: 12, iteration: 400,', 'time: 0:04:31.583321, train_loss: 1.3439732789993286,', 'val_loss: 2.406327486038208')\n",
      "('epoch: 12, iteration: 500,', 'time: 0:04:34.597104, train_loss: 1.344739556312561,', 'val_loss: 2.102583885192871')\n",
      "('epoch: 12, iteration: 600,', 'time: 0:04:37.579402, train_loss: 1.2785909175872803,', 'val_loss: 1.7573165893554688')\n",
      "('epoch: 12, iteration: 700,', 'time: 0:04:40.601033, train_loss: 1.2722009420394897,', 'val_loss: 2.1209769248962402')\n",
      "('epoch: 13, iteration: 0,', 'time: 0:04:43.499856, train_loss: 1.3441684246063232,', 'val_loss: 2.1819419860839844')\n",
      "('epoch: 13, iteration: 100,', 'time: 0:04:46.455663, train_loss: 1.2560480833053589,', 'val_loss: 2.7992188930511475')\n",
      "('epoch: 13, iteration: 200,', 'time: 0:04:49.426468, train_loss: 1.266405463218689,', 'val_loss: 2.042766571044922')\n",
      "('epoch: 13, iteration: 300,', 'time: 0:04:52.398089, train_loss: 1.3676108121871948,', 'val_loss: 2.115302562713623')\n",
      "('epoch: 13, iteration: 400,', 'time: 0:04:55.412873, train_loss: 1.4191087484359741,', 'val_loss: 1.8186789751052856')\n",
      "('epoch: 13, iteration: 500,', 'time: 0:04:58.306825, train_loss: 1.473442792892456,', 'val_loss: 1.9582682847976685')\n",
      "('epoch: 13, iteration: 600,', 'time: 0:05:01.297644, train_loss: 1.4153538942337036,', 'val_loss: 2.0352697372436523')\n",
      "('epoch: 13, iteration: 700,', 'time: 0:05:04.149973, train_loss: 1.510104775428772,', 'val_loss: 2.14213228225708')\n",
      "('epoch: 14, iteration: 0,', 'time: 0:05:06.547104, train_loss: 1.3117631673812866,', 'val_loss: 2.0447604656219482')\n",
      "('epoch: 14, iteration: 100,', 'time: 0:05:09.230926, train_loss: 1.3990039825439453,', 'val_loss: 2.0873873233795166')\n",
      "('epoch: 14, iteration: 200,', 'time: 0:05:11.839948, train_loss: 1.275787353515625,', 'val_loss: 1.9288134574890137')\n",
      "('epoch: 14, iteration: 300,', 'time: 0:05:14.587599, train_loss: 1.4645576477050781,', 'val_loss: 1.8466219902038574')\n",
      "('epoch: 14, iteration: 400,', 'time: 0:05:17.197618, train_loss: 1.2315101623535156,', 'val_loss: 2.1955153942108154')\n",
      "('epoch: 14, iteration: 500,', 'time: 0:05:19.909365, train_loss: 1.3335254192352295,', 'val_loss: 1.9135409593582153')\n",
      "('epoch: 14, iteration: 600,', 'time: 0:05:22.576737, train_loss: 1.3506816625595093,', 'val_loss: 1.7101165056228638')\n",
      "('epoch: 14, iteration: 700,', 'time: 0:05:25.232633, train_loss: 1.2435476779937744,', 'val_loss: 1.8444091081619263')\n",
      "('epoch: 15, iteration: 0,', 'time: 0:05:27.896508, train_loss: 1.1747454404830933,', 'val_loss: 2.3201537132263184')\n",
      "('epoch: 15, iteration: 100,', 'time: 0:05:30.569360, train_loss: 1.3491239547729492,', 'val_loss: 1.8129955530166626')\n",
      "('epoch: 15, iteration: 200,', 'time: 0:05:33.285098, train_loss: 1.2355964183807373,', 'val_loss: 2.9353275299072266')\n",
      "('epoch: 15, iteration: 300,', 'time: 0:05:35.945979, train_loss: 1.2583595514297485,', 'val_loss: 2.4990599155426025')\n",
      "('epoch: 15, iteration: 400,', 'time: 0:05:38.670694, train_loss: 1.445759654045105,', 'val_loss: 2.1358482837677')\n",
      "('epoch: 15, iteration: 500,', 'time: 0:05:41.337559, train_loss: 1.3488026857376099,', 'val_loss: 2.2544212341308594')\n",
      "('epoch: 15, iteration: 600,', 'time: 0:05:44.027365, train_loss: 1.3865500688552856,', 'val_loss: 2.165720224380493')\n",
      "('epoch: 15, iteration: 700,', 'time: 0:05:46.603476, train_loss: 1.2673733234405518,', 'val_loss: 2.187199354171753')\n",
      "('epoch: 16, iteration: 0,', 'time: 0:05:49.165622, train_loss: 1.3370898962020874,', 'val_loss: 2.164417266845703')\n",
      "('epoch: 16, iteration: 100,', 'time: 0:05:51.826505, train_loss: 1.1519038677215576,', 'val_loss: 2.3079757690429688')\n",
      "('epoch: 16, iteration: 200,', 'time: 0:05:54.541244, train_loss: 1.334911584854126,', 'val_loss: 2.2205002307891846')\n",
      "('epoch: 16, iteration: 300,', 'time: 0:05:57.237035, train_loss: 1.3712515830993652,', 'val_loss: 1.9467202425003052')\n",
      "('epoch: 16, iteration: 400,', 'time: 0:05:59.887945, train_loss: 1.2493315935134888,', 'val_loss: 1.8961867094039917')\n",
      "('epoch: 16, iteration: 500,', 'time: 0:06:02.578748, train_loss: 1.1605780124664307,', 'val_loss: 2.1985766887664795')\n",
      "('epoch: 16, iteration: 600,', 'time: 0:06:05.246612, train_loss: 1.2301477193832397,', 'val_loss: 1.9250941276550293')\n",
      "('epoch: 16, iteration: 700,', 'time: 0:06:07.932429, train_loss: 1.2053427696228027,', 'val_loss: 2.75459623336792')\n",
      "('epoch: 17, iteration: 0,', 'time: 0:06:10.478619, train_loss: 1.170275092124939,', 'val_loss: 2.0147347450256348')\n",
      "('epoch: 17, iteration: 100,', 'time: 0:06:13.246216, train_loss: 1.1455304622650146,', 'val_loss: 1.9543211460113525')\n",
      "('epoch: 17, iteration: 200,', 'time: 0:06:15.928045, train_loss: 1.1972404718399048,', 'val_loss: 1.9005794525146484')\n",
      "('epoch: 17, iteration: 300,', 'time: 0:06:18.664725, train_loss: 1.2769397497177124,', 'val_loss: 2.1081738471984863')\n",
      "('epoch: 17, iteration: 400,', 'time: 0:06:21.329597, train_loss: 1.3776741027832031,', 'val_loss: 1.905295491218567')\n",
      "('epoch: 17, iteration: 500,', 'time: 0:06:24.141077, train_loss: 1.2555243968963623,', 'val_loss: 2.762134075164795')\n",
      "('epoch: 17, iteration: 600,', 'time: 0:06:26.698238, train_loss: 1.4320749044418335,', 'val_loss: 2.1997475624084473')\n",
      "('epoch: 17, iteration: 700,', 'time: 0:06:29.334187, train_loss: 1.2704745531082153,', 'val_loss: 2.206399440765381')\n",
      "('epoch: 18, iteration: 0,', 'time: 0:06:31.859433, train_loss: 1.139830231666565,', 'val_loss: 2.221194267272949')\n",
      "('epoch: 18, iteration: 100,', 'time: 0:06:34.511846, train_loss: 1.217671275138855,', 'val_loss: 2.047229290008545')\n",
      "('epoch: 18, iteration: 200,', 'time: 0:06:37.326318, train_loss: 1.2045981884002686,', 'val_loss: 2.2966017723083496')\n",
      "('epoch: 18, iteration: 300,', 'time: 0:06:40.102892, train_loss: 1.1885597705841064,', 'val_loss: 1.9218401908874512')\n",
      "('epoch: 18, iteration: 400,', 'time: 0:06:42.734852, train_loss: 1.2940680980682373,', 'val_loss: 2.5036373138427734')\n",
      "('epoch: 18, iteration: 500,', 'time: 0:06:45.436626, train_loss: 1.2567919492721558,', 'val_loss: 2.418090343475342')\n",
      "('epoch: 18, iteration: 600,', 'time: 0:06:48.231152, train_loss: 1.3595001697540283,', 'val_loss: 1.9772073030471802')\n",
      "('epoch: 18, iteration: 700,', 'time: 0:06:51.224182, train_loss: 1.4011973142623901,', 'val_loss: 2.0291588306427')\n",
      "('epoch: 19, iteration: 0,', 'time: 0:06:54.053579, train_loss: 1.179518461227417,', 'val_loss: 2.116367816925049')\n",
      "('epoch: 19, iteration: 100,', 'time: 0:06:57.017683, train_loss: 1.143613338470459,', 'val_loss: 1.9598954916000366')\n",
      "('epoch: 19, iteration: 200,', 'time: 0:06:59.901938, train_loss: 1.3783575296401978,', 'val_loss: 2.2627322673797607')\n",
      "('epoch: 19, iteration: 300,', 'time: 0:07:02.889979, train_loss: 1.3062739372253418,', 'val_loss: 1.7538214921951294')\n",
      "('epoch: 19, iteration: 400,', 'time: 0:07:05.852055, train_loss: 1.2553255558013916,', 'val_loss: 2.1262338161468506')\n",
      "('epoch: 19, iteration: 500,', 'time: 0:07:08.835045, train_loss: 1.2380955219268799,', 'val_loss: 2.389087677001953')\n",
      "('epoch: 19, iteration: 600,', 'time: 0:07:11.773219, train_loss: 1.1813161373138428,', 'val_loss: 2.1113638877868652')\n",
      "('epoch: 19, iteration: 700,', 'time: 0:07:14.706386, train_loss: 1.2646254301071167,', 'val_loss: 2.566931962966919')\n",
      "('epoch: 20, iteration: 0,', 'time: 0:07:17.552741, train_loss: 1.2524796724319458,', 'val_loss: 2.2241876125335693')\n",
      "('epoch: 20, iteration: 100,', 'time: 0:07:20.505877, train_loss: 1.1013190746307373,', 'val_loss: 1.7764204740524292')\n",
      "('epoch: 20, iteration: 200,', 'time: 0:07:23.545737, train_loss: 1.1687785387039185,', 'val_loss: 2.309614896774292')\n",
      "('epoch: 20, iteration: 300,', 'time: 0:07:26.269460, train_loss: 1.3853083848953247,', 'val_loss: 1.6185182332992554')\n",
      "('epoch: 20, iteration: 400,', 'time: 0:07:29.121832, train_loss: 1.3013805150985718,', 'val_loss: 2.3080739974975586')\n",
      "('epoch: 20, iteration: 500,', 'time: 0:07:32.094846, train_loss: 1.3792475461959839,', 'val_loss: 1.7350432872772217')\n",
      "('epoch: 20, iteration: 600,', 'time: 0:07:35.122780, train_loss: 1.2804611921310425,', 'val_loss: 2.357124090194702')\n",
      "('epoch: 20, iteration: 700,', 'time: 0:07:38.028975, train_loss: 1.3132092952728271,', 'val_loss: 2.1966300010681152')\n"
     ]
    }
   ],
   "source": [
    "\"\"\"\n",
    "== YOUR CODE HERE ==\n",
    "\"\"\"\n",
    "t0 = datetime.now()\n",
    "losses = []\n",
    "train_losses = []\n",
    "val_losses = []\n",
    "for epoch in range(1, epochs+1):  # again, normally you would NOT do 300 epochs, it is toy data\n",
    "    for i, (x, y, lens) in enumerate(train_generator):\n",
    "        model_lstm.train()\n",
    "        loss, val_loss = train_on_batch(model_lstm, criterion, x, y, lens, optimizer, i, epoch, t0)\n",
    "        losses.append(loss)\n",
    "        if val_loss:\n",
    "            train_losses.append(loss)\n",
    "            val_losses.append(val_loss)"
   ]
  },
  {
   "cell_type": "code",
   "execution_count": 509,
   "metadata": {},
   "outputs": [
    {
     "data": {
      "text/plain": [
       "[<matplotlib.lines.Line2D at 0x281ff18ae48>]"
      ]
     },
     "execution_count": 509,
     "metadata": {},
     "output_type": "execute_result"
    },
    {
     "data": {
      "image/png": "[encoded data removed]",
      "text/plain": [
       "<Figure size 864x432 with 1 Axes>"
      ]
     },
     "metadata": {
      "needs_background": "light"
     },
     "output_type": "display_data"
    }
   ],
   "source": [
    "plt.figure(figsize=(12,6))\n",
    "plt.plot(losses[::10])"
   ]
  },
  {
   "cell_type": "code",
   "execution_count": 510,
   "metadata": {},
   "outputs": [
    {
     "data": {
      "text/plain": [
       "[<matplotlib.lines.Line2D at 0x2822887da88>]"
      ]
     },
     "execution_count": 510,
     "metadata": {},
     "output_type": "execute_result"
    },
    {
     "data": {
      "image/png": "[encoded data removed]",
      "text/plain": [
       "<Figure size 864x432 with 1 Axes>"
      ]
     },
     "metadata": {
      "needs_background": "light"
     },
     "output_type": "display_data"
    }
   ],
   "source": [
    "plt.figure(figsize=(12,6))\n",
    "plt.plot(train_losses)\n",
    "plt.plot(val_losses)"
   ]
  },
  {
   "cell_type": "code",
   "execution_count": 512,
   "metadata": {},
   "outputs": [],
   "source": [
    "def generate_lstm(model, max_length=20):\n",
    "    \"\"\"\n",
    "    == YOUR CODE HERE ==\n",
    "    \"\"\"\n",
    "    model = model.eval()\n",
    "    chars = [char2ind['BOUND']]\n",
    "    hc_n = model.init_hc(1)\n",
    "    with torch.no_grad():\n",
    "        for i in range(max_length):\n",
    "            y, h_t, hc_n = model.forward(torch.tensor([[chars[-1]]], device=device), [1], hc_n)\n",
    "            probs = torch.exp(y[0])\n",
    "            char = torch.multinomial(probs, 1).item()\n",
    "            if char == char2ind['BOUND']:\n",
    "                return chars[1:]\n",
    "            else:\n",
    "                chars.append(char)\n",
    "        return chars[1:]"
   ]
  },
  {
   "cell_type": "code",
   "execution_count": 513,
   "metadata": {},
   "outputs": [
    {
     "name": "stdout",
     "output_type": "stream",
     "text": [
      "классного\n",
      "видное\n",
      "командирских\n",
      "известитель\n",
      "спитани\n",
      "упрягало\n",
      "увлечённой\n",
      "перещаться\n",
      "колодчика\n",
      "раскусывают\n",
      "съединуть\n",
      "сготанный\n",
      "отскоречество\n",
      "трисашеская\n",
      "наполнение\n",
      "сколоть\n",
      "корыстного\n",
      "неснашить\n",
      "гавайцев\n",
      "равновестной\n"
     ]
    }
   ],
   "source": [
    "for i in range(20):\n",
    "    \"\"\"\n",
    "    == YOUR CODE HERE ==\n",
    "    \"\"\"\n",
    "    print(''.join([ind2char[char_ind] for char_ind in generate_lstm(model_lstm, max_length=20)]))"
   ]
  },
  {
   "cell_type": "code",
   "execution_count": 517,
   "metadata": {},
   "outputs": [],
   "source": [
    "class RNNLM_LSTM_2(nn.Module):\n",
    "\n",
    "    def __init__(self, vocab_size, hidden_size, embed_dim, batch_size, num_layers=1):\n",
    "        super(RNNLM_LSTM_2, self).__init__()\n",
    "        \"\"\"\n",
    "        == YOUR CODE HERE ==\n",
    "        \"\"\"\n",
    "        self.num_layers = num_layers\n",
    "        self.char_embeds = nn.Embedding(vocab_size, embed_dim, padding_idx=0)\n",
    "        self.lstm = nn.LSTM(embed_dim, hidden_size, batch_first=True, num_layers=num_layers, dropout=0.7)\n",
    "        self.dropout = nn.Dropout(0.7)\n",
    "        self.fc_1 = nn.Linear(hidden_size, hidden_size)\n",
    "        self.fc_2 = nn.Linear(hidden_size, vocab_size)\n",
    "        \n",
    "        \n",
    "    def forward(self, inputs, lens, hc_n=None):\n",
    "        \"\"\"\n",
    "        == YOUR CODE HERE ==\n",
    "        \"\"\"   \n",
    "        # inputs : batch_size x seq_len\n",
    "        batch_size, seq_len = inputs.size()\n",
    "        embeds = self.char_embeds(inputs) #  batch_size x seq_len x vocab_size\n",
    "        embeds = torch.nn.utils.rnn.pack_padded_sequence(embeds, lens, batch_first=True, enforce_sorted=False)\n",
    "        if hc_n is None:\n",
    "            hc_n = self.init_hc(batch_size) # (1 x batch_size x hidden_size, 1 x batch_size x hidden_size)\n",
    "        h_t, hc_n = self.lstm(embeds, hc_n)\n",
    "        h_t, _ = pad_packed_sequence(h_t, batch_first=True)\n",
    "        h_t = h_t.contiguous() # batch_size x seq_len x hidden_size\n",
    "        x = self.dropout(F.relu(self.fc_1(h_t.view(-1, hidden_size)))) # batch_size*seq_len x hidden_size\n",
    "        y_scores = self.fc_2(x) # batch_size*seq_len x vocab_size\n",
    "        y_prob = F.log_softmax(y_scores, dim=1) # batch_size*seq_len x vocab_size\n",
    "        \n",
    "        return y_prob, h_t, hc_n\n",
    "    \n",
    "    def init_hc(self, batch_size):\n",
    "        h_n = torch.zeros(self.num_layers, batch_size, hidden_size, device=device)\n",
    "        c_n = torch.zeros(self.num_layers, batch_size, hidden_size, device=device)\n",
    "        return (h_n, c_n)"
   ]
  },
  {
   "cell_type": "code",
   "execution_count": 519,
   "metadata": {},
   "outputs": [],
   "source": [
    "epochs = 20\n",
    "lr = 2e-3\n",
    "hidden_size = 150\n",
    "embed_dim = 100\n",
    "vocab_size = len(char2ind)\n",
    "model_lstm_2 = RNNLM_LSTM_2(vocab_size, hidden_size, embed_dim, batch_size, num_layers=2)\n",
    "model_lstm_2 = model_lstm_2.to(device=device)\n",
    "optimizer = optim.Adam(model_lstm_2.parameters(), lr)"
   ]
  },
  {
   "cell_type": "code",
   "execution_count": 520,
   "metadata": {},
   "outputs": [],
   "source": [
    "batch_size = 20\n",
    "train_generator = DataLoader(train_dataset, collate_fn=Padder(), batch_size=batch_size, shuffle=True)\n",
    "dev_generator = DataLoader(dev_dataset, collate_fn=Padder(), batch_size=batch_size, shuffle=True)\n",
    "test_generator = DataLoader(test_dataset, collate_fn=Padder(), batch_size=batch_size, shuffle=True)"
   ]
  },
  {
   "cell_type": "code",
   "execution_count": 521,
   "metadata": {
    "collapsed": true,
    "jupyter": {
     "outputs_hidden": true
    }
   },
   "outputs": [
    {
     "name": "stdout",
     "output_type": "stream",
     "text": [
      "('epoch: 1, iteration: 0,', 'time: 0:00:00.092783, train_loss: 3.597417116165161,', 'val_loss: 3.577927827835083')\n",
      "('epoch: 1, iteration: 100,', 'time: 0:00:03.491944, train_loss: 2.895578145980835,', 'val_loss: 2.660926580429077')\n",
      "('epoch: 1, iteration: 200,', 'time: 0:00:06.918899, train_loss: 2.755758047103882,', 'val_loss: 2.4992616176605225')\n",
      "('epoch: 1, iteration: 300,', 'time: 0:00:10.281304, train_loss: 2.587045431137085,', 'val_loss: 2.4960083961486816')\n",
      "('epoch: 1, iteration: 400,', 'time: 0:00:13.622681, train_loss: 2.4764559268951416,', 'val_loss: 2.4536008834838867')\n",
      "('epoch: 1, iteration: 500,', 'time: 0:00:16.992921, train_loss: 2.30674147605896,', 'val_loss: 2.362563133239746')\n",
      "('epoch: 1, iteration: 600,', 'time: 0:00:20.317351, train_loss: 2.428471088409424,', 'val_loss: 2.319718599319458')\n",
      "('epoch: 1, iteration: 700,', 'time: 0:00:23.617563, train_loss: 2.227627992630005,', 'val_loss: 2.2748022079467773')\n",
      "('epoch: 2, iteration: 0,', 'time: 0:00:26.949247, train_loss: 2.3400468826293945,', 'val_loss: 2.1796040534973145')\n",
      "('epoch: 2, iteration: 100,', 'time: 0:00:30.336103, train_loss: 2.3274641036987305,', 'val_loss: 2.116257905960083')\n",
      "('epoch: 2, iteration: 200,', 'time: 0:00:33.745957, train_loss: 2.3833062648773193,', 'val_loss: 2.0680198669433594')\n",
      "('epoch: 2, iteration: 300,', 'time: 0:00:36.901934, train_loss: 2.2073593139648438,', 'val_loss: 2.1724624633789062')\n",
      "('epoch: 2, iteration: 400,', 'time: 0:00:40.242323, train_loss: 2.4298717975616455,', 'val_loss: 2.357905626296997')\n",
      "('epoch: 2, iteration: 500,', 'time: 0:00:43.525543, train_loss: 2.515133857727051,', 'val_loss: 2.2540478706359863')\n",
      "('epoch: 2, iteration: 600,', 'time: 0:00:46.754061, train_loss: 2.322479724884033,', 'val_loss: 2.153008460998535')\n",
      "('epoch: 2, iteration: 700,', 'time: 0:00:50.079166, train_loss: 2.4054737091064453,', 'val_loss: 2.2223353385925293')\n",
      "('epoch: 3, iteration: 0,', 'time: 0:00:53.354068, train_loss: 2.275090217590332,', 'val_loss: 1.9989413022994995')\n",
      "('epoch: 3, iteration: 100,', 'time: 0:00:56.704823, train_loss: 2.288607358932495,', 'val_loss: 1.9676297903060913')\n",
      "('epoch: 3, iteration: 200,', 'time: 0:01:00.111949, train_loss: 2.1335270404815674,', 'val_loss: 1.9616138935089111')\n",
      "('epoch: 3, iteration: 300,', 'time: 0:01:03.487217, train_loss: 2.208735227584839,', 'val_loss: 2.0998244285583496')\n",
      "('epoch: 3, iteration: 400,', 'time: 0:01:06.881368, train_loss: 2.1377480030059814,', 'val_loss: 2.1399614810943604')\n",
      "('epoch: 3, iteration: 500,', 'time: 0:01:10.300239, train_loss: 2.2095229625701904,', 'val_loss: 2.0085391998291016')\n",
      "('epoch: 3, iteration: 600,', 'time: 0:01:13.548161, train_loss: 2.337686538696289,', 'val_loss: 2.0779497623443604')\n",
      "('epoch: 3, iteration: 700,', 'time: 0:01:16.738583, train_loss: 2.188669443130493,', 'val_loss: 1.9869413375854492')\n",
      "('epoch: 4, iteration: 0,', 'time: 0:01:19.895674, train_loss: 2.4165701866149902,', 'val_loss: 2.077500581741333')\n",
      "('epoch: 4, iteration: 100,', 'time: 0:01:23.310975, train_loss: 2.2155027389526367,', 'val_loss: 2.094351291656494')\n",
      "('epoch: 4, iteration: 200,', 'time: 0:01:26.719142, train_loss: 2.2592005729675293,', 'val_loss: 2.1856987476348877')\n",
      "('epoch: 4, iteration: 300,', 'time: 0:01:30.043532, train_loss: 2.2317919731140137,', 'val_loss: 2.163154363632202')\n",
      "('epoch: 4, iteration: 400,', 'time: 0:01:33.342618, train_loss: 2.2896101474761963,', 'val_loss: 2.0238513946533203')\n",
      "('epoch: 4, iteration: 500,', 'time: 0:01:36.641864, train_loss: 2.3254573345184326,', 'val_loss: 1.9830182790756226')\n",
      "('epoch: 4, iteration: 600,', 'time: 0:01:39.901053, train_loss: 2.2257978916168213,', 'val_loss: 1.9217145442962646')\n",
      "('epoch: 4, iteration: 700,', 'time: 0:01:43.235829, train_loss: 2.077695846557617,', 'val_loss: 2.1445000171661377')\n",
      "('epoch: 5, iteration: 0,', 'time: 0:01:46.549260, train_loss: 2.1300487518310547,', 'val_loss: 2.1678035259246826')\n",
      "('epoch: 5, iteration: 100,', 'time: 0:01:49.917543, train_loss: 2.190209150314331,', 'val_loss: 2.2152230739593506')\n",
      "('epoch: 5, iteration: 200,', 'time: 0:01:53.311293, train_loss: 2.2336316108703613,', 'val_loss: 2.036987066268921')\n",
      "('epoch: 5, iteration: 300,', 'time: 0:01:56.707778, train_loss: 2.225970983505249,', 'val_loss: 1.9054535627365112')\n",
      "('epoch: 5, iteration: 400,', 'time: 0:02:00.110248, train_loss: 2.378293514251709,', 'val_loss: 1.9807335138320923')\n",
      "('epoch: 5, iteration: 500,', 'time: 0:02:03.484607, train_loss: 2.147928237915039,', 'val_loss: 2.0112807750701904')\n",
      "('epoch: 5, iteration: 600,', 'time: 0:02:06.896794, train_loss: 2.215810537338257,', 'val_loss: 1.9760857820510864')\n",
      "('epoch: 5, iteration: 700,', 'time: 0:02:10.221620, train_loss: 2.1850950717926025,', 'val_loss: 1.957293152809143')\n",
      "('epoch: 6, iteration: 0,', 'time: 0:02:13.487743, train_loss: 2.1827828884124756,', 'val_loss: 2.1775434017181396')\n",
      "('epoch: 6, iteration: 100,', 'time: 0:02:16.834496, train_loss: 2.270479440689087,', 'val_loss: 2.046523094177246')\n",
      "('epoch: 6, iteration: 200,', 'time: 0:02:20.215280, train_loss: 2.322216510772705,', 'val_loss: 2.1012048721313477')\n",
      "('epoch: 6, iteration: 300,', 'time: 0:02:23.552613, train_loss: 2.1791841983795166,', 'val_loss: 1.8483960628509521')\n",
      "('epoch: 6, iteration: 400,', 'time: 0:02:26.913339, train_loss: 2.074627637863159,', 'val_loss: 1.8345587253570557')\n",
      "('epoch: 6, iteration: 500,', 'time: 0:02:30.282202, train_loss: 2.3022050857543945,', 'val_loss: 2.070901393890381')\n",
      "('epoch: 6, iteration: 600,', 'time: 0:02:33.684902, train_loss: 2.161083221435547,', 'val_loss: 1.860574722290039')\n",
      "('epoch: 6, iteration: 700,', 'time: 0:02:37.091607, train_loss: 2.1444900035858154,', 'val_loss: 1.9062798023223877')\n",
      "('epoch: 7, iteration: 0,', 'time: 0:02:40.371819, train_loss: 2.3051180839538574,', 'val_loss: 2.151049852371216')\n",
      "('epoch: 7, iteration: 100,', 'time: 0:02:43.743942, train_loss: 2.1115381717681885,', 'val_loss: 1.873824954032898')\n",
      "('epoch: 7, iteration: 200,', 'time: 0:02:47.065488, train_loss: 2.025770902633667,', 'val_loss: 2.1266367435455322')\n",
      "('epoch: 7, iteration: 300,', 'time: 0:02:50.434631, train_loss: 2.018679141998291,', 'val_loss: 1.8602149486541748')\n",
      "('epoch: 7, iteration: 400,', 'time: 0:02:53.816883, train_loss: 2.1976377964019775,', 'val_loss: 2.189626932144165')\n",
      "('epoch: 7, iteration: 500,', 'time: 0:02:57.220990, train_loss: 2.3315906524658203,', 'val_loss: 2.038001537322998')\n",
      "('epoch: 7, iteration: 600,', 'time: 0:03:00.599093, train_loss: 2.3057477474212646,', 'val_loss: 2.0219359397888184')\n",
      "('epoch: 7, iteration: 700,', 'time: 0:03:04.261398, train_loss: 2.0795063972473145,', 'val_loss: 2.1169657707214355')\n",
      "('epoch: 8, iteration: 0,', 'time: 0:03:07.505879, train_loss: 2.0251147747039795,', 'val_loss: 1.9324787855148315')\n",
      "('epoch: 8, iteration: 100,', 'time: 0:03:10.921607, train_loss: 2.095374822616577,', 'val_loss: 2.071174383163452')\n",
      "('epoch: 8, iteration: 200,', 'time: 0:03:14.315641, train_loss: 2.037769317626953,', 'val_loss: 2.160668134689331')\n",
      "('epoch: 8, iteration: 300,', 'time: 0:03:17.709310, train_loss: 1.9444037675857544,', 'val_loss: 1.9973448514938354')\n",
      "('epoch: 8, iteration: 400,', 'time: 0:03:21.101529, train_loss: 2.1054351329803467,', 'val_loss: 1.9003759622573853')\n",
      "('epoch: 8, iteration: 500,', 'time: 0:03:24.469680, train_loss: 2.12546443939209,', 'val_loss: 2.1355273723602295')\n",
      "('epoch: 8, iteration: 600,', 'time: 0:03:27.802236, train_loss: 1.9782768487930298,', 'val_loss: 2.0251522064208984')\n",
      "('epoch: 8, iteration: 700,', 'time: 0:03:31.243920, train_loss: 2.2623467445373535,', 'val_loss: 2.0108840465545654')\n",
      "('epoch: 9, iteration: 0,', 'time: 0:03:34.555210, train_loss: 1.939913034439087,', 'val_loss: 1.947648048400879')\n",
      "('epoch: 9, iteration: 100,', 'time: 0:03:37.936306, train_loss: 2.0949103832244873,', 'val_loss: 1.8203238248825073')\n",
      "('epoch: 9, iteration: 200,', 'time: 0:03:40.982312, train_loss: 1.9717060327529907,', 'val_loss: 2.1446962356567383')\n",
      "('epoch: 9, iteration: 300,', 'time: 0:03:44.319815, train_loss: 2.122286081314087,', 'val_loss: 2.1537246704101562')\n",
      "('epoch: 9, iteration: 400,', 'time: 0:03:47.697071, train_loss: 2.400489091873169,', 'val_loss: 1.9153648614883423')\n",
      "('epoch: 9, iteration: 500,', 'time: 0:03:51.071474, train_loss: 2.268172025680542,', 'val_loss: 2.008417844772339')\n",
      "('epoch: 9, iteration: 600,', 'time: 0:03:54.418698, train_loss: 2.234847068786621,', 'val_loss: 2.067694664001465')\n",
      "('epoch: 9, iteration: 700,', 'time: 0:03:57.827575, train_loss: 2.0152454376220703,', 'val_loss: 2.100954055786133')\n",
      "('epoch: 10, iteration: 0,', 'time: 0:04:01.081812, train_loss: 2.137974977493286,', 'val_loss: 2.0435597896575928')\n",
      "('epoch: 10, iteration: 100,', 'time: 0:04:04.443532, train_loss: 2.1233701705932617,', 'val_loss: 2.0312204360961914')\n",
      "('epoch: 10, iteration: 200,', 'time: 0:04:07.851430, train_loss: 1.82022225856781,', 'val_loss: 1.9426618814468384')\n",
      "('epoch: 10, iteration: 300,', 'time: 0:04:11.274991, train_loss: 2.1255199909210205,', 'val_loss: 1.8900002241134644')\n",
      "('epoch: 10, iteration: 400,', 'time: 0:04:14.683456, train_loss: 2.080538749694824,', 'val_loss: 2.040545701980591')\n",
      "('epoch: 10, iteration: 500,', 'time: 0:04:17.993690, train_loss: 2.001199245452881,', 'val_loss: 1.9924215078353882')\n",
      "('epoch: 10, iteration: 600,', 'time: 0:04:21.399612, train_loss: 2.0219290256500244,', 'val_loss: 2.0342659950256348')\n",
      "('epoch: 10, iteration: 700,', 'time: 0:04:24.792877, train_loss: 2.172111749649048,', 'val_loss: 2.126668691635132')\n",
      "('epoch: 11, iteration: 0,', 'time: 0:04:27.866778, train_loss: 2.242449998855591,', 'val_loss: 2.0155820846557617')\n",
      "('epoch: 11, iteration: 100,', 'time: 0:04:31.181091, train_loss: 2.1594834327697754,', 'val_loss: 2.136854648590088')\n",
      "('epoch: 11, iteration: 200,', 'time: 0:04:34.614482, train_loss: 2.305177927017212,', 'val_loss: 2.061488389968872')\n",
      "('epoch: 11, iteration: 300,', 'time: 0:04:37.992769, train_loss: 2.1717047691345215,', 'val_loss: 1.8324052095413208')\n",
      "('epoch: 11, iteration: 400,', 'time: 0:04:41.362760, train_loss: 2.086489677429199,', 'val_loss: 1.7815866470336914')\n",
      "('epoch: 11, iteration: 500,', 'time: 0:04:44.760341, train_loss: 2.2248876094818115,', 'val_loss: 1.9792373180389404')\n",
      "('epoch: 11, iteration: 600,', 'time: 0:04:48.194361, train_loss: 2.042694568634033,', 'val_loss: 1.8489840030670166')\n",
      "('epoch: 11, iteration: 700,', 'time: 0:04:51.606939, train_loss: 2.0602221488952637,', 'val_loss: 1.9196499586105347')\n",
      "('epoch: 12, iteration: 0,', 'time: 0:04:54.901257, train_loss: 2.125823497772217,', 'val_loss: 2.1054699420928955')\n",
      "('epoch: 12, iteration: 100,', 'time: 0:04:58.254991, train_loss: 2.063225507736206,', 'val_loss: 2.026110887527466')\n",
      "('epoch: 12, iteration: 200,', 'time: 0:05:01.613704, train_loss: 2.142378330230713,', 'val_loss: 1.8228209018707275')\n",
      "('epoch: 12, iteration: 300,', 'time: 0:05:05.068183, train_loss: 2.134833574295044,', 'val_loss: 2.343665838241577')\n",
      "('epoch: 12, iteration: 400,', 'time: 0:05:08.335469, train_loss: 2.1473448276519775,', 'val_loss: 1.8425430059432983')\n",
      "('epoch: 12, iteration: 500,', 'time: 0:05:11.680968, train_loss: 2.2347912788391113,', 'val_loss: 1.920578956604004')\n",
      "('epoch: 12, iteration: 600,', 'time: 0:05:15.086437, train_loss: 2.186167001724243,', 'val_loss: 2.026425838470459')\n",
      "('epoch: 12, iteration: 700,', 'time: 0:05:18.415181, train_loss: 2.2278385162353516,', 'val_loss: 2.0052549839019775')\n",
      "('epoch: 13, iteration: 0,', 'time: 0:05:21.664663, train_loss: 2.0244524478912354,', 'val_loss: 2.096809148788452')\n",
      "('epoch: 13, iteration: 100,', 'time: 0:05:24.944114, train_loss: 2.0977935791015625,', 'val_loss: 1.8736807107925415')\n",
      "('epoch: 13, iteration: 200,', 'time: 0:05:28.284897, train_loss: 2.0985207557678223,', 'val_loss: 2.0649850368499756')\n",
      "('epoch: 13, iteration: 300,', 'time: 0:05:31.579890, train_loss: 2.1873574256896973,', 'val_loss: 2.0226080417633057')\n",
      "('epoch: 13, iteration: 400,', 'time: 0:05:34.876966, train_loss: 2.102611780166626,', 'val_loss: 2.1754441261291504')\n",
      "('epoch: 13, iteration: 500,', 'time: 0:05:38.041058, train_loss: 2.2684414386749268,', 'val_loss: 2.041808843612671')\n",
      "('epoch: 13, iteration: 600,', 'time: 0:05:41.264050, train_loss: 2.027904748916626,', 'val_loss: 2.3003783226013184')\n",
      "('epoch: 13, iteration: 700,', 'time: 0:05:44.603846, train_loss: 2.0143446922302246,', 'val_loss: 1.9615802764892578')\n",
      "('epoch: 14, iteration: 0,', 'time: 0:05:47.924821, train_loss: 2.0874996185302734,', 'val_loss: 1.9542604684829712')\n",
      "('epoch: 14, iteration: 100,', 'time: 0:05:51.270589, train_loss: 2.1506965160369873,', 'val_loss: 2.225583076477051')\n",
      "('epoch: 14, iteration: 200,', 'time: 0:05:54.665353, train_loss: 2.100372314453125,', 'val_loss: 2.1243491172790527')\n",
      "('epoch: 14, iteration: 300,', 'time: 0:05:58.091336, train_loss: 2.0009195804595947,', 'val_loss: 1.7870712280273438')\n",
      "('epoch: 14, iteration: 400,', 'time: 0:06:01.480558, train_loss: 1.998113989830017,', 'val_loss: 2.084547758102417')\n",
      "('epoch: 14, iteration: 500,', 'time: 0:06:04.879166, train_loss: 2.08333683013916,', 'val_loss: 2.1188127994537354')\n",
      "('epoch: 14, iteration: 600,', 'time: 0:06:08.287197, train_loss: 2.133979320526123,', 'val_loss: 1.8162117004394531')\n",
      "('epoch: 14, iteration: 700,', 'time: 0:06:11.632395, train_loss: 2.083481550216675,', 'val_loss: 1.856246829032898')\n",
      "('epoch: 15, iteration: 0,', 'time: 0:06:14.940960, train_loss: 1.9963902235031128,', 'val_loss: 1.9375269412994385')\n",
      "('epoch: 15, iteration: 100,', 'time: 0:06:18.348262, train_loss: 2.0061612129211426,', 'val_loss: 2.2779390811920166')\n",
      "('epoch: 15, iteration: 200,', 'time: 0:06:21.726097, train_loss: 2.0954580307006836,', 'val_loss: 1.9126626253128052')\n",
      "('epoch: 15, iteration: 300,', 'time: 0:06:25.169997, train_loss: 2.182124137878418,', 'val_loss: 1.7626419067382812')\n",
      "('epoch: 15, iteration: 400,', 'time: 0:06:28.507738, train_loss: 2.529259443283081,', 'val_loss: 2.1240451335906982')\n",
      "('epoch: 15, iteration: 500,', 'time: 0:06:31.856044, train_loss: 2.118406057357788,', 'val_loss: 1.9968206882476807')\n",
      "('epoch: 15, iteration: 600,', 'time: 0:06:35.268222, train_loss: 2.0647385120391846,', 'val_loss: 2.0425963401794434')\n",
      "('epoch: 15, iteration: 700,', 'time: 0:06:38.694189, train_loss: 2.121079921722412,', 'val_loss: 1.822136402130127')\n",
      "('epoch: 16, iteration: 0,', 'time: 0:06:41.913855, train_loss: 1.959912896156311,', 'val_loss: 1.8868186473846436')\n",
      "('epoch: 16, iteration: 100,', 'time: 0:06:45.275412, train_loss: 2.066209077835083,', 'val_loss: 2.12809157371521')\n",
      "('epoch: 16, iteration: 200,', 'time: 0:06:48.878213, train_loss: 1.9055211544036865,', 'val_loss: 1.8823550939559937')\n",
      "('epoch: 16, iteration: 300,', 'time: 0:06:52.218109, train_loss: 1.9094841480255127,', 'val_loss: 2.071643829345703')\n",
      "('epoch: 16, iteration: 400,', 'time: 0:06:55.619889, train_loss: 2.0051350593566895,', 'val_loss: 2.1478493213653564')\n",
      "('epoch: 16, iteration: 500,', 'time: 0:06:58.977469, train_loss: 2.159217596054077,', 'val_loss: 2.036555290222168')\n",
      "('epoch: 16, iteration: 600,', 'time: 0:07:02.343601, train_loss: 2.068959951400757,', 'val_loss: 1.9355874061584473')\n",
      "('epoch: 16, iteration: 700,', 'time: 0:07:05.741807, train_loss: 2.179640293121338,', 'val_loss: 2.0813236236572266')\n",
      "('epoch: 17, iteration: 0,', 'time: 0:07:09.034544, train_loss: 2.078465223312378,', 'val_loss: 2.0964174270629883')\n",
      "('epoch: 17, iteration: 100,', 'time: 0:07:12.412380, train_loss: 2.1732752323150635,', 'val_loss: 2.1672682762145996')\n",
      "('epoch: 17, iteration: 200,', 'time: 0:07:15.684079, train_loss: 2.1244890689849854,', 'val_loss: 2.043844223022461')\n",
      "('epoch: 17, iteration: 300,', 'time: 0:07:19.044955, train_loss: 1.9964125156402588,', 'val_loss: 1.9456312656402588')\n",
      "('epoch: 17, iteration: 400,', 'time: 0:07:22.377185, train_loss: 1.9298069477081299,', 'val_loss: 2.042231321334839')\n",
      "('epoch: 17, iteration: 500,', 'time: 0:07:25.770962, train_loss: 2.014167547225952,', 'val_loss: 2.097707986831665')\n",
      "('epoch: 17, iteration: 600,', 'time: 0:07:29.156529, train_loss: 2.0691287517547607,', 'val_loss: 1.9658344984054565')\n",
      "('epoch: 17, iteration: 700,', 'time: 0:07:32.516686, train_loss: 2.1187541484832764,', 'val_loss: 1.8195582628250122')\n",
      "('epoch: 18, iteration: 0,', 'time: 0:07:35.792339, train_loss: 2.0720784664154053,', 'val_loss: 1.9987173080444336')\n",
      "('epoch: 18, iteration: 100,', 'time: 0:07:39.203330, train_loss: 1.896257758140564,', 'val_loss: 2.0327513217926025')\n",
      "('epoch: 18, iteration: 200,', 'time: 0:07:42.571599, train_loss: 1.96780526638031,', 'val_loss: 1.9601118564605713')\n",
      "('epoch: 18, iteration: 300,', 'time: 0:07:45.976882, train_loss: 2.2801895141601562,', 'val_loss: 1.9225890636444092')\n",
      "('epoch: 18, iteration: 400,', 'time: 0:07:49.286324, train_loss: 1.9802165031433105,', 'val_loss: 1.9606313705444336')\n",
      "('epoch: 18, iteration: 500,', 'time: 0:07:52.796489, train_loss: 2.156656503677368,', 'val_loss: 1.9309890270233154')\n",
      "('epoch: 18, iteration: 600,', 'time: 0:07:56.190282, train_loss: 2.0651824474334717,', 'val_loss: 1.9946829080581665')\n",
      "('epoch: 18, iteration: 700,', 'time: 0:07:59.568784, train_loss: 1.960706114768982,', 'val_loss: 1.9769062995910645')\n",
      "('epoch: 19, iteration: 0,', 'time: 0:08:02.773374, train_loss: 1.9716997146606445,', 'val_loss: 2.022205114364624')\n",
      "('epoch: 19, iteration: 100,', 'time: 0:08:06.091506, train_loss: 1.93891441822052,', 'val_loss: 1.9674017429351807')\n",
      "('epoch: 19, iteration: 200,', 'time: 0:08:09.467008, train_loss: 2.0602400302886963,', 'val_loss: 1.6801260709762573')\n",
      "('epoch: 19, iteration: 300,', 'time: 0:08:12.785272, train_loss: 2.125648260116577,', 'val_loss: 2.0633809566497803')\n",
      "('epoch: 19, iteration: 400,', 'time: 0:08:16.087080, train_loss: 2.0551764965057373,', 'val_loss: 1.9302170276641846')\n",
      "('epoch: 19, iteration: 500,', 'time: 0:08:19.470283, train_loss: 2.057785987854004,', 'val_loss: 2.1663875579833984')\n",
      "('epoch: 19, iteration: 600,', 'time: 0:08:22.822525, train_loss: 2.059272050857544,', 'val_loss: 2.1821935176849365')\n",
      "('epoch: 19, iteration: 700,', 'time: 0:08:26.100984, train_loss: 1.9739623069763184,', 'val_loss: 1.8944867849349976')\n",
      "('epoch: 20, iteration: 0,', 'time: 0:08:29.347695, train_loss: 1.907303810119629,', 'val_loss: 1.8976712226867676')\n",
      "('epoch: 20, iteration: 100,', 'time: 0:08:32.572998, train_loss: 1.9162812232971191,', 'val_loss: 1.9367426633834839')\n",
      "('epoch: 20, iteration: 200,', 'time: 0:08:35.986327, train_loss: 2.1112704277038574,', 'val_loss: 1.8883951902389526')\n",
      "('epoch: 20, iteration: 300,', 'time: 0:08:39.303457, train_loss: 2.0847816467285156,', 'val_loss: 1.9128844738006592')\n",
      "('epoch: 20, iteration: 400,', 'time: 0:08:42.188536, train_loss: 1.996255874633789,', 'val_loss: 2.11975359916687')\n",
      "('epoch: 20, iteration: 500,', 'time: 0:08:45.537141, train_loss: 1.9978963136672974,', 'val_loss: 2.0673441886901855')\n",
      "('epoch: 20, iteration: 600,', 'time: 0:08:48.883940, train_loss: 1.8998206853866577,', 'val_loss: 1.8857457637786865')\n",
      "('epoch: 20, iteration: 700,', 'time: 0:08:52.268175, train_loss: 2.0737640857696533,', 'val_loss: 2.1741554737091064')\n"
     ]
    }
   ],
   "source": [
    "\"\"\"\n",
    "== YOUR CODE HERE ==\n",
    "\"\"\"\n",
    "t0 = datetime.now()\n",
    "losses = []\n",
    "train_losses = []\n",
    "val_losses = []\n",
    "for epoch in range(1, epochs+1):  # again, normally you would NOT do 300 epochs, it is toy data\n",
    "    for i, (x, y, lens) in enumerate(train_generator):\n",
    "        model_lstm_2.train()\n",
    "        loss, val_loss = train_on_batch(model_lstm_2, criterion, x, y, lens, optimizer, i, epoch, t0)\n",
    "        losses.append(loss)\n",
    "        if val_loss:\n",
    "            train_losses.append(loss)\n",
    "            val_losses.append(val_loss)"
   ]
  },
  {
   "cell_type": "code",
   "execution_count": 522,
   "metadata": {},
   "outputs": [
    {
     "data": {
      "text/plain": [
       "[<matplotlib.lines.Line2D at 0x2826784a908>]"
      ]
     },
     "execution_count": 522,
     "metadata": {},
     "output_type": "execute_result"
    },
    {
     "data": {
      "image/png": "[encoded data removed]",
      "text/plain": [
       "<Figure size 864x432 with 1 Axes>"
      ]
     },
     "metadata": {
      "needs_background": "light"
     },
     "output_type": "display_data"
    }
   ],
   "source": [
    "plt.figure(figsize=(12,6))\n",
    "plt.plot(losses[::10])"
   ]
  },
  {
   "cell_type": "code",
   "execution_count": 523,
   "metadata": {},
   "outputs": [
    {
     "data": {
      "text/plain": [
       "[<matplotlib.lines.Line2D at 0x281be710288>]"
      ]
     },
     "execution_count": 523,
     "metadata": {},
     "output_type": "execute_result"
    },
    {
     "data": {
      "image/png": "[encoded data removed]",
      "text/plain": [
       "<Figure size 864x432 with 1 Axes>"
      ]
     },
     "metadata": {
      "needs_background": "light"
     },
     "output_type": "display_data"
    }
   ],
   "source": [
    "plt.figure(figsize=(12,6))\n",
    "plt.plot(train_losses)\n",
    "plt.plot(val_losses)"
   ]
  },
  {
   "cell_type": "code",
   "execution_count": 524,
   "metadata": {},
   "outputs": [
    {
     "name": "stdout",
     "output_type": "stream",
     "text": [
      "предыкловичный\n",
      "узачовало\n",
      "расчистить\n",
      "реграх\n",
      "лальшенам\n",
      "дропарной\n",
      "беснаятный\n",
      "сстранув\n",
      "четни\n",
      "абентникам\n",
      "клагады\n",
      "пликаться\n",
      "абрарнями\n",
      "загорматся\n",
      "ватмивости\n",
      "паролег\n",
      "оптяти\n",
      "фраснопострокая\n",
      "хульном\n",
      "пропублывать\n"
     ]
    }
   ],
   "source": [
    "for i in range(20):\n",
    "    \"\"\"\n",
    "    == YOUR CODE HERE ==\n",
    "    \"\"\"\n",
    "    print(''.join([ind2char[char_ind] for char_ind in generate_lstm(model_lstm_2, max_length=20)]))"
   ]
  },
  {
   "cell_type": "markdown",
   "metadata": {},
   "source": [
    "Последний вариант (2 слоя LSTM + dropout) оказался наименее склонным к переобучению."
   ]
  },
  {
   "cell_type": "code",
   "execution_count": 526,
   "metadata": {},
   "outputs": [
    {
     "data": {
      "text/plain": [
       "False"
      ]
     },
     "execution_count": 526,
     "metadata": {},
     "output_type": "execute_result"
    }
   ],
   "source": [
    "'расчистить' in train_words"
   ]
  },
  {
   "cell_type": "code",
   "execution_count": null,
   "metadata": {},
   "outputs": [],
   "source": []
  },
  {
   "cell_type": "code",
   "execution_count": null,
   "metadata": {},
   "outputs": [],
   "source": []
  }
 ],
 "metadata": {
  "kernelspec": {
   "display_name": "Python 3",
   "language": "python",
   "name": "python3"
  },
  "language_info": {
   "codemirror_mode": {
    "name": "ipython",
    "version": 3
   },
   "file_extension": ".py",
   "mimetype": "text/x-python",
   "name": "python",
   "nbconvert_exporter": "python",
   "pygments_lexer": "ipython3",
   "version": "3.7.6"
  }
 },
 "nbformat": 4,
 "nbformat_minor": 4
}
