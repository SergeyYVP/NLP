{
 "cells": [
  {
   "cell_type": "code",
   "execution_count": 1,
   "metadata": {},
   "outputs": [],
   "source": [
    "import pandas as pd\n",
    "import numpy as np\n",
    "import re\n",
    "from pymorphy2 import MorphAnalyzer\n",
    "from functools import lru_cache\n",
    "from tqdm import tqdm, tqdm_notebook\n",
    "from collections import Counter\n",
    "import pickle\n",
    "from multiprocessing import Pool, cpu_count\n",
    "from functools import partial\n",
    "import utils"
   ]
  },
  {
   "cell_type": "code",
   "execution_count": 2,
   "metadata": {},
   "outputs": [
    {
     "data": {
      "text/plain": [
       "<module 'utils' from 'D:\\\\Netology\\\\Diplom\\\\utils.py'>"
      ]
     },
     "execution_count": 2,
     "metadata": {},
     "output_type": "execute_result"
    }
   ],
   "source": [
    "import importlib\n",
    "importlib.reload(utils)"
   ]
  },
  {
   "cell_type": "code",
   "execution_count": 3,
   "metadata": {},
   "outputs": [],
   "source": [
    "tqdm.pandas()"
   ]
  },
  {
   "cell_type": "code",
   "execution_count": 4,
   "metadata": {},
   "outputs": [],
   "source": [
    "df = pd.read_excel('data/test_data.xlsx', usecols=['class', 'text'])"
   ]
  },
  {
   "cell_type": "code",
   "execution_count": 5,
   "metadata": {},
   "outputs": [
    {
     "data": {
      "text/html": [
       "<div>\n",
       "<style scoped>\n",
       "    .dataframe tbody tr th:only-of-type {\n",
       "        vertical-align: middle;\n",
       "    }\n",
       "\n",
       "    .dataframe tbody tr th {\n",
       "        vertical-align: top;\n",
       "    }\n",
       "\n",
       "    .dataframe thead th {\n",
       "        text-align: right;\n",
       "    }\n",
       "</style>\n",
       "<table border=\"1\" class=\"dataframe\">\n",
       "  <thead>\n",
       "    <tr style=\"text-align: right;\">\n",
       "      <th></th>\n",
       "      <th>class</th>\n",
       "      <th>text</th>\n",
       "    </tr>\n",
       "  </thead>\n",
       "  <tbody>\n",
       "    <tr>\n",
       "      <th>0</th>\n",
       "      <td>отмена заказа</td>\n",
       "      <td>\"Добрый день!    Сообщаю, что , к сожалению, в...</td>\n",
       "    </tr>\n",
       "    <tr>\n",
       "      <th>1</th>\n",
       "      <td>отмена заказа</td>\n",
       "      <td>\"Добрый день!  Хочу отменить Заказы:#200286822...</td>\n",
       "    </tr>\n",
       "    <tr>\n",
       "      <th>2</th>\n",
       "      <td>перезвонить</td>\n",
       "      <td>наталья калинина  [email]    Westwing    перез...</td>\n",
       "    </tr>\n",
       "    <tr>\n",
       "      <th>3</th>\n",
       "      <td>отказ от рассылки</td>\n",
       "      <td>\"Людмила Цой  [email]    Westwing    Добрый де...</td>\n",
       "    </tr>\n",
       "    <tr>\n",
       "      <th>4</th>\n",
       "      <td>изменения в заказе</td>\n",
       "      <td>\"Анна добрый день! Нас не будет в городе в пер...</td>\n",
       "    </tr>\n",
       "  </tbody>\n",
       "</table>\n",
       "</div>"
      ],
      "text/plain": [
       "                class                                               text\n",
       "0       отмена заказа  \"Добрый день!    Сообщаю, что , к сожалению, в...\n",
       "1       отмена заказа  \"Добрый день!  Хочу отменить Заказы:#200286822...\n",
       "2         перезвонить  наталья калинина  [email]    Westwing    перез...\n",
       "3   отказ от рассылки  \"Людмила Цой  [email]    Westwing    Добрый де...\n",
       "4  изменения в заказе  \"Анна добрый день! Нас не будет в городе в пер..."
      ]
     },
     "execution_count": 5,
     "metadata": {},
     "output_type": "execute_result"
    }
   ],
   "source": [
    "df.head()"
   ]
  },
  {
   "cell_type": "code",
   "execution_count": 6,
   "metadata": {},
   "outputs": [
    {
     "data": {
      "text/plain": [
       "удалить                  384\n",
       "подтверждение заказа     213\n",
       "вопрос                   102\n",
       "отмена заказа             94\n",
       "жалоба                    69\n",
       "изменения в заказе        67\n",
       "отказ от рассылки         65\n",
       "проблемы                  38\n",
       "статус заказа             38\n",
       "возврат                   36\n",
       "статус заказа+            33\n",
       "удаление аккаунта         22\n",
       "подтверждение заказа+     22\n",
       "перезвонить                7\n",
       "получить часть заказа      7\n",
       "Name: class, dtype: int64"
      ]
     },
     "execution_count": 6,
     "metadata": {},
     "output_type": "execute_result"
    }
   ],
   "source": [
    "df['class'].value_counts()"
   ]
  },
  {
   "cell_type": "code",
   "execution_count": 7,
   "metadata": {},
   "outputs": [
    {
     "data": {
      "text/plain": [
       "удалить                  0.320802\n",
       "подтверждение заказа     0.177945\n",
       "вопрос                   0.085213\n",
       "отмена заказа            0.078530\n",
       "жалоба                   0.057644\n",
       "изменения в заказе       0.055973\n",
       "отказ от рассылки        0.054302\n",
       "проблемы                 0.031746\n",
       "статус заказа            0.031746\n",
       "возврат                  0.030075\n",
       "статус заказа+           0.027569\n",
       "удаление аккаунта        0.018379\n",
       "подтверждение заказа+    0.018379\n",
       "перезвонить              0.005848\n",
       "получить часть заказа    0.005848\n",
       "Name: class, dtype: float64"
      ]
     },
     "execution_count": 7,
     "metadata": {},
     "output_type": "execute_result"
    }
   ],
   "source": [
    "df['class'].value_counts(normalize=True)"
   ]
  },
  {
   "cell_type": "code",
   "execution_count": 8,
   "metadata": {},
   "outputs": [],
   "source": [
    "classes_change = {'вопрос': 'вопрос/жалоба', 'жалоба': 'вопрос/жалоба', \n",
    "                  'получить часть заказа': 'изменения в заказе', 'проблемы': 'вопрос/жалоба'}"
   ]
  },
  {
   "cell_type": "code",
   "execution_count": 9,
   "metadata": {},
   "outputs": [],
   "source": [
    "df['class'] = df['class'].map(classes_change).fillna(df['class'])"
   ]
  },
  {
   "cell_type": "code",
   "execution_count": 10,
   "metadata": {},
   "outputs": [],
   "source": [
    "df.rename_axis('Index', inplace=True)"
   ]
  },
  {
   "cell_type": "code",
   "execution_count": 11,
   "metadata": {},
   "outputs": [],
   "source": [
    "df.dropna(inplace=True)"
   ]
  },
  {
   "cell_type": "code",
   "execution_count": 12,
   "metadata": {},
   "outputs": [
    {
     "data": {
      "text/plain": [
       "'\"Я уже отказалась! А вы все продолжаете слать, может хватит уже. Спасибо!!!'"
      ]
     },
     "execution_count": 12,
     "metadata": {},
     "output_type": "execute_result"
    }
   ],
   "source": [
    "text1 = '\"Я уже отказалась! А вы все продолжаете слать, может хватит уже. Спасибо!!!    Среда, 29 мая 2013, 14:31 +02:00'\n",
    "        \n",
    "text1 = re.sub('    (Понедельник|Вторник|Среда|Четверг|Пятница|Суббота|Воскресенье), [0-9]{1,2}.{1,}', '', text1)\n",
    "text1"
   ]
  },
  {
   "cell_type": "code",
   "execution_count": 13,
   "metadata": {},
   "outputs": [
    {
     "data": {
      "text/plain": [
       "'\"Екатерина Костина  [email]    Ваш заказ    Заказ: #200086481    '"
      ]
     },
     "execution_count": 13,
     "metadata": {},
     "output_type": "execute_result"
    }
   ],
   "source": [
    "def clean_text(text):\n",
    "    text = re.sub('[А-Яа-яЁё ]{1,}\\[email\\]    [А-Яа-яЁёA-Za-z ]{1,}    ', '', text)\n",
    "    text = re.sub('Sent from my iP.{1,}', '', text)\n",
    "    text = re.sub('Sent from Mail.Ru app.{1,}', '', text)\n",
    "    text = re.sub('[Оо]{1}тправлено с iP.{1,}', '', text)\n",
    "    text = re.sub('[Оо]{1}тправлено из мобильной Яндекс.{1,}', '', text)\n",
    "    text = re.sub('[Сс]{1} уважением.{1,}', '', text)\n",
    "    text = re.sub('[Bb]{1}est regards.{1,}', '', text)\n",
    "    text = re.sub('[Сс]{1} наилучшими пожеланиями.{1,}', '', text)\n",
    "    text = re.sub('    (Понедельник|Вторник|Среда|Четверг|Пятница|Суббота|Воскресенье), [0-9]{1,2}.{1,}', '', text)\n",
    "    text = re.sub('пользователь Интернет-клуб Westwing', '', text)\n",
    "    text = re.sub('Westwing Интерьер & Дизайн', '', text)\n",
    "    text = re.sub('Интернет-клуб', '', text)\n",
    "    text = re.sub('Westwing', '', text)\n",
    "    text = re.sub('Westwi', '', text)\n",
    "    text = re.sub('[0-9]{4}//[0-9]{1,2}//[0-9]{1,2}', '', text)\n",
    "    text = re.sub('[0-9]{4}/.[0-9]{1,2}/.[0-9]{1,2}', '', text)\n",
    "    text = re.sub('[0-9]{4}-[0-9]{1,2}-[0-9]{1,2}', '', text)\n",
    "    return text\n",
    "\n",
    "\n",
    "'\"Екатерина Костина  [email]    Ваш заказ    Заказ: #200086481    '"
   ]
  },
  {
   "cell_type": "code",
   "execution_count": 14,
   "metadata": {},
   "outputs": [
    {
     "data": {
      "text/plain": [
       "'\"Заказ: #200086481    '"
      ]
     },
     "execution_count": 14,
     "metadata": {},
     "output_type": "execute_result"
    }
   ],
   "source": [
    "clean_text('\"Екатерина Костина  [email]    Ваш заказ    Заказ: #200086481    ')"
   ]
  },
  {
   "cell_type": "code",
   "execution_count": 15,
   "metadata": {},
   "outputs": [],
   "source": [
    "# df[df.duplicated('text', keep=False)].sort_values(['text', 'Index'])"
   ]
  },
  {
   "cell_type": "code",
   "execution_count": 16,
   "metadata": {},
   "outputs": [],
   "source": [
    "# df = df.drop_duplicates(keep='first')"
   ]
  },
  {
   "cell_type": "code",
   "execution_count": 17,
   "metadata": {},
   "outputs": [
    {
     "name": "stderr",
     "output_type": "stream",
     "text": [
      "100%|███████████████████████████████████████████████████████████████████████████| 1196/1196 [00:00<00:00, 16383.52it/s]\n"
     ]
    }
   ],
   "source": [
    "df['text'] = df['text'].progress_apply(clean_text)"
   ]
  },
  {
   "cell_type": "code",
   "execution_count": 18,
   "metadata": {},
   "outputs": [
    {
     "name": "stdout",
     "output_type": "stream",
     "text": [
      "<class 'pandas.core.frame.DataFrame'>\n",
      "Int64Index: 1196 entries, 0 to 2598\n",
      "Data columns (total 2 columns):\n",
      " #   Column  Non-Null Count  Dtype \n",
      "---  ------  --------------  ----- \n",
      " 0   class   1196 non-null   object\n",
      " 1   text    1196 non-null   object\n",
      "dtypes: object(2)\n",
      "memory usage: 28.0+ KB\n"
     ]
    }
   ],
   "source": [
    "df.info()"
   ]
  },
  {
   "cell_type": "code",
   "execution_count": 19,
   "metadata": {},
   "outputs": [],
   "source": [
    "# df[df['text'].str.contains('СПСР', regex=False, na=False)]"
   ]
  },
  {
   "cell_type": "code",
   "execution_count": 20,
   "metadata": {},
   "outputs": [],
   "source": [
    "df = df.drop(df[df['class']=='удалить'].index)"
   ]
  },
  {
   "cell_type": "code",
   "execution_count": 21,
   "metadata": {},
   "outputs": [],
   "source": [
    "# df[df['text'].str.len()<15]"
   ]
  },
  {
   "cell_type": "code",
   "execution_count": 22,
   "metadata": {},
   "outputs": [],
   "source": [
    "# df = df.drop(df[df['text'].str.len()<12].index, errors='ignore')"
   ]
  },
  {
   "cell_type": "code",
   "execution_count": 23,
   "metadata": {},
   "outputs": [],
   "source": [
    "# texts_len = df['text'].str.len()"
   ]
  },
  {
   "cell_type": "code",
   "execution_count": 24,
   "metadata": {},
   "outputs": [],
   "source": [
    "# texts_len.hist(bins=50)"
   ]
  },
  {
   "cell_type": "code",
   "execution_count": 25,
   "metadata": {},
   "outputs": [],
   "source": [
    "# texts_len.describe()"
   ]
  },
  {
   "cell_type": "code",
   "execution_count": 26,
   "metadata": {},
   "outputs": [],
   "source": [
    "def words_digits(row):\n",
    "    regex = re.compile('[а-яё]+|[0-9]{9,11}')\n",
    "    return re.findall(regex, str(row))\n",
    "\n",
    "def words_only(row):\n",
    "    regex = re.compile('[а-яё]+')\n",
    "    return re.findall(regex, str(row))\n",
    "\n",
    "def digits_only(row):\n",
    "    regex = re.compile('[0-9]{9,11}')\n",
    "    return re.findall(regex, str(row))"
   ]
  },
  {
   "cell_type": "code",
   "execution_count": 27,
   "metadata": {},
   "outputs": [],
   "source": [
    "df['text_tokens'] = df['text'].str.lower().apply(words_only)\n",
    "df['digits_tokens'] = df['text'].str.lower().apply(digits_only)\n",
    "# df['tokens'] = df['text'].str.lower().apply(words_digits)\n"
   ]
  },
  {
   "cell_type": "code",
   "execution_count": 28,
   "metadata": {},
   "outputs": [
    {
     "data": {
      "text/html": [
       "<div>\n",
       "<style scoped>\n",
       "    .dataframe tbody tr th:only-of-type {\n",
       "        vertical-align: middle;\n",
       "    }\n",
       "\n",
       "    .dataframe tbody tr th {\n",
       "        vertical-align: top;\n",
       "    }\n",
       "\n",
       "    .dataframe thead th {\n",
       "        text-align: right;\n",
       "    }\n",
       "</style>\n",
       "<table border=\"1\" class=\"dataframe\">\n",
       "  <thead>\n",
       "    <tr style=\"text-align: right;\">\n",
       "      <th></th>\n",
       "      <th>class</th>\n",
       "      <th>text</th>\n",
       "      <th>text_tokens</th>\n",
       "      <th>digits_tokens</th>\n",
       "    </tr>\n",
       "    <tr>\n",
       "      <th>Index</th>\n",
       "      <th></th>\n",
       "      <th></th>\n",
       "      <th></th>\n",
       "      <th></th>\n",
       "    </tr>\n",
       "  </thead>\n",
       "  <tbody>\n",
       "    <tr>\n",
       "      <th>0</th>\n",
       "      <td>отмена заказа</td>\n",
       "      <td>\"Добрый день!    Сообщаю, что , к сожалению, в...</td>\n",
       "      <td>[добрый, день, сообщаю, что, к, сожалению, вын...</td>\n",
       "      <td>[200178492]</td>\n",
       "    </tr>\n",
       "    <tr>\n",
       "      <th>1</th>\n",
       "      <td>отмена заказа</td>\n",
       "      <td>\"Добрый день!  Хочу отменить Заказы:#200286822...</td>\n",
       "      <td>[добрый, день, хочу, отменить, заказы, и]</td>\n",
       "      <td>[200286822, 200247322, 200268662]</td>\n",
       "    </tr>\n",
       "    <tr>\n",
       "      <th>2</th>\n",
       "      <td>перезвонить</td>\n",
       "      <td>перезвонить по тел.89041792048\"\"</td>\n",
       "      <td>[перезвонить, по, тел]</td>\n",
       "      <td>[89041792048]</td>\n",
       "    </tr>\n",
       "    <tr>\n",
       "      <th>3</th>\n",
       "      <td>отказ от рассылки</td>\n",
       "      <td>\"Добрый день!  Пожалуйста, исключите меня из в...</td>\n",
       "      <td>[добрый, день, пожалуйста, исключите, меня, из...</td>\n",
       "      <td>[]</td>\n",
       "    </tr>\n",
       "    <tr>\n",
       "      <th>4</th>\n",
       "      <td>изменения в заказе</td>\n",
       "      <td>\"Анна добрый день! Нас не будет в городе в пер...</td>\n",
       "      <td>[анна, добрый, день, нас, не, будет, в, городе...</td>\n",
       "      <td>[]</td>\n",
       "    </tr>\n",
       "  </tbody>\n",
       "</table>\n",
       "</div>"
      ],
      "text/plain": [
       "                    class                                               text  \\\n",
       "Index                                                                          \n",
       "0           отмена заказа  \"Добрый день!    Сообщаю, что , к сожалению, в...   \n",
       "1           отмена заказа  \"Добрый день!  Хочу отменить Заказы:#200286822...   \n",
       "2             перезвонить                   перезвонить по тел.89041792048\"\"   \n",
       "3       отказ от рассылки  \"Добрый день!  Пожалуйста, исключите меня из в...   \n",
       "4      изменения в заказе  \"Анна добрый день! Нас не будет в городе в пер...   \n",
       "\n",
       "                                             text_tokens  \\\n",
       "Index                                                      \n",
       "0      [добрый, день, сообщаю, что, к, сожалению, вын...   \n",
       "1              [добрый, день, хочу, отменить, заказы, и]   \n",
       "2                                 [перезвонить, по, тел]   \n",
       "3      [добрый, день, пожалуйста, исключите, меня, из...   \n",
       "4      [анна, добрый, день, нас, не, будет, в, городе...   \n",
       "\n",
       "                           digits_tokens  \n",
       "Index                                     \n",
       "0                            [200178492]  \n",
       "1      [200286822, 200247322, 200268662]  \n",
       "2                          [89041792048]  \n",
       "3                                     []  \n",
       "4                                     []  "
      ]
     },
     "execution_count": 28,
     "metadata": {},
     "output_type": "execute_result"
    }
   ],
   "source": [
    "df.head()"
   ]
  },
  {
   "cell_type": "code",
   "execution_count": 29,
   "metadata": {},
   "outputs": [],
   "source": [
    "# num_tokens = df['text_tokens'].apply(len)"
   ]
  },
  {
   "cell_type": "code",
   "execution_count": 30,
   "metadata": {},
   "outputs": [],
   "source": [
    "# num_tokens.hist(bins=50)"
   ]
  },
  {
   "cell_type": "code",
   "execution_count": 31,
   "metadata": {},
   "outputs": [],
   "source": [
    "# num_tokens.describe()"
   ]
  },
  {
   "cell_type": "code",
   "execution_count": 30,
   "metadata": {},
   "outputs": [],
   "source": [
    "from nltk.corpus import stopwords"
   ]
  },
  {
   "cell_type": "code",
   "execution_count": 32,
   "metadata": {},
   "outputs": [
    {
     "name": "stdout",
     "output_type": "stream",
     "text": [
      "['и', 'в', 'во', 'не', 'что', 'он', 'на', 'я', 'с', 'со', 'как', 'а', 'то', 'все', 'она', 'так', 'его', 'но', 'да', 'ты', 'к', 'у', 'же', 'вы', 'за', 'бы', 'по', 'только', 'ее', 'мне', 'было', 'вот', 'от', 'меня', 'еще', 'нет', 'о', 'из', 'ему', 'теперь', 'когда', 'даже', 'ну', 'вдруг', 'ли', 'если', 'уже', 'или', 'ни', 'быть', 'был', 'него', 'до', 'вас', 'нибудь', 'опять', 'уж', 'вам', 'ведь', 'там', 'потом', 'себя', 'ничего', 'ей', 'может', 'они', 'тут', 'где', 'есть', 'надо', 'ней', 'для', 'мы', 'тебя', 'их', 'чем', 'была', 'сам', 'чтоб', 'без', 'будто', 'чего', 'раз', 'тоже', 'себе', 'под', 'будет', 'ж', 'тогда', 'кто', 'этот', 'того', 'потому', 'этого', 'какой', 'совсем', 'ним', 'здесь', 'этом', 'один', 'почти', 'мой', 'тем', 'чтобы', 'нее', 'сейчас', 'были', 'куда', 'зачем', 'всех', 'никогда', 'можно', 'при', 'наконец', 'два', 'об', 'другой', 'хоть', 'после', 'над', 'больше', 'тот', 'через', 'эти', 'нас', 'про', 'всего', 'них', 'какая', 'много', 'разве', 'три', 'эту', 'моя', 'впрочем', 'хорошо', 'свою', 'этой', 'перед', 'иногда', 'лучше', 'чуть', 'том', 'нельзя', 'такой', 'им', 'более', 'всегда', 'конечно', 'всю', 'между']\n"
     ]
    }
   ],
   "source": [
    "print(stopwords.words('russian'))"
   ]
  },
  {
   "cell_type": "code",
   "execution_count": 33,
   "metadata": {},
   "outputs": [],
   "source": [
    "my_stopwords = set(stopwords.words('russian') + ['это', 'что', 'мне', 'меня', 'привет', 'уважением',\n",
    "                                                 'так', 'для', 'было', 'уже', 'через', 'при', 'только', 'день',\n",
    "                                                 'еще', 'наш', 'также', 'здравствуйте', 'спасибо', 'добрый', 'руб', 'как']) - \\\n",
    "                                                {'не', 'нет', 'ничего', 'один', 'хорошо', 'три', 'где', 'когда', 'зачем', \n",
    "                                                 'как', 'когда', 'куда', 'лучше', 'после', 'есть'}"
   ]
  },
  {
   "cell_type": "code",
   "execution_count": null,
   "metadata": {},
   "outputs": [],
   "source": []
  },
  {
   "cell_type": "code",
   "execution_count": 39,
   "metadata": {},
   "outputs": [],
   "source": [
    "# @lru_cache(maxsize=512)\n",
    "def lemmatizer_2(word):\n",
    "    return pm2.parse(word)[0].normal_form\n",
    "\n",
    "def lemmatize_2(text):\n",
    "    try:\n",
    "        return [word for word in text if word not in my_stopwords and len(word)>1] \n",
    "#         return [lemmatizer(word) for word in text if word not in my_stopwords] \n",
    "    except:\n",
    "        return []"
   ]
  },
  {
   "cell_type": "code",
   "execution_count": 40,
   "metadata": {},
   "outputs": [],
   "source": [
    "# %%timeit\n",
    "# df.apply(lemmatize)\n",
    "# lemms = df['text_tokens'].apply(lemmatize_2)"
   ]
  },
  {
   "cell_type": "code",
   "execution_count": 41,
   "metadata": {},
   "outputs": [],
   "source": [
    "# lemms"
   ]
  },
  {
   "cell_type": "code",
   "execution_count": null,
   "metadata": {},
   "outputs": [],
   "source": []
  },
  {
   "cell_type": "code",
   "execution_count": 43,
   "metadata": {},
   "outputs": [],
   "source": [
    "# %%timeit\n",
    "# df['text_tokens'].apply(lambda text: [pm2.parse(word)[0].normal_form for word in text])"
   ]
  },
  {
   "cell_type": "code",
   "execution_count": 56,
   "metadata": {},
   "outputs": [
    {
     "name": "stdout",
     "output_type": "stream",
     "text": [
      "2.61 s ± 53.2 ms per loop (mean ± std. dev. of 7 runs, 1 loop each)\n"
     ]
    }
   ],
   "source": [
    "# %%timeit\n",
    "# if __name__ == \"__main__\":\n",
    "#     with Pool(cpu_count()) as pool:\n",
    "#         result = pool.map(lemmatize, np.array_split(df, cpu_count()))\n",
    "#     result = pd.concat(result)"
   ]
  },
  {
   "cell_type": "markdown",
   "metadata": {},
   "source": [
    "парсер не передается как аргумент"
   ]
  },
  {
   "cell_type": "code",
   "execution_count": 50,
   "metadata": {},
   "outputs": [
    {
     "name": "stdout",
     "output_type": "stream",
     "text": [
      "2.37 s ± 30.8 ms per loop (mean ± std. dev. of 7 runs, 1 loop each)\n"
     ]
    }
   ],
   "source": [
    "# %%timeit\n",
    "# if __name__ == \"__main__\":\n",
    "#     with Pool(cpu_count()) as pool:\n",
    "#         result = pool.map(utils.lemmatize, np.array_split(df, cpu_count()))\n",
    "#     result = pd.concat(result)"
   ]
  },
  {
   "cell_type": "markdown",
   "metadata": {},
   "source": [
    "парсер - отдельной функцией"
   ]
  },
  {
   "cell_type": "code",
   "execution_count": 44,
   "metadata": {},
   "outputs": [],
   "source": [
    "# if __name__ == \"__main__\":\n",
    "#     with Pool(cpu_count()) as pool:\n",
    "#         lemms = pool.map(utils.lemmatize, [(arr,  for arr in np.array_split(df, cpu_count())])\n",
    "#     lemms = pd.concat(lemms)"
   ]
  },
  {
   "cell_type": "markdown",
   "metadata": {},
   "source": [
    "парсер определен внутри функции"
   ]
  },
  {
   "cell_type": "code",
   "execution_count": 57,
   "metadata": {},
   "outputs": [
    {
     "name": "stdout",
     "output_type": "stream",
     "text": [
      "2.37 s ± 47.4 ms per loop (mean ± std. dev. of 7 runs, 1 loop each)\n"
     ]
    }
   ],
   "source": [
    "# %%timeit\n",
    "# if __name__ == \"__main__\":\n",
    "#     with Pool(cpu_count()) as pool:\n",
    "#         result = pool.map(utils.lemmatize, np.array_split(df, cpu_count()))\n",
    "#     result = pd.concat(result)"
   ]
  },
  {
   "cell_type": "markdown",
   "metadata": {},
   "source": [
    "парсер - в основном модуле"
   ]
  },
  {
   "cell_type": "code",
   "execution_count": 42,
   "metadata": {},
   "outputs": [],
   "source": [
    "pm2 = MorphAnalyzer()"
   ]
  },
  {
   "cell_type": "code",
   "execution_count": 43,
   "metadata": {},
   "outputs": [],
   "source": [
    "lemmatizer = partial(utils.lemmatize, parser=pm2, stopwords=my_stopwords)"
   ]
  },
  {
   "cell_type": "code",
   "execution_count": 44,
   "metadata": {},
   "outputs": [],
   "source": [
    "if __name__ == \"__main__\":\n",
    "    with Pool(cpu_count()) as pool:\n",
    "        lemms = pool.map(\n",
    "            lemmatizer, \n",
    "            np.array_split(df, cpu_count())\n",
    "        )\n",
    "    lemms = pd.concat(lemms)"
   ]
  },
  {
   "cell_type": "code",
   "execution_count": null,
   "metadata": {},
   "outputs": [],
   "source": []
  },
  {
   "cell_type": "code",
   "execution_count": null,
   "metadata": {},
   "outputs": [],
   "source": []
  },
  {
   "cell_type": "code",
   "execution_count": null,
   "metadata": {},
   "outputs": [],
   "source": []
  },
  {
   "cell_type": "code",
   "execution_count": null,
   "metadata": {},
   "outputs": [],
   "source": []
  },
  {
   "cell_type": "code",
   "execution_count": 45,
   "metadata": {},
   "outputs": [],
   "source": [
    "if __name__ == \"__main__\":\n",
    "    with Pool(cpu_count()) as pool:\n",
    "        lemms = pool.map(\n",
    "            utils.lemmatize, \n",
    "            [(arr, pm2, my_stopwords)  for arr in np.array_split(df, cpu_count())]\n",
    "        )\n",
    "    lemms = pd.concat(lemms)"
   ]
  },
  {
   "cell_type": "code",
   "execution_count": 46,
   "metadata": {},
   "outputs": [
    {
     "data": {
      "text/plain": [
       "Index\n",
       "0       [сообщать, сожаление, вынудить, снять, свой, з...\n",
       "1                               [хотеть, отменить, заказ]\n",
       "2                                     [перезвонить, тело]\n",
       "3                  [пожалуйста, исключить, ваш, рассылка]\n",
       "4       [анна, не, город, период, июнь, июнь, возможно...\n",
       "                              ...                        \n",
       "2593                                [подтверждать, заказ]\n",
       "2595           [подтверждать, свой, заказ, пятница, июнь]\n",
       "2596                                [заказ, подтверждать]\n",
       "2597       [настоящий, подтверждать, заказ, сумма, рубль]\n",
       "2598                                [заказ, подтверждать]\n",
       "Name: text_tokens, Length: 813, dtype: object"
      ]
     },
     "execution_count": 46,
     "metadata": {},
     "output_type": "execute_result"
    }
   ],
   "source": [
    "lemms"
   ]
  },
  {
   "cell_type": "code",
   "execution_count": 47,
   "metadata": {},
   "outputs": [
    {
     "data": {
      "text/plain": [
       "Index\n",
       "0    [сообщать, сожаление, вынудить, снять, свой, з...\n",
       "1                            [хотеть, отменить, заказ]\n",
       "Name: text_tokens, dtype: object"
      ]
     },
     "execution_count": 47,
     "metadata": {},
     "output_type": "execute_result"
    }
   ],
   "source": [
    "lemms[:2]"
   ]
  },
  {
   "cell_type": "code",
   "execution_count": 48,
   "metadata": {},
   "outputs": [
    {
     "name": "stderr",
     "output_type": "stream",
     "text": [
      "100%|████████████████████████████████████████████████████████████████████████████| 813/813 [00:00<00:00, 139959.33it/s]\n"
     ]
    }
   ],
   "source": [
    "words_cnt = Counter()\n",
    "\n",
    "for text in tqdm(lemms):\n",
    "    words_cnt.update(text)"
   ]
  },
  {
   "cell_type": "code",
   "execution_count": 49,
   "metadata": {},
   "outputs": [
    {
     "data": {
      "text/plain": [
       "[('заказ', 766),\n",
       " ('не', 401),\n",
       " ('подтверждать', 221),\n",
       " ('доставка', 188),\n",
       " ('просить', 156),\n",
       " ('товар', 129),\n",
       " ('ваш', 113),\n",
       " ('как', 111),\n",
       " ('свой', 98),\n",
       " ('хотеть', 98),\n",
       " ('мой', 98),\n",
       " ('пожалуйста', 86),\n",
       " ('получить', 77),\n",
       " ('мочь', 74),\n",
       " ('сайт', 73),\n",
       " ('отменить', 69),\n",
       " ('номер', 66),\n",
       " ('сделать', 66),\n",
       " ('доставить', 58),\n",
       " ('рассылка', 57)]"
      ]
     },
     "execution_count": 49,
     "metadata": {},
     "output_type": "execute_result"
    }
   ],
   "source": [
    "words_cnt.most_common(20)"
   ]
  },
  {
   "cell_type": "code",
   "execution_count": 51,
   "metadata": {},
   "outputs": [],
   "source": [
    "from gensim.corpora import Dictionary\n",
    "from gensim.models import LdaModel, TfidfModel, CoherenceModel, LdaMulticore\n",
    "import matplotlib.pyplot as plt"
   ]
  },
  {
   "cell_type": "code",
   "execution_count": 52,
   "metadata": {},
   "outputs": [],
   "source": [
    "# dictionary = Dictionary(lemms)\n",
    "# corpus = [dictionary.doc2bow(text) for text in lemms]\n",
    "# tfidf = TfidfModel(corpus)\n",
    "# corpus_tfidf = tfidf[corpus]"
   ]
  },
  {
   "cell_type": "code",
   "execution_count": 53,
   "metadata": {},
   "outputs": [],
   "source": [
    "# lda = LdaMulticore(corpus=corpus, id2word=dictionary, num_topics=20,\n",
    "#                     eta='auto', iterations = 20, passes = 5)"
   ]
  },
  {
   "cell_type": "code",
   "execution_count": 54,
   "metadata": {},
   "outputs": [],
   "source": [
    "# lda.show_topics()"
   ]
  },
  {
   "cell_type": "code",
   "execution_count": 55,
   "metadata": {},
   "outputs": [
    {
     "data": {
      "text/plain": [
       "[0.5, 0.5, 0.5, 2.5, 4.5, 12.5]"
      ]
     },
     "execution_count": 55,
     "metadata": {},
     "output_type": "execute_result"
    }
   ],
   "source": [
    "\n",
    "ds = np.array([[1, 1], [0, 0], [-1, 1], [-1, -1], [2, -1], [3, 3]])\n",
    "centroids = [np.array([0.5, 0.5]), np.array([-0.5, 0.5])]\n",
    "\n",
    "[min([np.inner(c-x, c-x) for c in centroids]) for x in ds]"
   ]
  },
  {
   "cell_type": "code",
   "execution_count": null,
   "metadata": {},
   "outputs": [],
   "source": []
  },
  {
   "cell_type": "code",
   "execution_count": null,
   "metadata": {},
   "outputs": [],
   "source": []
  },
  {
   "cell_type": "code",
   "execution_count": null,
   "metadata": {},
   "outputs": [],
   "source": []
  },
  {
   "cell_type": "code",
   "execution_count": null,
   "metadata": {},
   "outputs": [],
   "source": []
  },
  {
   "cell_type": "code",
   "execution_count": null,
   "metadata": {},
   "outputs": [],
   "source": []
  },
  {
   "cell_type": "code",
   "execution_count": null,
   "metadata": {},
   "outputs": [],
   "source": []
  },
  {
   "cell_type": "code",
   "execution_count": 47,
   "metadata": {},
   "outputs": [],
   "source": [
    " def optimal_model(corpus_tfidf, dictionary, lemms):\n",
    "    \"\"\"\n",
    "    Функция подбирает оптимальное количество топиков по критерию когерентности.\n",
    "    Возвращает список моделей с различным количеством топиков и список соответствующих\n",
    "    этим моделям значений когерентности.\n",
    "    \"\"\"\n",
    "    models = []\n",
    "    coherence_vals = []\n",
    "    for n in tqdm(range(20, 50, 5)):\n",
    "        model = LdaMulticore(corpus=corpus_tfidf, id2word=dictionary, num_topics=n,\n",
    "                        eta='auto', iterations = 20, passes = 5, workers=5)\n",
    "        coherencemodel = CoherenceModel(model=model, texts=lemms, dictionary=dictionary, coherence='c_v')\n",
    "        coherence_vals.append(coherencemodel.get_coherence())\n",
    "        models.append(model)\n",
    "    return models, coherence_vals "
   ]
  },
  {
   "cell_type": "code",
   "execution_count": null,
   "metadata": {},
   "outputs": [],
   "source": []
  },
  {
   "cell_type": "code",
   "execution_count": 48,
   "metadata": {},
   "outputs": [],
   "source": [
    "# lda_model, lda_coherence_vals = optimal_model(corpus_tfidf, dictionary, lemms)"
   ]
  },
  {
   "cell_type": "code",
   "execution_count": 49,
   "metadata": {},
   "outputs": [],
   "source": [
    "def plot_coherence(lda_coherence_vals):\n",
    "    \"\"\"\n",
    "    Функция для печати графика когерентности.\n",
    "    \"\"\"\n",
    "    ax = plt.plot(lda_coherence_vals)\n",
    "    plt.xlabel('number of topics')\n",
    "    plt.ylabel('coherence')\n",
    "    x = plt.xticks(range(0, 6), range(20, 50, 5))"
   ]
  },
  {
   "cell_type": "code",
   "execution_count": 50,
   "metadata": {},
   "outputs": [],
   "source": [
    "# n_to_ind = dict(zip(range(20, 50, 5), range(0, 6)))"
   ]
  },
  {
   "cell_type": "code",
   "execution_count": 51,
   "metadata": {},
   "outputs": [],
   "source": [
    "# plot_coherence(lda_coherence_vals)"
   ]
  },
  {
   "cell_type": "code",
   "execution_count": 52,
   "metadata": {},
   "outputs": [],
   "source": [
    "# lda_model[n_to_ind[40]].show_topics()"
   ]
  },
  {
   "cell_type": "code",
   "execution_count": null,
   "metadata": {},
   "outputs": [],
   "source": []
  },
  {
   "cell_type": "code",
   "execution_count": 53,
   "metadata": {},
   "outputs": [],
   "source": [
    "from sklearn.manifold import TSNE\n",
    "from sklearn.decomposition import TruncatedSVD\n",
    "from sklearn.pipeline import Pipeline\n",
    "from sklearn.preprocessing import Normalizer\n",
    "from sklearn.feature_extraction.text import *\n",
    "import seaborn as sns"
   ]
  },
  {
   "cell_type": "code",
   "execution_count": 54,
   "metadata": {},
   "outputs": [
    {
     "data": {
      "text/html": [
       "<div>\n",
       "<style scoped>\n",
       "    .dataframe tbody tr th:only-of-type {\n",
       "        vertical-align: middle;\n",
       "    }\n",
       "\n",
       "    .dataframe tbody tr th {\n",
       "        vertical-align: top;\n",
       "    }\n",
       "\n",
       "    .dataframe thead th {\n",
       "        text-align: right;\n",
       "    }\n",
       "</style>\n",
       "<table border=\"1\" class=\"dataframe\">\n",
       "  <thead>\n",
       "    <tr style=\"text-align: right;\">\n",
       "      <th></th>\n",
       "      <th>class</th>\n",
       "      <th>text</th>\n",
       "      <th>text_tokens</th>\n",
       "      <th>digits_tokens</th>\n",
       "    </tr>\n",
       "    <tr>\n",
       "      <th>Index</th>\n",
       "      <th></th>\n",
       "      <th></th>\n",
       "      <th></th>\n",
       "      <th></th>\n",
       "    </tr>\n",
       "  </thead>\n",
       "  <tbody>\n",
       "    <tr>\n",
       "      <th>0</th>\n",
       "      <td>отмена заказа</td>\n",
       "      <td>\"Добрый день!    Сообщаю, что , к сожалению, в...</td>\n",
       "      <td>[добрый, день, сообщаю, что, к, сожалению, вын...</td>\n",
       "      <td>[200178492]</td>\n",
       "    </tr>\n",
       "  </tbody>\n",
       "</table>\n",
       "</div>"
      ],
      "text/plain": [
       "               class                                               text  \\\n",
       "Index                                                                     \n",
       "0      отмена заказа  \"Добрый день!    Сообщаю, что , к сожалению, в...   \n",
       "\n",
       "                                             text_tokens digits_tokens  \n",
       "Index                                                                   \n",
       "0      [добрый, день, сообщаю, что, к, сожалению, вын...   [200178492]  "
      ]
     },
     "execution_count": 54,
     "metadata": {},
     "output_type": "execute_result"
    }
   ],
   "source": [
    "df.head(1)"
   ]
  },
  {
   "cell_type": "code",
   "execution_count": 55,
   "metadata": {},
   "outputs": [],
   "source": [
    "df['text_tokens_str'] = df['text_tokens'].apply(lambda row: ' '.join(word for word in row))"
   ]
  },
  {
   "cell_type": "code",
   "execution_count": 56,
   "metadata": {},
   "outputs": [
    {
     "data": {
      "text/html": [
       "<div>\n",
       "<style scoped>\n",
       "    .dataframe tbody tr th:only-of-type {\n",
       "        vertical-align: middle;\n",
       "    }\n",
       "\n",
       "    .dataframe tbody tr th {\n",
       "        vertical-align: top;\n",
       "    }\n",
       "\n",
       "    .dataframe thead th {\n",
       "        text-align: right;\n",
       "    }\n",
       "</style>\n",
       "<table border=\"1\" class=\"dataframe\">\n",
       "  <thead>\n",
       "    <tr style=\"text-align: right;\">\n",
       "      <th></th>\n",
       "      <th>class</th>\n",
       "      <th>text</th>\n",
       "      <th>text_tokens</th>\n",
       "      <th>digits_tokens</th>\n",
       "      <th>text_tokens_str</th>\n",
       "    </tr>\n",
       "    <tr>\n",
       "      <th>Index</th>\n",
       "      <th></th>\n",
       "      <th></th>\n",
       "      <th></th>\n",
       "      <th></th>\n",
       "      <th></th>\n",
       "    </tr>\n",
       "  </thead>\n",
       "  <tbody>\n",
       "    <tr>\n",
       "      <th>0</th>\n",
       "      <td>отмена заказа</td>\n",
       "      <td>\"Добрый день!    Сообщаю, что , к сожалению, в...</td>\n",
       "      <td>[добрый, день, сообщаю, что, к, сожалению, вын...</td>\n",
       "      <td>[200178492]</td>\n",
       "      <td>добрый день сообщаю что к сожалению вынуждена ...</td>\n",
       "    </tr>\n",
       "  </tbody>\n",
       "</table>\n",
       "</div>"
      ],
      "text/plain": [
       "               class                                               text  \\\n",
       "Index                                                                     \n",
       "0      отмена заказа  \"Добрый день!    Сообщаю, что , к сожалению, в...   \n",
       "\n",
       "                                             text_tokens digits_tokens  \\\n",
       "Index                                                                    \n",
       "0      [добрый, день, сообщаю, что, к, сожалению, вын...   [200178492]   \n",
       "\n",
       "                                         text_tokens_str  \n",
       "Index                                                     \n",
       "0      добрый день сообщаю что к сожалению вынуждена ...  "
      ]
     },
     "execution_count": 56,
     "metadata": {},
     "output_type": "execute_result"
    }
   ],
   "source": [
    "df.head(1)"
   ]
  },
  {
   "cell_type": "code",
   "execution_count": 57,
   "metadata": {},
   "outputs": [],
   "source": [
    "vectors = TfidfVectorizer().fit_transform(df['text_tokens_str'])\n",
    "vectors = np.nan_to_num(vectors, copy=True)\n",
    "X_reduced = TruncatedSVD(n_components=100, random_state=0).fit_transform(vectors)\n",
    "X_embedded = TSNE(n_components=2, perplexity=5, verbose=0).fit_transform(X_reduced)\n",
    "# X_embedded = TSNE(n_components=2, perplexity=5, verbose=0).fit_transform(vectors)"
   ]
  },
  {
   "cell_type": "code",
   "execution_count": 58,
   "metadata": {},
   "outputs": [
    {
     "name": "stderr",
     "output_type": "stream",
     "text": [
      "C:\\Users\\psv52\\Anaconda3\\envs\\tf-gpu\\lib\\site-packages\\seaborn\\axisgrid.py:230: UserWarning: The `size` paramter has been renamed to `height`; please update your code.\n",
      "  warnings.warn(msg, UserWarning)\n"
     ]
    },
    {
     "data": {
      "text/plain": [
       "<seaborn.axisgrid.FacetGrid at 0x20e3b494cf8>"
      ]
     },
     "execution_count": 58,
     "metadata": {},
     "output_type": "execute_result"
    },
    {
     "data": {
      "image/png": "[encoded data removed]",
      "text/plain": [
       "<Figure size 906.485x720 with 1 Axes>"
      ]
     },
     "metadata": {
      "needs_background": "dark"
     },
     "output_type": "display_data"
    }
   ],
   "source": [
    "vis_df = pd.DataFrame({'X': X_embedded[:, 0], 'Y': X_embedded[:, 1], 'class': df['class']})\n",
    "sns.FacetGrid(vis_df, size=10, hue='class').map(plt.scatter, \"X\", \"Y\").add_legend()"
   ]
  },
  {
   "cell_type": "code",
   "execution_count": 59,
   "metadata": {},
   "outputs": [
    {
     "data": {
      "text/plain": [
       "813"
      ]
     },
     "execution_count": 59,
     "metadata": {},
     "output_type": "execute_result"
    }
   ],
   "source": [
    "len(df)"
   ]
  },
  {
   "cell_type": "code",
   "execution_count": 60,
   "metadata": {},
   "outputs": [
    {
     "data": {
      "text/html": [
       "<div>\n",
       "<style scoped>\n",
       "    .dataframe tbody tr th:only-of-type {\n",
       "        vertical-align: middle;\n",
       "    }\n",
       "\n",
       "    .dataframe tbody tr th {\n",
       "        vertical-align: top;\n",
       "    }\n",
       "\n",
       "    .dataframe thead th {\n",
       "        text-align: right;\n",
       "    }\n",
       "</style>\n",
       "<table border=\"1\" class=\"dataframe\">\n",
       "  <thead>\n",
       "    <tr style=\"text-align: right;\">\n",
       "      <th></th>\n",
       "      <th>class</th>\n",
       "      <th>text</th>\n",
       "      <th>text_tokens</th>\n",
       "      <th>digits_tokens</th>\n",
       "      <th>text_tokens_str</th>\n",
       "    </tr>\n",
       "    <tr>\n",
       "      <th>Index</th>\n",
       "      <th></th>\n",
       "      <th></th>\n",
       "      <th></th>\n",
       "      <th></th>\n",
       "      <th></th>\n",
       "    </tr>\n",
       "  </thead>\n",
       "  <tbody>\n",
       "    <tr>\n",
       "      <th>0</th>\n",
       "      <td>отмена заказа</td>\n",
       "      <td>\"Добрый день!    Сообщаю, что , к сожалению, в...</td>\n",
       "      <td>[добрый, день, сообщаю, что, к, сожалению, вын...</td>\n",
       "      <td>[200178492]</td>\n",
       "      <td>добрый день сообщаю что к сожалению вынуждена ...</td>\n",
       "    </tr>\n",
       "    <tr>\n",
       "      <th>1</th>\n",
       "      <td>отмена заказа</td>\n",
       "      <td>\"Добрый день!  Хочу отменить Заказы:#200286822...</td>\n",
       "      <td>[добрый, день, хочу, отменить, заказы, и]</td>\n",
       "      <td>[200286822, 200247322, 200268662]</td>\n",
       "      <td>добрый день хочу отменить заказы и</td>\n",
       "    </tr>\n",
       "    <tr>\n",
       "      <th>2</th>\n",
       "      <td>перезвонить</td>\n",
       "      <td>перезвонить по тел.89041792048\"\"</td>\n",
       "      <td>[перезвонить, по, тел]</td>\n",
       "      <td>[89041792048]</td>\n",
       "      <td>перезвонить по тел</td>\n",
       "    </tr>\n",
       "    <tr>\n",
       "      <th>3</th>\n",
       "      <td>отказ от рассылки</td>\n",
       "      <td>\"Добрый день!  Пожалуйста, исключите меня из в...</td>\n",
       "      <td>[добрый, день, пожалуйста, исключите, меня, из...</td>\n",
       "      <td>[]</td>\n",
       "      <td>добрый день пожалуйста исключите меня из вашей...</td>\n",
       "    </tr>\n",
       "    <tr>\n",
       "      <th>4</th>\n",
       "      <td>изменения в заказе</td>\n",
       "      <td>\"Анна добрый день! Нас не будет в городе в пер...</td>\n",
       "      <td>[анна, добрый, день, нас, не, будет, в, городе...</td>\n",
       "      <td>[]</td>\n",
       "      <td>анна добрый день нас не будет в городе в перио...</td>\n",
       "    </tr>\n",
       "  </tbody>\n",
       "</table>\n",
       "</div>"
      ],
      "text/plain": [
       "                    class                                               text  \\\n",
       "Index                                                                          \n",
       "0           отмена заказа  \"Добрый день!    Сообщаю, что , к сожалению, в...   \n",
       "1           отмена заказа  \"Добрый день!  Хочу отменить Заказы:#200286822...   \n",
       "2             перезвонить                   перезвонить по тел.89041792048\"\"   \n",
       "3       отказ от рассылки  \"Добрый день!  Пожалуйста, исключите меня из в...   \n",
       "4      изменения в заказе  \"Анна добрый день! Нас не будет в городе в пер...   \n",
       "\n",
       "                                             text_tokens  \\\n",
       "Index                                                      \n",
       "0      [добрый, день, сообщаю, что, к, сожалению, вын...   \n",
       "1              [добрый, день, хочу, отменить, заказы, и]   \n",
       "2                                 [перезвонить, по, тел]   \n",
       "3      [добрый, день, пожалуйста, исключите, меня, из...   \n",
       "4      [анна, добрый, день, нас, не, будет, в, городе...   \n",
       "\n",
       "                           digits_tokens  \\\n",
       "Index                                      \n",
       "0                            [200178492]   \n",
       "1      [200286822, 200247322, 200268662]   \n",
       "2                          [89041792048]   \n",
       "3                                     []   \n",
       "4                                     []   \n",
       "\n",
       "                                         text_tokens_str  \n",
       "Index                                                     \n",
       "0      добрый день сообщаю что к сожалению вынуждена ...  \n",
       "1                     добрый день хочу отменить заказы и  \n",
       "2                                     перезвонить по тел  \n",
       "3      добрый день пожалуйста исключите меня из вашей...  \n",
       "4      анна добрый день нас не будет в городе в перио...  "
      ]
     },
     "execution_count": 60,
     "metadata": {},
     "output_type": "execute_result"
    }
   ],
   "source": [
    "df.head()"
   ]
  },
  {
   "cell_type": "code",
   "execution_count": 61,
   "metadata": {},
   "outputs": [],
   "source": [
    "# df.drop(df[df['tokens'].apply(len)>80].index)"
   ]
  },
  {
   "cell_type": "code",
   "execution_count": 62,
   "metadata": {},
   "outputs": [],
   "source": [
    "# glove_dict = {}\n",
    "# with open('glove/multilingual_embeddings.txt', 'r', encoding='utf8') as f:\n",
    "#     for line in f:\n",
    "#         l = line.split()\n",
    "#         glove_dict[l[0]] = np.array(l[1:], dtype='float32')"
   ]
  },
  {
   "cell_type": "code",
   "execution_count": 63,
   "metadata": {},
   "outputs": [],
   "source": [
    "def save_obj(name, obj):\n",
    "    with open(name, 'wb') as f:\n",
    "        pickle.dump(obj, f, pickle.HIGHEST_PROTOCOL)\n",
    "\n",
    "def load_obj(name):\n",
    "    with open(name, 'rb') as f:\n",
    "        return pickle.load(f)"
   ]
  },
  {
   "cell_type": "code",
   "execution_count": 64,
   "metadata": {},
   "outputs": [],
   "source": [
    "try\n",
    "    ft_dict = load_obj('fasttext/ft_dict.pkl')\n",
    "except:    \n",
    "    ft_dict = {}\n",
    "    with open('fasttext/ft_native_300_ru_twitter_nltk_word_tokenize.vec', 'r', encoding='utf8') as f:\n",
    "        for line in tqdm(f):\n",
    "            l = line.split()\n",
    "            ft_dict[l[0]] = np.array(l[1:], dtype='float32')\n",
    "    save_obj('fasttext/ft_dict.pkl', ft_dict)\n",
    "#     json.dump(ft_dict, open(\"fasttext/ft_dict.json\", 'w'))  "
   ]
  },
  {
   "cell_type": "code",
   "execution_count": 65,
   "metadata": {},
   "outputs": [],
   "source": [
    "df['lemms'] = lemms"
   ]
  },
  {
   "cell_type": "code",
   "execution_count": 66,
   "metadata": {},
   "outputs": [],
   "source": [
    "group = df[['class', 'lemms']].groupby('class').sum()"
   ]
  },
  {
   "cell_type": "code",
   "execution_count": 67,
   "metadata": {},
   "outputs": [],
   "source": [
    "classes = dict(zip(group.index.to_list(), range(len(group.index.to_list()))))"
   ]
  },
  {
   "cell_type": "code",
   "execution_count": 68,
   "metadata": {},
   "outputs": [
    {
     "data": {
      "text/plain": [
       "{'возврат': 0,\n",
       " 'вопрос/жалоба': 1,\n",
       " 'изменения в заказе': 2,\n",
       " 'отказ от рассылки': 3,\n",
       " 'отмена заказа': 4,\n",
       " 'перезвонить': 5,\n",
       " 'подтверждение заказа': 6,\n",
       " 'подтверждение заказа+': 7,\n",
       " 'статус заказа': 8,\n",
       " 'статус заказа+': 9,\n",
       " 'удаление аккаунта': 10}"
      ]
     },
     "execution_count": 68,
     "metadata": {},
     "output_type": "execute_result"
    }
   ],
   "source": [
    "classes"
   ]
  },
  {
   "cell_type": "code",
   "execution_count": 69,
   "metadata": {},
   "outputs": [],
   "source": [
    "# grouped_lemms = group['lemms'].to_list()\n",
    "grouped_lemms = lemms.to_list()"
   ]
  },
  {
   "cell_type": "code",
   "execution_count": 70,
   "metadata": {},
   "outputs": [],
   "source": [
    "# len(grouped_lemms[3])\n"
   ]
  },
  {
   "cell_type": "code",
   "execution_count": 71,
   "metadata": {},
   "outputs": [],
   "source": [
    "dictionary = Dictionary(grouped_lemms)\n",
    "corpus = [dictionary.doc2bow(text) for text in grouped_lemms]\n",
    "tfidf = TfidfModel(corpus)\n",
    "corpus_tfidf = tfidf[corpus]"
   ]
  },
  {
   "cell_type": "code",
   "execution_count": null,
   "metadata": {},
   "outputs": [],
   "source": []
  },
  {
   "cell_type": "code",
   "execution_count": 72,
   "metadata": {},
   "outputs": [],
   "source": [
    "corpus_tfidf_dcts = [{k: v for k, v in corpus} for corpus in corpus_tfidf]"
   ]
  },
  {
   "cell_type": "code",
   "execution_count": 73,
   "metadata": {},
   "outputs": [
    {
     "data": {
      "text/html": [
       "<div>\n",
       "<style scoped>\n",
       "    .dataframe tbody tr th:only-of-type {\n",
       "        vertical-align: middle;\n",
       "    }\n",
       "\n",
       "    .dataframe tbody tr th {\n",
       "        vertical-align: top;\n",
       "    }\n",
       "\n",
       "    .dataframe thead th {\n",
       "        text-align: right;\n",
       "    }\n",
       "</style>\n",
       "<table border=\"1\" class=\"dataframe\">\n",
       "  <thead>\n",
       "    <tr style=\"text-align: right;\">\n",
       "      <th></th>\n",
       "      <th>class</th>\n",
       "      <th>text</th>\n",
       "      <th>text_tokens</th>\n",
       "      <th>digits_tokens</th>\n",
       "      <th>text_tokens_str</th>\n",
       "      <th>lemms</th>\n",
       "    </tr>\n",
       "    <tr>\n",
       "      <th>Index</th>\n",
       "      <th></th>\n",
       "      <th></th>\n",
       "      <th></th>\n",
       "      <th></th>\n",
       "      <th></th>\n",
       "      <th></th>\n",
       "    </tr>\n",
       "  </thead>\n",
       "  <tbody>\n",
       "    <tr>\n",
       "      <th>0</th>\n",
       "      <td>отмена заказа</td>\n",
       "      <td>\"Добрый день!    Сообщаю, что , к сожалению, в...</td>\n",
       "      <td>[добрый, день, сообщаю, что, к, сожалению, вын...</td>\n",
       "      <td>[200178492]</td>\n",
       "      <td>добрый день сообщаю что к сожалению вынуждена ...</td>\n",
       "      <td>[сообщаю, сожалению, вынуждена, снять, свой, з...</td>\n",
       "    </tr>\n",
       "  </tbody>\n",
       "</table>\n",
       "</div>"
      ],
      "text/plain": [
       "               class                                               text  \\\n",
       "Index                                                                     \n",
       "0      отмена заказа  \"Добрый день!    Сообщаю, что , к сожалению, в...   \n",
       "\n",
       "                                             text_tokens digits_tokens  \\\n",
       "Index                                                                    \n",
       "0      [добрый, день, сообщаю, что, к, сожалению, вын...   [200178492]   \n",
       "\n",
       "                                         text_tokens_str  \\\n",
       "Index                                                      \n",
       "0      добрый день сообщаю что к сожалению вынуждена ...   \n",
       "\n",
       "                                                   lemms  \n",
       "Index                                                     \n",
       "0      [сообщаю, сожалению, вынуждена, снять, свой, з...  "
      ]
     },
     "execution_count": 73,
     "metadata": {},
     "output_type": "execute_result"
    }
   ],
   "source": [
    "df.head(1)"
   ]
  },
  {
   "cell_type": "code",
   "execution_count": 74,
   "metadata": {},
   "outputs": [
    {
     "data": {
      "text/plain": [
       "(813, 813)"
      ]
     },
     "execution_count": 74,
     "metadata": {},
     "output_type": "execute_result"
    }
   ],
   "source": [
    "len(corpus_tfidf_dcts), len(df)"
   ]
  },
  {
   "cell_type": "code",
   "execution_count": 75,
   "metadata": {},
   "outputs": [],
   "source": [
    "df['corpus_tfidf_dcts'] = corpus_tfidf_dcts"
   ]
  },
  {
   "cell_type": "code",
   "execution_count": 76,
   "metadata": {},
   "outputs": [
    {
     "data": {
      "text/html": [
       "<div>\n",
       "<style scoped>\n",
       "    .dataframe tbody tr th:only-of-type {\n",
       "        vertical-align: middle;\n",
       "    }\n",
       "\n",
       "    .dataframe tbody tr th {\n",
       "        vertical-align: top;\n",
       "    }\n",
       "\n",
       "    .dataframe thead th {\n",
       "        text-align: right;\n",
       "    }\n",
       "</style>\n",
       "<table border=\"1\" class=\"dataframe\">\n",
       "  <thead>\n",
       "    <tr style=\"text-align: right;\">\n",
       "      <th></th>\n",
       "      <th>class</th>\n",
       "      <th>text</th>\n",
       "      <th>text_tokens</th>\n",
       "      <th>digits_tokens</th>\n",
       "      <th>text_tokens_str</th>\n",
       "      <th>lemms</th>\n",
       "      <th>corpus_tfidf_dcts</th>\n",
       "    </tr>\n",
       "    <tr>\n",
       "      <th>Index</th>\n",
       "      <th></th>\n",
       "      <th></th>\n",
       "      <th></th>\n",
       "      <th></th>\n",
       "      <th></th>\n",
       "      <th></th>\n",
       "      <th></th>\n",
       "    </tr>\n",
       "  </thead>\n",
       "  <tbody>\n",
       "    <tr>\n",
       "      <th>0</th>\n",
       "      <td>отмена заказа</td>\n",
       "      <td>\"Добрый день!    Сообщаю, что , к сожалению, в...</td>\n",
       "      <td>[добрый, день, сообщаю, что, к, сожалению, вын...</td>\n",
       "      <td>[200178492]</td>\n",
       "      <td>добрый день сообщаю что к сожалению вынуждена ...</td>\n",
       "      <td>[сообщаю, сожалению, вынуждена, снять, свой, з...</td>\n",
       "      <td>{0: 0.4755103124264967, 1: 0.06490436989234061...</td>\n",
       "    </tr>\n",
       "    <tr>\n",
       "      <th>1</th>\n",
       "      <td>отмена заказа</td>\n",
       "      <td>\"Добрый день!  Хочу отменить Заказы:#200286822...</td>\n",
       "      <td>[добрый, день, хочу, отменить, заказы, и]</td>\n",
       "      <td>[200286822, 200247322, 200268662]</td>\n",
       "      <td>добрый день хочу отменить заказы и</td>\n",
       "      <td>[хочу, отменить, заказы]</td>\n",
       "      <td>{6: 0.6442133457813933, 7: 0.5186076454562839,...</td>\n",
       "    </tr>\n",
       "    <tr>\n",
       "      <th>2</th>\n",
       "      <td>перезвонить</td>\n",
       "      <td>перезвонить по тел.89041792048\"\"</td>\n",
       "      <td>[перезвонить, по, тел]</td>\n",
       "      <td>[89041792048]</td>\n",
       "      <td>перезвонить по тел</td>\n",
       "      <td>[перезвонить, тел]</td>\n",
       "      <td>{9: 0.7521029428114379, 10: 0.6590456459262704}</td>\n",
       "    </tr>\n",
       "    <tr>\n",
       "      <th>3</th>\n",
       "      <td>отказ от рассылки</td>\n",
       "      <td>\"Добрый день!  Пожалуйста, исключите меня из в...</td>\n",
       "      <td>[добрый, день, пожалуйста, исключите, меня, из...</td>\n",
       "      <td>[]</td>\n",
       "      <td>добрый день пожалуйста исключите меня из вашей...</td>\n",
       "      <td>[пожалуйста, исключите, вашей, рассылки]</td>\n",
       "      <td>{11: 0.4788162998876139, 12: 0.723990998130736...</td>\n",
       "    </tr>\n",
       "    <tr>\n",
       "      <th>4</th>\n",
       "      <td>изменения в заказе</td>\n",
       "      <td>\"Анна добрый день! Нас не будет в городе в пер...</td>\n",
       "      <td>[анна, добрый, день, нас, не, будет, в, городе...</td>\n",
       "      <td>[]</td>\n",
       "      <td>анна добрый день нас не будет в городе в перио...</td>\n",
       "      <td>[анна, не, городе, период, июня, июня, возможн...</td>\n",
       "      <td>{15: 0.23023243118717232, 16: 0.22226623347383...</td>\n",
       "    </tr>\n",
       "    <tr>\n",
       "      <th>6</th>\n",
       "      <td>отмена заказа</td>\n",
       "      <td>\"отказываюсь от данного заказа, просьба отмени...</td>\n",
       "      <td>[отказываюсь, от, данного, заказа, просьба, от...</td>\n",
       "      <td>[200538292]</td>\n",
       "      <td>отказываюсь от данного заказа просьба отменить...</td>\n",
       "      <td>[отказываюсь, данного, заказа, просьба, отмени...</td>\n",
       "      <td>{7: 0.2869854649425044, 24: 0.4654578580264029...</td>\n",
       "    </tr>\n",
       "    <tr>\n",
       "      <th>7</th>\n",
       "      <td>подтверждение заказа</td>\n",
       "      <td>\"Здравствуйте,   заказ  Дата: 15.05.2013 11:07...</td>\n",
       "      <td>[здравствуйте, заказ, дата, номер, заказа, спо...</td>\n",
       "      <td>[200118362]</td>\n",
       "      <td>здравствуйте заказ дата номер заказа способ оп...</td>\n",
       "      <td>[заказ, дата, номер, заказа, способ, оплаты, о...</td>\n",
       "      <td>{1: 0.061459462302728585, 25: 0.30575689726446...</td>\n",
       "    </tr>\n",
       "    <tr>\n",
       "      <th>8</th>\n",
       "      <td>вопрос/жалоба</td>\n",
       "      <td>здравствуйте, меня интересует могу ли отказать...</td>\n",
       "      <td>[здравствуйте, меня, интересует, могу, ли, отк...</td>\n",
       "      <td>[]</td>\n",
       "      <td>здравствуйте меня интересует могу ли отказатьс...</td>\n",
       "      <td>[интересует, могу, отказаться, доставки, воспо...</td>\n",
       "      <td>{35: 0.3228729935596814, 36: 0.188275796630604...</td>\n",
       "    </tr>\n",
       "    <tr>\n",
       "      <th>9</th>\n",
       "      <td>вопрос/жалоба</td>\n",
       "      <td>\"Добрый день!  Пытаюсь оформить заказ на люстр...</td>\n",
       "      <td>[добрый, день, пытаюсь, оформить, заказ, на, л...</td>\n",
       "      <td>[89051057575]</td>\n",
       "      <td>добрый день пытаюсь оформить заказ на люстры и...</td>\n",
       "      <td>[пытаюсь, оформить, заказ, люстры, канделябр, ...</td>\n",
       "      <td>{1: 0.07040764690296657, 10: 0.257914545904828...</td>\n",
       "    </tr>\n",
       "    <tr>\n",
       "      <th>11</th>\n",
       "      <td>отмена заказа</td>\n",
       "      <td>\"Заказ #200637422 прошу отменить, на днях пода...</td>\n",
       "      <td>[заказ, прошу, отменить, на, днях, подарили, т...</td>\n",
       "      <td>[200637422]</td>\n",
       "      <td>заказ прошу отменить на днях подарили точно та...</td>\n",
       "      <td>[заказ, прошу, отменить, днях, подарили, точно...</td>\n",
       "      <td>{1: 0.052137710943586935, 7: 0.211006880607498...</td>\n",
       "    </tr>\n",
       "    <tr>\n",
       "      <th>13</th>\n",
       "      <td>вопрос/жалоба</td>\n",
       "      <td>\"Добрый день, невозможно сделать заказ.    В с...</td>\n",
       "      <td>[добрый, день, невозможно, сделать, заказ, в, ...</td>\n",
       "      <td>[]</td>\n",
       "      <td>добрый день невозможно сделать заказ в службе ...</td>\n",
       "      <td>[невозможно, сделать, заказ, службе, доствки, ...</td>\n",
       "      <td>{1: 0.05234685061366859, 21: 0.092757144179662...</td>\n",
       "    </tr>\n",
       "    <tr>\n",
       "      <th>14</th>\n",
       "      <td>подтверждение заказа</td>\n",
       "      <td>Ирина Крутиева Заказ 200735362 подтверждаю\"\"</td>\n",
       "      <td>[ирина, крутиева, заказ, подтверждаю]</td>\n",
       "      <td>[200735362]</td>\n",
       "      <td>ирина крутиева заказ подтверждаю</td>\n",
       "      <td>[ирина, крутиева, заказ, подтверждаю]</td>\n",
       "      <td>{1: 0.08826459964178744, 33: 0.173992366032089...</td>\n",
       "    </tr>\n",
       "    <tr>\n",
       "      <th>15</th>\n",
       "      <td>вопрос/жалоба</td>\n",
       "      <td>Почему нет доставки? Не могу оформить заказ!\"\"</td>\n",
       "      <td>[почему, нет, доставки, не, могу, оформить, за...</td>\n",
       "      <td>[]</td>\n",
       "      <td>почему нет доставки не могу оформить заказ</td>\n",
       "      <td>[почему, нет, доставки, не, могу, оформить, за...</td>\n",
       "      <td>{1: 0.09158275167158195, 21: 0.162282055206449...</td>\n",
       "    </tr>\n",
       "    <tr>\n",
       "      <th>16</th>\n",
       "      <td>изменения в заказе</td>\n",
       "      <td>Я подтверждаю, что готова принять доставку час...</td>\n",
       "      <td>[я, подтверждаю, что, готова, принять, доставк...</td>\n",
       "      <td>[200089977]</td>\n",
       "      <td>я подтверждаю что готова принять доставку част...</td>\n",
       "      <td>[подтверждаю, готова, принять, доставку, часть...</td>\n",
       "      <td>{26: 0.21049166188504384, 33: 0.15484893035747...</td>\n",
       "    </tr>\n",
       "    <tr>\n",
       "      <th>21</th>\n",
       "      <td>подтверждение заказа+</td>\n",
       "      <td>\"Я подтверждаю заказ, прошу доставить по адрес...</td>\n",
       "      <td>[я, подтверждаю, заказ, прошу, доставить, по, ...</td>\n",
       "      <td>[]</td>\n",
       "      <td>я подтверждаю заказ прошу доставить по адресу ...</td>\n",
       "      <td>[подтверждаю, заказ, прошу, доставить, адресу,...</td>\n",
       "      <td>{1: 0.026941883865055253, 33: 0.05310942482113...</td>\n",
       "    </tr>\n",
       "    <tr>\n",
       "      <th>22</th>\n",
       "      <td>статус заказа</td>\n",
       "      <td>\"здравствуйте, мой заказ должны были передать ...</td>\n",
       "      <td>[здравствуйте, мой, заказ, должны, были, перед...</td>\n",
       "      <td>[]</td>\n",
       "      <td>здравствуйте мой заказ должны были передать в ...</td>\n",
       "      <td>[заказ, должны, передать, службу, доставки, ма...</td>\n",
       "      <td>{1: 0.05274089842898912, 21: 0.093455385804342...</td>\n",
       "    </tr>\n",
       "    <tr>\n",
       "      <th>23</th>\n",
       "      <td>статус заказа</td>\n",
       "      <td>\"Добрый день! Подскажите ,пожалуйста, судьбу э...</td>\n",
       "      <td>[добрый, день, подскажите, пожалуйста, судьбу,...</td>\n",
       "      <td>[]</td>\n",
       "      <td>добрый день подскажите пожалуйста судьбу этого...</td>\n",
       "      <td>[подскажите, пожалуйста, судьбу, заказа, поздн...</td>\n",
       "      <td>{6: 0.22543644829830117, 13: 0.150337773339294...</td>\n",
       "    </tr>\n",
       "    <tr>\n",
       "      <th>24</th>\n",
       "      <td>подтверждение заказа</td>\n",
       "      <td>\"Добрый день!  Подтверждаю свой заказ: хлебниц...</td>\n",
       "      <td>[добрый, день, подтверждаю, свой, заказ, хлебн...</td>\n",
       "      <td>[]</td>\n",
       "      <td>добрый день подтверждаю свой заказ хлебница бе...</td>\n",
       "      <td>[подтверждаю, свой, заказ, хлебница, белая, ст...</td>\n",
       "      <td>{1: 0.054492527577418105, 2: 0.206719769717471...</td>\n",
       "    </tr>\n",
       "    <tr>\n",
       "      <th>25</th>\n",
       "      <td>отказ от рассылки</td>\n",
       "      <td>\"здравствуйте!я хочу отказаться от подписки, к...</td>\n",
       "      <td>[здравствуйте, я, хочу, отказаться, от, подпис...</td>\n",
       "      <td>[]</td>\n",
       "      <td>здравствуйте я хочу отказаться от подписки как...</td>\n",
       "      <td>[хочу, отказаться, подписки, как, сделать]</td>\n",
       "      <td>{8: 0.3645193393653329, 42: 0.4421105951459221...</td>\n",
       "    </tr>\n",
       "    <tr>\n",
       "      <th>27</th>\n",
       "      <td>отмена заказа</td>\n",
       "      <td>\"Добрый день!  Прошу отменить заказ</td>\n",
       "      <td>[добрый, день, прошу, отменить, заказ]</td>\n",
       "      <td>[]</td>\n",
       "      <td>добрый день прошу отменить заказ</td>\n",
       "      <td>[прошу, отменить, заказ]</td>\n",
       "      <td>{1: 0.2017862861334436, 7: 0.8166506357070382,...</td>\n",
       "    </tr>\n",
       "    <tr>\n",
       "      <th>30</th>\n",
       "      <td>отмена заказа</td>\n",
       "      <td>\"Добрый вечер! в связи с тем, что заказ пришел...</td>\n",
       "      <td>[добрый, вечер, в, связи, с, тем, что, заказ, ...</td>\n",
       "      <td>[200035361]</td>\n",
       "      <td>добрый вечер в связи с тем что заказ пришел не...</td>\n",
       "      <td>[вечер, связи, заказ, пришел, не, полный, прош...</td>\n",
       "      <td>{1: 0.11692349873007145, 7: 0.2366009390347224...</td>\n",
       "    </tr>\n",
       "    <tr>\n",
       "      <th>32</th>\n",
       "      <td>подтверждение заказа</td>\n",
       "      <td>\"Добрый день!  Я подтверждаю свой заказ.</td>\n",
       "      <td>[добрый, день, я, подтверждаю, свой, заказ]</td>\n",
       "      <td>[]</td>\n",
       "      <td>добрый день я подтверждаю свой заказ</td>\n",
       "      <td>[подтверждаю, свой, заказ]</td>\n",
       "      <td>{1: 0.22776246749882814, 2: 0.8640268111026711...</td>\n",
       "    </tr>\n",
       "    <tr>\n",
       "      <th>33</th>\n",
       "      <td>вопрос/жалоба</td>\n",
       "      <td>\"Добрый день!    я делала заказ на westwing, с...</td>\n",
       "      <td>[добрый, день, я, делала, заказ, на, сейчас, о...</td>\n",
       "      <td>[]</td>\n",
       "      <td>добрый день я делала заказ на сейчас он прибыл...</td>\n",
       "      <td>[делала, заказ, прибыл, пункт, выдачи, заказов...</td>\n",
       "      <td>{1: 0.046166770353344724, 21: 0.08180621610990...</td>\n",
       "    </tr>\n",
       "    <tr>\n",
       "      <th>36</th>\n",
       "      <td>перезвонить</td>\n",
       "      <td>\"Добрый день!    Перезвоните мне, пожалуйста. ...</td>\n",
       "      <td>[добрый, день, перезвоните, мне, пожалуйста, х...</td>\n",
       "      <td>[]</td>\n",
       "      <td>добрый день перезвоните мне пожалуйста хочу по...</td>\n",
       "      <td>[перезвоните, пожалуйста, хочу, подтвердить, з...</td>\n",
       "      <td>{1: 0.05195925551351225, 8: 0.2279483443740333...</td>\n",
       "    </tr>\n",
       "    <tr>\n",
       "      <th>37</th>\n",
       "      <td>статус заказа</td>\n",
       "      <td>\"Здравствуйте!    Заказ #200123456.    Когда п...</td>\n",
       "      <td>[здравствуйте, заказ, когда, примерно, его, до...</td>\n",
       "      <td>[200123456]</td>\n",
       "      <td>здравствуйте заказ когда примерно его доставят</td>\n",
       "      <td>[заказ, когда, примерно, доставят]</td>\n",
       "      <td>{1: 0.08482927981886271, 140: 0.64456892870495...</td>\n",
       "    </tr>\n",
       "    <tr>\n",
       "      <th>38</th>\n",
       "      <td>вопрос/жалоба</td>\n",
       "      <td>\"Добрый день!  Я пыталась оформить заказ по ак...</td>\n",
       "      <td>[добрый, день, я, пыталась, оформить, заказ, п...</td>\n",
       "      <td>[]</td>\n",
       "      <td>добрый день я пыталась оформить заказ по акции...</td>\n",
       "      <td>[пыталась, оформить, заказ, акции, две, настол...</td>\n",
       "      <td>{1: 0.05135667928044639, 21: 0.113753235599649...</td>\n",
       "    </tr>\n",
       "    <tr>\n",
       "      <th>39</th>\n",
       "      <td>отмена заказа</td>\n",
       "      <td>\"Нет, я отказываюсь от заказа целиком. ---( за...</td>\n",
       "      <td>[нет, я, отказываюсь, от, заказа, целиком, зак...</td>\n",
       "      <td>[200019738]</td>\n",
       "      <td>нет я отказываюсь от заказа целиком заказ от о...</td>\n",
       "      <td>[нет, отказываюсь, заказа, целиком, заказ, отм...</td>\n",
       "      <td>{1: 0.07302423897746725, 7: 0.2955368886839703...</td>\n",
       "    </tr>\n",
       "    <tr>\n",
       "      <th>40</th>\n",
       "      <td>вопрос/жалоба</td>\n",
       "      <td>\"Добрый день! Ваш сайт заинтересовал исключите...</td>\n",
       "      <td>[добрый, день, ваш, сайт, заинтересовал, исклю...</td>\n",
       "      <td>[]</td>\n",
       "      <td>добрый день ваш сайт заинтересовал исключитель...</td>\n",
       "      <td>[ваш, сайт, заинтересовал, исключительно, това...</td>\n",
       "      <td>{40: 0.21856121065718467, 179: 0.1614345171309...</td>\n",
       "    </tr>\n",
       "    <tr>\n",
       "      <th>41</th>\n",
       "      <td>изменения в заказе</td>\n",
       "      <td>\"Добрый день!  Благодарю Нарифу Кулиеву за отв...</td>\n",
       "      <td>[добрый, день, благодарю, нарифу, кулиеву, за,...</td>\n",
       "      <td>[89210753897]</td>\n",
       "      <td>добрый день благодарю нарифу кулиеву за ответ ...</td>\n",
       "      <td>[благодарю, нарифу, кулиеву, ответ, вопрос, пр...</td>\n",
       "      <td>{27: 0.3009807545569831, 61: 0.094787225111205...</td>\n",
       "    </tr>\n",
       "    <tr>\n",
       "      <th>42</th>\n",
       "      <td>статус заказа</td>\n",
       "      <td>\"Здравствуйте!    У меня висит несколько заказ...</td>\n",
       "      <td>[здравствуйте, у, меня, висит, несколько, зака...</td>\n",
       "      <td>[200128362, 200888962, 200785462, 200393322, 2...</td>\n",
       "      <td>здравствуйте у меня висит несколько заказов ещ...</td>\n",
       "      <td>[висит, несколько, заказов, апреля, нескольким...</td>\n",
       "      <td>{21: 0.03911279218446653, 36: 0.43045976970700...</td>\n",
       "    </tr>\n",
       "    <tr>\n",
       "      <th>...</th>\n",
       "      <td>...</td>\n",
       "      <td>...</td>\n",
       "      <td>...</td>\n",
       "      <td>...</td>\n",
       "      <td>...</td>\n",
       "      <td>...</td>\n",
       "      <td>...</td>\n",
       "    </tr>\n",
       "    <tr>\n",
       "      <th>1162</th>\n",
       "      <td>вопрос/жалоба</td>\n",
       "      <td>\"Добрый день!  У  меня проблема с востановлени...</td>\n",
       "      <td>[добрый, день, у, меня, проблема, с, востановл...</td>\n",
       "      <td>[]</td>\n",
       "      <td>добрый день у меня проблема с востановлением п...</td>\n",
       "      <td>[проблема, востановлением, пароля, отправляю, ...</td>\n",
       "      <td>{402: 0.1923756373836572, 440: 0.1493225796853...</td>\n",
       "    </tr>\n",
       "    <tr>\n",
       "      <th>1163</th>\n",
       "      <td>статус заказа+</td>\n",
       "      <td>Добрый день. Я Смирнова Галина Анатольевна сде...</td>\n",
       "      <td>[добрый, день, я, смирнова, галина, анатольевн...</td>\n",
       "      <td>[200115662]</td>\n",
       "      <td>добрый день я смирнова галина анатольевна сдел...</td>\n",
       "      <td>[смирнова, галина, анатольевна, сделала, заказ...</td>\n",
       "      <td>{1: 0.041604861942426276, 37: 0.15498541912696...</td>\n",
       "    </tr>\n",
       "    <tr>\n",
       "      <th>1165</th>\n",
       "      <td>вопрос/жалоба</td>\n",
       "      <td>\"Добрый вечер,беспокоит пока только один вопро...</td>\n",
       "      <td>[добрый, вечер, беспокоит, пока, только, один,...</td>\n",
       "      <td>[]</td>\n",
       "      <td>добрый вечер беспокоит пока только один вопрос...</td>\n",
       "      <td>[вечер, беспокоит, пока, один, вопрос, почему,...</td>\n",
       "      <td>{79: 0.23658829527701633, 82: 0.18518872303774...</td>\n",
       "    </tr>\n",
       "    <tr>\n",
       "      <th>1166</th>\n",
       "      <td>статус заказа</td>\n",
       "      <td>\"Сообщите пожалуйста текущий статус заказа спа...</td>\n",
       "      <td>[сообщите, пожалуйста, текущий, статус, заказа...</td>\n",
       "      <td>[]</td>\n",
       "      <td>сообщите пожалуйста текущий статус заказа спасибо</td>\n",
       "      <td>[сообщите, пожалуйста, текущий, статус, заказа]</td>\n",
       "      <td>{13: 0.23202675465693035, 26: 0.18545090254395...</td>\n",
       "    </tr>\n",
       "    <tr>\n",
       "      <th>1169</th>\n",
       "      <td>подтверждение заказа</td>\n",
       "      <td>\"добрый день, подтверждаю - и заявку, и номер ...</td>\n",
       "      <td>[добрый, день, подтверждаю, и, заявку, и, номе...</td>\n",
       "      <td>[]</td>\n",
       "      <td>добрый день подтверждаю и заявку и номер телеф...</td>\n",
       "      <td>[подтверждаю, заявку, номер, телефона, звонка,...</td>\n",
       "      <td>{21: 0.08532934211708534, 23: 0.24741611926123...</td>\n",
       "    </tr>\n",
       "    <tr>\n",
       "      <th>1170</th>\n",
       "      <td>статус заказа+</td>\n",
       "      <td>\"Дария Мартен-Уважаемый !    У меня значится в...</td>\n",
       "      <td>[дария, мартен, уважаемый, у, меня, значится, ...</td>\n",
       "      <td>[200292522, 79032943159]</td>\n",
       "      <td>дария мартен уважаемый у меня значится в корзи...</td>\n",
       "      <td>[дария, мартен, уважаемый, значится, корзине, ...</td>\n",
       "      <td>{1: 0.05108236259930117, 21: 0.045258253525417...</td>\n",
       "    </tr>\n",
       "    <tr>\n",
       "      <th>1171</th>\n",
       "      <td>вопрос/жалоба</td>\n",
       "      <td>\"Уважаемые сотрудники!   11 мая я отправила со...</td>\n",
       "      <td>[уважаемые, сотрудники, мая, я, отправила, соо...</td>\n",
       "      <td>[200066238]</td>\n",
       "      <td>уважаемые сотрудники мая я отправила сообщение...</td>\n",
       "      <td>[уважаемые, сотрудники, мая, отправила, сообще...</td>\n",
       "      <td>{1: 0.013630025960091451, 2: 0.051706095367117...</td>\n",
       "    </tr>\n",
       "    <tr>\n",
       "      <th>1173</th>\n",
       "      <td>удаление аккаунта</td>\n",
       "      <td>\"Добрый день,  Прошу удалить мой эккаунт.    С...</td>\n",
       "      <td>[добрый, день, прошу, удалить, мой, эккаунт, с...</td>\n",
       "      <td>[]</td>\n",
       "      <td>добрый день прошу удалить мой эккаунт спасибо</td>\n",
       "      <td>[прошу, удалить, эккаунт]</td>\n",
       "      <td>{61: 0.22685115869449748, 342: 0.4814288261917...</td>\n",
       "    </tr>\n",
       "    <tr>\n",
       "      <th>1174</th>\n",
       "      <td>отказ от рассылки</td>\n",
       "      <td>\"Прошу отменить ежедневную рассылку на мой эле...</td>\n",
       "      <td>[прошу, отменить, ежедневную, рассылку, на, мо...</td>\n",
       "      <td>[]</td>\n",
       "      <td>прошу отменить ежедневную рассылку на мой элек...</td>\n",
       "      <td>[прошу, отменить, ежедневную, рассылку, электр...</td>\n",
       "      <td>{7: 0.2636399594611566, 61: 0.1745568533324629...</td>\n",
       "    </tr>\n",
       "    <tr>\n",
       "      <th>1175</th>\n",
       "      <td>статус заказа</td>\n",
       "      <td>\"Добрый день! Хотела бы узнать, какие прогнозы...</td>\n",
       "      <td>[добрый, день, хотела, бы, узнать, какие, прог...</td>\n",
       "      <td>[]</td>\n",
       "      <td>добрый день хотела бы узнать какие прогнозы от...</td>\n",
       "      <td>[хотела, узнать, какие, прогнозы, относительно...</td>\n",
       "      <td>{26: 0.154560756346913, 395: 0.247242080275078...</td>\n",
       "    </tr>\n",
       "    <tr>\n",
       "      <th>1176</th>\n",
       "      <td>отмена заказа</td>\n",
       "      <td>\"Добрый день!    Пожалуйста, аннулируйте данны...</td>\n",
       "      <td>[добрый, день, пожалуйста, аннулируйте, данный...</td>\n",
       "      <td>[]</td>\n",
       "      <td>добрый день пожалуйста аннулируйте данный заказ</td>\n",
       "      <td>[пожалуйста, аннулируйте, данный, заказ]</td>\n",
       "      <td>{1: 0.08367600534673413, 13: 0.280530689313539...</td>\n",
       "    </tr>\n",
       "    <tr>\n",
       "      <th>1178</th>\n",
       "      <td>подтверждение заказа</td>\n",
       "      <td>подтверждаю заказ 200825562    .\"\"</td>\n",
       "      <td>[подтверждаю, заказ]</td>\n",
       "      <td>[200825562]</td>\n",
       "      <td>подтверждаю заказ</td>\n",
       "      <td>[подтверждаю, заказ]</td>\n",
       "      <td>{1: 0.4524071294765606, 33: 0.8918115211179873}</td>\n",
       "    </tr>\n",
       "    <tr>\n",
       "      <th>1239</th>\n",
       "      <td>возврат</td>\n",
       "      <td>\"При проверке заказов обнаружила, что по заказ...</td>\n",
       "      <td>[при, проверке, заказов, обнаружила, что, по, ...</td>\n",
       "      <td>[200067565, 200089977]</td>\n",
       "      <td>при проверке заказов обнаружила что по заказу ...</td>\n",
       "      <td>[проверке, заказов, обнаружила, заказу, стоит,...</td>\n",
       "      <td>{21: 0.03857988455466145, 24: 0.14291217705466...</td>\n",
       "    </tr>\n",
       "    <tr>\n",
       "      <th>1246</th>\n",
       "      <td>возврат</td>\n",
       "      <td>\"Фотографии товара, полученного мной дополните...</td>\n",
       "      <td>[фотографии, товара, полученного, мной, дополн...</td>\n",
       "      <td>[200885922]</td>\n",
       "      <td>фотографии товара полученного мной дополнитель...</td>\n",
       "      <td>[фотографии, товара, полученного, мной, дополн...</td>\n",
       "      <td>{26: 0.09878372255912816, 238: 0.1986004764134...</td>\n",
       "    </tr>\n",
       "    <tr>\n",
       "      <th>1328</th>\n",
       "      <td>возврат</td>\n",
       "      <td>\"Добрый день,  также пока не поступило реакции...</td>\n",
       "      <td>[добрый, день, также, пока, не, поступило, реа...</td>\n",
       "      <td>[]</td>\n",
       "      <td>добрый день также пока не поступило реакции на...</td>\n",
       "      <td>[пока, не, поступило, реакции, мое, сообщение,...</td>\n",
       "      <td>{4: 0.19683723519953134, 21: 0.117066863049233...</td>\n",
       "    </tr>\n",
       "    <tr>\n",
       "      <th>1359</th>\n",
       "      <td>вопрос/жалоба</td>\n",
       "      <td>\"вообще то я так и предпологала что его не буд...</td>\n",
       "      <td>[вообще, то, я, так, и, предпологала, что, его...</td>\n",
       "      <td>[200344962]</td>\n",
       "      <td>вообще то я так и предпологала что его не буде...</td>\n",
       "      <td>[вообще, предпологала, не, заказ, который, не,...</td>\n",
       "      <td>{1: 0.03159337765499113, 4: 0.0941295852595079...</td>\n",
       "    </tr>\n",
       "    <tr>\n",
       "      <th>1506</th>\n",
       "      <td>возврат</td>\n",
       "      <td>\"По вопросу возврата мне денег.    Я-Сабурова ...</td>\n",
       "      <td>[по, вопросу, возврата, мне, денег, я, сабуров...</td>\n",
       "      <td>[42763800286, 044525225, 40817810138, 120647372]</td>\n",
       "      <td>по вопросу возврата мне денег я сабурова татья...</td>\n",
       "      <td>[вопросу, возврата, денег, сабурова, татьяна, ...</td>\n",
       "      <td>{27: 0.1262859925464013, 61: 0.079541954910087...</td>\n",
       "    </tr>\n",
       "    <tr>\n",
       "      <th>1533</th>\n",
       "      <td>возврат</td>\n",
       "      <td>\"Здравствуйте!  Во вложении накладная о возвра...</td>\n",
       "      <td>[здравствуйте, во, вложении, накладная, о, воз...</td>\n",
       "      <td>[]</td>\n",
       "      <td>здравствуйте во вложении накладная о возврате</td>\n",
       "      <td>[вложении, накладная, возврате]</td>\n",
       "      <td>{1171: 0.5854220324595717, 1182: 0.51298807591...</td>\n",
       "    </tr>\n",
       "    <tr>\n",
       "      <th>1577</th>\n",
       "      <td>возврат</td>\n",
       "      <td>\"Уважаемые сотрудники сайта!  Я Ковалевская Ви...</td>\n",
       "      <td>[уважаемые, сотрудники, сайта, я, ковалевская,...</td>\n",
       "      <td>[]</td>\n",
       "      <td>уважаемые сотрудники сайта я ковалевская викто...</td>\n",
       "      <td>[уважаемые, сотрудники, сайта, ковалевская, ви...</td>\n",
       "      <td>{1: 0.014825768629759397, 4: 0.088344049029034...</td>\n",
       "    </tr>\n",
       "    <tr>\n",
       "      <th>1688</th>\n",
       "      <td>возврат</td>\n",
       "      <td>\"Добрый день!    Направляю фото накладной на в...</td>\n",
       "      <td>[добрый, день, направляю, фото, накладной, на,...</td>\n",
       "      <td>[200095529]</td>\n",
       "      <td>добрый день направляю фото накладной на возвра...</td>\n",
       "      <td>[направляю, фото, накладной, возврат, заказа]</td>\n",
       "      <td>{26: 0.19324465467635685, 238: 0.3885101663394...</td>\n",
       "    </tr>\n",
       "    <tr>\n",
       "      <th>1882</th>\n",
       "      <td>возврат</td>\n",
       "      <td>\"Добрый день,  Хотела бы узнать, о судьбе возв...</td>\n",
       "      <td>[добрый, день, хотела, бы, узнать, о, судьбе, ...</td>\n",
       "      <td>[200785562]</td>\n",
       "      <td>добрый день хотела бы узнать о судьбе возвраще...</td>\n",
       "      <td>[хотела, узнать, судьбе, возвращенных, мною, т...</td>\n",
       "      <td>{11: 0.21563713329811002, 26: 0.10449856351939...</td>\n",
       "    </tr>\n",
       "    <tr>\n",
       "      <th>2589</th>\n",
       "      <td>статус заказа</td>\n",
       "      <td>\"Здравствуйте! Хочу уточнить о состоянии моего...</td>\n",
       "      <td>[здравствуйте, хочу, уточнить, о, состоянии, м...</td>\n",
       "      <td>[]</td>\n",
       "      <td>здравствуйте хочу уточнить о состоянии моего з...</td>\n",
       "      <td>[хочу, уточнить, состоянии, моего, заказа]</td>\n",
       "      <td>{8: 0.36045362681748166, 26: 0.220163947137777...</td>\n",
       "    </tr>\n",
       "    <tr>\n",
       "      <th>2590</th>\n",
       "      <td>подтверждение заказа</td>\n",
       "      <td>\"Добрый день,    Заказан подтверждаю.  Заранее...</td>\n",
       "      <td>[добрый, день, заказан, подтверждаю, заранее, ...</td>\n",
       "      <td>[]</td>\n",
       "      <td>добрый день заказан подтверждаю заранее спасибо</td>\n",
       "      <td>[заказан, подтверждаю, заранее]</td>\n",
       "      <td>{33: 0.18879178455683235, 668: 0.4764605630881...</td>\n",
       "    </tr>\n",
       "    <tr>\n",
       "      <th>2591</th>\n",
       "      <td>вопрос/жалоба</td>\n",
       "      <td>\"Добрый день. Можете посоветовать где можно на...</td>\n",
       "      <td>[добрый, день, можете, посоветовать, где, можн...</td>\n",
       "      <td>[]</td>\n",
       "      <td>добрый день можете посоветовать где можно найт...</td>\n",
       "      <td>[можете, посоветовать, где, найти, скульптуры,...</td>\n",
       "      <td>{250: 0.3190732863096457, 305: 0.1764864008769...</td>\n",
       "    </tr>\n",
       "    <tr>\n",
       "      <th>2592</th>\n",
       "      <td>отмена заказа</td>\n",
       "      <td>\"Добрый день!  Отмените пож-та заказ  #2003385...</td>\n",
       "      <td>[добрый, день, отмените, пож, та, заказ, не, м...</td>\n",
       "      <td>[200338592]</td>\n",
       "      <td>добрый день отмените пож та заказ не могу вам ...</td>\n",
       "      <td>[отмените, пож, та, заказ, не, могу, дозвонить...</td>\n",
       "      <td>{1: 0.03310244050040673, 10: 0.242519137779742...</td>\n",
       "    </tr>\n",
       "    <tr>\n",
       "      <th>2593</th>\n",
       "      <td>подтверждение заказа</td>\n",
       "      <td>\"Добрый день,    Подтверждаю заказ 200 391 682...</td>\n",
       "      <td>[добрый, день, подтверждаю, заказ]</td>\n",
       "      <td>[]</td>\n",
       "      <td>добрый день подтверждаю заказ</td>\n",
       "      <td>[подтверждаю, заказ]</td>\n",
       "      <td>{1: 0.4524071294765606, 33: 0.8918115211179873}</td>\n",
       "    </tr>\n",
       "    <tr>\n",
       "      <th>2595</th>\n",
       "      <td>подтверждение заказа</td>\n",
       "      <td>\"Добрый день, я подтверждаю свой заказ.     Пя...</td>\n",
       "      <td>[добрый, день, я, подтверждаю, свой, заказ, пя...</td>\n",
       "      <td>[]</td>\n",
       "      <td>добрый день я подтверждаю свой заказ пятница и...</td>\n",
       "      <td>[подтверждаю, свой, заказ, пятница, июня]</td>\n",
       "      <td>{1: 0.10251320721618074, 2: 0.3888883032379322...</td>\n",
       "    </tr>\n",
       "    <tr>\n",
       "      <th>2596</th>\n",
       "      <td>подтверждение заказа</td>\n",
       "      <td>Заказ подтверждаю.</td>\n",
       "      <td>[заказ, подтверждаю]</td>\n",
       "      <td>[]</td>\n",
       "      <td>заказ подтверждаю</td>\n",
       "      <td>[заказ, подтверждаю]</td>\n",
       "      <td>{1: 0.4524071294765606, 33: 0.8918115211179873}</td>\n",
       "    </tr>\n",
       "    <tr>\n",
       "      <th>2597</th>\n",
       "      <td>подтверждение заказа</td>\n",
       "      <td>Настоящим подтверждаю заказ от 06.06.2013 № 20...</td>\n",
       "      <td>[настоящим, подтверждаю, заказ, от, на, сумму,...</td>\n",
       "      <td>[200947682]</td>\n",
       "      <td>настоящим подтверждаю заказ от на сумму рублей</td>\n",
       "      <td>[настоящим, подтверждаю, заказ, сумму, рублей]</td>\n",
       "      <td>{1: 0.0783914670631396, 33: 0.1545298668593842...</td>\n",
       "    </tr>\n",
       "    <tr>\n",
       "      <th>2598</th>\n",
       "      <td>подтверждение заказа</td>\n",
       "      <td>\"Здравствуйте,  Заказ подтверждаю.</td>\n",
       "      <td>[здравствуйте, заказ, подтверждаю]</td>\n",
       "      <td>[]</td>\n",
       "      <td>здравствуйте заказ подтверждаю</td>\n",
       "      <td>[заказ, подтверждаю]</td>\n",
       "      <td>{1: 0.4524071294765606, 33: 0.8918115211179873}</td>\n",
       "    </tr>\n",
       "  </tbody>\n",
       "</table>\n",
       "<p>813 rows × 7 columns</p>\n",
       "</div>"
      ],
      "text/plain": [
       "                       class  \\\n",
       "Index                          \n",
       "0              отмена заказа   \n",
       "1              отмена заказа   \n",
       "2                перезвонить   \n",
       "3          отказ от рассылки   \n",
       "4         изменения в заказе   \n",
       "6              отмена заказа   \n",
       "7       подтверждение заказа   \n",
       "8              вопрос/жалоба   \n",
       "9              вопрос/жалоба   \n",
       "11             отмена заказа   \n",
       "13             вопрос/жалоба   \n",
       "14      подтверждение заказа   \n",
       "15             вопрос/жалоба   \n",
       "16        изменения в заказе   \n",
       "21     подтверждение заказа+   \n",
       "22             статус заказа   \n",
       "23             статус заказа   \n",
       "24      подтверждение заказа   \n",
       "25         отказ от рассылки   \n",
       "27             отмена заказа   \n",
       "30             отмена заказа   \n",
       "32      подтверждение заказа   \n",
       "33             вопрос/жалоба   \n",
       "36               перезвонить   \n",
       "37             статус заказа   \n",
       "38             вопрос/жалоба   \n",
       "39             отмена заказа   \n",
       "40             вопрос/жалоба   \n",
       "41        изменения в заказе   \n",
       "42             статус заказа   \n",
       "...                      ...   \n",
       "1162           вопрос/жалоба   \n",
       "1163          статус заказа+   \n",
       "1165           вопрос/жалоба   \n",
       "1166           статус заказа   \n",
       "1169    подтверждение заказа   \n",
       "1170          статус заказа+   \n",
       "1171           вопрос/жалоба   \n",
       "1173       удаление аккаунта   \n",
       "1174       отказ от рассылки   \n",
       "1175           статус заказа   \n",
       "1176           отмена заказа   \n",
       "1178    подтверждение заказа   \n",
       "1239                 возврат   \n",
       "1246                 возврат   \n",
       "1328                 возврат   \n",
       "1359           вопрос/жалоба   \n",
       "1506                 возврат   \n",
       "1533                 возврат   \n",
       "1577                 возврат   \n",
       "1688                 возврат   \n",
       "1882                 возврат   \n",
       "2589           статус заказа   \n",
       "2590    подтверждение заказа   \n",
       "2591           вопрос/жалоба   \n",
       "2592           отмена заказа   \n",
       "2593    подтверждение заказа   \n",
       "2595    подтверждение заказа   \n",
       "2596    подтверждение заказа   \n",
       "2597    подтверждение заказа   \n",
       "2598    подтверждение заказа   \n",
       "\n",
       "                                                    text  \\\n",
       "Index                                                      \n",
       "0      \"Добрый день!    Сообщаю, что , к сожалению, в...   \n",
       "1      \"Добрый день!  Хочу отменить Заказы:#200286822...   \n",
       "2                       перезвонить по тел.89041792048\"\"   \n",
       "3      \"Добрый день!  Пожалуйста, исключите меня из в...   \n",
       "4      \"Анна добрый день! Нас не будет в городе в пер...   \n",
       "6      \"отказываюсь от данного заказа, просьба отмени...   \n",
       "7      \"Здравствуйте,   заказ  Дата: 15.05.2013 11:07...   \n",
       "8      здравствуйте, меня интересует могу ли отказать...   \n",
       "9      \"Добрый день!  Пытаюсь оформить заказ на люстр...   \n",
       "11     \"Заказ #200637422 прошу отменить, на днях пода...   \n",
       "13     \"Добрый день, невозможно сделать заказ.    В с...   \n",
       "14          Ирина Крутиева Заказ 200735362 подтверждаю\"\"   \n",
       "15        Почему нет доставки? Не могу оформить заказ!\"\"   \n",
       "16     Я подтверждаю, что готова принять доставку час...   \n",
       "21     \"Я подтверждаю заказ, прошу доставить по адрес...   \n",
       "22     \"здравствуйте, мой заказ должны были передать ...   \n",
       "23     \"Добрый день! Подскажите ,пожалуйста, судьбу э...   \n",
       "24     \"Добрый день!  Подтверждаю свой заказ: хлебниц...   \n",
       "25     \"здравствуйте!я хочу отказаться от подписки, к...   \n",
       "27                   \"Добрый день!  Прошу отменить заказ   \n",
       "30     \"Добрый вечер! в связи с тем, что заказ пришел...   \n",
       "32              \"Добрый день!  Я подтверждаю свой заказ.   \n",
       "33     \"Добрый день!    я делала заказ на westwing, с...   \n",
       "36     \"Добрый день!    Перезвоните мне, пожалуйста. ...   \n",
       "37     \"Здравствуйте!    Заказ #200123456.    Когда п...   \n",
       "38     \"Добрый день!  Я пыталась оформить заказ по ак...   \n",
       "39     \"Нет, я отказываюсь от заказа целиком. ---( за...   \n",
       "40     \"Добрый день! Ваш сайт заинтересовал исключите...   \n",
       "41     \"Добрый день!  Благодарю Нарифу Кулиеву за отв...   \n",
       "42     \"Здравствуйте!    У меня висит несколько заказ...   \n",
       "...                                                  ...   \n",
       "1162   \"Добрый день!  У  меня проблема с востановлени...   \n",
       "1163   Добрый день. Я Смирнова Галина Анатольевна сде...   \n",
       "1165   \"Добрый вечер,беспокоит пока только один вопро...   \n",
       "1166   \"Сообщите пожалуйста текущий статус заказа спа...   \n",
       "1169   \"добрый день, подтверждаю - и заявку, и номер ...   \n",
       "1170   \"Дария Мартен-Уважаемый !    У меня значится в...   \n",
       "1171   \"Уважаемые сотрудники!   11 мая я отправила со...   \n",
       "1173   \"Добрый день,  Прошу удалить мой эккаунт.    С...   \n",
       "1174   \"Прошу отменить ежедневную рассылку на мой эле...   \n",
       "1175   \"Добрый день! Хотела бы узнать, какие прогнозы...   \n",
       "1176   \"Добрый день!    Пожалуйста, аннулируйте данны...   \n",
       "1178                  подтверждаю заказ 200825562    .\"\"   \n",
       "1239   \"При проверке заказов обнаружила, что по заказ...   \n",
       "1246   \"Фотографии товара, полученного мной дополните...   \n",
       "1328   \"Добрый день,  также пока не поступило реакции...   \n",
       "1359   \"вообще то я так и предпологала что его не буд...   \n",
       "1506   \"По вопросу возврата мне денег.    Я-Сабурова ...   \n",
       "1533   \"Здравствуйте!  Во вложении накладная о возвра...   \n",
       "1577   \"Уважаемые сотрудники сайта!  Я Ковалевская Ви...   \n",
       "1688   \"Добрый день!    Направляю фото накладной на в...   \n",
       "1882   \"Добрый день,  Хотела бы узнать, о судьбе возв...   \n",
       "2589   \"Здравствуйте! Хочу уточнить о состоянии моего...   \n",
       "2590   \"Добрый день,    Заказан подтверждаю.  Заранее...   \n",
       "2591   \"Добрый день. Можете посоветовать где можно на...   \n",
       "2592   \"Добрый день!  Отмените пож-та заказ  #2003385...   \n",
       "2593   \"Добрый день,    Подтверждаю заказ 200 391 682...   \n",
       "2595   \"Добрый день, я подтверждаю свой заказ.     Пя...   \n",
       "2596                              Заказ подтверждаю.       \n",
       "2597   Настоящим подтверждаю заказ от 06.06.2013 № 20...   \n",
       "2598              \"Здравствуйте,  Заказ подтверждаю.       \n",
       "\n",
       "                                             text_tokens  \\\n",
       "Index                                                      \n",
       "0      [добрый, день, сообщаю, что, к, сожалению, вын...   \n",
       "1              [добрый, день, хочу, отменить, заказы, и]   \n",
       "2                                 [перезвонить, по, тел]   \n",
       "3      [добрый, день, пожалуйста, исключите, меня, из...   \n",
       "4      [анна, добрый, день, нас, не, будет, в, городе...   \n",
       "6      [отказываюсь, от, данного, заказа, просьба, от...   \n",
       "7      [здравствуйте, заказ, дата, номер, заказа, спо...   \n",
       "8      [здравствуйте, меня, интересует, могу, ли, отк...   \n",
       "9      [добрый, день, пытаюсь, оформить, заказ, на, л...   \n",
       "11     [заказ, прошу, отменить, на, днях, подарили, т...   \n",
       "13     [добрый, день, невозможно, сделать, заказ, в, ...   \n",
       "14                 [ирина, крутиева, заказ, подтверждаю]   \n",
       "15     [почему, нет, доставки, не, могу, оформить, за...   \n",
       "16     [я, подтверждаю, что, готова, принять, доставк...   \n",
       "21     [я, подтверждаю, заказ, прошу, доставить, по, ...   \n",
       "22     [здравствуйте, мой, заказ, должны, были, перед...   \n",
       "23     [добрый, день, подскажите, пожалуйста, судьбу,...   \n",
       "24     [добрый, день, подтверждаю, свой, заказ, хлебн...   \n",
       "25     [здравствуйте, я, хочу, отказаться, от, подпис...   \n",
       "27                [добрый, день, прошу, отменить, заказ]   \n",
       "30     [добрый, вечер, в, связи, с, тем, что, заказ, ...   \n",
       "32           [добрый, день, я, подтверждаю, свой, заказ]   \n",
       "33     [добрый, день, я, делала, заказ, на, сейчас, о...   \n",
       "36     [добрый, день, перезвоните, мне, пожалуйста, х...   \n",
       "37     [здравствуйте, заказ, когда, примерно, его, до...   \n",
       "38     [добрый, день, я, пыталась, оформить, заказ, п...   \n",
       "39     [нет, я, отказываюсь, от, заказа, целиком, зак...   \n",
       "40     [добрый, день, ваш, сайт, заинтересовал, исклю...   \n",
       "41     [добрый, день, благодарю, нарифу, кулиеву, за,...   \n",
       "42     [здравствуйте, у, меня, висит, несколько, зака...   \n",
       "...                                                  ...   \n",
       "1162   [добрый, день, у, меня, проблема, с, востановл...   \n",
       "1163   [добрый, день, я, смирнова, галина, анатольевн...   \n",
       "1165   [добрый, вечер, беспокоит, пока, только, один,...   \n",
       "1166   [сообщите, пожалуйста, текущий, статус, заказа...   \n",
       "1169   [добрый, день, подтверждаю, и, заявку, и, номе...   \n",
       "1170   [дария, мартен, уважаемый, у, меня, значится, ...   \n",
       "1171   [уважаемые, сотрудники, мая, я, отправила, соо...   \n",
       "1173   [добрый, день, прошу, удалить, мой, эккаунт, с...   \n",
       "1174   [прошу, отменить, ежедневную, рассылку, на, мо...   \n",
       "1175   [добрый, день, хотела, бы, узнать, какие, прог...   \n",
       "1176   [добрый, день, пожалуйста, аннулируйте, данный...   \n",
       "1178                                [подтверждаю, заказ]   \n",
       "1239   [при, проверке, заказов, обнаружила, что, по, ...   \n",
       "1246   [фотографии, товара, полученного, мной, дополн...   \n",
       "1328   [добрый, день, также, пока, не, поступило, реа...   \n",
       "1359   [вообще, то, я, так, и, предпологала, что, его...   \n",
       "1506   [по, вопросу, возврата, мне, денег, я, сабуров...   \n",
       "1533   [здравствуйте, во, вложении, накладная, о, воз...   \n",
       "1577   [уважаемые, сотрудники, сайта, я, ковалевская,...   \n",
       "1688   [добрый, день, направляю, фото, накладной, на,...   \n",
       "1882   [добрый, день, хотела, бы, узнать, о, судьбе, ...   \n",
       "2589   [здравствуйте, хочу, уточнить, о, состоянии, м...   \n",
       "2590   [добрый, день, заказан, подтверждаю, заранее, ...   \n",
       "2591   [добрый, день, можете, посоветовать, где, можн...   \n",
       "2592   [добрый, день, отмените, пож, та, заказ, не, м...   \n",
       "2593                  [добрый, день, подтверждаю, заказ]   \n",
       "2595   [добрый, день, я, подтверждаю, свой, заказ, пя...   \n",
       "2596                                [заказ, подтверждаю]   \n",
       "2597   [настоящим, подтверждаю, заказ, от, на, сумму,...   \n",
       "2598                  [здравствуйте, заказ, подтверждаю]   \n",
       "\n",
       "                                           digits_tokens  \\\n",
       "Index                                                      \n",
       "0                                            [200178492]   \n",
       "1                      [200286822, 200247322, 200268662]   \n",
       "2                                          [89041792048]   \n",
       "3                                                     []   \n",
       "4                                                     []   \n",
       "6                                            [200538292]   \n",
       "7                                            [200118362]   \n",
       "8                                                     []   \n",
       "9                                          [89051057575]   \n",
       "11                                           [200637422]   \n",
       "13                                                    []   \n",
       "14                                           [200735362]   \n",
       "15                                                    []   \n",
       "16                                           [200089977]   \n",
       "21                                                    []   \n",
       "22                                                    []   \n",
       "23                                                    []   \n",
       "24                                                    []   \n",
       "25                                                    []   \n",
       "27                                                    []   \n",
       "30                                           [200035361]   \n",
       "32                                                    []   \n",
       "33                                                    []   \n",
       "36                                                    []   \n",
       "37                                           [200123456]   \n",
       "38                                                    []   \n",
       "39                                           [200019738]   \n",
       "40                                                    []   \n",
       "41                                         [89210753897]   \n",
       "42     [200128362, 200888962, 200785462, 200393322, 2...   \n",
       "...                                                  ...   \n",
       "1162                                                  []   \n",
       "1163                                         [200115662]   \n",
       "1165                                                  []   \n",
       "1166                                                  []   \n",
       "1169                                                  []   \n",
       "1170                            [200292522, 79032943159]   \n",
       "1171                                         [200066238]   \n",
       "1173                                                  []   \n",
       "1174                                                  []   \n",
       "1175                                                  []   \n",
       "1176                                                  []   \n",
       "1178                                         [200825562]   \n",
       "1239                              [200067565, 200089977]   \n",
       "1246                                         [200885922]   \n",
       "1328                                                  []   \n",
       "1359                                         [200344962]   \n",
       "1506    [42763800286, 044525225, 40817810138, 120647372]   \n",
       "1533                                                  []   \n",
       "1577                                                  []   \n",
       "1688                                         [200095529]   \n",
       "1882                                         [200785562]   \n",
       "2589                                                  []   \n",
       "2590                                                  []   \n",
       "2591                                                  []   \n",
       "2592                                         [200338592]   \n",
       "2593                                                  []   \n",
       "2595                                                  []   \n",
       "2596                                                  []   \n",
       "2597                                         [200947682]   \n",
       "2598                                                  []   \n",
       "\n",
       "                                         text_tokens_str  \\\n",
       "Index                                                      \n",
       "0      добрый день сообщаю что к сожалению вынуждена ...   \n",
       "1                     добрый день хочу отменить заказы и   \n",
       "2                                     перезвонить по тел   \n",
       "3      добрый день пожалуйста исключите меня из вашей...   \n",
       "4      анна добрый день нас не будет в городе в перио...   \n",
       "6      отказываюсь от данного заказа просьба отменить...   \n",
       "7      здравствуйте заказ дата номер заказа способ оп...   \n",
       "8      здравствуйте меня интересует могу ли отказатьс...   \n",
       "9      добрый день пытаюсь оформить заказ на люстры и...   \n",
       "11     заказ прошу отменить на днях подарили точно та...   \n",
       "13     добрый день невозможно сделать заказ в службе ...   \n",
       "14                      ирина крутиева заказ подтверждаю   \n",
       "15            почему нет доставки не могу оформить заказ   \n",
       "16     я подтверждаю что готова принять доставку част...   \n",
       "21     я подтверждаю заказ прошу доставить по адресу ...   \n",
       "22     здравствуйте мой заказ должны были передать в ...   \n",
       "23     добрый день подскажите пожалуйста судьбу этого...   \n",
       "24     добрый день подтверждаю свой заказ хлебница бе...   \n",
       "25     здравствуйте я хочу отказаться от подписки как...   \n",
       "27                      добрый день прошу отменить заказ   \n",
       "30     добрый вечер в связи с тем что заказ пришел не...   \n",
       "32                  добрый день я подтверждаю свой заказ   \n",
       "33     добрый день я делала заказ на сейчас он прибыл...   \n",
       "36     добрый день перезвоните мне пожалуйста хочу по...   \n",
       "37        здравствуйте заказ когда примерно его доставят   \n",
       "38     добрый день я пыталась оформить заказ по акции...   \n",
       "39     нет я отказываюсь от заказа целиком заказ от о...   \n",
       "40     добрый день ваш сайт заинтересовал исключитель...   \n",
       "41     добрый день благодарю нарифу кулиеву за ответ ...   \n",
       "42     здравствуйте у меня висит несколько заказов ещ...   \n",
       "...                                                  ...   \n",
       "1162   добрый день у меня проблема с востановлением п...   \n",
       "1163   добрый день я смирнова галина анатольевна сдел...   \n",
       "1165   добрый вечер беспокоит пока только один вопрос...   \n",
       "1166   сообщите пожалуйста текущий статус заказа спасибо   \n",
       "1169   добрый день подтверждаю и заявку и номер телеф...   \n",
       "1170   дария мартен уважаемый у меня значится в корзи...   \n",
       "1171   уважаемые сотрудники мая я отправила сообщение...   \n",
       "1173       добрый день прошу удалить мой эккаунт спасибо   \n",
       "1174   прошу отменить ежедневную рассылку на мой элек...   \n",
       "1175   добрый день хотела бы узнать какие прогнозы от...   \n",
       "1176     добрый день пожалуйста аннулируйте данный заказ   \n",
       "1178                                   подтверждаю заказ   \n",
       "1239   при проверке заказов обнаружила что по заказу ...   \n",
       "1246   фотографии товара полученного мной дополнитель...   \n",
       "1328   добрый день также пока не поступило реакции на...   \n",
       "1359   вообще то я так и предпологала что его не буде...   \n",
       "1506   по вопросу возврата мне денег я сабурова татья...   \n",
       "1533       здравствуйте во вложении накладная о возврате   \n",
       "1577   уважаемые сотрудники сайта я ковалевская викто...   \n",
       "1688   добрый день направляю фото накладной на возвра...   \n",
       "1882   добрый день хотела бы узнать о судьбе возвраще...   \n",
       "2589   здравствуйте хочу уточнить о состоянии моего з...   \n",
       "2590     добрый день заказан подтверждаю заранее спасибо   \n",
       "2591   добрый день можете посоветовать где можно найт...   \n",
       "2592   добрый день отмените пож та заказ не могу вам ...   \n",
       "2593                       добрый день подтверждаю заказ   \n",
       "2595   добрый день я подтверждаю свой заказ пятница и...   \n",
       "2596                                   заказ подтверждаю   \n",
       "2597      настоящим подтверждаю заказ от на сумму рублей   \n",
       "2598                      здравствуйте заказ подтверждаю   \n",
       "\n",
       "                                                   lemms  \\\n",
       "Index                                                      \n",
       "0      [сообщаю, сожалению, вынуждена, снять, свой, з...   \n",
       "1                               [хочу, отменить, заказы]   \n",
       "2                                     [перезвонить, тел]   \n",
       "3               [пожалуйста, исключите, вашей, рассылки]   \n",
       "4      [анна, не, городе, период, июня, июня, возможн...   \n",
       "6      [отказываюсь, данного, заказа, просьба, отмени...   \n",
       "7      [заказ, дата, номер, заказа, способ, оплаты, о...   \n",
       "8      [интересует, могу, отказаться, доставки, воспо...   \n",
       "9      [пытаюсь, оформить, заказ, люстры, канделябр, ...   \n",
       "11     [заказ, прошу, отменить, днях, подарили, точно...   \n",
       "13     [невозможно, сделать, заказ, службе, доствки, ...   \n",
       "14                 [ирина, крутиева, заказ, подтверждаю]   \n",
       "15     [почему, нет, доставки, не, могу, оформить, за...   \n",
       "16     [подтверждаю, готова, принять, доставку, часть...   \n",
       "21     [подтверждаю, заказ, прошу, доставить, адресу,...   \n",
       "22     [заказ, должны, передать, службу, доставки, ма...   \n",
       "23     [подскажите, пожалуйста, судьбу, заказа, поздн...   \n",
       "24     [подтверждаю, свой, заказ, хлебница, белая, ст...   \n",
       "25            [хочу, отказаться, подписки, как, сделать]   \n",
       "27                              [прошу, отменить, заказ]   \n",
       "30     [вечер, связи, заказ, пришел, не, полный, прош...   \n",
       "32                            [подтверждаю, свой, заказ]   \n",
       "33     [делала, заказ, прибыл, пункт, выдачи, заказов...   \n",
       "36     [перезвоните, пожалуйста, хочу, подтвердить, з...   \n",
       "37                    [заказ, когда, примерно, доставят]   \n",
       "38     [пыталась, оформить, заказ, акции, две, настол...   \n",
       "39     [нет, отказываюсь, заказа, целиком, заказ, отм...   \n",
       "40     [ваш, сайт, заинтересовал, исключительно, това...   \n",
       "41     [благодарю, нарифу, кулиеву, ответ, вопрос, пр...   \n",
       "42     [висит, несколько, заказов, апреля, нескольким...   \n",
       "...                                                  ...   \n",
       "1162   [проблема, востановлением, пароля, отправляю, ...   \n",
       "1163   [смирнова, галина, анатольевна, сделала, заказ...   \n",
       "1165   [вечер, беспокоит, пока, один, вопрос, почему,...   \n",
       "1166     [сообщите, пожалуйста, текущий, статус, заказа]   \n",
       "1169   [подтверждаю, заявку, номер, телефона, звонка,...   \n",
       "1170   [дария, мартен, уважаемый, значится, корзине, ...   \n",
       "1171   [уважаемые, сотрудники, мая, отправила, сообще...   \n",
       "1173                           [прошу, удалить, эккаунт]   \n",
       "1174   [прошу, отменить, ежедневную, рассылку, электр...   \n",
       "1175   [хотела, узнать, какие, прогнозы, относительно...   \n",
       "1176            [пожалуйста, аннулируйте, данный, заказ]   \n",
       "1178                                [подтверждаю, заказ]   \n",
       "1239   [проверке, заказов, обнаружила, заказу, стоит,...   \n",
       "1246   [фотографии, товара, полученного, мной, дополн...   \n",
       "1328   [пока, не, поступило, реакции, мое, сообщение,...   \n",
       "1359   [вообще, предпологала, не, заказ, который, не,...   \n",
       "1506   [вопросу, возврата, денег, сабурова, татьяна, ...   \n",
       "1533                     [вложении, накладная, возврате]   \n",
       "1577   [уважаемые, сотрудники, сайта, ковалевская, ви...   \n",
       "1688       [направляю, фото, накладной, возврат, заказа]   \n",
       "1882   [хотела, узнать, судьбе, возвращенных, мною, т...   \n",
       "2589          [хочу, уточнить, состоянии, моего, заказа]   \n",
       "2590                     [заказан, подтверждаю, заранее]   \n",
       "2591   [можете, посоветовать, где, найти, скульптуры,...   \n",
       "2592   [отмените, пож, та, заказ, не, могу, дозвонить...   \n",
       "2593                                [подтверждаю, заказ]   \n",
       "2595           [подтверждаю, свой, заказ, пятница, июня]   \n",
       "2596                                [заказ, подтверждаю]   \n",
       "2597      [настоящим, подтверждаю, заказ, сумму, рублей]   \n",
       "2598                                [заказ, подтверждаю]   \n",
       "\n",
       "                                       corpus_tfidf_dcts  \n",
       "Index                                                     \n",
       "0      {0: 0.4755103124264967, 1: 0.06490436989234061...  \n",
       "1      {6: 0.6442133457813933, 7: 0.5186076454562839,...  \n",
       "2        {9: 0.7521029428114379, 10: 0.6590456459262704}  \n",
       "3      {11: 0.4788162998876139, 12: 0.723990998130736...  \n",
       "4      {15: 0.23023243118717232, 16: 0.22226623347383...  \n",
       "6      {7: 0.2869854649425044, 24: 0.4654578580264029...  \n",
       "7      {1: 0.061459462302728585, 25: 0.30575689726446...  \n",
       "8      {35: 0.3228729935596814, 36: 0.188275796630604...  \n",
       "9      {1: 0.07040764690296657, 10: 0.257914545904828...  \n",
       "11     {1: 0.052137710943586935, 7: 0.211006880607498...  \n",
       "13     {1: 0.05234685061366859, 21: 0.092757144179662...  \n",
       "14     {1: 0.08826459964178744, 33: 0.173992366032089...  \n",
       "15     {1: 0.09158275167158195, 21: 0.162282055206449...  \n",
       "16     {26: 0.21049166188504384, 33: 0.15484893035747...  \n",
       "21     {1: 0.026941883865055253, 33: 0.05310942482113...  \n",
       "22     {1: 0.05274089842898912, 21: 0.093455385804342...  \n",
       "23     {6: 0.22543644829830117, 13: 0.150337773339294...  \n",
       "24     {1: 0.054492527577418105, 2: 0.206719769717471...  \n",
       "25     {8: 0.3645193393653329, 42: 0.4421105951459221...  \n",
       "27     {1: 0.2017862861334436, 7: 0.8166506357070382,...  \n",
       "30     {1: 0.11692349873007145, 7: 0.2366009390347224...  \n",
       "32     {1: 0.22776246749882814, 2: 0.8640268111026711...  \n",
       "33     {1: 0.046166770353344724, 21: 0.08180621610990...  \n",
       "36     {1: 0.05195925551351225, 8: 0.2279483443740333...  \n",
       "37     {1: 0.08482927981886271, 140: 0.64456892870495...  \n",
       "38     {1: 0.05135667928044639, 21: 0.113753235599649...  \n",
       "39     {1: 0.07302423897746725, 7: 0.2955368886839703...  \n",
       "40     {40: 0.21856121065718467, 179: 0.1614345171309...  \n",
       "41     {27: 0.3009807545569831, 61: 0.094787225111205...  \n",
       "42     {21: 0.03911279218446653, 36: 0.43045976970700...  \n",
       "...                                                  ...  \n",
       "1162   {402: 0.1923756373836572, 440: 0.1493225796853...  \n",
       "1163   {1: 0.041604861942426276, 37: 0.15498541912696...  \n",
       "1165   {79: 0.23658829527701633, 82: 0.18518872303774...  \n",
       "1166   {13: 0.23202675465693035, 26: 0.18545090254395...  \n",
       "1169   {21: 0.08532934211708534, 23: 0.24741611926123...  \n",
       "1170   {1: 0.05108236259930117, 21: 0.045258253525417...  \n",
       "1171   {1: 0.013630025960091451, 2: 0.051706095367117...  \n",
       "1173   {61: 0.22685115869449748, 342: 0.4814288261917...  \n",
       "1174   {7: 0.2636399594611566, 61: 0.1745568533324629...  \n",
       "1175   {26: 0.154560756346913, 395: 0.247242080275078...  \n",
       "1176   {1: 0.08367600534673413, 13: 0.280530689313539...  \n",
       "1178     {1: 0.4524071294765606, 33: 0.8918115211179873}  \n",
       "1239   {21: 0.03857988455466145, 24: 0.14291217705466...  \n",
       "1246   {26: 0.09878372255912816, 238: 0.1986004764134...  \n",
       "1328   {4: 0.19683723519953134, 21: 0.117066863049233...  \n",
       "1359   {1: 0.03159337765499113, 4: 0.0941295852595079...  \n",
       "1506   {27: 0.1262859925464013, 61: 0.079541954910087...  \n",
       "1533   {1171: 0.5854220324595717, 1182: 0.51298807591...  \n",
       "1577   {1: 0.014825768629759397, 4: 0.088344049029034...  \n",
       "1688   {26: 0.19324465467635685, 238: 0.3885101663394...  \n",
       "1882   {11: 0.21563713329811002, 26: 0.10449856351939...  \n",
       "2589   {8: 0.36045362681748166, 26: 0.220163947137777...  \n",
       "2590   {33: 0.18879178455683235, 668: 0.4764605630881...  \n",
       "2591   {250: 0.3190732863096457, 305: 0.1764864008769...  \n",
       "2592   {1: 0.03310244050040673, 10: 0.242519137779742...  \n",
       "2593     {1: 0.4524071294765606, 33: 0.8918115211179873}  \n",
       "2595   {1: 0.10251320721618074, 2: 0.3888883032379322...  \n",
       "2596     {1: 0.4524071294765606, 33: 0.8918115211179873}  \n",
       "2597   {1: 0.0783914670631396, 33: 0.1545298668593842...  \n",
       "2598     {1: 0.4524071294765606, 33: 0.8918115211179873}  \n",
       "\n",
       "[813 rows x 7 columns]"
      ]
     },
     "execution_count": 76,
     "metadata": {},
     "output_type": "execute_result"
    }
   ],
   "source": [
    "df"
   ]
  },
  {
   "cell_type": "code",
   "execution_count": 77,
   "metadata": {},
   "outputs": [],
   "source": [
    "def sentence_embed(row):\n",
    "    i = 0\n",
    "    sent_emb = np.zeros(100)\n",
    "    length = 0\n",
    "    tfidf_sum = 0\n",
    "    if row['lemms']:\n",
    "        for word, tfidf in zip(row['lemms'], row['corpus_tfidf_dcts']):\n",
    "            if length<80:\n",
    "                try:\n",
    "#                     tfidf = corpus_tfidf_dcts[i][dictionary.token2id[word]]\n",
    "#                     if tfidf:\n",
    "                    tfidf_sum += tfidf\n",
    "                    sent_emb += ft_dict[word]*tfidf\n",
    "                    length += 1\n",
    "#                     else:\n",
    "#                         continue\n",
    "                except:\n",
    "                    continue\n",
    "            else:\n",
    "                break\n",
    "    if tfidf_sum:\n",
    "        return sent_emb / tfidf_sum / length\n",
    "    else:\n",
    "        return sent_emb "
   ]
  },
  {
   "cell_type": "code",
   "execution_count": 78,
   "metadata": {},
   "outputs": [],
   "source": [
    "# def sentence_embed(row):\n",
    "#     sent_emb = np.zeros(300)\n",
    "#     length = 0\n",
    "#     tfidf_sum = 0\n",
    "#     if row['lemms']:\n",
    "#         for word in row['lemms']:\n",
    "#             if length<80:\n",
    "#                 try:\n",
    "#                     tfidf = corpus_tfidf_dcts[classes[row['class']]][dictionary.token2id[word]]\n",
    "#                     if tfidf:\n",
    "#                         tfidf_sum += tfidf\n",
    "#                         sent_emb += glove_dict[word]*tfidf\n",
    "#                         length += 1\n",
    "#                     else:\n",
    "#                         continue\n",
    "#                 except:\n",
    "#                     continue\n",
    "#             else:\n",
    "#                 break\n",
    "#     if tfidf_sum:\n",
    "#         return sent_emb / tfidf_sum / length\n",
    "#     else:\n",
    "#         return sent_emb "
   ]
  },
  {
   "cell_type": "code",
   "execution_count": 79,
   "metadata": {},
   "outputs": [],
   "source": [
    "\n",
    "df['sentence_embedding'] = df.apply(sentence_embed, axis=1)"
   ]
  },
  {
   "cell_type": "code",
   "execution_count": null,
   "metadata": {},
   "outputs": [],
   "source": []
  },
  {
   "cell_type": "code",
   "execution_count": 80,
   "metadata": {},
   "outputs": [],
   "source": [
    "vectors = np.stack(df['sentence_embedding'].values)\n",
    "vectors = np.nan_to_num(vectors, copy=True)\n",
    "# X_reduced = TruncatedSVD(n_components=30, random_state=0).fit_transform(vectors)\n",
    "X_embedded = TSNE(n_components=2, perplexity=5, verbose=0).fit_transform(vectors)"
   ]
  },
  {
   "cell_type": "code",
   "execution_count": 81,
   "metadata": {},
   "outputs": [
    {
     "name": "stderr",
     "output_type": "stream",
     "text": [
      "C:\\Users\\psv52\\Anaconda3\\envs\\tf-gpu\\lib\\site-packages\\seaborn\\axisgrid.py:230: UserWarning: The `size` paramter has been renamed to `height`; please update your code.\n",
      "  warnings.warn(msg, UserWarning)\n"
     ]
    },
    {
     "data": {
      "text/plain": [
       "<seaborn.axisgrid.FacetGrid at 0x20e36167b38>"
      ]
     },
     "execution_count": 81,
     "metadata": {},
     "output_type": "execute_result"
    },
    {
     "data": {
      "image/png": "[encoded data removed]",
      "text/plain": [
       "<Figure size 906.485x720 with 1 Axes>"
      ]
     },
     "metadata": {
      "needs_background": "dark"
     },
     "output_type": "display_data"
    }
   ],
   "source": [
    "vis_df = pd.DataFrame({'X': X_embedded[:, 0], 'Y': X_embedded[:, 1], 'class': df['class']})\n",
    "sns.FacetGrid(vis_df, size=10, hue='class').map(plt.scatter, \"X\", \"Y\").add_legend()"
   ]
  },
  {
   "cell_type": "code",
   "execution_count": 82,
   "metadata": {},
   "outputs": [
    {
     "data": {
      "text/plain": [
       "{'возврат': 0,\n",
       " 'вопрос/жалоба': 1,\n",
       " 'изменения в заказе': 2,\n",
       " 'отказ от рассылки': 3,\n",
       " 'отмена заказа': 4,\n",
       " 'перезвонить': 5,\n",
       " 'подтверждение заказа': 6,\n",
       " 'подтверждение заказа+': 7,\n",
       " 'статус заказа': 8,\n",
       " 'статус заказа+': 9,\n",
       " 'удаление аккаунта': 10}"
      ]
     },
     "execution_count": 82,
     "metadata": {},
     "output_type": "execute_result"
    }
   ],
   "source": [
    "classes"
   ]
  },
  {
   "cell_type": "code",
   "execution_count": 83,
   "metadata": {},
   "outputs": [],
   "source": [
    "df['y'] = df['class']\n",
    "# .map(classes)"
   ]
  },
  {
   "cell_type": "code",
   "execution_count": 84,
   "metadata": {},
   "outputs": [],
   "source": [
    "from sklearn.model_selection import train_test_split\n",
    "from sklearn.pipeline import Pipeline\n",
    "from collections import defaultdict"
   ]
  },
  {
   "cell_type": "code",
   "execution_count": 85,
   "metadata": {},
   "outputs": [],
   "source": [
    "X_train, X_test, y_train, y_test = train_test_split(df['text_tokens'], df['y'], \n",
    "                                                    stratify=df['y'], test_size=0.2, random_state=1)"
   ]
  },
  {
   "cell_type": "code",
   "execution_count": null,
   "metadata": {},
   "outputs": [],
   "source": []
  },
  {
   "cell_type": "code",
   "execution_count": 86,
   "metadata": {},
   "outputs": [],
   "source": [
    "class TfidfEmbeddingVectorizer():\n",
    "    def __init__(self, word_emb):\n",
    "        self.word_emb = word_emb\n",
    "        self.word_weight = None\n",
    "        self.dim=100\n",
    "        \n",
    "    def fit(self, X, y):\n",
    "        \n",
    "        tfidf = TfidfVectorizer(analyzer=lambda x: x)\n",
    "        tfidf.fit(X)\n",
    "        max_idf = max(tfidf.idf_)\n",
    "        self.word_weight = defaultdict(\n",
    "            lambda: max_idf, \n",
    "            [(w, tfidf.idf_[i]) for w, i in tfidf.vocabulary_.items()])\n",
    "    \n",
    "        return self\n",
    "    \n",
    "    def transform(self, X):\n",
    "        return np.array([\n",
    "                np.mean([self.word_emb[w] * self.word_weight[w]\n",
    "                         for w in words if w in self.word_emb] or\n",
    "                        [np.zeros(self.dim)], axis=0)\n",
    "                for words in X\n",
    "            ])"
   ]
  },
  {
   "cell_type": "code",
   "execution_count": 87,
   "metadata": {},
   "outputs": [],
   "source": [
    "from sklearn.ensemble import RandomForestClassifier\n",
    "from sklearn.linear_model import LogisticRegression\n",
    "from sklearn.model_selection import GridSearchCV\n",
    "from sklearn.svm import SVC\n",
    "from xgboost import XGBClassifier"
   ]
  },
  {
   "cell_type": "code",
   "execution_count": 88,
   "metadata": {},
   "outputs": [],
   "source": [
    "\n",
    "pipeline_tfidf_lgr = Pipeline([(\"tfidf fasttext vectorizer\", TfidfEmbeddingVectorizer(ft_dict)), \n",
    "                        (\"LGR\", LogisticRegression())])\n",
    "\n",
    "pipeline_tfidf_rfc = Pipeline([(\"tfidf fasttext vectorizer\", TfidfEmbeddingVectorizer(ft_dict)), \n",
    "                        (\"RFC\", RandomForestClassifier(n_estimators=300, n_jobs=-1))])\n",
    "\n",
    "pipeline_tfidf_svc = Pipeline([(\"tfidf fasttext vectorizer\", TfidfEmbeddingVectorizer(ft_dict)), \n",
    "                        (\"SVC\", SVC(kernel='poly'))])"
   ]
  },
  {
   "cell_type": "code",
   "execution_count": 89,
   "metadata": {},
   "outputs": [],
   "source": [
    "pipeline_tfidf_xgb = Pipeline([(\"tfidf fasttext vectorizer\", TfidfEmbeddingVectorizer(ft_dict)), \n",
    "                        (\"XGB\", XGBClassifier(n_estimators=300, n_jobs=-1))])"
   ]
  },
  {
   "cell_type": "code",
   "execution_count": 90,
   "metadata": {},
   "outputs": [
    {
     "data": {
      "text/plain": [
       "Pipeline(memory=None,\n",
       "         steps=[('tfidf fasttext vectorizer',\n",
       "                 <__main__.TfidfEmbeddingVectorizer object at 0x0000020E3B8F00B8>),\n",
       "                ('XGB',\n",
       "                 XGBClassifier(base_score=0.5, booster='gbtree',\n",
       "                               colsample_bylevel=1, colsample_bynode=1,\n",
       "                               colsample_bytree=1, gamma=0, learning_rate=0.1,\n",
       "                               max_delta_step=0, max_depth=3,\n",
       "                               min_child_weight=1, missing=None,\n",
       "                               n_estimators=300, n_jobs=-1, nthread=None,\n",
       "                               objective='multi:softprob', random_state=0,\n",
       "                               reg_alpha=0, reg_lambda=1, scale_pos_weight=1,\n",
       "                               seed=None, silent=None, subsample=1,\n",
       "                               verbosity=1))],\n",
       "         verbose=False)"
      ]
     },
     "execution_count": 90,
     "metadata": {},
     "output_type": "execute_result"
    }
   ],
   "source": [
    "pipeline_tfidf_xgb.fit(X_train, y_train)"
   ]
  },
  {
   "cell_type": "code",
   "execution_count": 91,
   "metadata": {},
   "outputs": [
    {
     "name": "stderr",
     "output_type": "stream",
     "text": [
      "C:\\Users\\psv52\\Anaconda3\\envs\\tf-gpu\\lib\\site-packages\\sklearn\\linear_model\\logistic.py:432: FutureWarning: Default solver will be changed to 'lbfgs' in 0.22. Specify a solver to silence this warning.\n",
      "  FutureWarning)\n",
      "C:\\Users\\psv52\\Anaconda3\\envs\\tf-gpu\\lib\\site-packages\\sklearn\\linear_model\\logistic.py:469: FutureWarning: Default multi_class will be changed to 'auto' in 0.22. Specify the multi_class option to silence this warning.\n",
      "  \"this warning.\", FutureWarning)\n",
      "C:\\Users\\psv52\\Anaconda3\\envs\\tf-gpu\\lib\\site-packages\\sklearn\\svm\\base.py:193: FutureWarning: The default value of gamma will change from 'auto' to 'scale' in version 0.22 to account better for unscaled features. Set gamma explicitly to 'auto' or 'scale' to avoid this warning.\n",
      "  \"avoid this warning.\", FutureWarning)\n"
     ]
    },
    {
     "data": {
      "text/plain": [
       "Pipeline(memory=None,\n",
       "         steps=[('tfidf fasttext vectorizer',\n",
       "                 <__main__.TfidfEmbeddingVectorizer object at 0x0000020E3B8C8F28>),\n",
       "                ('SVC',\n",
       "                 SVC(C=1.0, cache_size=200, class_weight=None, coef0=0.0,\n",
       "                     decision_function_shape='ovr', degree=3,\n",
       "                     gamma='auto_deprecated', kernel='poly', max_iter=-1,\n",
       "                     probability=False, random_state=None, shrinking=True,\n",
       "                     tol=0.001, verbose=False))],\n",
       "         verbose=False)"
      ]
     },
     "execution_count": 91,
     "metadata": {},
     "output_type": "execute_result"
    }
   ],
   "source": [
    "pipeline_tfidf_lgr.fit(X_train, y_train)\n",
    "pipeline_tfidf_rfc.fit(X_train, y_train)\n",
    "pipeline_tfidf_svc.fit(X_train, y_train)"
   ]
  },
  {
   "cell_type": "code",
   "execution_count": 92,
   "metadata": {},
   "outputs": [
    {
     "data": {
      "text/plain": [
       "(1.0, 0.7116564417177914)"
      ]
     },
     "execution_count": 92,
     "metadata": {},
     "output_type": "execute_result"
    }
   ],
   "source": [
    "pipeline_tfidf_xgb.score(X_train, y_train), pipeline_tfidf_xgb.score(X_test, y_test)"
   ]
  },
  {
   "cell_type": "code",
   "execution_count": 93,
   "metadata": {},
   "outputs": [
    {
     "data": {
      "text/plain": [
       "(0.936923076923077, 0.7607361963190185)"
      ]
     },
     "execution_count": 93,
     "metadata": {},
     "output_type": "execute_result"
    }
   ],
   "source": [
    "pipeline_tfidf_lgr.score(X_train, y_train), pipeline_tfidf_lgr.score(X_test, y_test)\n"
   ]
  },
  {
   "cell_type": "code",
   "execution_count": 105,
   "metadata": {},
   "outputs": [
    {
     "data": {
      "text/plain": [
       "(1.0, 0.656441717791411)"
      ]
     },
     "execution_count": 105,
     "metadata": {},
     "output_type": "execute_result"
    }
   ],
   "source": [
    "pipeline_tfidf_rfc.score(X_train, y_train), pipeline_tfidf_rfc.score(X_test, y_test)"
   ]
  },
  {
   "cell_type": "code",
   "execution_count": 106,
   "metadata": {},
   "outputs": [
    {
     "data": {
      "text/plain": [
       "(0.8615384615384616, 0.7791411042944786)"
      ]
     },
     "execution_count": 106,
     "metadata": {},
     "output_type": "execute_result"
    }
   ],
   "source": [
    "pipeline_tfidf_svc.score(X_train, y_train), pipeline_tfidf_svc.score(X_test, y_test)\n"
   ]
  },
  {
   "cell_type": "code",
   "execution_count": 96,
   "metadata": {},
   "outputs": [],
   "source": [
    "# "
   ]
  },
  {
   "cell_type": "code",
   "execution_count": 499,
   "metadata": {},
   "outputs": [],
   "source": [
    "# clsf = RandomForestClassifier(n_estimators=100)\n",
    "# clsf_lgr = LogisticRegression()"
   ]
  },
  {
   "cell_type": "code",
   "execution_count": 500,
   "metadata": {},
   "outputs": [],
   "source": [
    "# clsf_xgb = XGBClassifier(n_estimators=500)"
   ]
  },
  {
   "cell_type": "code",
   "execution_count": 501,
   "metadata": {},
   "outputs": [],
   "source": [
    "# clsf.fit(X_train, y_train)\n",
    "# clsf_lgr.fit(X_train, y_train)"
   ]
  },
  {
   "cell_type": "code",
   "execution_count": 502,
   "metadata": {},
   "outputs": [],
   "source": [
    "# clsf_xgb.fit(X_train, y_train)"
   ]
  },
  {
   "cell_type": "code",
   "execution_count": 503,
   "metadata": {},
   "outputs": [],
   "source": [
    "# clsf.score(X_train, y_train), clsf_lgr.score(X_train, y_train), clsf_xgb.score(X_train, y_train)"
   ]
  },
  {
   "cell_type": "code",
   "execution_count": 504,
   "metadata": {},
   "outputs": [],
   "source": [
    "# clsf.score(X_test, y_test), clsf_lgr.score(X_test, y_test),  clsf_xgb.score(X_test, y_test)"
   ]
  },
  {
   "cell_type": "code",
   "execution_count": 97,
   "metadata": {},
   "outputs": [],
   "source": [
    "from sklearn.metrics import confusion_matrix, accuracy_score"
   ]
  },
  {
   "cell_type": "code",
   "execution_count": 98,
   "metadata": {},
   "outputs": [
    {
     "data": {
      "text/plain": [
       "{'возврат': 0,\n",
       " 'вопрос/жалоба': 1,\n",
       " 'изменения в заказе': 2,\n",
       " 'отказ от рассылки': 3,\n",
       " 'отмена заказа': 4,\n",
       " 'перезвонить': 5,\n",
       " 'подтверждение заказа': 6,\n",
       " 'подтверждение заказа+': 7,\n",
       " 'статус заказа': 8,\n",
       " 'статус заказа+': 9,\n",
       " 'удаление аккаунта': 10}"
      ]
     },
     "execution_count": 98,
     "metadata": {},
     "output_type": "execute_result"
    }
   ],
   "source": [
    "classes"
   ]
  },
  {
   "cell_type": "code",
   "execution_count": 99,
   "metadata": {},
   "outputs": [],
   "source": [
    "y_pr = pipeline_tfidf_svc.predict(df['text_tokens'])"
   ]
  },
  {
   "cell_type": "code",
   "execution_count": 100,
   "metadata": {},
   "outputs": [
    {
     "data": {
      "text/plain": [
       "<matplotlib.axes._subplots.AxesSubplot at 0x20e3b92e400>"
      ]
     },
     "execution_count": 100,
     "metadata": {},
     "output_type": "execute_result"
    },
    {
     "data": {
      "image/png": "[encoded data removed]",
      "text/plain": [
       "<Figure size 864x864 with 2 Axes>"
      ]
     },
     "metadata": {},
     "output_type": "display_data"
    }
   ],
   "source": [
    "sns.set(rc={'figure.figsize':(12,12)})\n",
    "sns.heatmap(confusion_matrix(df['y'], y_pr), annot=True, \n",
    "            xticklabels=classes.keys(), yticklabels=classes.keys())"
   ]
  },
  {
   "cell_type": "code",
   "execution_count": 101,
   "metadata": {},
   "outputs": [],
   "source": [
    "df['predicted'] = y_pr"
   ]
  },
  {
   "cell_type": "code",
   "execution_count": 102,
   "metadata": {},
   "outputs": [],
   "source": [
    "cols = ['class', 'predicted', 'text']"
   ]
  },
  {
   "cell_type": "code",
   "execution_count": 103,
   "metadata": {},
   "outputs": [],
   "source": [
    "pd.options.display.max_colwidth = 500"
   ]
  },
  {
   "cell_type": "code",
   "execution_count": 104,
   "metadata": {},
   "outputs": [
    {
     "data": {
      "text/plain": [
       "126"
      ]
     },
     "execution_count": 104,
     "metadata": {},
     "output_type": "execute_result"
    }
   ],
   "source": [
    "len(df[df['class']!=df['predicted']][cols])"
   ]
  },
  {
   "cell_type": "code",
   "execution_count": null,
   "metadata": {},
   "outputs": [],
   "source": []
  },
  {
   "cell_type": "code",
   "execution_count": 107,
   "metadata": {},
   "outputs": [],
   "source": [
    "from tensorflow.keras.preprocessing.text import Tokenizer\n",
    "from tensorflow.keras.preprocessing.sequence import pad_sequences\n",
    "from tensorflow.keras.layers import Dense, Input, GlobalMaxPooling1D, Conv1D, MaxPooling1D, Embedding\n",
    "from tensorflow.keras.layers import Flatten, BatchNormalization, Dropout, PReLU, ELU, LeakyReLU\n",
    "from tensorflow.keras.layers import concatenate\n",
    "from tensorflow.keras.regularizers import l2\n",
    "from tensorflow.keras.optimizers import Adam, RMSprop, Nadam\n",
    "from tensorflow.keras.models import Model\n",
    "from tensorflow.keras.utils import to_categorical\n",
    "from sklearn.metrics import roc_auc_score\n",
    "from livelossplot.tf_keras import PlotLossesCallback"
   ]
  },
  {
   "cell_type": "code",
   "execution_count": null,
   "metadata": {},
   "outputs": [],
   "source": []
  },
  {
   "cell_type": "code",
   "execution_count": 108,
   "metadata": {},
   "outputs": [],
   "source": [
    "MAX_SEQUENCE_LENGTH = 100\n",
    "MAX_VOCAB_SIZE = 20000\n",
    "EMBEDDING_DIM = 100\n",
    "VALIDATION_SPLIT = 0.2\n",
    "# BATCH_SIZE = 256\n",
    "EPOCHS = 500"
   ]
  },
  {
   "cell_type": "code",
   "execution_count": 109,
   "metadata": {},
   "outputs": [],
   "source": [
    "sentences = df['text_tokens'].values"
   ]
  },
  {
   "cell_type": "code",
   "execution_count": 110,
   "metadata": {},
   "outputs": [],
   "source": [
    "classes_ohe = dict(zip(classes.keys(), np.eye(len(classes))))"
   ]
  },
  {
   "cell_type": "code",
   "execution_count": 111,
   "metadata": {},
   "outputs": [],
   "source": [
    "idx_to_classes = dict(zip(range(len(classes)), classes))"
   ]
  },
  {
   "cell_type": "code",
   "execution_count": 112,
   "metadata": {},
   "outputs": [],
   "source": [
    "\n",
    "targets = np.stack(df['y'].map(classes_ohe).values)"
   ]
  },
  {
   "cell_type": "code",
   "execution_count": 113,
   "metadata": {},
   "outputs": [],
   "source": [
    "tokenizer = Tokenizer(num_words=MAX_VOCAB_SIZE)\n",
    "tokenizer.fit_on_texts(sentences)\n",
    "sequences = tokenizer.texts_to_sequences(sentences)"
   ]
  },
  {
   "cell_type": "code",
   "execution_count": null,
   "metadata": {},
   "outputs": [],
   "source": []
  },
  {
   "cell_type": "code",
   "execution_count": 114,
   "metadata": {},
   "outputs": [
    {
     "name": "stdout",
     "output_type": "stream",
     "text": [
      "max sequence length: 559\n",
      "min sequence length: 1\n",
      "median sequence length: 12\n"
     ]
    }
   ],
   "source": [
    "print(\"max sequence length:\", max(len(s) for s in sequences))\n",
    "print(\"min sequence length:\", min(len(s) for s in sequences))\n",
    "s = sorted(len(s) for s in sequences)\n",
    "print(\"median sequence length:\", s[len(s) // 2])"
   ]
  },
  {
   "cell_type": "code",
   "execution_count": 115,
   "metadata": {},
   "outputs": [
    {
     "name": "stdout",
     "output_type": "stream",
     "text": [
      "Found 3741 unique tokens.\n"
     ]
    }
   ],
   "source": [
    "word2idx = tokenizer.word_index\n",
    "print('Found %s unique tokens.' % len(word2idx))"
   ]
  },
  {
   "cell_type": "code",
   "execution_count": 116,
   "metadata": {},
   "outputs": [
    {
     "name": "stdout",
     "output_type": "stream",
     "text": [
      "Shape of data tensor: (813, 100)\n"
     ]
    }
   ],
   "source": [
    "data = pad_sequences(sequences, maxlen=MAX_SEQUENCE_LENGTH)\n",
    "print('Shape of data tensor:', data.shape)"
   ]
  },
  {
   "cell_type": "code",
   "execution_count": 117,
   "metadata": {},
   "outputs": [],
   "source": [
    "num_words = min(MAX_VOCAB_SIZE, len(word2idx) + 1)\n",
    "embedding_matrix = np.zeros((num_words, EMBEDDING_DIM))\n",
    "\n",
    "for word, i in word2idx.items():\n",
    "    if i < MAX_VOCAB_SIZE:\n",
    "        embedding_vector = ft_dict.get(word)\n",
    "        if embedding_vector is not None:\n",
    "          # words not found in embedding index will be all zeros.\n",
    "          embedding_matrix[i] = embedding_vector"
   ]
  },
  {
   "cell_type": "code",
   "execution_count": 118,
   "metadata": {},
   "outputs": [],
   "source": [
    "embedding_layer = Embedding(\n",
    "  num_words,\n",
    "  EMBEDDING_DIM,\n",
    "  weights=[embedding_matrix],\n",
    "  input_length=MAX_SEQUENCE_LENGTH,\n",
    "  trainable=False\n",
    ")"
   ]
  },
  {
   "cell_type": "code",
   "execution_count": 119,
   "metadata": {},
   "outputs": [
    {
     "data": {
      "text/plain": [
       "(813, 100)"
      ]
     },
     "execution_count": 119,
     "metadata": {},
     "output_type": "execute_result"
    }
   ],
   "source": [
    "data.shape"
   ]
  },
  {
   "cell_type": "code",
   "execution_count": 120,
   "metadata": {},
   "outputs": [
    {
     "data": {
      "text/plain": [
       "(813, 11)"
      ]
     },
     "execution_count": 120,
     "metadata": {},
     "output_type": "execute_result"
    }
   ],
   "source": [
    "targets.shape"
   ]
  },
  {
   "cell_type": "code",
   "execution_count": 121,
   "metadata": {},
   "outputs": [
    {
     "name": "stdout",
     "output_type": "stream",
     "text": [
      "WARNING:tensorflow:From C:\\Users\\psv52\\Anaconda3\\envs\\tf-gpu\\lib\\site-packages\\tensorflow\\python\\ops\\resource_variable_ops.py:435: colocate_with (from tensorflow.python.framework.ops) is deprecated and will be removed in a future version.\n",
      "Instructions for updating:\n",
      "Colocations handled automatically by placer.\n"
     ]
    },
    {
     "data": {
      "text/plain": [
       "'ELU, LeakyReLU'"
      ]
     },
     "execution_count": 121,
     "metadata": {},
     "output_type": "execute_result"
    }
   ],
   "source": [
    "adam = Adam(lr=3e-4)\n",
    "nadam = Nadam(lr=2e-4)\n",
    "rmsp = RMSprop(lr=3e-4)\n",
    "\n",
    "\n",
    "act_func = LeakyReLU()\n",
    "\n",
    "'ELU, LeakyReLU'"
   ]
  },
  {
   "cell_type": "code",
   "execution_count": 122,
   "metadata": {},
   "outputs": [
    {
     "name": "stdout",
     "output_type": "stream",
     "text": [
      "WARNING:tensorflow:From C:\\Users\\psv52\\Anaconda3\\envs\\tf-gpu\\lib\\site-packages\\tensorflow\\python\\keras\\layers\\core.py:143: calling dropout (from tensorflow.python.ops.nn_ops) with keep_prob is deprecated and will be removed in a future version.\n",
      "Instructions for updating:\n",
      "Please use `rate` instead of `keep_prob`. Rate should be set to `rate = 1 - keep_prob`.\n"
     ]
    }
   ],
   "source": [
    "input_ = Input(shape=(MAX_SEQUENCE_LENGTH,))\n",
    "x = embedding_layer(input_)\n",
    "x = Conv1D(128, 3, activation=act_func, kernel_regularizer=l2(2e-2))(x)\n",
    "x = MaxPooling1D(3)(x)\n",
    "x = Dropout(0.1)(x)\n",
    "x = BatchNormalization()(x)\n",
    "x = Conv1D(128, 3, activation=act_func, kernel_regularizer=l2(2e-2))(x)\n",
    "x = MaxPooling1D(3)(x)\n",
    "x = Dropout(0.1)(x)\n",
    "x = BatchNormalization()(x)\n",
    "x = Conv1D(128, 3, activation=act_func, kernel_regularizer=l2(2e-2))(x)\n",
    "x = GlobalMaxPooling1D()(x)\n",
    "x = Dense(128, activation=act_func, kernel_regularizer=l2(2e-3))(x)\n",
    "x = Dropout(0.1)(x)\n",
    "x = BatchNormalization()(x)\n",
    "output = Dense(len(classes), activation='softmax')(x)"
   ]
  },
  {
   "cell_type": "code",
   "execution_count": 124,
   "metadata": {},
   "outputs": [],
   "source": [
    "data_train, data_val, targets_train, targets_val = train_test_split(data, targets, stratify=targets, test_size=VALIDATION_SPLIT)"
   ]
  },
  {
   "cell_type": "code",
   "execution_count": 123,
   "metadata": {},
   "outputs": [],
   "source": [
    "model = Model(input_, output)\n",
    "model.compile(\n",
    "  loss='categorical_crossentropy',\n",
    "  optimizer=nadam,\n",
    "  metrics=['accuracy']\n",
    ")"
   ]
  },
  {
   "cell_type": "code",
   "execution_count": 125,
   "metadata": {},
   "outputs": [
    {
     "data": {
      "image/png": "[encoded data removed]",
      "text/plain": [
       "<Figure size 864x576 with 2 Axes>"
      ]
     },
     "metadata": {},
     "output_type": "display_data"
    },
    {
     "name": "stdout",
     "output_type": "stream",
     "text": [
      "Log-loss (cost function):\n",
      "training   (min:    0.116, max:   10.119, cur:    0.161)\n",
      "validation (min:    1.177, max:    9.777, cur:    1.596)\n",
      "\n",
      "Accuracy:\n",
      "training   (min:    0.200, max:    0.995, cur:    0.991)\n",
      "validation (min:    0.233, max:    0.773, cur:    0.748)\n",
      "650/650 [==============================] - 1s 950us/sample - loss: 0.1614 - acc: 0.9908 - val_loss: 1.5960 - val_acc: 0.7485\n"
     ]
    }
   ],
   "source": [
    "r = model.fit(\n",
    "    data_train,\n",
    "    targets_train,\n",
    "    epochs=EPOCHS,\n",
    "    validation_data=(data_val, targets_val),\n",
    "    callbacks=[PlotLossesCallback()],\n",
    ")"
   ]
  },
  {
   "cell_type": "code",
   "execution_count": null,
   "metadata": {},
   "outputs": [],
   "source": []
  },
  {
   "cell_type": "code",
   "execution_count": 126,
   "metadata": {},
   "outputs": [],
   "source": [
    "# plt.plot(r.history['loss'], label='loss')\n",
    "# plt.plot(r.history['val_loss'], label='val_loss')\n",
    "# plt.legend()\n",
    "# plt.show()"
   ]
  },
  {
   "cell_type": "code",
   "execution_count": null,
   "metadata": {},
   "outputs": [],
   "source": []
  },
  {
   "cell_type": "code",
   "execution_count": 127,
   "metadata": {},
   "outputs": [],
   "source": [
    "# plt.plot(r.history['acc'], label='acc')\n",
    "# plt.plot(r.history['val_acc'], label='val_acc')\n",
    "# plt.legend()\n",
    "# plt.show()"
   ]
  },
  {
   "cell_type": "code",
   "execution_count": null,
   "metadata": {},
   "outputs": [],
   "source": []
  },
  {
   "cell_type": "code",
   "execution_count": 128,
   "metadata": {},
   "outputs": [],
   "source": [
    "pred = model.predict(data)\n",
    "# aucs = []\n",
    "# for j in range(13):\n",
    "#     auc = roc_auc_score(targets[:,j], p[:,j])\n",
    "#     aucs.append(auc)\n",
    "# print(np.mean(aucs))"
   ]
  },
  {
   "cell_type": "code",
   "execution_count": 129,
   "metadata": {},
   "outputs": [],
   "source": [
    "def decode_prediction(pred):\n",
    "    res = []\n",
    "    for pr in pred:\n",
    "        res.append(idx_to_classes[np.argmax(pr)])\n",
    "    return res"
   ]
  },
  {
   "cell_type": "code",
   "execution_count": 130,
   "metadata": {},
   "outputs": [],
   "source": [
    "y_pr = decode_prediction(pred)"
   ]
  },
  {
   "cell_type": "code",
   "execution_count": 131,
   "metadata": {},
   "outputs": [],
   "source": [
    "df['predicted'] = y_pr"
   ]
  },
  {
   "cell_type": "code",
   "execution_count": 132,
   "metadata": {},
   "outputs": [
    {
     "data": {
      "text/plain": [
       "45"
      ]
     },
     "execution_count": 132,
     "metadata": {},
     "output_type": "execute_result"
    }
   ],
   "source": [
    "len(df[df['class']!=df['predicted']][cols])"
   ]
  },
  {
   "cell_type": "code",
   "execution_count": 133,
   "metadata": {},
   "outputs": [
    {
     "data": {
      "text/plain": [
       "<matplotlib.axes._subplots.AxesSubplot at 0x20e47368ba8>"
      ]
     },
     "execution_count": 133,
     "metadata": {},
     "output_type": "execute_result"
    },
    {
     "data": {
      "image/png": "[encoded data removed]",
      "text/plain": [
       "<Figure size 864x864 with 2 Axes>"
      ]
     },
     "metadata": {},
     "output_type": "display_data"
    }
   ],
   "source": [
    "sns.set(rc={'figure.figsize':(12,12)})\n",
    "sns.heatmap(confusion_matrix(df['y'], y_pr), annot=True, \n",
    "            xticklabels=classes.keys(), yticklabels=classes.keys())"
   ]
  },
  {
   "cell_type": "code",
   "execution_count": 134,
   "metadata": {},
   "outputs": [
    {
     "data": {
      "text/plain": [
       "0.9446494464944649"
      ]
     },
     "execution_count": 134,
     "metadata": {},
     "output_type": "execute_result"
    }
   ],
   "source": [
    "accuracy_score(df['y'], y_pr)"
   ]
  },
  {
   "cell_type": "code",
   "execution_count": 135,
   "metadata": {},
   "outputs": [],
   "source": [
    "# df[df['class']!=df['predicted']][cols]"
   ]
  },
  {
   "cell_type": "code",
   "execution_count": null,
   "metadata": {},
   "outputs": [],
   "source": []
  },
  {
   "cell_type": "code",
   "execution_count": null,
   "metadata": {},
   "outputs": [],
   "source": []
  },
  {
   "cell_type": "code",
   "execution_count": 136,
   "metadata": {},
   "outputs": [],
   "source": [
    "nadam_2 = Nadam(lr=4e-5)\n",
    "EPOCHS_2 = 600"
   ]
  },
  {
   "cell_type": "code",
   "execution_count": 137,
   "metadata": {},
   "outputs": [],
   "source": [
    "input_1 = Input(shape=(MAX_SEQUENCE_LENGTH,))\n",
    "embedding_1 = embedding_layer(input_1)\n",
    "\n",
    "x_1 = Conv1D(filters=128, kernel_size=3, activation='relu', kernel_regularizer=l2(3e-2))(embedding_1)\n",
    "x_1 = Dropout(0.4)(x_1)\n",
    "x_1 = BatchNormalization()(x_1)\n",
    "x_1 = MaxPooling1D(pool_size=2)(x_1)\n",
    "x_1 = Flatten()(x_1)\n",
    "# channel 2\n",
    "x_2 = Conv1D(filters=128, kernel_size=5, activation='relu', kernel_regularizer=l2(3e-2))(embedding_1)\n",
    "x_2 = Dropout(0.4)(x_2)\n",
    "x_2 = BatchNormalization()(x_2)\n",
    "x_2 = MaxPooling1D(pool_size=2)(x_2)\n",
    "x_2 = Flatten()(x_2)\n",
    "# channel 3\n",
    "x_3 = Conv1D(filters=128, kernel_size=7, activation='relu', kernel_regularizer=l2(3e-2))(embedding_1)\n",
    "x_3 = Dropout(0.4)(x_3)\n",
    "x_3 = BatchNormalization()(x_3)\n",
    "x_3 = MaxPooling1D(pool_size=2)(x_3)\n",
    "x_3 = Flatten()(x_3)\n",
    "# merge\n",
    "x_ = concatenate([x_1, x_2, x_3])\n",
    "# interpretation\n",
    "x_ = Dense(128, activation='relu', kernel_regularizer=l2(3e-2))(x_)\n",
    "x_ = Dropout(0.4)(x_)\n",
    "x_ = BatchNormalization()(x_)\n",
    "output_ = Dense(len(classes), activation='softmax')(x_)"
   ]
  },
  {
   "cell_type": "code",
   "execution_count": 138,
   "metadata": {},
   "outputs": [],
   "source": [
    "model_2 = Model(input_1, output_)"
   ]
  },
  {
   "cell_type": "code",
   "execution_count": 139,
   "metadata": {},
   "outputs": [],
   "source": [
    "model_2.compile(\n",
    "  loss='categorical_crossentropy',\n",
    "  optimizer=nadam_2,\n",
    "  metrics=['accuracy']\n",
    ")"
   ]
  },
  {
   "cell_type": "code",
   "execution_count": 140,
   "metadata": {},
   "outputs": [
    {
     "data": {
      "image/png": "[encoded data removed]",
      "text/plain": [
       "<Figure size 864x576 with 2 Axes>"
      ]
     },
     "metadata": {},
     "output_type": "display_data"
    },
    {
     "name": "stdout",
     "output_type": "stream",
     "text": [
      "Log-loss (cost function):\n",
      "training   (min:    0.043, max:   20.246, cur:    0.048)\n",
      "validation (min:    1.013, max:   19.748, cur:    1.079)\n",
      "\n",
      "Accuracy:\n",
      "training   (min:    0.234, max:    1.000, cur:    1.000)\n",
      "validation (min:    0.380, max:    0.773, cur:    0.748)\n",
      "650/650 [==============================] - 1s 1ms/sample - loss: 0.0481 - acc: 1.0000 - val_loss: 1.0791 - val_acc: 0.7485\n"
     ]
    }
   ],
   "source": [
    "r_2 = model_2.fit(\n",
    "    data_train,\n",
    "    targets_train,\n",
    "    epochs=EPOCHS_2,\n",
    "    validation_data=(data_val, targets_val),\n",
    "    callbacks=[PlotLossesCallback()],\n",
    ")"
   ]
  },
  {
   "cell_type": "code",
   "execution_count": 141,
   "metadata": {},
   "outputs": [],
   "source": [
    "# plt.plot(r_2.history['loss'], label='loss')\n",
    "# plt.plot(r_2.history['val_loss'], label='val_loss')\n",
    "# plt.legend()\n",
    "# plt.show()"
   ]
  },
  {
   "cell_type": "code",
   "execution_count": 142,
   "metadata": {},
   "outputs": [],
   "source": [
    "# plt.plot(r_2.history['acc'], label='acc')\n",
    "# plt.plot(r_2.history['val_acc'], label='val_acc')\n",
    "# plt.legend()\n",
    "# # plt.show()"
   ]
  },
  {
   "cell_type": "code",
   "execution_count": 143,
   "metadata": {},
   "outputs": [],
   "source": [
    "pred_2 = model_2.predict(data)\n",
    "# aucs = []\n",
    "# for j in range(13):\n",
    "#     auc = roc_auc_score(targets[:,j], p[:,j])\n",
    "#     aucs.append(auc)\n",
    "# print(np.mean(aucs))"
   ]
  },
  {
   "cell_type": "code",
   "execution_count": 144,
   "metadata": {},
   "outputs": [],
   "source": [
    "y_pr_2 = decode_prediction(pred_2)"
   ]
  },
  {
   "cell_type": "code",
   "execution_count": 145,
   "metadata": {},
   "outputs": [],
   "source": [
    "df['predicted_2'] = y_pr_2"
   ]
  },
  {
   "cell_type": "code",
   "execution_count": 146,
   "metadata": {},
   "outputs": [
    {
     "data": {
      "text/plain": [
       "41"
      ]
     },
     "execution_count": 146,
     "metadata": {},
     "output_type": "execute_result"
    }
   ],
   "source": [
    "len(df[df['class']!=df['predicted_2']][cols])"
   ]
  },
  {
   "cell_type": "code",
   "execution_count": 147,
   "metadata": {},
   "outputs": [
    {
     "data": {
      "text/plain": [
       "<matplotlib.axes._subplots.AxesSubplot at 0x20e468e7b38>"
      ]
     },
     "execution_count": 147,
     "metadata": {},
     "output_type": "execute_result"
    },
    {
     "data": {
      "image/png": "[encoded data removed]",
      "text/plain": [
       "<Figure size 864x864 with 2 Axes>"
      ]
     },
     "metadata": {},
     "output_type": "display_data"
    }
   ],
   "source": [
    "sns.set(rc={'figure.figsize':(12,12)})\n",
    "sns.heatmap(confusion_matrix(df['y'], y_pr_2), annot=True, \n",
    "            xticklabels=classes.keys(), yticklabels=classes.keys())"
   ]
  },
  {
   "cell_type": "code",
   "execution_count": 148,
   "metadata": {},
   "outputs": [
    {
     "data": {
      "text/plain": [
       "0.949569495694957"
      ]
     },
     "execution_count": 148,
     "metadata": {},
     "output_type": "execute_result"
    }
   ],
   "source": [
    "accuracy_score(df['y'], y_pr_2)"
   ]
  },
  {
   "cell_type": "code",
   "execution_count": null,
   "metadata": {},
   "outputs": [],
   "source": []
  },
  {
   "cell_type": "code",
   "execution_count": null,
   "metadata": {},
   "outputs": [],
   "source": []
  },
  {
   "cell_type": "code",
   "execution_count": null,
   "metadata": {},
   "outputs": [],
   "source": []
  },
  {
   "cell_type": "code",
   "execution_count": null,
   "metadata": {},
   "outputs": [],
   "source": []
  },
  {
   "cell_type": "code",
   "execution_count": null,
   "metadata": {},
   "outputs": [],
   "source": []
  },
  {
   "cell_type": "code",
   "execution_count": null,
   "metadata": {},
   "outputs": [],
   "source": []
  },
  {
   "cell_type": "code",
   "execution_count": null,
   "metadata": {},
   "outputs": [],
   "source": []
  },
  {
   "cell_type": "code",
   "execution_count": null,
   "metadata": {},
   "outputs": [],
   "source": []
  },
  {
   "cell_type": "code",
   "execution_count": null,
   "metadata": {},
   "outputs": [],
   "source": []
  },
  {
   "cell_type": "code",
   "execution_count": null,
   "metadata": {},
   "outputs": [],
   "source": []
  },
  {
   "cell_type": "code",
   "execution_count": null,
   "metadata": {},
   "outputs": [],
   "source": []
  },
  {
   "cell_type": "code",
   "execution_count": null,
   "metadata": {},
   "outputs": [],
   "source": []
  },
  {
   "cell_type": "code",
   "execution_count": null,
   "metadata": {},
   "outputs": [],
   "source": []
  },
  {
   "cell_type": "code",
   "execution_count": null,
   "metadata": {},
   "outputs": [],
   "source": []
  },
  {
   "cell_type": "code",
   "execution_count": null,
   "metadata": {},
   "outputs": [],
   "source": []
  }
 ],
 "metadata": {
  "kernelspec": {
   "display_name": "Python 3",
   "language": "python",
   "name": "python3"
  },
  "language_info": {
   "codemirror_mode": {
    "name": "ipython",
    "version": 3
   },
   "file_extension": ".py",
   "mimetype": "text/x-python",
   "name": "python",
   "nbconvert_exporter": "python",
   "pygments_lexer": "ipython3",
   "version": "3.6.11"
  }
 },
 "nbformat": 4,
 "nbformat_minor": 4
}
