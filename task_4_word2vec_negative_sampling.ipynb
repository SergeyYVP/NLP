{
 "cells": [
  {
   "cell_type": "markdown",
   "metadata": {},
   "source": [
    "# Assignment 1.4: Negative sampling (15 points)\n",
    "\n",
    "You may have noticed that word2vec is really slow to train. Especially with big (> 50 000) vocabularies. Negative sampling is the solution.\n",
    "\n",
    "The task is to implement word2vec with negative sampling.\n",
    "\n",
    "This is what was discussed in Stanford lecture. The main idea is in the formula:\n",
    "\n",
    "$$ L = \\log\\sigma(u^T_o \\cdot u_c) + \\sum^k_{i=1} \\mathbb{E}_{j \\sim P(w)}[\\log\\sigma(-u^T_j \\cdot u_c)]$$\n",
    "\n",
    "Where $\\sigma$ - sigmoid function, $u_c$ - central word vector, $u_o$ - context (outside of the window) word vector, $u_j$ - vector or word with index $j$.\n",
    "\n",
    "The first term calculates the similarity between positive examples (word from one window)\n",
    "\n",
    "The second term is responsible for negative samples. $k$ is a hyperparameter - the number of negatives to sample.\n",
    "$\\mathbb{E}_{j \\sim P(w)}$\n",
    "means that $j$ is distributed accordingly to unigram distribution.\n",
    "\n",
    "Thus, it is only required to calculate the similarity between positive samples and some other negatives. Not across all the vocabulary.\n",
    "\n",
    "Useful links:\n",
    "1. [Efficient Estimation of Word Representations in Vector Space](https://arxiv.org/pdf/1301.3781.pdf)\n",
    "1. [Distributed Representations of Words and Phrases and their Compositionality](http://papers.nips.cc/paper/5021-distributed-representations-of-words-and-phrases-and-their-compositionality.pdf)"
   ]
  },
  {
   "cell_type": "code",
   "execution_count": 2,
   "metadata": {},
   "outputs": [],
   "source": [
    "import os\n",
    "from collections import Counter\n",
    "import numpy as np\n",
    "import tqdm\n",
    "import torch\n",
    "import torch.nn.functional as F\n",
    "import torch.optim as optim\n",
    "import torch.nn as nn\n",
    "from torch.autograd import Variable\n",
    "import matplotlib.pyplot as plt\n",
    "from datetime import datetime\n",
    "from numba import jit\n",
    "from itertools import chain"
   ]
  },
  {
   "cell_type": "code",
   "execution_count": 3,
   "metadata": {},
   "outputs": [],
   "source": [
    "def read_corpus(path=os.path.join('data', 'text8.txt')):\n",
    "    '''\n",
    "    Функция читает файл с текстом, преобразует его в список слов.\n",
    "    '''\n",
    "    with open(path, 'r') as f:\n",
    "        corpus = f.read().split()\n",
    "    return corpus\n",
    "\n",
    "def read_and_transform_corpus(path=os.path.join('data', 'text8.txt'), vocab_sz = 20000):\n",
    "    '''\n",
    "    Функция читает файл с текстом, преобразует его в список слов.\n",
    "    Заменяет редкие слова (не входящие в топ vocab_sz) на 'UNK'.\n",
    "    '''\n",
    "    corpus = read_corpus(path)\n",
    "    words_counter = Counter(corpus)\n",
    "    words_to_keep = set([pair[0] for pair in words_counter.most_common(\n",
    "                    min(vocab_sz-1, len(words_counter)))]\n",
    "    )\n",
    "    corpus = [word if word in words_to_keep else 'UNK' for word in corpus]\n",
    "    return corpus\n",
    "\n",
    "def build_vocabulary(corpus):\n",
    "    '''\n",
    "    Функция возвращает два словаря: слово-индекс и индекс-слово.\n",
    "    '''\n",
    "    corpus_words = set(corpus)\n",
    "    num_corpus_words = len(corpus_words)\n",
    "    index2word = dict(enumerate(corpus_words))\n",
    "    word2index = dict(zip(index2word.values(), index2word.keys()))\n",
    "    return word2index, index2word\n",
    "\n",
    "def corpus_to_index(corpus, word2index):\n",
    "    '''\n",
    "    Функция преобразует список слов из корпуса в список индексов.\n",
    "    '''\n",
    "    return [word2index[word] for word in corpus]"
   ]
  },
  {
   "cell_type": "code",
   "execution_count": 4,
   "metadata": {},
   "outputs": [],
   "source": [
    "@jit(nopython=True)\n",
    "def rand_choice_neg_words(V_arr, prob, num):\n",
    "    \"\"\"\n",
    "    :param V_arr: A 1D numpy array of values to sample from.\n",
    "    :param prob: A 1D numpy array of probabilities for the given samples.\n",
    "    :return: A random sample from the given array with a given probability.\n",
    "    \"\"\"\n",
    "    return V_arr[np.searchsorted(np.cumsum(prob), np.random.random(num), side=\"right\")]"
   ]
  },
  {
   "cell_type": "code",
   "execution_count": 5,
   "metadata": {},
   "outputs": [],
   "source": [
    "def batcher(corpus, p_keep, p_neg, num_neg_for_window, V_arr, window_sz=4, num_neg=5):\n",
    "    '''\n",
    "    Возвращает центральное слово (central_word в виде числа) и слова из окна + \n",
    "    negative words (объеденены в train_words) в виде 1D numpy array.\n",
    "    p_keep - распределение вероятностей для слов, определяющее,\n",
    "    должно ли слово быть оставлено в тексте (1D numpy array).\n",
    "    p_neg - распределение вероятностей для negative words, определяющее,\n",
    "    с какой вероятностью слово должно быть сэмплировано как negative (1D numpy array).\n",
    "    num_neg_for_window - количество negative words на одно окно (2*window_sz).\n",
    "    V_arr - 1D numpy array индексов словаря V (числа от 0 до V-1)\n",
    "    window_sz - размер окна.\n",
    "    num_neg - количество negative words.\n",
    "    \n",
    "    '''\n",
    "    # возвращает 1D array размером len(corpus) с True для слов,\n",
    "    # которые нужно оставить в корпусе и False для слов, которые \n",
    "    # нужно удалить.\n",
    "    condition_to_keep = np.less(np.random.random(corpus_len), \n",
    "                                p_keep[corpus]\n",
    "    )\n",
    "    # уменьшенный корпус в виде 1D array\n",
    "    reduced_corpus = np.array(corpus)[condition_to_keep]\n",
    "    # паддинг для начала и конца корпуса размером с окно.\n",
    "    padding = np.array([word2index['UNK']]*window_sz)\n",
    "    reduced_corpus_len = len(reduced_corpus)\n",
    "    # корпус с паддингом\n",
    "    corpus =  np.concatenate((padding, reduced_corpus, padding))\n",
    "    corpus_indexes = np.arange(reduced_corpus_len) + 4\n",
    "    # случайная перестановка индексов корпуса\n",
    "    np.random.shuffle(corpus_indexes)\n",
    "    # генерация всех negative words для одной эпохи.\n",
    "    all_neg_words = rand_choice_neg_words(V_arr, p_neg, reduced_corpus_len*num_neg_for_window).reshape(\n",
    "        reduced_corpus_len, num_neg_for_window\n",
    "    )\n",
    "    for i in corpus_indexes:\n",
    "        central_word = corpus[i]\n",
    "        # начало окна\n",
    "        start = i - window_sz\n",
    "        # конец окна\n",
    "        end = i + window_sz + 1\n",
    "        neg_words = all_neg_words[i-4]\n",
    "        train_words = np.concatenate((corpus[start: i], corpus[i+1: end], neg_words))\n",
    "        yield central_word, train_words"
   ]
  },
  {
   "cell_type": "code",
   "execution_count": 6,
   "metadata": {},
   "outputs": [],
   "source": [
    "@jit(nopython=True)\n",
    "def back_prop(central_word, train_words, lr, W1, W2):\n",
    "    \"\"\"\n",
    "    Применяет градиентный спуск для W1 и W2, \n",
    "    а также возвращает loss.\n",
    "    \"\"\"\n",
    "    h = W1[central_word]\n",
    "    predictions = sigmoid(np.dot(h, W2[:, train_words]))\n",
    "    pred_errors = predictions - true_labels\n",
    "    dW1 = np.dot(W2[:, train_words], pred_errors)\n",
    "    dW2 = np.outer(h, pred_errors)\n",
    "    \n",
    "    \n",
    "    W1[central_word] -= lr*dW1\n",
    "    \n",
    "    W2[:, train_words] -= lr*dW2\n",
    "    loss = -np.sum(np.log(predictions[:window_sz*2] + 1e-10)) - \\\n",
    "            np.sum(np.log(1 - predictions[window_sz*2:] + 1e-10))\n",
    "    return loss"
   ]
  },
  {
   "cell_type": "code",
   "execution_count": 7,
   "metadata": {},
   "outputs": [],
   "source": [
    "@jit(nopython=True)\n",
    "def sigmoid(x):\n",
    "    return 1.0 / (1.0 + np.exp(-x))\n",
    "\n",
    "# @jit(nopython=True)\n",
    "# def loss_func(predictions):\n",
    "#     return -np.sum(np.log(predictions[:window_sz*2] + 1e-10)) - \\\n",
    "#             np.sum(np.log(1.0 - predictions[window_sz*2:] + 1e-10))"
   ]
  },
  {
   "cell_type": "code",
   "execution_count": 8,
   "metadata": {},
   "outputs": [],
   "source": [
    "D = 100 # размерность эмбединга\n",
    "window_sz = 4 # размер окна\n",
    "num_neg = 5 # количество negative words\n",
    "num_neg_for_window = 2*window_sz*num_neg # количество negative words на окно"
   ]
  },
  {
   "cell_type": "code",
   "execution_count": 9,
   "metadata": {},
   "outputs": [],
   "source": [
    "corpus = read_and_transform_corpus()"
   ]
  },
  {
   "cell_type": "code",
   "execution_count": 10,
   "metadata": {},
   "outputs": [],
   "source": [
    "word2index, index2word = build_vocabulary(corpus)"
   ]
  },
  {
   "cell_type": "code",
   "execution_count": 11,
   "metadata": {},
   "outputs": [],
   "source": [
    "corpus_of_idxs = corpus_to_index(corpus, word2index) # корпус в виде индексов слов"
   ]
  },
  {
   "cell_type": "code",
   "execution_count": 12,
   "metadata": {},
   "outputs": [],
   "source": [
    "V = len(word2index) # размер словаря\n",
    "corpus_len = len(corpus)\n",
    "V_arr = np.arange(V) "
   ]
  },
  {
   "cell_type": "code",
   "execution_count": 17,
   "metadata": {},
   "outputs": [
    {
     "name": "stdout",
     "output_type": "stream",
     "text": [
      "Размер окна: 4\n",
      "Размер словаря: 20000\n",
      "Размерность эмбеддинга: 100\n",
      "Количество слов в корпусе: 17005207\n"
     ]
    }
   ],
   "source": [
    "print(f\"Размер окна: {window_sz}\")\n",
    "# print(f\"Размер батча: {batch_size}\")\n",
    "print(f\"Размер словаря: {V}\")\n",
    "print(f\"Размерность эмбеддинга: {D}\")\n",
    "print(f\"Количество слов в корпусе: {corpus_len}\")"
   ]
  },
  {
   "cell_type": "code",
   "execution_count": null,
   "metadata": {},
   "outputs": [],
   "source": [
    "W1 = np.random.randn(V, D) / np.sqrt(V) # матрица эмбедингов для центральных слов\n",
    "W2 = np.random.randn(D, V) / np.sqrt(D) # матрица эмбедингов контекстов\n",
    "pos_labels = np.ones(window_sz*2) # метки для слов из окна\n",
    "neg_labels = np.zeros(num_neg_for_window) # метки для negative words\n",
    "true_labels = np.concatenate((pos_labels, neg_labels)) # метки для train words"
   ]
  },
  {
   "cell_type": "code",
   "execution_count": null,
   "metadata": {},
   "outputs": [],
   "source": [
    "true_labels"
   ]
  },
  {
   "cell_type": "code",
   "execution_count": 14,
   "metadata": {},
   "outputs": [],
   "source": [
    "def get_p_drop_p_neg(corpus, threshold = 1e-3):\n",
    "    \"\"\"\n",
    "    возвращает:\n",
    "    p_keep: распределение вероятностей  для слов, определяющее,\n",
    "    должно ли слово быть оставлено в тексте (1D numpy array).\n",
    "    p_neg: распределение вероятностей для negative words, определяющее,\n",
    "    с какой вероятностью слово должно быть сэмплировано как negative (1D numpy array).\n",
    "    \"\"\"\n",
    "    cnt = Counter(corpus)\n",
    "    freq = np.array([[word2index[pair[0]], pair[1]] for pair in cnt.items()])\n",
    "    freq = freq[freq[:,0].argsort()]\n",
    "    p_neg = np.power(freq[:,1], 0.75) / np.power(freq[:,1], 0.75).sum()\n",
    "    fraction = freq[:,1] / freq[:,1].sum()\n",
    "    p_keep = (np.sqrt(fraction/threshold) + 1)*threshold/(fraction)\n",
    "    return p_keep, p_neg"
   ]
  },
  {
   "cell_type": "code",
   "execution_count": 15,
   "metadata": {},
   "outputs": [],
   "source": [
    "p_keep, p_neg = get_p_drop_p_neg(corpus)"
   ]
  },
  {
   "cell_type": "code",
   "execution_count": 16,
   "metadata": {},
   "outputs": [],
   "source": [
    "epochs = 5\n",
    "losses = []\n",
    "lr = 1e-3"
   ]
  },
  {
   "cell_type": "code",
   "execution_count": 22,
   "metadata": {},
   "outputs": [
    {
     "name": "stdout",
     "output_type": "stream",
     "text": [
      "epoch: 1, iteration: 0, time: 0:00:46.986160, loss: 33.27161490607967\n",
      "epoch: 1, iteration: 1000000, time: 0:02:14.888004, loss: 23.443124200645727\n",
      "epoch: 1, iteration: 2000000, time: 0:03:45.412151, loss: 20.81779120437654\n",
      "epoch: 1, iteration: 3000000, time: 0:05:14.227498, loss: 20.382234866940415\n",
      "epoch: 1, iteration: 4000000, time: 0:06:45.457196, loss: 23.469826290113616\n",
      "epoch: 1, iteration: 5000000, time: 0:08:13.401926, loss: 22.7130837284639\n",
      "epoch: 1, iteration: 6000000, time: 0:09:42.303272, loss: 21.35229025051386\n",
      "epoch: 1, iteration: 7000000, time: 0:11:11.451215, loss: 22.600726208908828\n",
      "epoch: 1, iteration: 8000000, time: 0:12:39.680772, loss: 20.132968399864065\n",
      "epoch: 1, iteration: 9000000, time: 0:14:08.132463, loss: 21.76025998183688\n",
      "epoch: 1, iteration: 10000000, time: 0:15:35.406025, loss: 20.60889789411605\n",
      "epoch: 1, iteration: 11000000, time: 0:17:04.161765, loss: 21.483833279149856\n",
      "epoch: 2, iteration: 0, time: 0:19:13.708217, loss: 21.10532180803578\n",
      "epoch: 2, iteration: 1000000, time: 0:20:41.446610, loss: 21.382755563176516\n",
      "epoch: 2, iteration: 2000000, time: 0:22:10.409907, loss: 15.46600228996062\n",
      "epoch: 2, iteration: 3000000, time: 0:23:39.643199, loss: 22.942031038975582\n",
      "epoch: 2, iteration: 4000000, time: 0:25:06.140026, loss: 21.422082913508106\n",
      "epoch: 2, iteration: 5000000, time: 0:26:35.176721, loss: 20.83020156319408\n",
      "epoch: 2, iteration: 6000000, time: 0:28:06.789486, loss: 25.081131737964053\n",
      "epoch: 2, iteration: 7000000, time: 0:29:41.569884, loss: 22.977183707663272\n",
      "epoch: 2, iteration: 8000000, time: 0:31:15.676068, loss: 19.710300038912578\n",
      "epoch: 2, iteration: 9000000, time: 0:32:46.669267, loss: 19.59161554004989\n",
      "epoch: 2, iteration: 10000000, time: 0:34:16.632468, loss: 18.338347446127937\n",
      "epoch: 2, iteration: 11000000, time: 0:35:47.055690, loss: 22.20877643938433\n",
      "epoch: 3, iteration: 0, time: 0:37:59.881815, loss: 12.939238806617663\n",
      "epoch: 3, iteration: 1000000, time: 0:39:28.949223, loss: 18.84169451085431\n",
      "epoch: 3, iteration: 2000000, time: 0:40:59.512961, loss: 16.10780201090394\n",
      "epoch: 3, iteration: 3000000, time: 0:42:26.582806, loss: 19.381448433936036\n",
      "epoch: 3, iteration: 4000000, time: 0:43:54.987968, loss: 21.447601257847367\n",
      "epoch: 3, iteration: 5000000, time: 0:45:23.222321, loss: 19.034191818249383\n",
      "epoch: 3, iteration: 6000000, time: 0:46:51.385208, loss: 20.620010559784742\n",
      "epoch: 3, iteration: 7000000, time: 0:48:20.754004, loss: 19.471915516256004\n",
      "epoch: 3, iteration: 8000000, time: 0:49:50.791495, loss: 20.057880477192608\n",
      "epoch: 3, iteration: 9000000, time: 0:51:17.893442, loss: 19.15322207008759\n",
      "epoch: 3, iteration: 10000000, time: 0:52:44.437707, loss: 21.889285890981604\n",
      "epoch: 3, iteration: 11000000, time: 0:54:10.983710, loss: 19.006013134034006\n",
      "epoch: 4, iteration: 0, time: 0:56:18.461424, loss: 20.33686384118483\n",
      "epoch: 4, iteration: 1000000, time: 0:57:45.668584, loss: 21.29940998852456\n",
      "epoch: 4, iteration: 2000000, time: 0:59:14.313806, loss: 20.67987004043473\n",
      "epoch: 4, iteration: 3000000, time: 1:00:42.194816, loss: 21.4405550773301\n",
      "epoch: 4, iteration: 4000000, time: 1:02:09.367729, loss: 20.768086430675012\n",
      "epoch: 4, iteration: 5000000, time: 1:03:36.589361, loss: 19.946627068193276\n",
      "epoch: 4, iteration: 6000000, time: 1:05:04.723047, loss: 19.28408104800458\n",
      "epoch: 4, iteration: 7000000, time: 1:06:31.886383, loss: 19.592135802553607\n",
      "epoch: 4, iteration: 8000000, time: 1:07:58.911935, loss: 18.699139407685312\n",
      "epoch: 4, iteration: 9000000, time: 1:09:26.643611, loss: 23.325773850287124\n",
      "epoch: 4, iteration: 10000000, time: 1:10:53.417596, loss: 22.778781881016222\n",
      "epoch: 4, iteration: 11000000, time: 1:12:21.340247, loss: 17.380075305476865\n",
      "epoch: 5, iteration: 0, time: 1:14:29.416670, loss: 15.782811701061515\n",
      "epoch: 5, iteration: 1000000, time: 1:15:57.002088, loss: 16.896185076687274\n",
      "epoch: 5, iteration: 2000000, time: 1:17:25.268654, loss: 21.80703923038912\n",
      "epoch: 5, iteration: 3000000, time: 1:18:53.204471, loss: 16.507290675787498\n",
      "epoch: 5, iteration: 4000000, time: 1:20:21.209696, loss: 19.556687561627182\n",
      "epoch: 5, iteration: 5000000, time: 1:21:48.679161, loss: 20.152804858465178\n",
      "epoch: 5, iteration: 6000000, time: 1:23:16.720958, loss: 20.448411415037523\n",
      "epoch: 5, iteration: 7000000, time: 1:24:43.633166, loss: 22.085030343969677\n",
      "epoch: 5, iteration: 8000000, time: 1:26:10.456203, loss: 18.762585808311037\n",
      "epoch: 5, iteration: 9000000, time: 1:27:38.463099, loss: 21.276685482579197\n",
      "epoch: 5, iteration: 10000000, time: 1:29:05.961626, loss: 20.764336416018327\n",
      "epoch: 5, iteration: 11000000, time: 1:30:33.246236, loss: 20.866704555837433\n"
     ]
    }
   ],
   "source": [
    "t0 = datetime.now()\n",
    "\n",
    "for epoch in range(1, epochs+1):\n",
    "    data_batcher = batcher(corpus_of_idxs, p_keep, p_neg, num_neg_for_window, V_arr, window_sz, num_neg)\n",
    "    for count, batch in enumerate(data_batcher):\n",
    "        central_word, train_words = batch\n",
    "        loss = back_prop(central_word, train_words, lr, W1, W2)\n",
    "        losses.append(loss)\n",
    "        if count % 1000000 == 0:\n",
    "            print(f'epoch: {epoch}, iteration: {count}, time: {datetime.now() - t0}, loss: {loss}')"
   ]
  },
  {
   "cell_type": "code",
   "execution_count": 23,
   "metadata": {},
   "outputs": [
    {
     "data": {
      "text/plain": [
       "[<matplotlib.lines.Line2D at 0x17657b611c8>]"
      ]
     },
     "execution_count": 23,
     "metadata": {},
     "output_type": "execute_result"
    },
    {
     "data": {
      "image/png": "[encoded data removed]",
      "text/plain": [
       "<Figure size 864x432 with 1 Axes>"
      ]
     },
     "metadata": {
      "needs_background": "light"
     },
     "output_type": "display_data"
    }
   ],
   "source": [
    "plt.figure(figsize=(12,6))\n",
    "plt.plot(losses[::10])"
   ]
  },
  {
   "cell_type": "code",
   "execution_count": 24,
   "metadata": {},
   "outputs": [],
   "source": [
    "def smoothed_losses(x, decay=0.99):\n",
    "    y = np.zeros(len(x))\n",
    "    last = 0\n",
    "    for t in range(len(x)):\n",
    "      z = decay * last + (1 - decay) * x[t]\n",
    "      y[t] = z / (1 - decay ** (t + 1))\n",
    "      last = z\n",
    "    return y"
   ]
  },
  {
   "cell_type": "code",
   "execution_count": 25,
   "metadata": {},
   "outputs": [
    {
     "data": {
      "text/plain": [
       "[<matplotlib.lines.Line2D at 0x176447cf608>]"
      ]
     },
     "execution_count": 25,
     "metadata": {},
     "output_type": "execute_result"
    },
    {
     "data": {
      "image/png": "[encoded data removed]",
      "text/plain": [
       "<Figure size 864x432 with 1 Axes>"
      ]
     },
     "metadata": {
      "needs_background": "light"
     },
     "output_type": "display_data"
    }
   ],
   "source": [
    "plt.figure(figsize=(12,6))\n",
    "plt.plot(smoothed_losses(losses))"
   ]
  },
  {
   "cell_type": "code",
   "execution_count": null,
   "metadata": {},
   "outputs": [],
   "source": []
  },
  {
   "cell_type": "code",
   "execution_count": 26,
   "metadata": {},
   "outputs": [],
   "source": [
    "W1_emb = W1 # матрица эмбедингов на основе W1\n",
    "W2_emb = W2.T # матрица эмбедингов на основе W2\n",
    "W1_W2_avg_emb = (W1_emb + W2_emb) / 2 # матрица эмбедингов на основе усреднения W1 и W2\n",
    "W1_W2_concat_emb = np.hstack([W1_emb, W2_emb]) # матрица эмбедингов конкатенировынных W1 и W2"
   ]
  },
  {
   "cell_type": "code",
   "execution_count": 27,
   "metadata": {},
   "outputs": [],
   "source": [
    "np.save('W1_w2v.npy', W1_emb)\n",
    "np.save('W2_w2v.npy', W2_emb)"
   ]
  },
  {
   "cell_type": "code",
   "execution_count": 28,
   "metadata": {},
   "outputs": [],
   "source": [
    "# список слов для проверки образуемых ими кластеров в двумерном пространстве\n",
    "words_to_check = ['russia', 'china', 'italy', 'brazil', 'australia', 'egypt', \n",
    "                  'monday', 'sunday', 'king', 'queen',\n",
    "                  'audi', 'toyota', 'ford', 'ferrari',\n",
    "                  'tokyo', 'berlin', 'boston', 'baghdad',\n",
    "                  'river', 'creek', 'lake', 'mountain',\n",
    "                  'green', 'red', 'white', 'winter', 'summer',\n",
    "                  'snow', 'rain', 'weather', 'woman', 'man',\n",
    "                 ]"
   ]
  },
  {
   "cell_type": "code",
   "execution_count": 29,
   "metadata": {},
   "outputs": [],
   "source": [
    "# проверка, что для всех этих слов имеются эмбединги\n",
    "for word in words_to_check:\n",
    "    try:\n",
    "        word2index[word]\n",
    "    except:\n",
    "        print(word)"
   ]
  },
  {
   "cell_type": "code",
   "execution_count": 30,
   "metadata": {},
   "outputs": [],
   "source": [
    "from adjustText import adjust_text # позволяет печатать на графики слова без наложения друг на друга"
   ]
  },
  {
   "cell_type": "code",
   "execution_count": 31,
   "metadata": {},
   "outputs": [],
   "source": [
    "def plot_embeddings(W_reduced, word2ind, words):\n",
    "    \"\"\" Plot in a scatterplot the embeddings of the words specified in the list \"words\".\n",
    "        Params:\n",
    "            W_reduced (numpy matrix of shape (number of unique words in the corpus , k)): matrix of k-dimensioal word embeddings\n",
    "            word2ind (dict): dictionary that maps word to indices for matrix M\n",
    "            words (list of strings): words whose embeddings we want to visualize\n",
    "    \"\"\"\n",
    "\n",
    "    # ------------------\n",
    "    # Write your implementation here.\n",
    "    plt.figure(figsize=(10,10))\n",
    "    x = [W_reduced[word2ind[word], 0] for word in words]\n",
    "    y = [W_reduced[word2ind[word], 1] for word in words]\n",
    "    plt.scatter(x, y, marker='x', color='red')\n",
    "    texts = [plt.text(x[i], y[i], words[i], ha='center', va='center') for i in range(len(words))]\n",
    "    adjust_text(texts) # позволяет печатать на графики слова без наложения друг на друга\n",
    "    plt.axis('equal')\n",
    "    plt.show()\n",
    "\n",
    "    # ------------------"
   ]
  },
  {
   "cell_type": "code",
   "execution_count": 32,
   "metadata": {},
   "outputs": [],
   "source": [
    "from sklearn.manifold import TSNE"
   ]
  },
  {
   "cell_type": "code",
   "execution_count": 33,
   "metadata": {},
   "outputs": [],
   "source": [
    "# Сжатие матрицы эмбедингов W1 до двух измерений с помощью TSNE\n",
    "W1_reduced = TSNE(n_components=2, perplexity=5, verbose=0, n_jobs=-1, random_state=42).fit_transform(W1_emb)"
   ]
  },
  {
   "cell_type": "code",
   "execution_count": 34,
   "metadata": {},
   "outputs": [
    {
     "data": {
      "image/png": "[encoded data removed]",
      "text/plain": [
       "<Figure size 720x720 with 1 Axes>"
      ]
     },
     "metadata": {
      "needs_background": "light"
     },
     "output_type": "display_data"
    }
   ],
   "source": [
    "plot_embeddings(W1_reduced, word2index, words_to_check)"
   ]
  },
  {
   "cell_type": "markdown",
   "metadata": {},
   "source": [
    "Кластеризация в двумерном пространстве - не идеальна. Некоторые категории перемешались. Но есть и хорошо изолированные кластеры: цвета, погода."
   ]
  },
  {
   "cell_type": "code",
   "execution_count": 35,
   "metadata": {},
   "outputs": [],
   "source": [
    "W2_reduced = TSNE(n_components=2, perplexity=5, verbose=0, n_jobs=-1, random_state=42).fit_transform(W2_emb)"
   ]
  },
  {
   "cell_type": "code",
   "execution_count": 56,
   "metadata": {},
   "outputs": [
    {
     "data": {
      "image/png": "[encoded data removed]",
      "text/plain": [
       "<Figure size 720x720 with 1 Axes>"
      ]
     },
     "metadata": {
      "needs_background": "light"
     },
     "output_type": "display_data"
    }
   ],
   "source": [
    "plot_embeddings(W2_reduced, word2index, words_to_check)"
   ]
  },
  {
   "cell_type": "markdown",
   "metadata": {},
   "source": [
    "Схожая с W1 ситуация."
   ]
  },
  {
   "cell_type": "code",
   "execution_count": 36,
   "metadata": {},
   "outputs": [],
   "source": [
    "W1_W2_avg_reduced = TSNE(n_components=2, perplexity=5, verbose=0, n_jobs=-1, random_state=42).fit_transform(W1_W2_avg_emb)"
   ]
  },
  {
   "cell_type": "code",
   "execution_count": 37,
   "metadata": {},
   "outputs": [
    {
     "data": {
      "image/png": "[encoded data removed]",
      "text/plain": [
       "<Figure size 720x720 with 1 Axes>"
      ]
     },
     "metadata": {
      "needs_background": "light"
     },
     "output_type": "display_data"
    }
   ],
   "source": [
    "plot_embeddings(W1_W2_avg_reduced, word2index, words_to_check)"
   ]
  },
  {
   "cell_type": "markdown",
   "metadata": {},
   "source": [
    "Аналогично предыдущим двум."
   ]
  },
  {
   "cell_type": "code",
   "execution_count": 38,
   "metadata": {},
   "outputs": [],
   "source": [
    "W1_W2_concat_reduced = TSNE(n_components=2, perplexity=5, verbose=0, n_jobs=-1, random_state=42).fit_transform(W1_W2_concat_emb)"
   ]
  },
  {
   "cell_type": "code",
   "execution_count": 39,
   "metadata": {},
   "outputs": [
    {
     "data": {
      "image/png": "[encoded data removed]",
      "text/plain": [
       "<Figure size 720x720 with 1 Axes>"
      ]
     },
     "metadata": {
      "needs_background": "light"
     },
     "output_type": "display_data"
    }
   ],
   "source": [
    "plot_embeddings(W1_W2_concat_reduced, word2index, words_to_check)"
   ]
  },
  {
   "cell_type": "code",
   "execution_count": 40,
   "metadata": {},
   "outputs": [],
   "source": [
    "# список всех слов в словаре, для которых имеется эмбединг\n",
    "list_of_words = [index2word[i] for i in range(len(index2word))] \n",
    "\n",
    "# списки эмбедингов\n",
    "list_of_embeddings_W1 = W1_emb\n",
    "list_of_embeddings_W2 = W2_emb\n",
    "list_of_embeddings_W1_W2_avg = W1_W2_avg_emb\n",
    "list_of_embeddings_W1_W2_concat = W1_W2_concat_emb"
   ]
  },
  {
   "cell_type": "code",
   "execution_count": 41,
   "metadata": {},
   "outputs": [],
   "source": [
    "from gensim.models import KeyedVectors"
   ]
  },
  {
   "cell_type": "code",
   "execution_count": 44,
   "metadata": {},
   "outputs": [],
   "source": [
    "kv_W1 = KeyedVectors(100)\n",
    "kv_W2 = KeyedVectors(100)\n",
    "kv_W1_W2_avg = KeyedVectors(100)\n",
    "kv_W1_W2_concat = KeyedVectors(200)\n",
    "\n",
    "kv_W1.add(list_of_words, list_of_embeddings_W1)\n",
    "kv_W2.add(list_of_words, list_of_embeddings_W2)\n",
    "kv_W1_W2_avg.add(list_of_words, list_of_embeddings_W1_W2_avg)\n",
    "kv_W1_W2_concat.add(list_of_words, list_of_embeddings_W1_W2_concat)\n",
    "\n",
    "kv_W1.save('w2v.kvmodel')"
   ]
  },
  {
   "cell_type": "code",
   "execution_count": 45,
   "metadata": {},
   "outputs": [
    {
     "data": {
      "text/plain": [
       "[('married', 0.7478463053703308),\n",
       " ('daughter', 0.7458913326263428),\n",
       " ('birth', 0.7411514520645142),\n",
       " ('elizabeth', 0.7360106706619263),\n",
       " ('prince', 0.7170559167861938),\n",
       " ('duke', 0.7056682109832764),\n",
       " ('henry', 0.7039292454719543),\n",
       " ('princess', 0.7033451199531555),\n",
       " ('emperor', 0.6920878887176514),\n",
       " ('mary', 0.6918843388557434)]"
      ]
     },
     "execution_count": 45,
     "metadata": {},
     "output_type": "execute_result"
    }
   ],
   "source": [
    "kv_W1.most_similar(['woman', 'king'], ['man'])"
   ]
  },
  {
   "cell_type": "code",
   "execution_count": 46,
   "metadata": {},
   "outputs": [
    {
     "data": {
      "text/plain": [
       "[('queen', 0.7373729348182678),\n",
       " ('elizabeth', 0.7170243263244629),\n",
       " ('scotland', 0.7076510190963745),\n",
       " ('daughter', 0.7034052014350891),\n",
       " ('mary', 0.7013669013977051),\n",
       " ('marriage', 0.6931754350662231),\n",
       " ('henry', 0.6865947842597961),\n",
       " ('throne', 0.6852452754974365),\n",
       " ('wife', 0.6819332838058472),\n",
       " ('bishop', 0.6816545724868774)]"
      ]
     },
     "execution_count": 46,
     "metadata": {},
     "output_type": "execute_result"
    }
   ],
   "source": [
    "kv_W2.most_similar(['woman', 'king'], ['man'])"
   ]
  },
  {
   "cell_type": "code",
   "execution_count": 47,
   "metadata": {},
   "outputs": [
    {
     "data": {
      "text/plain": [
       "[('elizabeth', 0.6950075626373291),\n",
       " ('daughter', 0.6949982643127441),\n",
       " ('queen', 0.6833165884017944),\n",
       " ('mary', 0.655434787273407),\n",
       " ('henry', 0.6538127660751343),\n",
       " ('married', 0.651190459728241),\n",
       " ('prince', 0.6362084746360779),\n",
       " ('throne', 0.6305449604988098),\n",
       " ('viii', 0.6266021728515625),\n",
       " ('eldest', 0.6210031509399414)]"
      ]
     },
     "execution_count": 47,
     "metadata": {},
     "output_type": "execute_result"
    }
   ],
   "source": [
    "kv_W1_W2_avg.most_similar(['woman', 'king'], ['man'])"
   ]
  },
  {
   "cell_type": "code",
   "execution_count": 48,
   "metadata": {},
   "outputs": [
    {
     "data": {
      "text/plain": [
       "[('elizabeth', 0.7200007438659668),\n",
       " ('daughter', 0.7184892296791077),\n",
       " ('queen', 0.7032777667045593),\n",
       " ('henry', 0.7022973895072937),\n",
       " ('mary', 0.7006558775901794),\n",
       " ('emperor', 0.6954318284988403),\n",
       " ('married', 0.6940635442733765),\n",
       " ('duke', 0.6935169100761414),\n",
       " ('prince', 0.6855721473693848),\n",
       " ('wife', 0.6767898797988892)]"
      ]
     },
     "execution_count": 48,
     "metadata": {},
     "output_type": "execute_result"
    }
   ],
   "source": [
    "kv_W1_W2_concat.most_similar(['woman', 'king'], ['man'])"
   ]
  },
  {
   "cell_type": "markdown",
   "metadata": {},
   "source": [
    "Аналогии 'woman', 'king' получились лучше, чем в task_3"
   ]
  },
  {
   "cell_type": "code",
   "execution_count": null,
   "metadata": {},
   "outputs": [],
   "source": []
  },
  {
   "cell_type": "code",
   "execution_count": 49,
   "metadata": {},
   "outputs": [],
   "source": [
    "from collections import defaultdict"
   ]
  },
  {
   "cell_type": "code",
   "execution_count": 50,
   "metadata": {},
   "outputs": [],
   "source": [
    "# преобразование файла 'questions_words.txt' в словарь со списком списков аналогий.\n",
    "questions_words_dct = defaultdict(list)\n",
    "current_key = ''\n",
    "with open(os.path.join('data', 'questions_words.txt'), 'r') as f:\n",
    "    for line in f.readlines():\n",
    "        if line.startswith(': '):\n",
    "            current_key = line[1:].strip()\n",
    "        else:\n",
    "            questions_words_dct[current_key].append(line.lower().split())"
   ]
  },
  {
   "cell_type": "code",
   "execution_count": 103,
   "metadata": {},
   "outputs": [
    {
     "data": {
      "text/plain": [
       "['athens', 'greece', 'baghdad', 'iraq']"
      ]
     },
     "execution_count": 103,
     "metadata": {},
     "output_type": "execute_result"
    }
   ],
   "source": [
    "questions_words_dct['capital-common-countries'][0]"
   ]
  },
  {
   "cell_type": "code",
   "execution_count": 51,
   "metadata": {},
   "outputs": [],
   "source": [
    "import pandas as pd"
   ]
  },
  {
   "cell_type": "code",
   "execution_count": 95,
   "metadata": {},
   "outputs": [],
   "source": [
    "def calculate_accuracy_top_1(list_of_kvs, list_of_kvs_names):\n",
    "    \"\"\"\n",
    "    Функция подсчитывает долю правильных аналогий \n",
    "    (аналогия на первом месте в kv.most_similar) \n",
    "    из accuracy_questions_words_dct\n",
    "    для всех эмбедингов из list_of_kvs.\n",
    "    Результат возвращается в виде DataFrame.\n",
    "    \"\"\"\n",
    "    list_of_accuracy_questions_words_dct = []\n",
    "    for kv in list_of_kvs:\n",
    "        # словарь, где ключ - категория, значение - доля правильных аналогий.\n",
    "        accuracy_questions_words_dct = {} \n",
    "        # счетчик правильных аналогий суммарно для всех топиков.\n",
    "        all_topics_correct = 0\n",
    "        # счетчик аналогий суммарно для всех топиков.\n",
    "        all_topic_overall = 0\n",
    "        for topic, analogies_list in questions_words_dct.items():\n",
    "            # счетчик правильных аналогий для топика topic.\n",
    "            topic_correct = 0\n",
    "            # счетчик аналогий для топика topic.\n",
    "            topic_overall = 0\n",
    "            for analogie in analogies_list:\n",
    "                pos1, neg1, neg2, pos2 = analogie\n",
    "                try:\n",
    "                    if kv.most_similar([pos1, pos2], [neg1], 1)[0][0] == neg2:\n",
    "                        topic_correct += 1\n",
    "                        topic_overall += 1\n",
    "                    else:\n",
    "                        topic_overall += 1\n",
    "                except:\n",
    "                    pass\n",
    "            all_topics_correct += topic_correct\n",
    "            all_topic_overall += topic_overall\n",
    "            accuracy_questions_words_dct[topic] = topic_correct / topic_overall * 100\n",
    "        accuracy_questions_words_dct['overall'] = all_topics_correct / all_topic_overall * 100\n",
    "        list_of_accuracy_questions_words_dct.append(accuracy_questions_words_dct)\n",
    "    return pd.DataFrame(list_of_accuracy_questions_words_dct, index=list_of_kvs_names).T"
   ]
  },
  {
   "cell_type": "code",
   "execution_count": 53,
   "metadata": {},
   "outputs": [],
   "source": [
    "results_df_top_1 = calculate_accuracy_top_1([kv_W1, kv_W2, kv_W1_W2_avg, kv_W1_W2_concat], \n",
    "                                ['W1', 'W2', 'W1_W2_avg', 'W1_W2_concat']\n",
    ")"
   ]
  },
  {
   "cell_type": "code",
   "execution_count": 54,
   "metadata": {},
   "outputs": [],
   "source": [
    "def highlight_max(s):\n",
    "    '''\n",
    "    выделяет максимальное значение в s красным.\n",
    "    '''\n",
    "    is_max = s == s.max()\n",
    "    return ['background-color: red' if v else '' for v in is_max]"
   ]
  },
  {
   "cell_type": "code",
   "execution_count": 55,
   "metadata": {},
   "outputs": [
    {
     "data": {
      "text/html": [
       "<style  type=\"text/css\" >\n",
       "    #T_fcf13c2e_5d78_11ea_9743_a0510b6ee2c1row0_col2 {\n",
       "            background-color:  red;\n",
       "        }    #T_fcf13c2e_5d78_11ea_9743_a0510b6ee2c1row1_col0 {\n",
       "            background-color:  red;\n",
       "        }    #T_fcf13c2e_5d78_11ea_9743_a0510b6ee2c1row2_col1 {\n",
       "            background-color:  red;\n",
       "        }    #T_fcf13c2e_5d78_11ea_9743_a0510b6ee2c1row2_col2 {\n",
       "            background-color:  red;\n",
       "        }    #T_fcf13c2e_5d78_11ea_9743_a0510b6ee2c1row3_col2 {\n",
       "            background-color:  red;\n",
       "        }    #T_fcf13c2e_5d78_11ea_9743_a0510b6ee2c1row4_col0 {\n",
       "            background-color:  red;\n",
       "        }    #T_fcf13c2e_5d78_11ea_9743_a0510b6ee2c1row5_col0 {\n",
       "            background-color:  red;\n",
       "        }    #T_fcf13c2e_5d78_11ea_9743_a0510b6ee2c1row6_col0 {\n",
       "            background-color:  red;\n",
       "        }    #T_fcf13c2e_5d78_11ea_9743_a0510b6ee2c1row7_col2 {\n",
       "            background-color:  red;\n",
       "        }    #T_fcf13c2e_5d78_11ea_9743_a0510b6ee2c1row8_col0 {\n",
       "            background-color:  red;\n",
       "        }    #T_fcf13c2e_5d78_11ea_9743_a0510b6ee2c1row9_col0 {\n",
       "            background-color:  red;\n",
       "        }    #T_fcf13c2e_5d78_11ea_9743_a0510b6ee2c1row10_col2 {\n",
       "            background-color:  red;\n",
       "        }    #T_fcf13c2e_5d78_11ea_9743_a0510b6ee2c1row11_col0 {\n",
       "            background-color:  red;\n",
       "        }    #T_fcf13c2e_5d78_11ea_9743_a0510b6ee2c1row12_col2 {\n",
       "            background-color:  red;\n",
       "        }    #T_fcf13c2e_5d78_11ea_9743_a0510b6ee2c1row13_col3 {\n",
       "            background-color:  red;\n",
       "        }    #T_fcf13c2e_5d78_11ea_9743_a0510b6ee2c1row14_col0 {\n",
       "            background-color:  red;\n",
       "        }</style><table id=\"T_fcf13c2e_5d78_11ea_9743_a0510b6ee2c1\" ><thead>    <tr>        <th class=\"blank level0\" ></th>        <th class=\"col_heading level0 col0\" >W1</th>        <th class=\"col_heading level0 col1\" >W2</th>        <th class=\"col_heading level0 col2\" >W1_W2_avg</th>        <th class=\"col_heading level0 col3\" >W1_W2_concat</th>    </tr></thead><tbody>\n",
       "                <tr>\n",
       "                        <th id=\"T_fcf13c2e_5d78_11ea_9743_a0510b6ee2c1level0_row0\" class=\"row_heading level0 row0\" >capital-common-countries</th>\n",
       "                        <td id=\"T_fcf13c2e_5d78_11ea_9743_a0510b6ee2c1row0_col0\" class=\"data row0 col0\" >14.593301</td>\n",
       "                        <td id=\"T_fcf13c2e_5d78_11ea_9743_a0510b6ee2c1row0_col1\" class=\"data row0 col1\" >6.220096</td>\n",
       "                        <td id=\"T_fcf13c2e_5d78_11ea_9743_a0510b6ee2c1row0_col2\" class=\"data row0 col2\" >15.789474</td>\n",
       "                        <td id=\"T_fcf13c2e_5d78_11ea_9743_a0510b6ee2c1row0_col3\" class=\"data row0 col3\" >13.875598</td>\n",
       "            </tr>\n",
       "            <tr>\n",
       "                        <th id=\"T_fcf13c2e_5d78_11ea_9743_a0510b6ee2c1level0_row1\" class=\"row_heading level0 row1\" >capital-world</th>\n",
       "                        <td id=\"T_fcf13c2e_5d78_11ea_9743_a0510b6ee2c1row1_col0\" class=\"data row1 col0\" >4.397310</td>\n",
       "                        <td id=\"T_fcf13c2e_5d78_11ea_9743_a0510b6ee2c1row1_col1\" class=\"data row1 col1\" >1.293326</td>\n",
       "                        <td id=\"T_fcf13c2e_5d78_11ea_9743_a0510b6ee2c1row1_col2\" class=\"data row1 col2\" >3.155717</td>\n",
       "                        <td id=\"T_fcf13c2e_5d78_11ea_9743_a0510b6ee2c1row1_col3\" class=\"data row1 col3\" >2.741852</td>\n",
       "            </tr>\n",
       "            <tr>\n",
       "                        <th id=\"T_fcf13c2e_5d78_11ea_9743_a0510b6ee2c1level0_row2\" class=\"row_heading level0 row2\" >currency</th>\n",
       "                        <td id=\"T_fcf13c2e_5d78_11ea_9743_a0510b6ee2c1row2_col0\" class=\"data row2 col0\" >0.943396</td>\n",
       "                        <td id=\"T_fcf13c2e_5d78_11ea_9743_a0510b6ee2c1row2_col1\" class=\"data row2 col1\" >1.886792</td>\n",
       "                        <td id=\"T_fcf13c2e_5d78_11ea_9743_a0510b6ee2c1row2_col2\" class=\"data row2 col2\" >1.886792</td>\n",
       "                        <td id=\"T_fcf13c2e_5d78_11ea_9743_a0510b6ee2c1row2_col3\" class=\"data row2 col3\" >0.943396</td>\n",
       "            </tr>\n",
       "            <tr>\n",
       "                        <th id=\"T_fcf13c2e_5d78_11ea_9743_a0510b6ee2c1level0_row3\" class=\"row_heading level0 row3\" >city-in-state</th>\n",
       "                        <td id=\"T_fcf13c2e_5d78_11ea_9743_a0510b6ee2c1row3_col0\" class=\"data row3 col0\" >3.510972</td>\n",
       "                        <td id=\"T_fcf13c2e_5d78_11ea_9743_a0510b6ee2c1row3_col1\" class=\"data row3 col1\" >1.003135</td>\n",
       "                        <td id=\"T_fcf13c2e_5d78_11ea_9743_a0510b6ee2c1row3_col2\" class=\"data row3 col2\" >4.702194</td>\n",
       "                        <td id=\"T_fcf13c2e_5d78_11ea_9743_a0510b6ee2c1row3_col3\" class=\"data row3 col3\" >2.194357</td>\n",
       "            </tr>\n",
       "            <tr>\n",
       "                        <th id=\"T_fcf13c2e_5d78_11ea_9743_a0510b6ee2c1level0_row4\" class=\"row_heading level0 row4\" >family</th>\n",
       "                        <td id=\"T_fcf13c2e_5d78_11ea_9743_a0510b6ee2c1row4_col0\" class=\"data row4 col0\" >47.426471</td>\n",
       "                        <td id=\"T_fcf13c2e_5d78_11ea_9743_a0510b6ee2c1row4_col1\" class=\"data row4 col1\" >19.485294</td>\n",
       "                        <td id=\"T_fcf13c2e_5d78_11ea_9743_a0510b6ee2c1row4_col2\" class=\"data row4 col2\" >36.397059</td>\n",
       "                        <td id=\"T_fcf13c2e_5d78_11ea_9743_a0510b6ee2c1row4_col3\" class=\"data row4 col3\" >36.029412</td>\n",
       "            </tr>\n",
       "            <tr>\n",
       "                        <th id=\"T_fcf13c2e_5d78_11ea_9743_a0510b6ee2c1level0_row5\" class=\"row_heading level0 row5\" >gram1-adjective-to-adverb</th>\n",
       "                        <td id=\"T_fcf13c2e_5d78_11ea_9743_a0510b6ee2c1row5_col0\" class=\"data row5 col0\" >4.585799</td>\n",
       "                        <td id=\"T_fcf13c2e_5d78_11ea_9743_a0510b6ee2c1row5_col1\" class=\"data row5 col1\" >0.591716</td>\n",
       "                        <td id=\"T_fcf13c2e_5d78_11ea_9743_a0510b6ee2c1row5_col2\" class=\"data row5 col2\" >3.550296</td>\n",
       "                        <td id=\"T_fcf13c2e_5d78_11ea_9743_a0510b6ee2c1row5_col3\" class=\"data row5 col3\" >3.550296</td>\n",
       "            </tr>\n",
       "            <tr>\n",
       "                        <th id=\"T_fcf13c2e_5d78_11ea_9743_a0510b6ee2c1level0_row6\" class=\"row_heading level0 row6\" >gram2-opposite</th>\n",
       "                        <td id=\"T_fcf13c2e_5d78_11ea_9743_a0510b6ee2c1row6_col0\" class=\"data row6 col0\" >8.333333</td>\n",
       "                        <td id=\"T_fcf13c2e_5d78_11ea_9743_a0510b6ee2c1row6_col1\" class=\"data row6 col1\" >1.923077</td>\n",
       "                        <td id=\"T_fcf13c2e_5d78_11ea_9743_a0510b6ee2c1row6_col2\" class=\"data row6 col2\" >4.487179</td>\n",
       "                        <td id=\"T_fcf13c2e_5d78_11ea_9743_a0510b6ee2c1row6_col3\" class=\"data row6 col3\" >4.487179</td>\n",
       "            </tr>\n",
       "            <tr>\n",
       "                        <th id=\"T_fcf13c2e_5d78_11ea_9743_a0510b6ee2c1level0_row7\" class=\"row_heading level0 row7\" >gram3-comparative</th>\n",
       "                        <td id=\"T_fcf13c2e_5d78_11ea_9743_a0510b6ee2c1row7_col0\" class=\"data row7 col0\" >8.049242</td>\n",
       "                        <td id=\"T_fcf13c2e_5d78_11ea_9743_a0510b6ee2c1row7_col1\" class=\"data row7 col1\" >4.545455</td>\n",
       "                        <td id=\"T_fcf13c2e_5d78_11ea_9743_a0510b6ee2c1row7_col2\" class=\"data row7 col2\" >8.428030</td>\n",
       "                        <td id=\"T_fcf13c2e_5d78_11ea_9743_a0510b6ee2c1row7_col3\" class=\"data row7 col3\" >7.196970</td>\n",
       "            </tr>\n",
       "            <tr>\n",
       "                        <th id=\"T_fcf13c2e_5d78_11ea_9743_a0510b6ee2c1level0_row8\" class=\"row_heading level0 row8\" >gram4-superlative</th>\n",
       "                        <td id=\"T_fcf13c2e_5d78_11ea_9743_a0510b6ee2c1row8_col0\" class=\"data row8 col0\" >6.277056</td>\n",
       "                        <td id=\"T_fcf13c2e_5d78_11ea_9743_a0510b6ee2c1row8_col1\" class=\"data row8 col1\" >2.813853</td>\n",
       "                        <td id=\"T_fcf13c2e_5d78_11ea_9743_a0510b6ee2c1row8_col2\" class=\"data row8 col2\" >5.844156</td>\n",
       "                        <td id=\"T_fcf13c2e_5d78_11ea_9743_a0510b6ee2c1row8_col3\" class=\"data row8 col3\" >6.060606</td>\n",
       "            </tr>\n",
       "            <tr>\n",
       "                        <th id=\"T_fcf13c2e_5d78_11ea_9743_a0510b6ee2c1level0_row9\" class=\"row_heading level0 row9\" >gram5-present-participle</th>\n",
       "                        <td id=\"T_fcf13c2e_5d78_11ea_9743_a0510b6ee2c1row9_col0\" class=\"data row9 col0\" >21.997622</td>\n",
       "                        <td id=\"T_fcf13c2e_5d78_11ea_9743_a0510b6ee2c1row9_col1\" class=\"data row9 col1\" >11.890606</td>\n",
       "                        <td id=\"T_fcf13c2e_5d78_11ea_9743_a0510b6ee2c1row9_col2\" class=\"data row9 col2\" >17.122473</td>\n",
       "                        <td id=\"T_fcf13c2e_5d78_11ea_9743_a0510b6ee2c1row9_col3\" class=\"data row9 col3\" >17.835910</td>\n",
       "            </tr>\n",
       "            <tr>\n",
       "                        <th id=\"T_fcf13c2e_5d78_11ea_9743_a0510b6ee2c1level0_row10\" class=\"row_heading level0 row10\" >gram6-nationality-adjective</th>\n",
       "                        <td id=\"T_fcf13c2e_5d78_11ea_9743_a0510b6ee2c1row10_col0\" class=\"data row10 col0\" >34.646244</td>\n",
       "                        <td id=\"T_fcf13c2e_5d78_11ea_9743_a0510b6ee2c1row10_col1\" class=\"data row10 col1\" >32.385120</td>\n",
       "                        <td id=\"T_fcf13c2e_5d78_11ea_9743_a0510b6ee2c1row10_col2\" class=\"data row10 col2\" >41.940190</td>\n",
       "                        <td id=\"T_fcf13c2e_5d78_11ea_9743_a0510b6ee2c1row10_col3\" class=\"data row10 col3\" >39.970824</td>\n",
       "            </tr>\n",
       "            <tr>\n",
       "                        <th id=\"T_fcf13c2e_5d78_11ea_9743_a0510b6ee2c1level0_row11\" class=\"row_heading level0 row11\" >gram7-past-tense</th>\n",
       "                        <td id=\"T_fcf13c2e_5d78_11ea_9743_a0510b6ee2c1row11_col0\" class=\"data row11 col0\" >7.716049</td>\n",
       "                        <td id=\"T_fcf13c2e_5d78_11ea_9743_a0510b6ee2c1row11_col1\" class=\"data row11 col1\" >6.172840</td>\n",
       "                        <td id=\"T_fcf13c2e_5d78_11ea_9743_a0510b6ee2c1row11_col2\" class=\"data row11 col2\" >5.169753</td>\n",
       "                        <td id=\"T_fcf13c2e_5d78_11ea_9743_a0510b6ee2c1row11_col3\" class=\"data row11 col3\" >7.253086</td>\n",
       "            </tr>\n",
       "            <tr>\n",
       "                        <th id=\"T_fcf13c2e_5d78_11ea_9743_a0510b6ee2c1level0_row12\" class=\"row_heading level0 row12\" >gram8-plural</th>\n",
       "                        <td id=\"T_fcf13c2e_5d78_11ea_9743_a0510b6ee2c1row12_col0\" class=\"data row12 col0\" >14.213710</td>\n",
       "                        <td id=\"T_fcf13c2e_5d78_11ea_9743_a0510b6ee2c1row12_col1\" class=\"data row12 col1\" >9.576613</td>\n",
       "                        <td id=\"T_fcf13c2e_5d78_11ea_9743_a0510b6ee2c1row12_col2\" class=\"data row12 col2\" >14.516129</td>\n",
       "                        <td id=\"T_fcf13c2e_5d78_11ea_9743_a0510b6ee2c1row12_col3\" class=\"data row12 col3\" >10.282258</td>\n",
       "            </tr>\n",
       "            <tr>\n",
       "                        <th id=\"T_fcf13c2e_5d78_11ea_9743_a0510b6ee2c1level0_row13\" class=\"row_heading level0 row13\" >gram9-plural-verbs</th>\n",
       "                        <td id=\"T_fcf13c2e_5d78_11ea_9743_a0510b6ee2c1row13_col0\" class=\"data row13 col0\" >13.043478</td>\n",
       "                        <td id=\"T_fcf13c2e_5d78_11ea_9743_a0510b6ee2c1row13_col1\" class=\"data row13 col1\" >11.594203</td>\n",
       "                        <td id=\"T_fcf13c2e_5d78_11ea_9743_a0510b6ee2c1row13_col2\" class=\"data row13 col2\" >11.594203</td>\n",
       "                        <td id=\"T_fcf13c2e_5d78_11ea_9743_a0510b6ee2c1row13_col3\" class=\"data row13 col3\" >13.586957</td>\n",
       "            </tr>\n",
       "            <tr>\n",
       "                        <th id=\"T_fcf13c2e_5d78_11ea_9743_a0510b6ee2c1level0_row14\" class=\"row_heading level0 row14\" >overall</th>\n",
       "                        <td id=\"T_fcf13c2e_5d78_11ea_9743_a0510b6ee2c1row14_col0\" class=\"data row14 col0\" >12.476548</td>\n",
       "                        <td id=\"T_fcf13c2e_5d78_11ea_9743_a0510b6ee2c1row14_col1\" class=\"data row14 col1\" >8.297800</td>\n",
       "                        <td id=\"T_fcf13c2e_5d78_11ea_9743_a0510b6ee2c1row14_col2\" class=\"data row14 col2\" >12.314515</td>\n",
       "                        <td id=\"T_fcf13c2e_5d78_11ea_9743_a0510b6ee2c1row14_col3\" class=\"data row14 col3\" >11.504349</td>\n",
       "            </tr>\n",
       "    </tbody></table>"
      ],
      "text/plain": [
       "<pandas.io.formats.style.Styler at 0x17646476ec8>"
      ]
     },
     "execution_count": 55,
     "metadata": {},
     "output_type": "execute_result"
    }
   ],
   "source": [
    "results_df_top_1.style.apply(highlight_max, axis=1)"
   ]
  },
  {
   "cell_type": "markdown",
   "metadata": {},
   "source": [
    "Как видно для разных категорий лучше работают разные эмбединги. В среднем, лучший результат у эмбединга W1."
   ]
  },
  {
   "cell_type": "code",
   "execution_count": 65,
   "metadata": {},
   "outputs": [],
   "source": [
    "def calculate_accuracy_top_5(list_of_kvs, list_of_kvs_names):\n",
    "    \"\"\"\n",
    "    Функция подсчитывает долю правильных аналогий \n",
    "    (аналогия совпадает с одной из топ 5 в kv.most_similar) \n",
    "    из accuracy_questions_words_dct\n",
    "    для всех эмбедингов из list_of_kvs.\n",
    "    Результат возвращается в виде DataFrame.\n",
    "    \"\"\"\n",
    "    list_of_accuracy_questions_words_dct = []\n",
    "    for kv in list_of_kvs:\n",
    "        # словарь, где ключ - категория, значение - доля правильных аналогий.\n",
    "        accuracy_questions_words_dct = {} \n",
    "        # счетчик правильных аналогий суммарно для всех топиков.\n",
    "        all_topics_correct = 0\n",
    "        # счетчик аналогий суммарно для всех топиков.\n",
    "        all_topic_overall = 0\n",
    "        for topic, analogies_list in questions_words_dct.items():\n",
    "            # счетчик правильных аналогий для топика topic.\n",
    "            topic_correct = 0\n",
    "            # счетчик аналогий для топика topic.\n",
    "            topic_overall = 0\n",
    "            for analogie in analogies_list:\n",
    "                pos1, neg1, neg2, pos2 = analogie\n",
    "                try:\n",
    "                    if neg2 in [x[0] for x in kv.most_similar([pos1, pos2], [neg1], 5)]:\n",
    "                        topic_correct += 1\n",
    "                        topic_overall += 1\n",
    "                    else:\n",
    "                        topic_overall += 1\n",
    "                except:\n",
    "                    pass\n",
    "            all_topics_correct += topic_correct\n",
    "            all_topic_overall += topic_overall\n",
    "            accuracy_questions_words_dct[topic] = topic_correct / topic_overall * 100\n",
    "        accuracy_questions_words_dct['overall'] = all_topics_correct / all_topic_overall * 100\n",
    "        list_of_accuracy_questions_words_dct.append(accuracy_questions_words_dct)\n",
    "    return pd.DataFrame(list_of_accuracy_questions_words_dct, index=list_of_kvs_names).T"
   ]
  },
  {
   "cell_type": "code",
   "execution_count": 66,
   "metadata": {},
   "outputs": [],
   "source": [
    "results_df_top_5 = calculate_accuracy_top_5([kv_W1, kv_W2, kv_W1_W2_avg, kv_W1_W2_concat], \n",
    "                                ['W1', 'W2', 'W1_W2_avg', 'W1_W2_concat']\n",
    ")"
   ]
  },
  {
   "cell_type": "code",
   "execution_count": 67,
   "metadata": {},
   "outputs": [
    {
     "data": {
      "text/html": [
       "<style  type=\"text/css\" >\n",
       "    #T_2afd7a5a_5d7a_11ea_9c2a_a0510b6ee2c1row0_col0 {\n",
       "            background-color:  red;\n",
       "        }    #T_2afd7a5a_5d7a_11ea_9c2a_a0510b6ee2c1row1_col0 {\n",
       "            background-color:  red;\n",
       "        }    #T_2afd7a5a_5d7a_11ea_9c2a_a0510b6ee2c1row2_col0 {\n",
       "            background-color:  red;\n",
       "        }    #T_2afd7a5a_5d7a_11ea_9c2a_a0510b6ee2c1row2_col2 {\n",
       "            background-color:  red;\n",
       "        }    #T_2afd7a5a_5d7a_11ea_9c2a_a0510b6ee2c1row3_col2 {\n",
       "            background-color:  red;\n",
       "        }    #T_2afd7a5a_5d7a_11ea_9c2a_a0510b6ee2c1row4_col2 {\n",
       "            background-color:  red;\n",
       "        }    #T_2afd7a5a_5d7a_11ea_9c2a_a0510b6ee2c1row5_col0 {\n",
       "            background-color:  red;\n",
       "        }    #T_2afd7a5a_5d7a_11ea_9c2a_a0510b6ee2c1row6_col0 {\n",
       "            background-color:  red;\n",
       "        }    #T_2afd7a5a_5d7a_11ea_9c2a_a0510b6ee2c1row7_col0 {\n",
       "            background-color:  red;\n",
       "        }    #T_2afd7a5a_5d7a_11ea_9c2a_a0510b6ee2c1row8_col3 {\n",
       "            background-color:  red;\n",
       "        }    #T_2afd7a5a_5d7a_11ea_9c2a_a0510b6ee2c1row9_col0 {\n",
       "            background-color:  red;\n",
       "        }    #T_2afd7a5a_5d7a_11ea_9c2a_a0510b6ee2c1row10_col2 {\n",
       "            background-color:  red;\n",
       "        }    #T_2afd7a5a_5d7a_11ea_9c2a_a0510b6ee2c1row11_col0 {\n",
       "            background-color:  red;\n",
       "        }    #T_2afd7a5a_5d7a_11ea_9c2a_a0510b6ee2c1row12_col2 {\n",
       "            background-color:  red;\n",
       "        }    #T_2afd7a5a_5d7a_11ea_9c2a_a0510b6ee2c1row13_col0 {\n",
       "            background-color:  red;\n",
       "        }    #T_2afd7a5a_5d7a_11ea_9c2a_a0510b6ee2c1row14_col0 {\n",
       "            background-color:  red;\n",
       "        }</style><table id=\"T_2afd7a5a_5d7a_11ea_9c2a_a0510b6ee2c1\" ><thead>    <tr>        <th class=\"blank level0\" ></th>        <th class=\"col_heading level0 col0\" >W1</th>        <th class=\"col_heading level0 col1\" >W2</th>        <th class=\"col_heading level0 col2\" >W1_W2_avg</th>        <th class=\"col_heading level0 col3\" >W1_W2_concat</th>    </tr></thead><tbody>\n",
       "                <tr>\n",
       "                        <th id=\"T_2afd7a5a_5d7a_11ea_9c2a_a0510b6ee2c1level0_row0\" class=\"row_heading level0 row0\" >capital-common-countries</th>\n",
       "                        <td id=\"T_2afd7a5a_5d7a_11ea_9c2a_a0510b6ee2c1row0_col0\" class=\"data row0 col0\" >26.315789</td>\n",
       "                        <td id=\"T_2afd7a5a_5d7a_11ea_9c2a_a0510b6ee2c1row0_col1\" class=\"data row0 col1\" >15.311005</td>\n",
       "                        <td id=\"T_2afd7a5a_5d7a_11ea_9c2a_a0510b6ee2c1row0_col2\" class=\"data row0 col2\" >24.401914</td>\n",
       "                        <td id=\"T_2afd7a5a_5d7a_11ea_9c2a_a0510b6ee2c1row0_col3\" class=\"data row0 col3\" >22.488038</td>\n",
       "            </tr>\n",
       "            <tr>\n",
       "                        <th id=\"T_2afd7a5a_5d7a_11ea_9c2a_a0510b6ee2c1level0_row1\" class=\"row_heading level0 row1\" >capital-world</th>\n",
       "                        <td id=\"T_2afd7a5a_5d7a_11ea_9c2a_a0510b6ee2c1row1_col0\" class=\"data row1 col0\" >10.191412</td>\n",
       "                        <td id=\"T_2afd7a5a_5d7a_11ea_9c2a_a0510b6ee2c1row1_col1\" class=\"data row1 col1\" >3.000517</td>\n",
       "                        <td id=\"T_2afd7a5a_5d7a_11ea_9c2a_a0510b6ee2c1row1_col2\" class=\"data row1 col2\" >7.501293</td>\n",
       "                        <td id=\"T_2afd7a5a_5d7a_11ea_9c2a_a0510b6ee2c1row1_col3\" class=\"data row1 col3\" >6.983963</td>\n",
       "            </tr>\n",
       "            <tr>\n",
       "                        <th id=\"T_2afd7a5a_5d7a_11ea_9c2a_a0510b6ee2c1level0_row2\" class=\"row_heading level0 row2\" >currency</th>\n",
       "                        <td id=\"T_2afd7a5a_5d7a_11ea_9c2a_a0510b6ee2c1row2_col0\" class=\"data row2 col0\" >2.830189</td>\n",
       "                        <td id=\"T_2afd7a5a_5d7a_11ea_9c2a_a0510b6ee2c1row2_col1\" class=\"data row2 col1\" >1.886792</td>\n",
       "                        <td id=\"T_2afd7a5a_5d7a_11ea_9c2a_a0510b6ee2c1row2_col2\" class=\"data row2 col2\" >2.830189</td>\n",
       "                        <td id=\"T_2afd7a5a_5d7a_11ea_9c2a_a0510b6ee2c1row2_col3\" class=\"data row2 col3\" >1.886792</td>\n",
       "            </tr>\n",
       "            <tr>\n",
       "                        <th id=\"T_2afd7a5a_5d7a_11ea_9c2a_a0510b6ee2c1level0_row3\" class=\"row_heading level0 row3\" >city-in-state</th>\n",
       "                        <td id=\"T_2afd7a5a_5d7a_11ea_9c2a_a0510b6ee2c1row3_col0\" class=\"data row3 col0\" >8.463950</td>\n",
       "                        <td id=\"T_2afd7a5a_5d7a_11ea_9c2a_a0510b6ee2c1row3_col1\" class=\"data row3 col1\" >3.260188</td>\n",
       "                        <td id=\"T_2afd7a5a_5d7a_11ea_9c2a_a0510b6ee2c1row3_col2\" class=\"data row3 col2\" >9.780564</td>\n",
       "                        <td id=\"T_2afd7a5a_5d7a_11ea_9c2a_a0510b6ee2c1row3_col3\" class=\"data row3 col3\" >6.645768</td>\n",
       "            </tr>\n",
       "            <tr>\n",
       "                        <th id=\"T_2afd7a5a_5d7a_11ea_9c2a_a0510b6ee2c1level0_row4\" class=\"row_heading level0 row4\" >family</th>\n",
       "                        <td id=\"T_2afd7a5a_5d7a_11ea_9c2a_a0510b6ee2c1row4_col0\" class=\"data row4 col0\" >58.088235</td>\n",
       "                        <td id=\"T_2afd7a5a_5d7a_11ea_9c2a_a0510b6ee2c1row4_col1\" class=\"data row4 col1\" >40.441176</td>\n",
       "                        <td id=\"T_2afd7a5a_5d7a_11ea_9c2a_a0510b6ee2c1row4_col2\" class=\"data row4 col2\" >59.191176</td>\n",
       "                        <td id=\"T_2afd7a5a_5d7a_11ea_9c2a_a0510b6ee2c1row4_col3\" class=\"data row4 col3\" >53.676471</td>\n",
       "            </tr>\n",
       "            <tr>\n",
       "                        <th id=\"T_2afd7a5a_5d7a_11ea_9c2a_a0510b6ee2c1level0_row5\" class=\"row_heading level0 row5\" >gram1-adjective-to-adverb</th>\n",
       "                        <td id=\"T_2afd7a5a_5d7a_11ea_9c2a_a0510b6ee2c1row5_col0\" class=\"data row5 col0\" >10.798817</td>\n",
       "                        <td id=\"T_2afd7a5a_5d7a_11ea_9c2a_a0510b6ee2c1row5_col1\" class=\"data row5 col1\" >4.585799</td>\n",
       "                        <td id=\"T_2afd7a5a_5d7a_11ea_9c2a_a0510b6ee2c1row5_col2\" class=\"data row5 col2\" >9.319527</td>\n",
       "                        <td id=\"T_2afd7a5a_5d7a_11ea_9c2a_a0510b6ee2c1row5_col3\" class=\"data row5 col3\" >9.763314</td>\n",
       "            </tr>\n",
       "            <tr>\n",
       "                        <th id=\"T_2afd7a5a_5d7a_11ea_9c2a_a0510b6ee2c1level0_row6\" class=\"row_heading level0 row6\" >gram2-opposite</th>\n",
       "                        <td id=\"T_2afd7a5a_5d7a_11ea_9c2a_a0510b6ee2c1row6_col0\" class=\"data row6 col0\" >21.794872</td>\n",
       "                        <td id=\"T_2afd7a5a_5d7a_11ea_9c2a_a0510b6ee2c1row6_col1\" class=\"data row6 col1\" >3.205128</td>\n",
       "                        <td id=\"T_2afd7a5a_5d7a_11ea_9c2a_a0510b6ee2c1row6_col2\" class=\"data row6 col2\" >12.820513</td>\n",
       "                        <td id=\"T_2afd7a5a_5d7a_11ea_9c2a_a0510b6ee2c1row6_col3\" class=\"data row6 col3\" >12.179487</td>\n",
       "            </tr>\n",
       "            <tr>\n",
       "                        <th id=\"T_2afd7a5a_5d7a_11ea_9c2a_a0510b6ee2c1level0_row7\" class=\"row_heading level0 row7\" >gram3-comparative</th>\n",
       "                        <td id=\"T_2afd7a5a_5d7a_11ea_9c2a_a0510b6ee2c1row7_col0\" class=\"data row7 col0\" >20.549242</td>\n",
       "                        <td id=\"T_2afd7a5a_5d7a_11ea_9c2a_a0510b6ee2c1row7_col1\" class=\"data row7 col1\" >9.943182</td>\n",
       "                        <td id=\"T_2afd7a5a_5d7a_11ea_9c2a_a0510b6ee2c1row7_col2\" class=\"data row7 col2\" >20.265152</td>\n",
       "                        <td id=\"T_2afd7a5a_5d7a_11ea_9c2a_a0510b6ee2c1row7_col3\" class=\"data row7 col3\" >17.424242</td>\n",
       "            </tr>\n",
       "            <tr>\n",
       "                        <th id=\"T_2afd7a5a_5d7a_11ea_9c2a_a0510b6ee2c1level0_row8\" class=\"row_heading level0 row8\" >gram4-superlative</th>\n",
       "                        <td id=\"T_2afd7a5a_5d7a_11ea_9c2a_a0510b6ee2c1row8_col0\" class=\"data row8 col0\" >11.038961</td>\n",
       "                        <td id=\"T_2afd7a5a_5d7a_11ea_9c2a_a0510b6ee2c1row8_col1\" class=\"data row8 col1\" >5.194805</td>\n",
       "                        <td id=\"T_2afd7a5a_5d7a_11ea_9c2a_a0510b6ee2c1row8_col2\" class=\"data row8 col2\" >11.255411</td>\n",
       "                        <td id=\"T_2afd7a5a_5d7a_11ea_9c2a_a0510b6ee2c1row8_col3\" class=\"data row8 col3\" >11.471861</td>\n",
       "            </tr>\n",
       "            <tr>\n",
       "                        <th id=\"T_2afd7a5a_5d7a_11ea_9c2a_a0510b6ee2c1level0_row9\" class=\"row_heading level0 row9\" >gram5-present-participle</th>\n",
       "                        <td id=\"T_2afd7a5a_5d7a_11ea_9c2a_a0510b6ee2c1row9_col0\" class=\"data row9 col0\" >32.223543</td>\n",
       "                        <td id=\"T_2afd7a5a_5d7a_11ea_9c2a_a0510b6ee2c1row9_col1\" class=\"data row9 col1\" >22.592152</td>\n",
       "                        <td id=\"T_2afd7a5a_5d7a_11ea_9c2a_a0510b6ee2c1row9_col2\" class=\"data row9 col2\" >31.272295</td>\n",
       "                        <td id=\"T_2afd7a5a_5d7a_11ea_9c2a_a0510b6ee2c1row9_col3\" class=\"data row9 col3\" >29.488704</td>\n",
       "            </tr>\n",
       "            <tr>\n",
       "                        <th id=\"T_2afd7a5a_5d7a_11ea_9c2a_a0510b6ee2c1level0_row10\" class=\"row_heading level0 row10\" >gram6-nationality-adjective</th>\n",
       "                        <td id=\"T_2afd7a5a_5d7a_11ea_9c2a_a0510b6ee2c1row10_col0\" class=\"data row10 col0\" >61.415026</td>\n",
       "                        <td id=\"T_2afd7a5a_5d7a_11ea_9c2a_a0510b6ee2c1row10_col1\" class=\"data row10 col1\" >53.172867</td>\n",
       "                        <td id=\"T_2afd7a5a_5d7a_11ea_9c2a_a0510b6ee2c1row10_col2\" class=\"data row10 col2\" >66.083151</td>\n",
       "                        <td id=\"T_2afd7a5a_5d7a_11ea_9c2a_a0510b6ee2c1row10_col3\" class=\"data row10 col3\" >64.259664</td>\n",
       "            </tr>\n",
       "            <tr>\n",
       "                        <th id=\"T_2afd7a5a_5d7a_11ea_9c2a_a0510b6ee2c1level0_row11\" class=\"row_heading level0 row11\" >gram7-past-tense</th>\n",
       "                        <td id=\"T_2afd7a5a_5d7a_11ea_9c2a_a0510b6ee2c1row11_col0\" class=\"data row11 col0\" >17.978395</td>\n",
       "                        <td id=\"T_2afd7a5a_5d7a_11ea_9c2a_a0510b6ee2c1row11_col1\" class=\"data row11 col1\" >13.657407</td>\n",
       "                        <td id=\"T_2afd7a5a_5d7a_11ea_9c2a_a0510b6ee2c1row11_col2\" class=\"data row11 col2\" >15.200617</td>\n",
       "                        <td id=\"T_2afd7a5a_5d7a_11ea_9c2a_a0510b6ee2c1row11_col3\" class=\"data row11 col3\" >15.432099</td>\n",
       "            </tr>\n",
       "            <tr>\n",
       "                        <th id=\"T_2afd7a5a_5d7a_11ea_9c2a_a0510b6ee2c1level0_row12\" class=\"row_heading level0 row12\" >gram8-plural</th>\n",
       "                        <td id=\"T_2afd7a5a_5d7a_11ea_9c2a_a0510b6ee2c1row12_col0\" class=\"data row12 col0\" >29.536290</td>\n",
       "                        <td id=\"T_2afd7a5a_5d7a_11ea_9c2a_a0510b6ee2c1row12_col1\" class=\"data row12 col1\" >18.649194</td>\n",
       "                        <td id=\"T_2afd7a5a_5d7a_11ea_9c2a_a0510b6ee2c1row12_col2\" class=\"data row12 col2\" >32.056452</td>\n",
       "                        <td id=\"T_2afd7a5a_5d7a_11ea_9c2a_a0510b6ee2c1row12_col3\" class=\"data row12 col3\" >27.318548</td>\n",
       "            </tr>\n",
       "            <tr>\n",
       "                        <th id=\"T_2afd7a5a_5d7a_11ea_9c2a_a0510b6ee2c1level0_row13\" class=\"row_heading level0 row13\" >gram9-plural-verbs</th>\n",
       "                        <td id=\"T_2afd7a5a_5d7a_11ea_9c2a_a0510b6ee2c1row13_col0\" class=\"data row13 col0\" >28.623188</td>\n",
       "                        <td id=\"T_2afd7a5a_5d7a_11ea_9c2a_a0510b6ee2c1row13_col1\" class=\"data row13 col1\" >21.557971</td>\n",
       "                        <td id=\"T_2afd7a5a_5d7a_11ea_9c2a_a0510b6ee2c1row13_col2\" class=\"data row13 col2\" >24.275362</td>\n",
       "                        <td id=\"T_2afd7a5a_5d7a_11ea_9c2a_a0510b6ee2c1row13_col3\" class=\"data row13 col3\" >25.181159</td>\n",
       "            </tr>\n",
       "            <tr>\n",
       "                        <th id=\"T_2afd7a5a_5d7a_11ea_9c2a_a0510b6ee2c1level0_row14\" class=\"row_heading level0 row14\" >overall</th>\n",
       "                        <td id=\"T_2afd7a5a_5d7a_11ea_9c2a_a0510b6ee2c1row14_col0\" class=\"data row14 col0\" >23.665359</td>\n",
       "                        <td id=\"T_2afd7a5a_5d7a_11ea_9c2a_a0510b6ee2c1row14_col1\" class=\"data row14 col1\" >15.785434</td>\n",
       "                        <td id=\"T_2afd7a5a_5d7a_11ea_9c2a_a0510b6ee2c1row14_col2\" class=\"data row14 col2\" >23.315709</td>\n",
       "                        <td id=\"T_2afd7a5a_5d7a_11ea_9c2a_a0510b6ee2c1row14_col3\" class=\"data row14 col3\" >21.695378</td>\n",
       "            </tr>\n",
       "    </tbody></table>"
      ],
      "text/plain": [
       "<pandas.io.formats.style.Styler at 0x1765a79be88>"
      ]
     },
     "execution_count": 67,
     "metadata": {},
     "output_type": "execute_result"
    }
   ],
   "source": [
    "results_df_top_5.style.apply(highlight_max, axis=1)"
   ]
  },
  {
   "cell_type": "markdown",
   "metadata": {},
   "source": [
    "Как видно для разных категорий лучше работают разные эмбединги. В среднем, лучший результат у эмбединга W1."
   ]
  },
  {
   "cell_type": "code",
   "execution_count": null,
   "metadata": {},
   "outputs": [],
   "source": []
  },
  {
   "cell_type": "code",
   "execution_count": null,
   "metadata": {},
   "outputs": [],
   "source": []
  }
 ],
 "metadata": {
  "kernelspec": {
   "display_name": "Python 3",
   "language": "python",
   "name": "python3"
  },
  "language_info": {
   "codemirror_mode": {
    "name": "ipython",
    "version": 3
   },
   "file_extension": ".py",
   "mimetype": "text/x-python",
   "name": "python",
   "nbconvert_exporter": "python",
   "pygments_lexer": "ipython3",
   "version": "3.7.6"
  }
 },
 "nbformat": 4,
 "nbformat_minor": 4
}
