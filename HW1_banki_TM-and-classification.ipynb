{
 "cells": [
  {
   "cell_type": "code",
   "execution_count": 1,
   "metadata": {},
   "outputs": [],
   "source": [
    "import json\n",
    "from jupyterthemes import jtplot\n",
    "import bz2\n",
    "import re\n",
    "from tqdm import tqdm\n",
    "from scipy import sparse"
   ]
  },
  {
   "cell_type": "code",
   "execution_count": 2,
   "metadata": {},
   "outputs": [
    {
     "name": "stderr",
     "output_type": "stream",
     "text": [
      "C:\\Users\\psv52\\Anaconda3\\lib\\site-packages\\tqdm\\_tqdm.py:603: FutureWarning: The Panel class is removed from pandas. Accessing it from the top-level namespace will also be removed in the next version\n",
      "  from pandas import Panel\n"
     ]
    }
   ],
   "source": [
    "tqdm.pandas()"
   ]
  },
  {
   "cell_type": "code",
   "execution_count": 3,
   "metadata": {},
   "outputs": [],
   "source": [
    "# !jt -t monokai -f fira -fs 11 -nf ptsans -nfs 9 -N -kl -cursw 5 -cursc r -cellw 95% -T"
   ]
  },
  {
   "cell_type": "code",
   "execution_count": 4,
   "metadata": {},
   "outputs": [
    {
     "name": "stdout",
     "output_type": "stream",
     "text": [
      "Populating the interactive namespace from numpy and matplotlib\n"
     ]
    }
   ],
   "source": [
    "import pandas as pd\n",
    "import numpy as np\n",
    "import nltk\n",
    "import matplotlib.pyplot as plt\n",
    "import seaborn as sns\n",
    "%matplotlib inline\n",
    "%pylab inline\n",
    "jtplot.style()"
   ]
  },
  {
   "cell_type": "code",
   "execution_count": 5,
   "metadata": {
    "scrolled": true
   },
   "outputs": [
    {
     "name": "stderr",
     "output_type": "stream",
     "text": [
      "201030it [01:36, 2083.95it/s]\n"
     ]
    }
   ],
   "source": [
    "responses = []\n",
    "with bz2.BZ2File('banki_responses.json.bz2', 'r') as thefile:\n",
    "    for row in tqdm(thefile):\n",
    "        resp = json.loads(row)\n",
    "        if not resp['rating_not_checked'] and (len(resp['text'].split()) > 0):\n",
    "            responses.append(resp)"
   ]
  },
  {
   "cell_type": "markdown",
   "metadata": {},
   "source": [
    "#  Домашнее задание по NLP # 1 [100 баллов]\n",
    "## Классификация по тональности \n",
    "\n",
    "В этом домашнем задании вам предстоит классифицировать по тональности отзывы на банки с сайта banki.ru.\n",
    "\n",
    "Данные содержат непосредственно тексты отзывов, некоторую дополнительную информацию, а также оценку по шкале от 1 до 5. \n",
    "\n",
    "Тексты хранятся в json-ах в массиве responses.\n",
    "\n",
    "Посмотрим на пример отзыва:"
   ]
  },
  {
   "cell_type": "code",
   "execution_count": 6,
   "metadata": {},
   "outputs": [
    {
     "data": {
      "text/plain": [
       "{'city': 'г. Москва',\n",
       " 'rating_not_checked': False,\n",
       " 'title': 'Возмещение страхового случая',\n",
       " 'num_comments': 3,\n",
       " 'bank_license': 'лицензия № 1623',\n",
       " 'author': 'baleyil',\n",
       " 'bank_name': 'ВТБ 24',\n",
       " 'datetime': '2015-06-04 14:12:31',\n",
       " 'text': 'Вчера - 03.06.15 - \\xa0пришла в офис в  ВТБ-24 на Сходненской,\\xa0  чтобы получить возмещение страхового случая по банку \"Транспортный\", в итоге мне сказали, что\\xa0открыта запись только на субботу - 06.06.2015 и не ранее. В операционном зале пусто,\\xa0клиентов и сотрудников банка\\xa0нет.\\xa0\\xa0 Количество офисов по Москве у ВТБ 24 сопоставимо со Сбербанком, который выплачивает возмещение сразу же и даже без очереди и тем более без записи. Вопрос: зачем руководство банка ВТБ 24 подавало заявку на участие в возмещении страхового случая, если не может организовать работу?',\n",
       " 'rating_grade': None}"
      ]
     },
     "execution_count": 6,
     "metadata": {},
     "output_type": "execute_result"
    }
   ],
   "source": [
    "responses[90]"
   ]
  },
  {
   "cell_type": "markdown",
   "metadata": {},
   "source": [
    "## Часть 1. Анализ текстов [40/100]\n",
    "\n",
    "1. Посчитайте количество отзывов в разных городах и на разные банки\n",
    "2. Постройте гистограмы длин слов в символах и в словах\n",
    "3. Найдите 10 самых частых:\n",
    "    * слов\n",
    "    * слов без стоп-слов\n",
    "    * лемм \n",
    "    * существительных\n",
    "4. Постройте кривые Ципфа и Хипса\n",
    "5. Ответьте на следующие вопросы:\n",
    "    * какое слово встречается чаще, \"сотрудник\" или \"клиент\"?\n",
    "    * сколько раз встречается слова \"мошенничество\" и \"доверие\"?\n",
    "6. В поле \"rating_grade\" записана оценка отзыва по шкале от 1 до 5. Используйте меру $tf-idf$, для того, чтобы найти ключевые слова и биграмы для положительных отзывов (с оценкой 5) и отрицательных отзывов (с оценкой 1)"
   ]
  },
  {
   "cell_type": "code",
   "execution_count": null,
   "metadata": {},
   "outputs": [],
   "source": []
  },
  {
   "cell_type": "markdown",
   "metadata": {},
   "source": [
    "#### 1.  Посчитайте количество отзывов в разных городах и на разные банки"
   ]
  },
  {
   "cell_type": "code",
   "execution_count": 7,
   "metadata": {},
   "outputs": [],
   "source": [
    "df = pd.DataFrame(responses)"
   ]
  },
  {
   "cell_type": "code",
   "execution_count": 8,
   "metadata": {},
   "outputs": [
    {
     "data": {
      "text/html": [
       "<div>\n",
       "<style scoped>\n",
       "    .dataframe tbody tr th:only-of-type {\n",
       "        vertical-align: middle;\n",
       "    }\n",
       "\n",
       "    .dataframe tbody tr th {\n",
       "        vertical-align: top;\n",
       "    }\n",
       "\n",
       "    .dataframe thead th {\n",
       "        text-align: right;\n",
       "    }\n",
       "</style>\n",
       "<table border=\"1\" class=\"dataframe\">\n",
       "  <thead>\n",
       "    <tr style=\"text-align: right;\">\n",
       "      <th></th>\n",
       "      <th>city</th>\n",
       "      <th>rating_not_checked</th>\n",
       "      <th>title</th>\n",
       "      <th>num_comments</th>\n",
       "      <th>bank_license</th>\n",
       "      <th>author</th>\n",
       "      <th>bank_name</th>\n",
       "      <th>datetime</th>\n",
       "      <th>text</th>\n",
       "      <th>rating_grade</th>\n",
       "    </tr>\n",
       "  </thead>\n",
       "  <tbody>\n",
       "    <tr>\n",
       "      <th>0</th>\n",
       "      <td>г. Москва</td>\n",
       "      <td>False</td>\n",
       "      <td>Жалоба</td>\n",
       "      <td>0</td>\n",
       "      <td>лицензия № 2562</td>\n",
       "      <td>uhnov1</td>\n",
       "      <td>Бинбанк</td>\n",
       "      <td>2015-06-08 12:50:54</td>\n",
       "      <td>Добрый день! Я не являюсь клиентом банка и пор...</td>\n",
       "      <td>NaN</td>\n",
       "    </tr>\n",
       "    <tr>\n",
       "      <th>1</th>\n",
       "      <td>г. Новосибирск</td>\n",
       "      <td>False</td>\n",
       "      <td>Не могу пользоваться услугой Сбербанк он-лайн</td>\n",
       "      <td>0</td>\n",
       "      <td>лицензия № 1481</td>\n",
       "      <td>Foryou</td>\n",
       "      <td>Сбербанк России</td>\n",
       "      <td>2015-06-08 11:09:57</td>\n",
       "      <td>Доброго дня! Являюсь держателем зарплатной кар...</td>\n",
       "      <td>NaN</td>\n",
       "    </tr>\n",
       "    <tr>\n",
       "      <th>2</th>\n",
       "      <td>г. Москва</td>\n",
       "      <td>False</td>\n",
       "      <td>Двойное списание за один товар.</td>\n",
       "      <td>1</td>\n",
       "      <td>лицензия № 2562</td>\n",
       "      <td>Vladimir84</td>\n",
       "      <td>Бинбанк</td>\n",
       "      <td>2015-06-05 20:14:28</td>\n",
       "      <td>Здравствуйте!  Дублирую свое заявление от 03.0...</td>\n",
       "      <td>NaN</td>\n",
       "    </tr>\n",
       "    <tr>\n",
       "      <th>3</th>\n",
       "      <td>г. Ставрополь</td>\n",
       "      <td>False</td>\n",
       "      <td>Меняют проценты комиссии  не предупредив и не ...</td>\n",
       "      <td>2</td>\n",
       "      <td>лицензия № 1481</td>\n",
       "      <td>643609</td>\n",
       "      <td>Сбербанк России</td>\n",
       "      <td>2015-06-05 13:51:01</td>\n",
       "      <td>Добрый день!! Я открыл расчетный счет в СберБа...</td>\n",
       "      <td>NaN</td>\n",
       "    </tr>\n",
       "    <tr>\n",
       "      <th>4</th>\n",
       "      <td>г. Челябинск</td>\n",
       "      <td>False</td>\n",
       "      <td>Верните денежные средства за страховку</td>\n",
       "      <td>1</td>\n",
       "      <td>лицензия № 2766</td>\n",
       "      <td>anfisa-2003</td>\n",
       "      <td>ОТП Банк</td>\n",
       "      <td>2015-06-05 10:58:12</td>\n",
       "      <td>04.03.2015 г. взяла кредит в вашем банке, заяв...</td>\n",
       "      <td>NaN</td>\n",
       "    </tr>\n",
       "  </tbody>\n",
       "</table>\n",
       "</div>"
      ],
      "text/plain": [
       "             city  rating_not_checked  \\\n",
       "0       г. Москва               False   \n",
       "1  г. Новосибирск               False   \n",
       "2       г. Москва               False   \n",
       "3   г. Ставрополь               False   \n",
       "4    г. Челябинск               False   \n",
       "\n",
       "                                               title  num_comments  \\\n",
       "0                                             Жалоба             0   \n",
       "1      Не могу пользоваться услугой Сбербанк он-лайн             0   \n",
       "2                    Двойное списание за один товар.             1   \n",
       "3  Меняют проценты комиссии  не предупредив и не ...             2   \n",
       "4             Верните денежные средства за страховку             1   \n",
       "\n",
       "      bank_license       author        bank_name             datetime  \\\n",
       "0  лицензия № 2562       uhnov1          Бинбанк  2015-06-08 12:50:54   \n",
       "1  лицензия № 1481       Foryou  Сбербанк России  2015-06-08 11:09:57   \n",
       "2  лицензия № 2562   Vladimir84          Бинбанк  2015-06-05 20:14:28   \n",
       "3  лицензия № 1481       643609  Сбербанк России  2015-06-05 13:51:01   \n",
       "4  лицензия № 2766  anfisa-2003         ОТП Банк  2015-06-05 10:58:12   \n",
       "\n",
       "                                                text  rating_grade  \n",
       "0  Добрый день! Я не являюсь клиентом банка и пор...           NaN  \n",
       "1  Доброго дня! Являюсь держателем зарплатной кар...           NaN  \n",
       "2  Здравствуйте!  Дублирую свое заявление от 03.0...           NaN  \n",
       "3  Добрый день!! Я открыл расчетный счет в СберБа...           NaN  \n",
       "4  04.03.2015 г. взяла кредит в вашем банке, заяв...           NaN  "
      ]
     },
     "execution_count": 8,
     "metadata": {},
     "output_type": "execute_result"
    }
   ],
   "source": [
    "df.head()"
   ]
  },
  {
   "cell_type": "code",
   "execution_count": 9,
   "metadata": {},
   "outputs": [
    {
     "data": {
      "text/plain": [
       "г. Москва             55354\n",
       "NaN                   15174\n",
       "г. Санкт-Петербург    14342\n",
       "г. Екатеринбург        2337\n",
       "г. Новосибирск         2300\n",
       "г. Нижний Новгород     1976\n",
       "г. Ростов-на-Дону      1891\n",
       "г. Самара              1731\n",
       "г. Челябинск           1507\n",
       "г. Казань              1440\n",
       "Name: city, dtype: int64"
      ]
     },
     "execution_count": 9,
     "metadata": {},
     "output_type": "execute_result"
    }
   ],
   "source": [
    "df['city'].value_counts(dropna=False).head(10)"
   ]
  },
  {
   "cell_type": "code",
   "execution_count": 10,
   "metadata": {},
   "outputs": [],
   "source": [
    "# удалим строки, в которых отсутствуют записи в поле город.\n",
    "df.dropna(subset=['city'], inplace=True)"
   ]
  },
  {
   "cell_type": "code",
   "execution_count": 11,
   "metadata": {},
   "outputs": [
    {
     "data": {
      "text/html": [
       "<div>\n",
       "<style scoped>\n",
       "    .dataframe tbody tr th:only-of-type {\n",
       "        vertical-align: middle;\n",
       "    }\n",
       "\n",
       "    .dataframe tbody tr th {\n",
       "        vertical-align: top;\n",
       "    }\n",
       "\n",
       "    .dataframe thead th {\n",
       "        text-align: right;\n",
       "    }\n",
       "</style>\n",
       "<table border=\"1\" class=\"dataframe\">\n",
       "  <thead>\n",
       "    <tr style=\"text-align: right;\">\n",
       "      <th></th>\n",
       "      <th>city</th>\n",
       "      <th>rating_not_checked</th>\n",
       "      <th>title</th>\n",
       "      <th>num_comments</th>\n",
       "      <th>bank_license</th>\n",
       "      <th>author</th>\n",
       "      <th>bank_name</th>\n",
       "      <th>datetime</th>\n",
       "      <th>text</th>\n",
       "      <th>rating_grade</th>\n",
       "    </tr>\n",
       "  </thead>\n",
       "  <tbody>\n",
       "    <tr>\n",
       "      <th>12204</th>\n",
       "      <td>г. c.Коса</td>\n",
       "      <td>False</td>\n",
       "      <td>Не понятна ситуация по страховке</td>\n",
       "      <td>0</td>\n",
       "      <td>лицензия № 1481</td>\n",
       "      <td>NataOst</td>\n",
       "      <td>Сбербанк России</td>\n",
       "      <td>2015-02-24 21:03:00</td>\n",
       "      <td>Добрый день, настоятельно прошу разобраться в ...</td>\n",
       "      <td>NaN</td>\n",
       "    </tr>\n",
       "    <tr>\n",
       "      <th>18330</th>\n",
       "      <td>г. Krasnoyarsk (Санкт-Петербург)</td>\n",
       "      <td>False</td>\n",
       "      <td>Достали уже!</td>\n",
       "      <td>0</td>\n",
       "      <td>лицензия № 1460</td>\n",
       "      <td>jpnsk17</td>\n",
       "      <td>Восточный Экспресс Банк</td>\n",
       "      <td>2015-01-12 07:31:00</td>\n",
       "      <td>Господа изыскатели долгов. Вы когда кредиты ра...</td>\n",
       "      <td>NaN</td>\n",
       "    </tr>\n",
       "    <tr>\n",
       "      <th>22682</th>\n",
       "      <td>г. n/a (Москва)</td>\n",
       "      <td>False</td>\n",
       "      <td>Мысли вслух</td>\n",
       "      <td>0</td>\n",
       "      <td>лицензия № 2673</td>\n",
       "      <td>beliyYAR</td>\n",
       "      <td>Тинькофф Банк</td>\n",
       "      <td>2014-12-18 12:22:00</td>\n",
       "      <td>Прошло уже 2.5 года от моей первой негативно-н...</td>\n",
       "      <td>5.0</td>\n",
       "    </tr>\n",
       "    <tr>\n",
       "      <th>32191</th>\n",
       "      <td>г. Bremen (Москва)</td>\n",
       "      <td>False</td>\n",
       "      <td>Получение денежного перевода Вестерн Юнион</td>\n",
       "      <td>1</td>\n",
       "      <td>лицензия № 705</td>\n",
       "      <td>MaximL</td>\n",
       "      <td>СКБ-Банк</td>\n",
       "      <td>2014-10-03 12:02:00</td>\n",
       "      <td>Здравствуйте! 02.10. пытались получить денежны...</td>\n",
       "      <td>NaN</td>\n",
       "    </tr>\n",
       "    <tr>\n",
       "      <th>32668</th>\n",
       "      <td>г. Booischot, Belgium (Москва)</td>\n",
       "      <td>False</td>\n",
       "      <td>С апреля не могу решить вопрос о реструктуриза...</td>\n",
       "      <td>0</td>\n",
       "      <td>лицензия № 2766</td>\n",
       "      <td>alex.avd2015</td>\n",
       "      <td>ОТП Банк</td>\n",
       "      <td>2014-09-29 14:20:00</td>\n",
       "      <td>Я, Авдеев Александр Владимирович, 23.05.1971г,...</td>\n",
       "      <td>NaN</td>\n",
       "    </tr>\n",
       "  </tbody>\n",
       "</table>\n",
       "</div>"
      ],
      "text/plain": [
       "                                   city  rating_not_checked  \\\n",
       "12204                         г. c.Коса               False   \n",
       "18330  г. Krasnoyarsk (Санкт-Петербург)               False   \n",
       "22682                   г. n/a (Москва)               False   \n",
       "32191                г. Bremen (Москва)               False   \n",
       "32668    г. Booischot, Belgium (Москва)               False   \n",
       "\n",
       "                                                   title  num_comments  \\\n",
       "12204                   Не понятна ситуация по страховке             0   \n",
       "18330                                       Достали уже!             0   \n",
       "22682                                        Мысли вслух             0   \n",
       "32191         Получение денежного перевода Вестерн Юнион             1   \n",
       "32668  С апреля не могу решить вопрос о реструктуриза...             0   \n",
       "\n",
       "          bank_license        author                bank_name  \\\n",
       "12204  лицензия № 1481       NataOst          Сбербанк России   \n",
       "18330  лицензия № 1460       jpnsk17  Восточный Экспресс Банк   \n",
       "22682  лицензия № 2673      beliyYAR            Тинькофф Банк   \n",
       "32191   лицензия № 705        MaximL                 СКБ-Банк   \n",
       "32668  лицензия № 2766  alex.avd2015                 ОТП Банк   \n",
       "\n",
       "                  datetime                                               text  \\\n",
       "12204  2015-02-24 21:03:00  Добрый день, настоятельно прошу разобраться в ...   \n",
       "18330  2015-01-12 07:31:00  Господа изыскатели долгов. Вы когда кредиты ра...   \n",
       "22682  2014-12-18 12:22:00  Прошло уже 2.5 года от моей первой негативно-н...   \n",
       "32191  2014-10-03 12:02:00  Здравствуйте! 02.10. пытались получить денежны...   \n",
       "32668  2014-09-29 14:20:00  Я, Авдеев Александр Владимирович, 23.05.1971г,...   \n",
       "\n",
       "       rating_grade  \n",
       "12204           NaN  \n",
       "18330           NaN  \n",
       "22682           5.0  \n",
       "32191           NaN  \n",
       "32668           NaN  "
      ]
     },
     "execution_count": 11,
     "metadata": {},
     "output_type": "execute_result"
    }
   ],
   "source": [
    "# также в некоторых записях присутствует латиница вместе с кириллицей\n",
    "df[df['city'].str.contains('[a-z]', regex=True)].head()"
   ]
  },
  {
   "cell_type": "code",
   "execution_count": 12,
   "metadata": {},
   "outputs": [
    {
     "data": {
      "text/html": [
       "<div>\n",
       "<style scoped>\n",
       "    .dataframe tbody tr th:only-of-type {\n",
       "        vertical-align: middle;\n",
       "    }\n",
       "\n",
       "    .dataframe tbody tr th {\n",
       "        vertical-align: top;\n",
       "    }\n",
       "\n",
       "    .dataframe thead th {\n",
       "        text-align: right;\n",
       "    }\n",
       "</style>\n",
       "<table border=\"1\" class=\"dataframe\">\n",
       "  <thead>\n",
       "    <tr style=\"text-align: right;\">\n",
       "      <th></th>\n",
       "      <th>city</th>\n",
       "      <th>rating_not_checked</th>\n",
       "      <th>title</th>\n",
       "      <th>num_comments</th>\n",
       "      <th>bank_license</th>\n",
       "      <th>author</th>\n",
       "      <th>bank_name</th>\n",
       "      <th>datetime</th>\n",
       "      <th>text</th>\n",
       "      <th>rating_grade</th>\n",
       "    </tr>\n",
       "  </thead>\n",
       "  <tbody>\n",
       "    <tr>\n",
       "      <th>63548</th>\n",
       "      <td>г. Krasnoyarsk</td>\n",
       "      <td>False</td>\n",
       "      <td>Ужасное отношение</td>\n",
       "      <td>2</td>\n",
       "      <td>лицензия № 1623</td>\n",
       "      <td>sava124</td>\n",
       "      <td>ВТБ 24</td>\n",
       "      <td>2013-12-19 12:47:00</td>\n",
       "      <td>Всем привет.  Решил взять кредит в Банке ВТБ 2...</td>\n",
       "      <td>1.0</td>\n",
       "    </tr>\n",
       "    <tr>\n",
       "      <th>63630</th>\n",
       "      <td>г. Indonesia</td>\n",
       "      <td>False</td>\n",
       "      <td>Блокировка карты заграницей</td>\n",
       "      <td>4</td>\n",
       "      <td>лицензия № 1961</td>\n",
       "      <td>testramb</td>\n",
       "      <td>Связной Банк</td>\n",
       "      <td>2013-12-19 23:44:00</td>\n",
       "      <td>По этому поводу большая переписка с вашим банк...</td>\n",
       "      <td>NaN</td>\n",
       "    </tr>\n",
       "    <tr>\n",
       "      <th>63685</th>\n",
       "      <td>г. Murmansk</td>\n",
       "      <td>False</td>\n",
       "      <td>Мой Банк</td>\n",
       "      <td>10</td>\n",
       "      <td>лицензия № 2939</td>\n",
       "      <td>vvo009</td>\n",
       "      <td>Мой Банк</td>\n",
       "      <td>2013-12-20 11:27:00</td>\n",
       "      <td>Дамы и Господа, Может, мы уже перестанем этот ...</td>\n",
       "      <td>NaN</td>\n",
       "    </tr>\n",
       "    <tr>\n",
       "      <th>64145</th>\n",
       "      <td>г. Perm</td>\n",
       "      <td>False</td>\n",
       "      <td>Ограничения по исходящим платежам!</td>\n",
       "      <td>1</td>\n",
       "      <td>лицензия № 2241</td>\n",
       "      <td>realpower</td>\n",
       "      <td>Киви Банк</td>\n",
       "      <td>2013-12-16 01:18:00</td>\n",
       "      <td>Здравствуйте! Пользуюсь киви кошельком с 2013 ...</td>\n",
       "      <td>1.0</td>\n",
       "    </tr>\n",
       "    <tr>\n",
       "      <th>64299</th>\n",
       "      <td>г. Moscow</td>\n",
       "      <td>False</td>\n",
       "      <td>Продолжение истории со звонками коллекторов</td>\n",
       "      <td>1</td>\n",
       "      <td>лицензия № 3354</td>\n",
       "      <td>evgenykuk</td>\n",
       "      <td>Ренессанс Кредит</td>\n",
       "      <td>2013-12-16 10:36:00</td>\n",
       "      <td>Была вот  такая история . Вроде все хорошо, вс...</td>\n",
       "      <td>NaN</td>\n",
       "    </tr>\n",
       "  </tbody>\n",
       "</table>\n",
       "</div>"
      ],
      "text/plain": [
       "                 city  rating_not_checked  \\\n",
       "63548  г. Krasnoyarsk               False   \n",
       "63630    г. Indonesia               False   \n",
       "63685     г. Murmansk               False   \n",
       "64145         г. Perm               False   \n",
       "64299       г. Moscow               False   \n",
       "\n",
       "                                             title  num_comments  \\\n",
       "63548                            Ужасное отношение             2   \n",
       "63630                  Блокировка карты заграницей             4   \n",
       "63685                                     Мой Банк            10   \n",
       "64145           Ограничения по исходящим платежам!             1   \n",
       "64299  Продолжение истории со звонками коллекторов             1   \n",
       "\n",
       "          bank_license     author         bank_name             datetime  \\\n",
       "63548  лицензия № 1623    sava124            ВТБ 24  2013-12-19 12:47:00   \n",
       "63630  лицензия № 1961   testramb      Связной Банк  2013-12-19 23:44:00   \n",
       "63685  лицензия № 2939     vvo009          Мой Банк  2013-12-20 11:27:00   \n",
       "64145  лицензия № 2241  realpower         Киви Банк  2013-12-16 01:18:00   \n",
       "64299  лицензия № 3354  evgenykuk  Ренессанс Кредит  2013-12-16 10:36:00   \n",
       "\n",
       "                                                    text  rating_grade  \n",
       "63548  Всем привет.  Решил взять кредит в Банке ВТБ 2...           1.0  \n",
       "63630  По этому поводу большая переписка с вашим банк...           NaN  \n",
       "63685  Дамы и Господа, Может, мы уже перестанем этот ...           NaN  \n",
       "64145  Здравствуйте! Пользуюсь киви кошельком с 2013 ...           1.0  \n",
       "64299  Была вот  такая история . Вроде все хорошо, вс...           NaN  "
      ]
     },
     "execution_count": 12,
     "metadata": {},
     "output_type": "execute_result"
    }
   ],
   "source": [
    "# или только названия городов на латинице\n",
    "df[~df['city'].str.contains('[а-яА-Я]{2,}', regex=True)].head()"
   ]
  },
  {
   "cell_type": "code",
   "execution_count": 13,
   "metadata": {},
   "outputs": [],
   "source": [
    "# чтобы не усложнять обработку данных оставим только кириллицу."
   ]
  },
  {
   "cell_type": "code",
   "execution_count": 14,
   "metadata": {},
   "outputs": [],
   "source": [
    "def cyrillic_only(raw):\n",
    "    return ''.join(re.findall('[А-Яа-я-. ]', raw))\n",
    "\n",
    "def remove_duplicates(raw):\n",
    "    \"\"\"\n",
    "    Ф-я ставит точку после сокращения 'г.', если она отсутствует.\n",
    "    Добавляет пробел после сокращения 'г.', если он отсутствует.\n",
    "    Убирает дупликаты сокращений 'г.'.\n",
    "    Меняет первую букву города на заглавную.\n",
    "    \"\"\"\n",
    "    raw = re.sub('г ', 'г. ', raw)\n",
    "    raw = re.sub('(г.)([А-Я])', r'г. \\2', raw)\n",
    "    raw = re.sub('г. г. ', 'г. ', raw)\n",
    "    raw = re.sub(r'(г. )([А-Я]{2,})', lambda x: x.group(1) + x.group(2).lower().title(), raw)\n",
    "    return re.sub(r'(г. )([а-я]{2,})', lambda x: x.group(1) + x.group(2).title(), raw)"
   ]
  },
  {
   "cell_type": "code",
   "execution_count": 15,
   "metadata": {},
   "outputs": [
    {
     "name": "stderr",
     "output_type": "stream",
     "text": [
      "100%|██████████████████████████████████████████████████████████████████████| 138325/138325 [00:00<00:00, 274911.64it/s]\n"
     ]
    }
   ],
   "source": [
    "df['city'] = df['city'].progress_apply(cyrillic_only).apply(remove_duplicates)"
   ]
  },
  {
   "cell_type": "code",
   "execution_count": 16,
   "metadata": {},
   "outputs": [
    {
     "data": {
      "text/html": [
       "<div>\n",
       "<style scoped>\n",
       "    .dataframe tbody tr th:only-of-type {\n",
       "        vertical-align: middle;\n",
       "    }\n",
       "\n",
       "    .dataframe tbody tr th {\n",
       "        vertical-align: top;\n",
       "    }\n",
       "\n",
       "    .dataframe thead th {\n",
       "        text-align: right;\n",
       "    }\n",
       "</style>\n",
       "<table border=\"1\" class=\"dataframe\">\n",
       "  <thead>\n",
       "    <tr style=\"text-align: right;\">\n",
       "      <th></th>\n",
       "      <th>city</th>\n",
       "      <th>rating_not_checked</th>\n",
       "      <th>title</th>\n",
       "      <th>num_comments</th>\n",
       "      <th>bank_license</th>\n",
       "      <th>author</th>\n",
       "      <th>bank_name</th>\n",
       "      <th>datetime</th>\n",
       "      <th>text</th>\n",
       "      <th>rating_grade</th>\n",
       "    </tr>\n",
       "  </thead>\n",
       "  <tbody>\n",
       "    <tr>\n",
       "      <th>63548</th>\n",
       "      <td>г.</td>\n",
       "      <td>False</td>\n",
       "      <td>Ужасное отношение</td>\n",
       "      <td>2</td>\n",
       "      <td>лицензия № 1623</td>\n",
       "      <td>sava124</td>\n",
       "      <td>ВТБ 24</td>\n",
       "      <td>2013-12-19 12:47:00</td>\n",
       "      <td>Всем привет.  Решил взять кредит в Банке ВТБ 2...</td>\n",
       "      <td>1.0</td>\n",
       "    </tr>\n",
       "    <tr>\n",
       "      <th>63630</th>\n",
       "      <td>г.</td>\n",
       "      <td>False</td>\n",
       "      <td>Блокировка карты заграницей</td>\n",
       "      <td>4</td>\n",
       "      <td>лицензия № 1961</td>\n",
       "      <td>testramb</td>\n",
       "      <td>Связной Банк</td>\n",
       "      <td>2013-12-19 23:44:00</td>\n",
       "      <td>По этому поводу большая переписка с вашим банк...</td>\n",
       "      <td>NaN</td>\n",
       "    </tr>\n",
       "    <tr>\n",
       "      <th>63685</th>\n",
       "      <td>г.</td>\n",
       "      <td>False</td>\n",
       "      <td>Мой Банк</td>\n",
       "      <td>10</td>\n",
       "      <td>лицензия № 2939</td>\n",
       "      <td>vvo009</td>\n",
       "      <td>Мой Банк</td>\n",
       "      <td>2013-12-20 11:27:00</td>\n",
       "      <td>Дамы и Господа, Может, мы уже перестанем этот ...</td>\n",
       "      <td>NaN</td>\n",
       "    </tr>\n",
       "    <tr>\n",
       "      <th>64145</th>\n",
       "      <td>г.</td>\n",
       "      <td>False</td>\n",
       "      <td>Ограничения по исходящим платежам!</td>\n",
       "      <td>1</td>\n",
       "      <td>лицензия № 2241</td>\n",
       "      <td>realpower</td>\n",
       "      <td>Киви Банк</td>\n",
       "      <td>2013-12-16 01:18:00</td>\n",
       "      <td>Здравствуйте! Пользуюсь киви кошельком с 2013 ...</td>\n",
       "      <td>1.0</td>\n",
       "    </tr>\n",
       "    <tr>\n",
       "      <th>64299</th>\n",
       "      <td>г.</td>\n",
       "      <td>False</td>\n",
       "      <td>Продолжение истории со звонками коллекторов</td>\n",
       "      <td>1</td>\n",
       "      <td>лицензия № 3354</td>\n",
       "      <td>evgenykuk</td>\n",
       "      <td>Ренессанс Кредит</td>\n",
       "      <td>2013-12-16 10:36:00</td>\n",
       "      <td>Была вот  такая история . Вроде все хорошо, вс...</td>\n",
       "      <td>NaN</td>\n",
       "    </tr>\n",
       "  </tbody>\n",
       "</table>\n",
       "</div>"
      ],
      "text/plain": [
       "      city  rating_not_checked                                        title  \\\n",
       "63548  г.                False                            Ужасное отношение   \n",
       "63630  г.                False                  Блокировка карты заграницей   \n",
       "63685  г.                False                                     Мой Банк   \n",
       "64145  г.                False           Ограничения по исходящим платежам!   \n",
       "64299  г.                False  Продолжение истории со звонками коллекторов   \n",
       "\n",
       "       num_comments     bank_license     author         bank_name  \\\n",
       "63548             2  лицензия № 1623    sava124            ВТБ 24   \n",
       "63630             4  лицензия № 1961   testramb      Связной Банк   \n",
       "63685            10  лицензия № 2939     vvo009          Мой Банк   \n",
       "64145             1  лицензия № 2241  realpower         Киви Банк   \n",
       "64299             1  лицензия № 3354  evgenykuk  Ренессанс Кредит   \n",
       "\n",
       "                  datetime                                               text  \\\n",
       "63548  2013-12-19 12:47:00  Всем привет.  Решил взять кредит в Банке ВТБ 2...   \n",
       "63630  2013-12-19 23:44:00  По этому поводу большая переписка с вашим банк...   \n",
       "63685  2013-12-20 11:27:00  Дамы и Господа, Может, мы уже перестанем этот ...   \n",
       "64145  2013-12-16 01:18:00  Здравствуйте! Пользуюсь киви кошельком с 2013 ...   \n",
       "64299  2013-12-16 10:36:00  Была вот  такая история . Вроде все хорошо, вс...   \n",
       "\n",
       "       rating_grade  \n",
       "63548           1.0  \n",
       "63630           NaN  \n",
       "63685           NaN  \n",
       "64145           1.0  \n",
       "64299           NaN  "
      ]
     },
     "execution_count": 16,
     "metadata": {},
     "output_type": "execute_result"
    }
   ],
   "source": [
    "# после преобразований остались строчки без названий городов, удалим их\n",
    "df[~df['city'].str.contains('[а-яА-Я]{2,}', regex=True)].head()"
   ]
  },
  {
   "cell_type": "code",
   "execution_count": 17,
   "metadata": {},
   "outputs": [],
   "source": [
    "df.drop(df[~df['city'].str.contains('[а-яА-Я]{2,}', regex=True)].index, inplace=True)"
   ]
  },
  {
   "cell_type": "code",
   "execution_count": 18,
   "metadata": {},
   "outputs": [
    {
     "data": {
      "text/plain": [
       "г. Москваотделение Краснопресненское           1\n",
       "г. Назрань Республика Ингушетия                1\n",
       "г. Богородицк Тульская обл.                    1\n",
       "г. Гдов                                        1\n",
       "г. Мотыгино Красноярский край                  1\n",
       "г. Москва Самара                               1\n",
       "г. Петропавловск-Камчатский Камчатский край    1\n",
       "г. Чепигинская                                 1\n",
       "г. Раменкое                                    1\n",
       "г. Мытищи-Москва-Новороссийск                  1\n",
       "Name: city, dtype: int64"
      ]
     },
     "execution_count": 18,
     "metadata": {},
     "output_type": "execute_result"
    }
   ],
   "source": [
    "# присутствует очень много городов написанных с ошибкой, либо с нестандартным указанием названия \n",
    "# (сокращенное, либо расширенное). Также удалим эти записи.\n",
    "df['city'].value_counts()[df['city'].value_counts()==1].head(10)"
   ]
  },
  {
   "cell_type": "code",
   "execution_count": 19,
   "metadata": {},
   "outputs": [],
   "source": [
    "rare_cities = df['city'].value_counts()[df['city'].value_counts()==1].to_dict()"
   ]
  },
  {
   "cell_type": "code",
   "execution_count": 20,
   "metadata": {},
   "outputs": [],
   "source": [
    "def del_rare_cities(raw):\n",
    "    return raw in rare_cities.keys()"
   ]
  },
  {
   "cell_type": "code",
   "execution_count": 21,
   "metadata": {},
   "outputs": [
    {
     "name": "stderr",
     "output_type": "stream",
     "text": [
      "100%|█████████████████████████████████████████████████████████████████████| 138151/138151 [00:00<00:00, 1214769.10it/s]\n"
     ]
    }
   ],
   "source": [
    "df.drop(df[df['city'].progress_apply(del_rare_cities)].index, inplace=True)"
   ]
  },
  {
   "cell_type": "code",
   "execution_count": 22,
   "metadata": {},
   "outputs": [
    {
     "data": {
      "image/png": "[encoded data removed]",
      "text/plain": [
       "<Figure size 1296x432 with 1 Axes>"
      ]
     },
     "metadata": {
      "needs_background": "dark"
     },
     "output_type": "display_data"
    }
   ],
   "source": [
    "# построим распределение количества отзывов по городам.\n",
    "plt.figure(figsize=(18, 6))\n",
    "ax = df['city'].value_counts()[:30].plot(kind='bar')"
   ]
  },
  {
   "cell_type": "code",
   "execution_count": 23,
   "metadata": {},
   "outputs": [
    {
     "data": {
      "text/plain": [
       "г. Москва             56782\n",
       "г. Санкт-Петербург    14358\n",
       "г. Новосибирск         2384\n",
       "г. Екатеринбург        2376\n",
       "г. Нижний Новгород     1979\n",
       "г. Ростов-на-Дону      1905\n",
       "г. Самара              1785\n",
       "г. Челябинск           1541\n",
       "г. Казань              1516\n",
       "г. Уфа                 1322\n",
       "Name: city, dtype: int64"
      ]
     },
     "execution_count": 23,
     "metadata": {},
     "output_type": "execute_result"
    }
   ],
   "source": [
    "# Количество отзывов по городам:\n",
    "df['city'].value_counts().head(10)"
   ]
  },
  {
   "cell_type": "code",
   "execution_count": 24,
   "metadata": {},
   "outputs": [
    {
     "data": {
      "text/plain": [
       "Сбербанк России              24472\n",
       "Альфа-Банк                    8905\n",
       "ВТБ 24                        7169\n",
       "Хоум Кредит Банк              7145\n",
       "Русский Стандарт              7073\n",
       "Тинькофф Банк                 5169\n",
       "Национальный Банк «Траст»     4382\n",
       "Связной Банк                  3699\n",
       "Ренессанс Кредит              3326\n",
       "ОТП Банк                      2962\n",
       "Name: bank_name, dtype: int64"
      ]
     },
     "execution_count": 24,
     "metadata": {},
     "output_type": "execute_result"
    }
   ],
   "source": [
    "# количество отзывов по банкам.\n",
    "df['bank_name'].value_counts(dropna=False).head(10)"
   ]
  },
  {
   "cell_type": "code",
   "execution_count": 25,
   "metadata": {},
   "outputs": [],
   "source": [
    "# редкие банки.\n",
    "rare_banks = df['bank_name'].value_counts()[df['bank_name'].value_counts()==1].to_dict()"
   ]
  },
  {
   "cell_type": "code",
   "execution_count": 26,
   "metadata": {},
   "outputs": [],
   "source": [
    "def del_rare_banks(raw):\n",
    "    return raw in rare_banks.keys()"
   ]
  },
  {
   "cell_type": "code",
   "execution_count": 27,
   "metadata": {},
   "outputs": [
    {
     "name": "stderr",
     "output_type": "stream",
     "text": [
      "100%|█████████████████████████████████████████████████████████████████████| 134872/134872 [00:00<00:00, 1127267.05it/s]\n"
     ]
    }
   ],
   "source": [
    "df.drop(df[df['bank_name'].progress_apply(del_rare_banks)].index, inplace=True)"
   ]
  },
  {
   "cell_type": "code",
   "execution_count": 28,
   "metadata": {},
   "outputs": [
    {
     "data": {
      "image/png": "[encoded data removed]",
      "text/plain": [
       "<Figure size 1296x432 with 1 Axes>"
      ]
     },
     "metadata": {
      "needs_background": "dark"
     },
     "output_type": "display_data"
    }
   ],
   "source": [
    "# построим распределение количества отзывов по банкам.\n",
    "plt.figure(figsize=(18, 6))\n",
    "ax = df['bank_name'].value_counts()[:30].plot(kind='bar')"
   ]
  },
  {
   "cell_type": "code",
   "execution_count": 29,
   "metadata": {},
   "outputs": [
    {
     "data": {
      "text/plain": [
       "Сбербанк России              24472\n",
       "Альфа-Банк                    8905\n",
       "ВТБ 24                        7169\n",
       "Хоум Кредит Банк              7145\n",
       "Русский Стандарт              7073\n",
       "Тинькофф Банк                 5169\n",
       "Национальный Банк «Траст»     4382\n",
       "Связной Банк                  3699\n",
       "Ренессанс Кредит              3326\n",
       "ОТП Банк                      2962\n",
       "Name: bank_name, dtype: int64"
      ]
     },
     "execution_count": 29,
     "metadata": {},
     "output_type": "execute_result"
    }
   ],
   "source": [
    "# Количество отзывов по банкам:\n",
    "df['bank_name'].value_counts().head(10)"
   ]
  },
  {
   "cell_type": "markdown",
   "metadata": {},
   "source": [
    "#### 2. Постройте гистограмы текстов в символах и в словах"
   ]
  },
  {
   "cell_type": "code",
   "execution_count": 30,
   "metadata": {},
   "outputs": [],
   "source": [
    "regex = re.compile('[а-яё]{3,}')\n",
    "\n",
    "def words_only(raw, regex=regex):\n",
    "    try:\n",
    "        return ' '.join(regex.findall(raw))\n",
    "    except:\n",
    "        return ''"
   ]
  },
  {
   "cell_type": "code",
   "execution_count": 31,
   "metadata": {},
   "outputs": [],
   "source": [
    "df['text'] = df['text'].str.lower()"
   ]
  },
  {
   "cell_type": "code",
   "execution_count": 32,
   "metadata": {},
   "outputs": [
    {
     "name": "stderr",
     "output_type": "stream",
     "text": [
      "100%|███████████████████████████████████████████████████████████████████████| 134751/134751 [00:07<00:00, 18200.16it/s]\n"
     ]
    }
   ],
   "source": [
    "texts = df['text'].progress_apply(words_only)"
   ]
  },
  {
   "cell_type": "code",
   "execution_count": 33,
   "metadata": {},
   "outputs": [],
   "source": [
    "symbol_length = texts.str.len()"
   ]
  },
  {
   "cell_type": "code",
   "execution_count": 34,
   "metadata": {},
   "outputs": [
    {
     "data": {
      "image/png": "[encoded data removed]",
      "text/plain": [
       "<Figure size 1008x432 with 1 Axes>"
      ]
     },
     "metadata": {
      "needs_background": "dark"
     },
     "output_type": "display_data"
    }
   ],
   "source": [
    "ax = symbol_length.hist(bins=100, figsize=(14,6))"
   ]
  },
  {
   "cell_type": "code",
   "execution_count": 35,
   "metadata": {},
   "outputs": [],
   "source": [
    "words_length = texts.str.split(' ').str.len()"
   ]
  },
  {
   "cell_type": "code",
   "execution_count": 36,
   "metadata": {},
   "outputs": [
    {
     "data": {
      "image/png": "[encoded data removed]",
      "text/plain": [
       "<Figure size 1008x432 with 1 Axes>"
      ]
     },
     "metadata": {
      "needs_background": "dark"
     },
     "output_type": "display_data"
    }
   ],
   "source": [
    "ax = words_length.hist(bins=100, figsize=(14,6))"
   ]
  },
  {
   "cell_type": "markdown",
   "metadata": {},
   "source": [
    "3. Найдите 10 самых частых:\n",
    "    * слов\n",
    "    * слов без стоп-слов\n",
    "    * лемм \n",
    "    * существительных"
   ]
  },
  {
   "cell_type": "code",
   "execution_count": 37,
   "metadata": {},
   "outputs": [],
   "source": [
    "texts = texts.str.split()"
   ]
  },
  {
   "cell_type": "code",
   "execution_count": 38,
   "metadata": {},
   "outputs": [
    {
     "data": {
      "text/plain": [
       "0    [добрый, день, являюсь, клиентом, банка, поруч...\n",
       "1    [доброго, дня, являюсь, держателем, зарплатной...\n",
       "2    [здравствуйте, дублирую, свое, заявление, можа...\n",
       "3    [добрый, день, открыл, расчетный, счет, сберба...\n",
       "4    [взяла, кредит, вашем, банке, заявленная, мною...\n",
       "Name: text, dtype: object"
      ]
     },
     "execution_count": 38,
     "metadata": {},
     "output_type": "execute_result"
    }
   ],
   "source": [
    "texts.head()"
   ]
  },
  {
   "cell_type": "code",
   "execution_count": 39,
   "metadata": {},
   "outputs": [],
   "source": [
    "from collections import Counter"
   ]
  },
  {
   "cell_type": "code",
   "execution_count": 40,
   "metadata": {},
   "outputs": [
    {
     "name": "stderr",
     "output_type": "stream",
     "text": [
      "100%|███████████████████████████████████████████████████████████████████████| 134751/134751 [00:03<00:00, 35512.62it/s]\n"
     ]
    }
   ],
   "source": [
    "cnt_words = Counter()\n",
    "for text in tqdm(texts):\n",
    "    cnt_words.update(text)"
   ]
  },
  {
   "cell_type": "code",
   "execution_count": 41,
   "metadata": {},
   "outputs": [
    {
     "data": {
      "text/plain": [
       "[('что', 569800),\n",
       " ('мне', 287919),\n",
       " ('банка', 249654),\n",
       " ('банк', 193655),\n",
       " ('как', 181998),\n",
       " ('меня', 166987),\n",
       " ('это', 161255),\n",
       " ('все', 147597),\n",
       " ('так', 130910),\n",
       " ('деньги', 116672),\n",
       " ('для', 104501),\n",
       " ('было', 104172),\n",
       " ('уже', 96127),\n",
       " ('карту', 95669),\n",
       " ('через', 93430),\n",
       " ('карты', 93303),\n",
       " ('при', 82791),\n",
       " ('нет', 78747),\n",
       " ('только', 77652),\n",
       " ('еще', 73728)]"
      ]
     },
     "execution_count": 41,
     "metadata": {},
     "output_type": "execute_result"
    }
   ],
   "source": [
    "# 10 самых частых слов\n",
    "cnt_words.most_common(20)"
   ]
  },
  {
   "cell_type": "code",
   "execution_count": 42,
   "metadata": {},
   "outputs": [],
   "source": [
    "from nltk.corpus import stopwords"
   ]
  },
  {
   "cell_type": "code",
   "execution_count": 43,
   "metadata": {},
   "outputs": [],
   "source": [
    "my_stopwords = set(stopwords.words('russian') + ['это', 'что', 'мне', 'как', 'меня', 'все',\n",
    "                                                 'так', 'для', 'было', 'уже', 'через', 'при', 'только', \n",
    "                                                 'еще', 'наш', 'также', 'добрый', 'день', 'здравствуйте'])"
   ]
  },
  {
   "cell_type": "code",
   "execution_count": 44,
   "metadata": {},
   "outputs": [],
   "source": [
    "def del_stop_words(text, stop_words=my_stopwords):\n",
    "    try:\n",
    "        return [word for word in text if word not in stop_words]\n",
    "    except:\n",
    "        return []"
   ]
  },
  {
   "cell_type": "code",
   "execution_count": 45,
   "metadata": {},
   "outputs": [
    {
     "name": "stderr",
     "output_type": "stream",
     "text": [
      "100%|███████████████████████████████████████████████████████████████████████| 134751/134751 [00:02<00:00, 50448.88it/s]\n"
     ]
    }
   ],
   "source": [
    "texts_cleaned = texts.progress_apply(del_stop_words)"
   ]
  },
  {
   "cell_type": "code",
   "execution_count": 46,
   "metadata": {},
   "outputs": [
    {
     "name": "stderr",
     "output_type": "stream",
     "text": [
      "100%|███████████████████████████████████████████████████████████████████████| 134751/134751 [00:03<00:00, 44423.39it/s]\n"
     ]
    }
   ],
   "source": [
    "cnt_words_cleaned = Counter()\n",
    "for text in tqdm(texts_cleaned):\n",
    "    cnt_words_cleaned.update(text)"
   ]
  },
  {
   "cell_type": "code",
   "execution_count": 47,
   "metadata": {},
   "outputs": [
    {
     "data": {
      "text/plain": [
       "[('банка', 249654),\n",
       " ('банк', 193655),\n",
       " ('деньги', 116672),\n",
       " ('карту', 95669),\n",
       " ('карты', 93303),\n",
       " ('кредит', 70709),\n",
       " ('заявление', 64278),\n",
       " ('банке', 63928),\n",
       " ('отделение', 59425),\n",
       " ('время', 58177)]"
      ]
     },
     "execution_count": 47,
     "metadata": {},
     "output_type": "execute_result"
    }
   ],
   "source": [
    "# 10 самых частых слов без стоп-слов\n",
    "cnt_words_cleaned.most_common(10)"
   ]
  },
  {
   "cell_type": "code",
   "execution_count": 48,
   "metadata": {},
   "outputs": [],
   "source": [
    "from pymorphy2 import MorphAnalyzer"
   ]
  },
  {
   "cell_type": "code",
   "execution_count": 49,
   "metadata": {},
   "outputs": [],
   "source": [
    "pm2 = MorphAnalyzer()\n",
    "def lemmatize(text, lemmatizer=pm2):\n",
    "    try:\n",
    "        return [lemmatizer.parse(word)[0].normal_form for word in text] \n",
    "    except:\n",
    "        return []"
   ]
  },
  {
   "cell_type": "code",
   "execution_count": 50,
   "metadata": {},
   "outputs": [
    {
     "name": "stderr",
     "output_type": "stream",
     "text": [
      "100%|██████████████████████████████████████████████████████████████████████████| 134751/134751 [36:12<00:00, 62.04it/s]\n"
     ]
    }
   ],
   "source": [
    "lemms = texts_cleaned.progress_apply(lemmatize)"
   ]
  },
  {
   "cell_type": "code",
   "execution_count": 51,
   "metadata": {},
   "outputs": [
    {
     "data": {
      "text/plain": [
       "0    [являться, клиент, банка, поручитель, кредитны...\n",
       "1    [добрый, день, являться, держатель, зарплатный...\n",
       "2    [дублировать, свой, заявление, можайский, я, м...\n",
       "3    [открыть, расчётный, счёт, сбербанк, лицо, оди...\n",
       "4    [взять, кредит, ваш, банка, заявить, я, сумма,...\n",
       "5    [многие, вкладчик, открыть, рубль, счастливый,...\n",
       "6    [подать, заявление, получение, уэк, отделение,...\n",
       "7    [крайне, удивлённый, новость, май, унификация,...\n",
       "8    [сотрудник, банка, восточный, систематически, ...\n",
       "9    [являться, заёмщик, банка, втб, год, назад, вз...\n",
       "Name: text, dtype: object"
      ]
     },
     "execution_count": 51,
     "metadata": {},
     "output_type": "execute_result"
    }
   ],
   "source": [
    "lemms.head(10)"
   ]
  },
  {
   "cell_type": "code",
   "execution_count": 52,
   "metadata": {},
   "outputs": [
    {
     "name": "stderr",
     "output_type": "stream",
     "text": [
      "100%|███████████████████████████████████████████████████████████████████████| 134751/134751 [00:02<00:00, 51142.98it/s]\n"
     ]
    }
   ],
   "source": [
    "cnt_lemm = Counter()\n",
    "\n",
    "for text in tqdm(lemms):\n",
    "    cnt_lemm.update(text)"
   ]
  },
  {
   "cell_type": "code",
   "execution_count": 53,
   "metadata": {},
   "outputs": [
    {
     "data": {
      "text/plain": [
       "[('банка', 359155),\n",
       " ('карта', 304249),\n",
       " ('банк', 241091),\n",
       " ('деньга', 159678),\n",
       " ('мой', 147282),\n",
       " ('кредит', 137109),\n",
       " ('который', 133799),\n",
       " ('отделение', 127341),\n",
       " ('счёт', 126447),\n",
       " ('сотрудник', 122409)]"
      ]
     },
     "execution_count": 53,
     "metadata": {},
     "output_type": "execute_result"
    }
   ],
   "source": [
    "cnt_lemm.most_common(10)"
   ]
  },
  {
   "cell_type": "markdown",
   "metadata": {},
   "source": [
    "Как видно лемматизация немного подвела и саммой распространенной леммой стала банка. Т.к. едва ли в данном датасете могут упоминаться банки (в смысл тары) преобразуем данные леммы в банки (в смысле финансовых учреждений). "
   ]
  },
  {
   "cell_type": "code",
   "execution_count": 54,
   "metadata": {},
   "outputs": [],
   "source": [
    "def jars_to_banks(text):\n",
    "    try:\n",
    "        return [word if word != 'банка' else 'банк' for word in text]\n",
    "    except:\n",
    "        return []"
   ]
  },
  {
   "cell_type": "code",
   "execution_count": 55,
   "metadata": {},
   "outputs": [
    {
     "name": "stderr",
     "output_type": "stream",
     "text": [
      "100%|███████████████████████████████████████████████████████████████████████| 134751/134751 [00:02<00:00, 54178.73it/s]\n"
     ]
    }
   ],
   "source": [
    "lemms = lemms.progress_apply(jars_to_banks)"
   ]
  },
  {
   "cell_type": "code",
   "execution_count": 56,
   "metadata": {},
   "outputs": [
    {
     "name": "stderr",
     "output_type": "stream",
     "text": [
      "100%|███████████████████████████████████████████████████████████████████████| 134751/134751 [00:02<00:00, 57825.35it/s]\n"
     ]
    }
   ],
   "source": [
    "cnt_lemm = Counter()\n",
    "\n",
    "for text in tqdm(lemms):\n",
    "    cnt_lemm.update(text)"
   ]
  },
  {
   "cell_type": "code",
   "execution_count": 57,
   "metadata": {},
   "outputs": [
    {
     "data": {
      "text/plain": [
       "[('банк', 600246),\n",
       " ('карта', 304249),\n",
       " ('деньга', 159678),\n",
       " ('мой', 147282),\n",
       " ('кредит', 137109),\n",
       " ('который', 133799),\n",
       " ('отделение', 127341),\n",
       " ('счёт', 126447),\n",
       " ('сотрудник', 122409),\n",
       " ('клиент', 121453)]"
      ]
     },
     "execution_count": 57,
     "metadata": {},
     "output_type": "execute_result"
    }
   ],
   "source": [
    "cnt_lemm.most_common(10)"
   ]
  },
  {
   "cell_type": "code",
   "execution_count": 58,
   "metadata": {},
   "outputs": [
    {
     "data": {
      "text/plain": [
       "19104032"
      ]
     },
     "execution_count": 58,
     "metadata": {},
     "output_type": "execute_result"
    }
   ],
   "source": [
    "lemms.apply(len).sum()"
   ]
  },
  {
   "cell_type": "code",
   "execution_count": 59,
   "metadata": {},
   "outputs": [
    {
     "name": "stderr",
     "output_type": "stream",
     "text": [
      "100%|███████████████████████████████████████████████████████████████████████| 134751/134751 [00:02<00:00, 48726.43it/s]\n"
     ]
    }
   ],
   "source": [
    "# попробуем еще раз удалить стоп-слова\n",
    "lemms = lemms.progress_apply(del_stop_words)"
   ]
  },
  {
   "cell_type": "code",
   "execution_count": 60,
   "metadata": {},
   "outputs": [
    {
     "data": {
      "text/plain": [
       "18316731"
      ]
     },
     "execution_count": 60,
     "metadata": {},
     "output_type": "execute_result"
    }
   ],
   "source": [
    "# количество слов немного сократилось\n",
    "lemms.apply(len).sum()"
   ]
  },
  {
   "cell_type": "code",
   "execution_count": 61,
   "metadata": {},
   "outputs": [],
   "source": [
    "most_common_nouns = {}\n",
    "cnt = 0\n",
    "for word, num in cnt_lemm.most_common():\n",
    "    if 'NOUN' in pm2.parse(word)[0].tag:\n",
    "        cnt += 1\n",
    "        most_common_nouns[word] = num\n",
    "    else:\n",
    "        continue\n",
    "    if cnt == 10:\n",
    "        break"
   ]
  },
  {
   "cell_type": "code",
   "execution_count": 62,
   "metadata": {},
   "outputs": [
    {
     "data": {
      "text/plain": [
       "{'банк': 600246,\n",
       " 'карта': 304249,\n",
       " 'деньга': 159678,\n",
       " 'кредит': 137109,\n",
       " 'отделение': 127341,\n",
       " 'счёт': 126447,\n",
       " 'сотрудник': 122409,\n",
       " 'клиент': 121453,\n",
       " 'сумма': 100409,\n",
       " 'заявление': 95520}"
      ]
     },
     "execution_count": 62,
     "metadata": {},
     "output_type": "execute_result"
    }
   ],
   "source": [
    "# 10 самых частых существительных\n",
    "most_common_nouns"
   ]
  },
  {
   "cell_type": "markdown",
   "metadata": {},
   "source": [
    "4. Постройте кривые Ципфа и Хипса"
   ]
  },
  {
   "cell_type": "markdown",
   "metadata": {},
   "source": [
    "Закон Ципфа"
   ]
  },
  {
   "cell_type": "code",
   "execution_count": 63,
   "metadata": {},
   "outputs": [
    {
     "data": {
      "image/png": "[encoded data removed]",
      "text/plain": [
       "<Figure size 432x288 with 1 Axes>"
      ]
     },
     "metadata": {
      "needs_background": "dark"
     },
     "output_type": "display_data"
    }
   ],
   "source": [
    "freqs = list(cnt_words.values())\n",
    "freqs = sorted(freqs, reverse = True)\n",
    "\n",
    "fig, ax = plt.subplots()\n",
    "ax.plot(freqs[:300], range(300))\n",
    "plt.show()"
   ]
  },
  {
   "cell_type": "markdown",
   "metadata": {},
   "source": [
    "Закон Хипса"
   ]
  },
  {
   "cell_type": "code",
   "execution_count": 64,
   "metadata": {},
   "outputs": [],
   "source": [
    "n_tokens = np.cumsum(texts.apply(len))"
   ]
  },
  {
   "cell_type": "code",
   "execution_count": 65,
   "metadata": {},
   "outputs": [
    {
     "name": "stderr",
     "output_type": "stream",
     "text": [
      "100%|███████████████████████████████████████████████████████████████████████| 134751/134751 [00:02<00:00, 55748.15it/s]\n"
     ]
    }
   ],
   "source": [
    "words_set = set()\n",
    "n_types = []\n",
    "for text in tqdm(texts):\n",
    "    words_set.update(set(text))\n",
    "    n_types.append(len(words_set))"
   ]
  },
  {
   "cell_type": "code",
   "execution_count": 66,
   "metadata": {},
   "outputs": [
    {
     "data": {
      "image/png": "[encoded data removed]",
      "text/plain": [
       "<Figure size 432x288 with 1 Axes>"
      ]
     },
     "metadata": {
      "needs_background": "dark"
     },
     "output_type": "display_data"
    }
   ],
   "source": [
    "fig, ax = plt.subplots()\n",
    "ax.plot(n_tokens, n_types)\n",
    "plt.show()"
   ]
  },
  {
   "cell_type": "markdown",
   "metadata": {},
   "source": [
    "5. Ответьте на следующие вопросы:\n",
    "    * какое слово встречается чаще, \"сотрудник\" или \"клиент\"?\n",
    "    * сколько раз встречается слова \"мошенничество\" и \"доверие\"?"
   ]
  },
  {
   "cell_type": "code",
   "execution_count": 67,
   "metadata": {},
   "outputs": [
    {
     "name": "stdout",
     "output_type": "stream",
     "text": [
      "слово \"сотрудник\" встречается \t122409 раз\n",
      "\n",
      "слово \"клиент\" встречается \t121453 раз\n"
     ]
    }
   ],
   "source": [
    "print(f'''слово \"сотрудник\" встречается \\t{cnt_lemm['сотрудник']} раз\\n\n",
    "слово \"клиент\" встречается \\t{cnt_lemm['клиент']} раз''')"
   ]
  },
  {
   "cell_type": "markdown",
   "metadata": {},
   "source": [
    "Слово \"сотрудник\" встречается чаще слова \"клиент\""
   ]
  },
  {
   "cell_type": "code",
   "execution_count": 68,
   "metadata": {},
   "outputs": [
    {
     "name": "stdout",
     "output_type": "stream",
     "text": [
      "слово \"мошенничество\" встречается \t3026 раз\n"
     ]
    }
   ],
   "source": [
    "print(f'''слово \"мошенничество\" встречается \\t{cnt_lemm['мошенничество']} раз''')"
   ]
  },
  {
   "cell_type": "code",
   "execution_count": 69,
   "metadata": {},
   "outputs": [
    {
     "name": "stdout",
     "output_type": "stream",
     "text": [
      "слово \"доверие\" встречается \t1871 раз\n"
     ]
    }
   ],
   "source": [
    "print(f'''слово \"доверие\" встречается \\t{cnt_lemm['доверие']} раз''')"
   ]
  },
  {
   "cell_type": "markdown",
   "metadata": {},
   "source": [
    "6. В поле \"rating_grade\" записана оценка отзыва по шкале от 1 до 5. Используйте меру $tf-idf$, для того, чтобы найти ключевые слова и биграмы для положительных отзывов (с оценкой 5) и отрицательных отзывов (с оценкой 1)"
   ]
  },
  {
   "cell_type": "code",
   "execution_count": 70,
   "metadata": {},
   "outputs": [
    {
     "data": {
      "text/plain": [
       "NaN    61873\n",
       "1.0    38830\n",
       "2.0    12959\n",
       "5.0    10254\n",
       "3.0     7351\n",
       "4.0     3484\n",
       "Name: rating_grade, dtype: int64"
      ]
     },
     "execution_count": 70,
     "metadata": {},
     "output_type": "execute_result"
    }
   ],
   "source": [
    "df['rating_grade'].value_counts(dropna=False)"
   ]
  },
  {
   "cell_type": "code",
   "execution_count": 71,
   "metadata": {},
   "outputs": [],
   "source": [
    "df_1 = df[df['rating_grade']==1].sample(10000)\n",
    "df_5 = df[df['rating_grade']==5].sample(10000)"
   ]
  },
  {
   "cell_type": "code",
   "execution_count": 81,
   "metadata": {},
   "outputs": [],
   "source": [
    "df_1 = df_1.join(lemms, rsuffix='_lemms')\n",
    "df_5 = df_5.join(lemms, rsuffix='_lemms')"
   ]
  },
  {
   "cell_type": "code",
   "execution_count": null,
   "metadata": {},
   "outputs": [],
   "source": [
    "df_1.drop(['text', 'bank_license', 'datetime'], axis=1, inplace=True)\n",
    "df_5.drop(['text', 'bank_license', 'datetime'], axis=1, inplace=True)"
   ]
  },
  {
   "cell_type": "code",
   "execution_count": 82,
   "metadata": {},
   "outputs": [
    {
     "data": {
      "text/html": [
       "<div>\n",
       "<style scoped>\n",
       "    .dataframe tbody tr th:only-of-type {\n",
       "        vertical-align: middle;\n",
       "    }\n",
       "\n",
       "    .dataframe tbody tr th {\n",
       "        vertical-align: top;\n",
       "    }\n",
       "\n",
       "    .dataframe thead th {\n",
       "        text-align: right;\n",
       "    }\n",
       "</style>\n",
       "<table border=\"1\" class=\"dataframe\">\n",
       "  <thead>\n",
       "    <tr style=\"text-align: right;\">\n",
       "      <th></th>\n",
       "      <th>city</th>\n",
       "      <th>rating_not_checked</th>\n",
       "      <th>title</th>\n",
       "      <th>num_comments</th>\n",
       "      <th>author</th>\n",
       "      <th>bank_name</th>\n",
       "      <th>rating_grade</th>\n",
       "      <th>text</th>\n",
       "      <th>text_lemms</th>\n",
       "    </tr>\n",
       "  </thead>\n",
       "  <tbody>\n",
       "    <tr>\n",
       "      <th>22381</th>\n",
       "      <td>г. Ярославль</td>\n",
       "      <td>False</td>\n",
       "      <td>Телефонный терроризм от Росбанка</td>\n",
       "      <td>1</td>\n",
       "      <td>Зараза</td>\n",
       "      <td>Росбанк</td>\n",
       "      <td>1.0</td>\n",
       "      <td>[время, сутки, ежедневно, звонить, номер, ваш,...</td>\n",
       "      <td>[время, сутки, ежедневно, звонить, номер, ваш,...</td>\n",
       "    </tr>\n",
       "    <tr>\n",
       "      <th>62277</th>\n",
       "      <td>г. Москва</td>\n",
       "      <td>False</td>\n",
       "      <td>\"Геморройный\" банк!</td>\n",
       "      <td>1</td>\n",
       "      <td>Alex020969</td>\n",
       "      <td>Ренессанс Кредит</td>\n",
       "      <td>1.0</td>\n",
       "      <td>[являться, клиент, банк, протяжение, год, отде...</td>\n",
       "      <td>[являться, клиент, банк, протяжение, год, отде...</td>\n",
       "    </tr>\n",
       "    <tr>\n",
       "      <th>74339</th>\n",
       "      <td>г. Челябинск</td>\n",
       "      <td>False</td>\n",
       "      <td>Длинная история!</td>\n",
       "      <td>0</td>\n",
       "      <td>alex777888</td>\n",
       "      <td>Сбербанк России</td>\n",
       "      <td>1.0</td>\n",
       "      <td>[начаться, банкомат, вернуть, карта, майский, ...</td>\n",
       "      <td>[начаться, банкомат, вернуть, карта, майский, ...</td>\n",
       "    </tr>\n",
       "    <tr>\n",
       "      <th>54853</th>\n",
       "      <td>г. Москва</td>\n",
       "      <td>False</td>\n",
       "      <td>Безобразное отношение в офисе \"Вешняки\"</td>\n",
       "      <td>1</td>\n",
       "      <td>босяк-68</td>\n",
       "      <td>Национальный Банк «Траст»</td>\n",
       "      <td>1.0</td>\n",
       "      <td>[сегодня, приехать, банк, примерно, дверь, сид...</td>\n",
       "      <td>[сегодня, приехать, банк, примерно, дверь, сид...</td>\n",
       "    </tr>\n",
       "    <tr>\n",
       "      <th>26070</th>\n",
       "      <td>г. Кемерово</td>\n",
       "      <td>False</td>\n",
       "      <td>Проблема с подключением СМС оповещения</td>\n",
       "      <td>1</td>\n",
       "      <td>draikus089</td>\n",
       "      <td>ВТБ 24</td>\n",
       "      <td>1.0</td>\n",
       "      <td>[оформить, карта, октябрь, прошлое, год, выдач...</td>\n",
       "      <td>[оформить, карта, октябрь, прошлое, год, выдач...</td>\n",
       "    </tr>\n",
       "  </tbody>\n",
       "</table>\n",
       "</div>"
      ],
      "text/plain": [
       "               city  rating_not_checked  \\\n",
       "22381  г. Ярославль               False   \n",
       "62277     г. Москва               False   \n",
       "74339  г. Челябинск               False   \n",
       "54853     г. Москва               False   \n",
       "26070   г. Кемерово               False   \n",
       "\n",
       "                                         title  num_comments      author  \\\n",
       "22381         Телефонный терроризм от Росбанка             1      Зараза   \n",
       "62277                      \"Геморройный\" банк!             1  Alex020969   \n",
       "74339                         Длинная история!             0  alex777888   \n",
       "54853  Безобразное отношение в офисе \"Вешняки\"             1    босяк-68   \n",
       "26070   Проблема с подключением СМС оповещения             1  draikus089   \n",
       "\n",
       "                       bank_name  rating_grade  \\\n",
       "22381                    Росбанк           1.0   \n",
       "62277           Ренессанс Кредит           1.0   \n",
       "74339            Сбербанк России           1.0   \n",
       "54853  Национальный Банк «Траст»           1.0   \n",
       "26070                     ВТБ 24           1.0   \n",
       "\n",
       "                                                    text  \\\n",
       "22381  [время, сутки, ежедневно, звонить, номер, ваш,...   \n",
       "62277  [являться, клиент, банк, протяжение, год, отде...   \n",
       "74339  [начаться, банкомат, вернуть, карта, майский, ...   \n",
       "54853  [сегодня, приехать, банк, примерно, дверь, сид...   \n",
       "26070  [оформить, карта, октябрь, прошлое, год, выдач...   \n",
       "\n",
       "                                              text_lemms  \n",
       "22381  [время, сутки, ежедневно, звонить, номер, ваш,...  \n",
       "62277  [являться, клиент, банк, протяжение, год, отде...  \n",
       "74339  [начаться, банкомат, вернуть, карта, майский, ...  \n",
       "54853  [сегодня, приехать, банк, примерно, дверь, сид...  \n",
       "26070  [оформить, карта, октябрь, прошлое, год, выдач...  "
      ]
     },
     "execution_count": 82,
     "metadata": {},
     "output_type": "execute_result"
    }
   ],
   "source": [
    "df_1.head()"
   ]
  },
  {
   "cell_type": "code",
   "execution_count": 83,
   "metadata": {},
   "outputs": [],
   "source": [
    "df_1_tokens = [' '.join([word for word in text]) for text in df_1['text_lemms']]\n",
    "df_5_tokens = [' '.join([word for word in text]) for text in df_5['text_lemms']]"
   ]
  },
  {
   "cell_type": "code",
   "execution_count": 84,
   "metadata": {},
   "outputs": [],
   "source": [
    "df_1_tokens = ' '.join(sent for sent in df_1_tokens)\n",
    "df_5_tokens = ' '.join(sent for sent in df_5_tokens)"
   ]
  },
  {
   "cell_type": "code",
   "execution_count": 85,
   "metadata": {},
   "outputs": [],
   "source": [
    "from sklearn.feature_extraction.text import TfidfVectorizer"
   ]
  },
  {
   "cell_type": "code",
   "execution_count": 86,
   "metadata": {},
   "outputs": [],
   "source": [
    "tfidf = TfidfVectorizer(analyzer='word', ngram_range=(1,2), lowercase=False)"
   ]
  },
  {
   "cell_type": "code",
   "execution_count": 87,
   "metadata": {},
   "outputs": [],
   "source": [
    "tfidf_matrix =  tfidf.fit_transform([df_1_tokens, df_5_tokens])"
   ]
  },
  {
   "cell_type": "code",
   "execution_count": 88,
   "metadata": {},
   "outputs": [
    {
     "data": {
      "text/plain": [
       "(2, 1192625)"
      ]
     },
     "execution_count": 88,
     "metadata": {},
     "output_type": "execute_result"
    }
   ],
   "source": [
    "tfidf_matrix.shape"
   ]
  },
  {
   "cell_type": "code",
   "execution_count": 89,
   "metadata": {},
   "outputs": [],
   "source": [
    "feature_names = tfidf.get_feature_names()"
   ]
  },
  {
   "cell_type": "code",
   "execution_count": 90,
   "metadata": {},
   "outputs": [],
   "source": [
    "dense = tfidf_matrix.toarray()"
   ]
  },
  {
   "cell_type": "code",
   "execution_count": 91,
   "metadata": {},
   "outputs": [],
   "source": [
    "rankings = pd.DataFrame(data=dense.T, index=feature_names, columns=['rate_1', 'rate_5'])"
   ]
  },
  {
   "cell_type": "code",
   "execution_count": 92,
   "metadata": {},
   "outputs": [
    {
     "data": {
      "text/html": [
       "<div>\n",
       "<style scoped>\n",
       "    .dataframe tbody tr th:only-of-type {\n",
       "        vertical-align: middle;\n",
       "    }\n",
       "\n",
       "    .dataframe tbody tr th {\n",
       "        vertical-align: top;\n",
       "    }\n",
       "\n",
       "    .dataframe thead th {\n",
       "        text-align: right;\n",
       "    }\n",
       "</style>\n",
       "<table border=\"1\" class=\"dataframe\">\n",
       "  <thead>\n",
       "    <tr style=\"text-align: right;\">\n",
       "      <th></th>\n",
       "      <th>rate_1</th>\n",
       "      <th>rate_5</th>\n",
       "    </tr>\n",
       "  </thead>\n",
       "  <tbody>\n",
       "    <tr>\n",
       "      <th>ааа</th>\n",
       "      <td>0.000036</td>\n",
       "      <td>0.000027</td>\n",
       "    </tr>\n",
       "    <tr>\n",
       "      <th>ааа дать</th>\n",
       "      <td>0.000017</td>\n",
       "      <td>0.000000</td>\n",
       "    </tr>\n",
       "    <tr>\n",
       "      <th>ааа оператор</th>\n",
       "      <td>0.000017</td>\n",
       "      <td>0.000000</td>\n",
       "    </tr>\n",
       "    <tr>\n",
       "      <th>ааа отличный</th>\n",
       "      <td>0.000000</td>\n",
       "      <td>0.000019</td>\n",
       "    </tr>\n",
       "    <tr>\n",
       "      <th>ааа пятёрка</th>\n",
       "      <td>0.000000</td>\n",
       "      <td>0.000019</td>\n",
       "    </tr>\n",
       "  </tbody>\n",
       "</table>\n",
       "</div>"
      ],
      "text/plain": [
       "                rate_1    rate_5\n",
       "ааа           0.000036  0.000027\n",
       "ааа дать      0.000017  0.000000\n",
       "ааа оператор  0.000017  0.000000\n",
       "ааа отличный  0.000000  0.000019\n",
       "ааа пятёрка   0.000000  0.000019"
      ]
     },
     "execution_count": 92,
     "metadata": {},
     "output_type": "execute_result"
    }
   ],
   "source": [
    "rankings.head()"
   ]
  },
  {
   "cell_type": "code",
   "execution_count": 93,
   "metadata": {},
   "outputs": [],
   "source": [
    "rankings['bigram'] = rankings.index.str.contains(' ').astype(int)"
   ]
  },
  {
   "cell_type": "code",
   "execution_count": 94,
   "metadata": {},
   "outputs": [],
   "source": [
    "# Из-за того, что для tf-idf использовалось всего лишь 2 документа (для оценок 1 и 5), то idf составляющая практически не \n",
    "# играет роли. Отнормируем значения tf-idf для каждой из оценок, вычтя соответствуюещее значение tf-idf противоположной оценки. \n",
    "rankings['rate_1_normed'] = rankings['rate_1'] - rankings['rate_5']\n",
    "rankings['rate_5_normed'] = rankings['rate_5'] - rankings['rate_1']"
   ]
  },
  {
   "cell_type": "code",
   "execution_count": 95,
   "metadata": {},
   "outputs": [
    {
     "data": {
      "text/plain": [
       "заявление    0.084357\n",
       "деньга       0.065733\n",
       "рубль        0.059946\n",
       "карта        0.057293\n",
       "ответ        0.053006\n",
       "номер        0.051943\n",
       "сказать      0.049306\n",
       "звонить      0.046449\n",
       "сумма        0.046311\n",
       "сбербанк     0.046019\n",
       "Name: rate_1_normed, dtype: float64"
      ]
     },
     "execution_count": 95,
     "metadata": {},
     "output_type": "execute_result"
    }
   ],
   "source": [
    "# ключевые слова для оценки 1\n",
    "rankings.loc[rankings['bigram']==0, 'rate_1_normed'].sort_values(ascending=False).head(10)"
   ]
  },
  {
   "cell_type": "code",
   "execution_count": 96,
   "metadata": {},
   "outputs": [
    {
     "data": {
      "text/plain": [
       "очень           0.112745\n",
       "банк            0.089728\n",
       "вклад           0.068814\n",
       "спасибо         0.061779\n",
       "быстро          0.050817\n",
       "обслуживание    0.042041\n",
       "работа          0.041706\n",
       "хороший         0.036646\n",
       "весь            0.033725\n",
       "приятно         0.033547\n",
       "Name: rate_5_normed, dtype: float64"
      ]
     },
     "execution_count": 96,
     "metadata": {},
     "output_type": "execute_result"
    }
   ],
   "source": [
    "# ключевые слова для оценки 5\n",
    "rankings.loc[rankings['bigram']==0, 'rate_5_normed'].sort_values(ascending=False).head(10)"
   ]
  },
  {
   "cell_type": "code",
   "execution_count": 97,
   "metadata": {},
   "outputs": [
    {
     "data": {
      "text/plain": [
       "денежный средство     0.017743\n",
       "написать заявление    0.017410\n",
       "горячий линия         0.015860\n",
       "отделение банк        0.011531\n",
       "сотрудник банк        0.009939\n",
       "сей пора              0.009257\n",
       "ваш банк              0.008010\n",
       "писать заявление      0.007893\n",
       "отделение сбербанк    0.007128\n",
       "сумма рубль           0.006860\n",
       "Name: rate_1_normed, dtype: float64"
      ]
     },
     "execution_count": 97,
     "metadata": {},
     "output_type": "execute_result"
    }
   ],
   "source": [
    "# ключевые биграммы для оценки 1\n",
    "rankings.loc[rankings['bigram']==1, 'rate_1_normed'].sort_values(ascending=False).head(10)"
   ]
  },
  {
   "cell_type": "code",
   "execution_count": 98,
   "metadata": {},
   "outputs": [
    {
     "data": {
      "text/plain": [
       "интернет банк             0.021121\n",
       "хотеть выразить           0.009550\n",
       "очень удобно              0.008388\n",
       "очень довольный           0.008376\n",
       "очень быстро              0.008305\n",
       "клиент банк               0.008300\n",
       "выразить благодарность    0.008002\n",
       "банк очень                0.007644\n",
       "большой спасибо           0.007363\n",
       "огромный спасибо          0.006987\n",
       "Name: rate_5_normed, dtype: float64"
      ]
     },
     "execution_count": 98,
     "metadata": {},
     "output_type": "execute_result"
    }
   ],
   "source": [
    "# ключевые биграммы для оценки 5\n",
    "rankings.loc[rankings['bigram']==1, 'rate_5_normed'].sort_values(ascending=False).head(10)"
   ]
  },
  {
   "cell_type": "markdown",
   "metadata": {},
   "source": [
    "Как видно биграммы лучше показывают различие оценок 1 и 5"
   ]
  },
  {
   "cell_type": "code",
   "execution_count": null,
   "metadata": {},
   "outputs": [],
   "source": []
  },
  {
   "cell_type": "markdown",
   "metadata": {},
   "source": [
    "## Часть 2. Тематическое моделирование [20/100]\n",
    "\n",
    "1. Постройте несколько тематических моделей коллекции документов с разным числом тем. Приведите примеры понятных (интерпретируемых) тем.\n",
    "2. Найдите темы, в которых упомянуты конкретные банки (Сбербанк, ВТБ, другой банк). Можете ли вы их прокомментировать / объяснить?\n",
    "\n",
    "Эта часть задания может быть сделана с использованием gensim. "
   ]
  },
  {
   "cell_type": "code",
   "execution_count": 99,
   "metadata": {},
   "outputs": [],
   "source": [
    "df = df.join(lemms, rsuffix='_lemms')"
   ]
  },
  {
   "cell_type": "code",
   "execution_count": 100,
   "metadata": {},
   "outputs": [
    {
     "data": {
      "text/plain": [
       "0    [являться, клиент, банк, поручитель, кредитный...\n",
       "1    [являться, держатель, зарплатный, карта, выдат...\n",
       "2    [дублировать, свой, заявление, можайский, дебе...\n",
       "3    [открыть, расчётный, счёт, сбербанк, лицо, дог...\n",
       "4    [взять, кредит, ваш, банк, заявить, сумма, руб...\n",
       "Name: text, dtype: object"
      ]
     },
     "execution_count": 100,
     "metadata": {},
     "output_type": "execute_result"
    }
   ],
   "source": [
    "lemms.head()"
   ]
  },
  {
   "cell_type": "code",
   "execution_count": 101,
   "metadata": {},
   "outputs": [
    {
     "name": "stderr",
     "output_type": "stream",
     "text": [
      "C:\\Users\\psv52\\Anaconda3\\lib\\site-packages\\gensim\\utils.py:1197: UserWarning: detected Windows; aliasing chunkize to chunkize_serial\n",
      "  warnings.warn(\"detected Windows; aliasing chunkize to chunkize_serial\")\n"
     ]
    }
   ],
   "source": [
    "from gensim.corpora import *"
   ]
  },
  {
   "cell_type": "code",
   "execution_count": 102,
   "metadata": {},
   "outputs": [],
   "source": [
    "dictionary = Dictionary(lemms)\n",
    "corpus = [dictionary.doc2bow(text) for text in lemms]"
   ]
  },
  {
   "cell_type": "code",
   "execution_count": 103,
   "metadata": {},
   "outputs": [],
   "source": [
    "from gensim.models import  *\n",
    "# from gensim import similarities"
   ]
  },
  {
   "cell_type": "code",
   "execution_count": 104,
   "metadata": {},
   "outputs": [],
   "source": [
    "tfidf = TfidfModel(corpus)\n",
    "corpus_tfidf = tfidf[corpus]"
   ]
  },
  {
   "cell_type": "code",
   "execution_count": 105,
   "metadata": {},
   "outputs": [],
   "source": [
    "from gensim.models.coherencemodel import CoherenceModel"
   ]
  },
  {
   "cell_type": "code",
   "execution_count": 106,
   "metadata": {},
   "outputs": [],
   "source": [
    " def optimal_model(corpus_tfidf, dictionary, lemms, topic_model):\n",
    "    \"\"\"\n",
    "    Функция подбирает оптимальное количество топиков по критерию когерентности.\n",
    "    Возвращает список моделей с различным количеством топиков и список соответствующих\n",
    "    этим моделям значений когерентности.\n",
    "    \"\"\"\n",
    "    models = []\n",
    "    coherence_vals = []\n",
    "    for n in tqdm(range(3, 22, 2)):\n",
    "        if topic_model == 'lsa':\n",
    "        # generate LSA model\n",
    "            model = lsimodel.LsiModel(corpus=corpus_tfidf, id2word=dictionary, num_topics=n)  # train model\n",
    "        elif topic_model == 'lda':\n",
    "        # generate LDA model\n",
    "            model = ldamodel.LdaModel(corpus=corpus_tfidf, id2word=dictionary, num_topics=n,\n",
    "                        alpha='auto', eta='auto', iterations = 20, passes = 5)\n",
    "        else:\n",
    "            raise ValueError(\"Unknown topic model was passed\")\n",
    "        coherencemodel = CoherenceModel(model=model, texts=lemms, dictionary=dictionary, coherence='c_v')\n",
    "        coherence_vals.append(coherencemodel.get_coherence())\n",
    "        models.append(model)\n",
    "    return models, coherence_vals "
   ]
  },
  {
   "cell_type": "code",
   "execution_count": 107,
   "metadata": {},
   "outputs": [],
   "source": [
    "# создадим различные поднаборы документов, отобранные для разных оценок, банков и городов.\n",
    "topics_1 = {'rating_grade': df['rating_grade'].value_counts().head(5).index.tolist()}\n",
    "topics_2 = {'bank_name': df['bank_name'].value_counts().head(5).index.tolist()}\n",
    "topics_3 = {'city': df['city'].value_counts().head(5).index.tolist()}"
   ]
  },
  {
   "cell_type": "code",
   "execution_count": 108,
   "metadata": {},
   "outputs": [],
   "source": [
    "def get_lemms_for_topic(topics):\n",
    "    \"\"\"\n",
    "    Функция отибирает леммы для заданной коллекции топиков.\n",
    "    Под каждый топик отбирается 1000 документов.\n",
    "    \"\"\"\n",
    "    indexes = []\n",
    "    col = list(topics.keys())[0]\n",
    "    topics = topics[col]\n",
    "    for topic in topics:\n",
    "        indexes += df[df[col]==topic].sample(min(2000, df[col].value_counts()[topic])).index.tolist()\n",
    "    return lemms[indexes]"
   ]
  },
  {
   "cell_type": "code",
   "execution_count": 109,
   "metadata": {},
   "outputs": [],
   "source": [
    "topics_1_lemms = get_lemms_for_topic(topics_1)\n",
    "topics_2_lemms = get_lemms_for_topic(topics_2)\n",
    "topics_3_lemms = get_lemms_for_topic(topics_3)"
   ]
  },
  {
   "cell_type": "code",
   "execution_count": 110,
   "metadata": {},
   "outputs": [],
   "source": [
    "def get_tfidf_corpus(lemms):\n",
    "    dictionary = Dictionary(lemms)\n",
    "    corpus = [dictionary.doc2bow(text) for text in lemms]\n",
    "    tfidf = TfidfModel(corpus)\n",
    "    corpus_tfidf = tfidf[corpus]\n",
    "    return corpus_tfidf, dictionary, lemms"
   ]
  },
  {
   "cell_type": "markdown",
   "metadata": {},
   "source": [
    "1. Латентно-семантический анализ [LSA]"
   ]
  },
  {
   "cell_type": "code",
   "execution_count": 111,
   "metadata": {},
   "outputs": [
    {
     "name": "stderr",
     "output_type": "stream",
     "text": [
      "100%|██████████████████████████████████████████████████████████████████████████████████| 10/10 [02:45<00:00, 17.81s/it]\n",
      "100%|██████████████████████████████████████████████████████████████████████████████████| 10/10 [02:34<00:00, 16.24s/it]\n",
      "100%|██████████████████████████████████████████████████████████████████████████████████| 10/10 [02:33<00:00, 15.85s/it]\n"
     ]
    }
   ],
   "source": [
    "lsa_model_1, lsa_coherence_vals_1 = optimal_model(*get_tfidf_corpus(topics_1_lemms), 'lsa')\n",
    "lsa_model_2, lsa_coherence_vals_2 = optimal_model(*get_tfidf_corpus(topics_2_lemms), 'lsa')\n",
    "lsa_model_3, lsa_coherence_vals_3 = optimal_model(*get_tfidf_corpus(topics_3_lemms), 'lsa')"
   ]
  },
  {
   "cell_type": "code",
   "execution_count": 112,
   "metadata": {},
   "outputs": [],
   "source": [
    "# словарь соответствий количества топиков индексу модели в списке models\n",
    "n_to_ind = dict(zip(range(3, 22, 2), range(0, 9)))"
   ]
  },
  {
   "cell_type": "code",
   "execution_count": 113,
   "metadata": {},
   "outputs": [],
   "source": [
    "def plot_coherence(lsa_coherence_vals):\n",
    "    \"\"\"\n",
    "    Функция для печати графика когерентности.\n",
    "    \"\"\"\n",
    "    ax = plt.plot(lsa_coherence_vals)\n",
    "    plt.xlabel('number of topics')\n",
    "    plt.ylabel('coherence')\n",
    "    x = plt.xticks(range(0, 9), range(3, 22, 2))"
   ]
  },
  {
   "cell_type": "code",
   "execution_count": 114,
   "metadata": {},
   "outputs": [
    {
     "data": {
      "image/png": "[encoded data removed]",
      "text/plain": [
       "<Figure size 432x288 with 1 Axes>"
      ]
     },
     "metadata": {
      "needs_background": "dark"
     },
     "output_type": "display_data"
    }
   ],
   "source": [
    "plot_coherence(lsa_coherence_vals_1)"
   ]
  },
  {
   "cell_type": "code",
   "execution_count": 115,
   "metadata": {},
   "outputs": [
    {
     "data": {
      "text/plain": [
       "[(0,\n",
       "  '0.193*\"карта\" + 0.134*\"кредит\" + 0.130*\"вклад\" + 0.110*\"деньга\" + 0.108*\"банкомат\" + 0.104*\"счёт\" + 0.104*\"заявление\" + 0.100*\"отделение\" + 0.089*\"кредитный\" + 0.089*\"рубль\"'),\n",
       " (1,\n",
       "  '0.571*\"вклад\" + -0.162*\"кредит\" + 0.160*\"очередь\" + -0.153*\"заявление\" + 0.139*\"открыть\" + -0.119*\"платёж\" + -0.107*\"карта\" + -0.106*\"банкомат\" + -0.099*\"задолженность\" + 0.099*\"депозит\"'),\n",
       " (2,\n",
       "  '-0.423*\"кредит\" + 0.365*\"банкомат\" + 0.235*\"карта\" + -0.185*\"страховка\" + -0.158*\"договор\" + -0.151*\"погашение\" + -0.150*\"документ\" + 0.149*\"деньга\" + -0.133*\"заявка\" + 0.124*\"сбербанк\"')]"
      ]
     },
     "execution_count": 115,
     "metadata": {},
     "output_type": "execute_result"
    }
   ],
   "source": [
    "lsa_model_1[n_to_ind[3]].show_topics()"
   ]
  },
  {
   "cell_type": "markdown",
   "metadata": {},
   "source": [
    "В целом, получились очень похожие темы с практически одинаковым набором слов."
   ]
  },
  {
   "cell_type": "code",
   "execution_count": null,
   "metadata": {},
   "outputs": [],
   "source": []
  },
  {
   "cell_type": "code",
   "execution_count": 116,
   "metadata": {},
   "outputs": [
    {
     "data": {
      "image/png": "[encoded data removed]",
      "text/plain": [
       "<Figure size 432x288 with 1 Axes>"
      ]
     },
     "metadata": {
      "needs_background": "dark"
     },
     "output_type": "display_data"
    }
   ],
   "source": [
    "plot_coherence(lsa_coherence_vals_2)"
   ]
  },
  {
   "cell_type": "code",
   "execution_count": 117,
   "metadata": {},
   "outputs": [
    {
     "data": {
      "text/plain": [
       "[(0,\n",
       "  '0.185*\"карта\" + 0.136*\"кредит\" + 0.124*\"банкомат\" + 0.123*\"деньга\" + 0.114*\"заявление\" + 0.114*\"счёт\" + 0.103*\"рубль\" + 0.102*\"сбербанк\" + 0.098*\"сумма\" + 0.098*\"отделение\"'),\n",
       " (1,\n",
       "  '0.394*\"банкомат\" + -0.298*\"кредит\" + -0.202*\"страховка\" + 0.201*\"деньга\" + 0.173*\"карта\" + 0.153*\"сбербанк\" + -0.146*\"договор\" + -0.138*\"звонок\" + 0.138*\"операция\" + -0.129*\"страхование\"'),\n",
       " (2,\n",
       "  '-0.381*\"вклад\" + 0.251*\"номер\" + 0.221*\"звонок\" + 0.183*\"банкомат\" + -0.180*\"страховка\" + 0.143*\"телефон\" + 0.135*\"звонить\" + 0.126*\"претензия\" + 0.124*\"ваш\" + -0.117*\"очередь\"'),\n",
       " (3,\n",
       "  '0.295*\"страховка\" + 0.232*\"кредит\" + -0.225*\"вклад\" + 0.215*\"банкомат\" + 0.187*\"рубль\" + 0.186*\"страхование\" + 0.181*\"сумма\" + -0.171*\"номер\" + 0.152*\"погашение\" + 0.140*\"платёж\"'),\n",
       " (4,\n",
       "  '0.438*\"банкомат\" + -0.241*\"карта\" + -0.208*\"сбербанк\" + 0.166*\"купюра\" + -0.139*\"списание\" + -0.135*\"средство\" + 0.124*\"очередь\" + 0.112*\"заявка\" + 0.111*\"вклад\" + -0.111*\"перевод\"')]"
      ]
     },
     "execution_count": 117,
     "metadata": {},
     "output_type": "execute_result"
    }
   ],
   "source": [
    "lsa_model_2[n_to_ind[5]].show_topics()"
   ]
  },
  {
   "cell_type": "markdown",
   "metadata": {},
   "source": [
    "Такая же ситуация."
   ]
  },
  {
   "cell_type": "code",
   "execution_count": null,
   "metadata": {},
   "outputs": [],
   "source": []
  },
  {
   "cell_type": "code",
   "execution_count": 118,
   "metadata": {},
   "outputs": [
    {
     "data": {
      "image/png": "[encoded data removed]",
      "text/plain": [
       "<Figure size 432x288 with 1 Axes>"
      ]
     },
     "metadata": {
      "needs_background": "dark"
     },
     "output_type": "display_data"
    }
   ],
   "source": [
    "plot_coherence(lsa_coherence_vals_3)"
   ]
  },
  {
   "cell_type": "code",
   "execution_count": 119,
   "metadata": {},
   "outputs": [
    {
     "data": {
      "text/plain": [
       "[(0,\n",
       "  '0.194*\"карта\" + 0.139*\"кредит\" + 0.119*\"деньга\" + 0.115*\"банкомат\" + 0.113*\"заявление\" + 0.112*\"счёт\" + 0.103*\"рубль\" + 0.103*\"отделение\" + 0.101*\"сумма\" + 0.097*\"платёж\"'),\n",
       " (1,\n",
       "  '0.371*\"банкомат\" + -0.366*\"кредит\" + -0.266*\"страховка\" + 0.215*\"карта\" + -0.163*\"договор\" + 0.160*\"деньга\" + 0.141*\"операция\" + -0.139*\"страхование\" + 0.135*\"сбербанк\" + -0.113*\"погашение\"'),\n",
       " (2,\n",
       "  '0.624*\"вклад\" + -0.196*\"банкомат\" + 0.140*\"очередь\" + -0.136*\"платёж\" + 0.134*\"открыть\" + -0.116*\"заявление\" + 0.111*\"офис\" + -0.109*\"претензия\" + -0.105*\"рубль\" + -0.105*\"задолженность\"'),\n",
       " (3,\n",
       "  '-0.262*\"вклад\" + 0.246*\"номер\" + -0.232*\"страховка\" + -0.212*\"банкомат\" + 0.192*\"звонок\" + -0.189*\"сумма\" + -0.187*\"рубль\" + 0.157*\"телефон\" + 0.143*\"звонить\" + -0.141*\"процент\"'),\n",
       " (4,\n",
       "  '-0.365*\"банкомат\" + -0.303*\"страховка\" + -0.228*\"заявка\" + 0.227*\"вклад\" + 0.198*\"платёж\" + 0.171*\"задолженность\" + 0.120*\"счёт\" + -0.117*\"кредит\" + -0.115*\"страхование\" + 0.114*\"комиссия\"')]"
      ]
     },
     "execution_count": 119,
     "metadata": {},
     "output_type": "execute_result"
    }
   ],
   "source": [
    "lsa_model_3[n_to_ind[5]].show_topics()"
   ]
  },
  {
   "cell_type": "markdown",
   "metadata": {},
   "source": [
    "Как видно, модель lsa не позволила выделить интерпретируемые топики."
   ]
  },
  {
   "cell_type": "code",
   "execution_count": null,
   "metadata": {},
   "outputs": [],
   "source": []
  },
  {
   "cell_type": "code",
   "execution_count": null,
   "metadata": {},
   "outputs": [],
   "source": []
  },
  {
   "cell_type": "code",
   "execution_count": 120,
   "metadata": {},
   "outputs": [
    {
     "name": "stderr",
     "output_type": "stream",
     "text": [
      "100%|██████████████████████████████████████████████████████████████████████████████████| 10/10 [07:37<00:00, 46.86s/it]\n",
      "100%|██████████████████████████████████████████████████████████████████████████████████| 10/10 [07:19<00:00, 45.15s/it]\n",
      "100%|██████████████████████████████████████████████████████████████████████████████████| 10/10 [06:58<00:00, 42.84s/it]\n"
     ]
    }
   ],
   "source": [
    "lda_model_1, lda_coherence_vals_1 = optimal_model(*get_tfidf_corpus(topics_1_lemms), 'lda')\n",
    "lda_model_2, lda_coherence_vals_2 = optimal_model(*get_tfidf_corpus(topics_2_lemms), 'lda')\n",
    "lda_model_3, lda_coherence_vals_3 = optimal_model(*get_tfidf_corpus(topics_3_lemms), 'lda')"
   ]
  },
  {
   "cell_type": "code",
   "execution_count": 121,
   "metadata": {},
   "outputs": [
    {
     "data": {
      "image/png": "[encoded data removed]",
      "text/plain": [
       "<Figure size 432x288 with 1 Axes>"
      ]
     },
     "metadata": {
      "needs_background": "dark"
     },
     "output_type": "display_data"
    }
   ],
   "source": [
    "plot_coherence(lda_coherence_vals_1)"
   ]
  },
  {
   "cell_type": "code",
   "execution_count": 122,
   "metadata": {},
   "outputs": [
    {
     "data": {
      "text/plain": [
       "[(18,\n",
       "  '0.001*\"оборудовать\" + 0.001*\"тыща\" + 0.001*\"опрос\" + 0.001*\"поощрение\" + 0.001*\"азовский\" + 0.001*\"электросталь\" + 0.001*\"людмила\" + 0.001*\"карта\" + 0.001*\"безболезненно\" + 0.001*\"бумажник\"'),\n",
       " (12,\n",
       "  '0.002*\"отрадный\" + 0.001*\"плодотворный\" + 0.001*\"тесный\" + 0.001*\"весомый\" + 0.001*\"отклик\" + 0.001*\"годиться\" + 0.001*\"карта\" + 0.001*\"пускай\" + 0.001*\"вклад\" + 0.001*\"банкомат\"'),\n",
       " (7,\n",
       "  '0.002*\"итб\" + 0.002*\"токен\" + 0.001*\"сбрф\" + 0.001*\"пиф\" + 0.001*\"строгий\" + 0.001*\"оцениваться\" + 0.001*\"закладка\" + 0.001*\"куратор\" + 0.001*\"понервничать\" + 0.001*\"возрождение\"'),\n",
       " (14,\n",
       "  '0.003*\"тьфу\" + 0.001*\"дебетовка\" + 0.001*\"немаловажный\" + 0.001*\"сравнительно\" + 0.001*\"случается\" + 0.001*\"айманибанк\" + 0.001*\"шампанский\" + 0.001*\"классика\" + 0.001*\"бутырский\" + 0.001*\"вытягивать\"'),\n",
       " (3,\n",
       "  '0.001*\"ломаться\" + 0.001*\"высота\" + 0.001*\"пресня\" + 0.001*\"крыльцо\" + 0.001*\"старт\" + 0.001*\"тестирование\" + 0.001*\"розница\" + 0.001*\"вна\" + 0.001*\"учредитель\" + 0.001*\"приоритетный\"'),\n",
       " (17,\n",
       "  '0.002*\"доходчиво\" + 0.002*\"допофис\" + 0.002*\"ашан\" + 0.002*\"вернадский\" + 0.002*\"несанкционированный\" + 0.002*\"минь\" + 0.002*\"посидеть\" + 0.001*\"переложить\" + 0.001*\"признательность\" + 0.001*\"лидер\"'),\n",
       " (15,\n",
       "  '0.002*\"жкх\" + 0.002*\"симпатичный\" + 0.002*\"респект\" + 0.002*\"райф\" + 0.002*\"комфортно\" + 0.002*\"волокита\" + 0.002*\"стремиться\" + 0.001*\"супермаркет\" + 0.001*\"подключаться\" + 0.001*\"мобильник\"'),\n",
       " (1,\n",
       "  '0.002*\"ситифон\" + 0.002*\"авто\" + 0.002*\"процветание\" + 0.002*\"однажды\" + 0.002*\"птс\" + 0.002*\"оксана\" + 0.002*\"коллектив\" + 0.002*\"профессиональный\" + 0.002*\"рефинансирование\" + 0.002*\"профессионал\"'),\n",
       " (2,\n",
       "  '0.004*\"авангард\" + 0.003*\"качественный\" + 0.003*\"радовать\" + 0.003*\"посетитель\" + 0.002*\"четвёрка\" + 0.002*\"сравнение\" + 0.002*\"нарекание\" + 0.002*\"скорость\" + 0.002*\"ячейка\" + 0.002*\"сити\"'),\n",
       " (5,\n",
       "  '0.005*\"карта\" + 0.004*\"вклад\" + 0.003*\"кредит\" + 0.003*\"банкомат\" + 0.003*\"деньга\" + 0.003*\"отделение\" + 0.002*\"счёт\" + 0.002*\"офис\" + 0.002*\"очень\" + 0.002*\"кредитный\"')]"
      ]
     },
     "execution_count": 122,
     "metadata": {},
     "output_type": "execute_result"
    }
   ],
   "source": [
    "lda_model_1[n_to_ind[19]].show_topics()"
   ]
  },
  {
   "cell_type": "markdown",
   "metadata": {},
   "source": [
    "В случае LDA получились более разнообразные и осмысленные темы. Например 13-я тема явно связана с положительными оценками и благодарностями банкам, в то время как 14-я, наоборот, с отрицательными отзывами."
   ]
  },
  {
   "cell_type": "code",
   "execution_count": null,
   "metadata": {},
   "outputs": [],
   "source": []
  },
  {
   "cell_type": "code",
   "execution_count": 123,
   "metadata": {},
   "outputs": [
    {
     "data": {
      "image/png": "[encoded data removed]",
      "text/plain": [
       "<Figure size 432x288 with 1 Axes>"
      ]
     },
     "metadata": {
      "needs_background": "dark"
     },
     "output_type": "display_data"
    }
   ],
   "source": [
    "plot_coherence(lda_coherence_vals_2)"
   ]
  },
  {
   "cell_type": "code",
   "execution_count": 124,
   "metadata": {},
   "outputs": [
    {
     "data": {
      "text/plain": [
       "[(0,\n",
       "  '0.005*\"хоум\" + 0.005*\"звонок\" + 0.004*\"карман\" + 0.004*\"номер\" + 0.004*\"задолженность\" + 0.003*\"ваш\" + 0.003*\"кредит\" + 0.003*\"долг\" + 0.003*\"телефон\" + 0.003*\"поступать\"'),\n",
       " (1,\n",
       "  '0.003*\"ноутбук\" + 0.003*\"сокол\" + 0.002*\"разглашать\" + 0.002*\"помощник\" + 0.002*\"пометка\" + 0.001*\"валентин\" + 0.001*\"наводить\" + 0.001*\"фин\" + 0.001*\"сбербанк\" + 0.001*\"агенство\"'),\n",
       " (2,\n",
       "  '0.002*\"беляево\" + 0.001*\"юникредит\" + 0.001*\"сбербанк\" + 0.001*\"опаздывать\" + 0.001*\"ресепшено\" + 0.001*\"оптимальный\" + 0.001*\"карта\" + 0.001*\"придерживаться\" + 0.001*\"номер\" + 0.001*\"кредит\"'),\n",
       " (3,\n",
       "  '0.002*\"терроризировать\" + 0.002*\"ухудшение\" + 0.002*\"пропуск\" + 0.002*\"наука\" + 0.001*\"бешеный\" + 0.001*\"сбербанк\" + 0.001*\"марина\" + 0.001*\"валовый\" + 0.001*\"вокзал\" + 0.001*\"карта\"'),\n",
       " (4,\n",
       "  '0.005*\"бюро\" + 0.003*\"евросеть\" + 0.002*\"планшет\" + 0.001*\"юлия\" + 0.001*\"сбербанк\" + 0.001*\"тёща\" + 0.001*\"соколов\" + 0.001*\"лоток\" + 0.001*\"регулятор\" + 0.001*\"карта\"'),\n",
       " (5,\n",
       "  '0.002*\"мирный\" + 0.001*\"сбербанк\" + 0.001*\"звон\" + 0.001*\"регламентный\" + 0.001*\"карта\" + 0.001*\"транспорт\" + 0.001*\"номер\" + 0.001*\"кредит\" + 0.001*\"внеочередной\" + 0.001*\"покрытие\"'),\n",
       " (6,\n",
       "  '0.001*\"сбербанк\" + 0.001*\"столик\" + 0.001*\"маяковский\" + 0.001*\"конституционный\" + 0.001*\"соты\" + 0.001*\"карта\" + 0.001*\"номер\" + 0.001*\"кредит\" + 0.001*\"разделить\" + 0.001*\"игнора\"'),\n",
       " (7,\n",
       "  '0.004*\"беспокоить\" + 0.003*\"роскомнадзор\" + 0.003*\"экспресс\" + 0.002*\"стандарт\" + 0.002*\"нештатный\" + 0.002*\"пролонгация\" + 0.002*\"вымогательство\" + 0.002*\"внешний\" + 0.002*\"мать\" + 0.002*\"трудный\"'),\n",
       " (8,\n",
       "  '0.002*\"круглосуточно\" + 0.001*\"тольятти\" + 0.001*\"сбербанк\" + 0.001*\"понижение\" + 0.001*\"мдм\" + 0.001*\"карта\" + 0.001*\"номер\" + 0.001*\"кредит\" + 0.001*\"звонок\" + 0.001*\"ваш\"'),\n",
       " (9,\n",
       "  '0.001*\"стремиться\" + 0.001*\"сбербанк\" + 0.001*\"страховщик\" + 0.001*\"развод\" + 0.001*\"капитализация\" + 0.001*\"психологический\" + 0.001*\"противоправный\" + 0.001*\"карта\" + 0.001*\"поздравление\" + 0.001*\"мягкий\"'),\n",
       " (10,\n",
       "  '0.002*\"платиновый\" + 0.002*\"тинькофф\" + 0.001*\"мичуринский\" + 0.001*\"тьфу\" + 0.001*\"избавить\" + 0.001*\"сбербанк\" + 0.001*\"голосовой\" + 0.001*\"проверяться\" + 0.001*\"накопить\" + 0.001*\"пусто\"'),\n",
       " (11,\n",
       "  '0.002*\"трансаэро\" + 0.002*\"марьино\" + 0.002*\"бутырский\" + 0.002*\"навязчивый\" + 0.001*\"обучать\" + 0.001*\"сбербанк\" + 0.001*\"митино\" + 0.001*\"истерика\" + 0.001*\"критично\" + 0.001*\"впаривать\"'),\n",
       " (12,\n",
       "  '0.001*\"сбербанк\" + 0.001*\"спецпредложение\" + 0.001*\"курск\" + 0.001*\"законность\" + 0.001*\"карта\" + 0.001*\"медведково\" + 0.001*\"номер\" + 0.001*\"кредит\" + 0.001*\"роуминг\" + 0.001*\"сказаться\"'),\n",
       " (13,\n",
       "  '0.003*\"заключительный\" + 0.002*\"ночное\" + 0.001*\"сбербанк\" + 0.001*\"месяцами\" + 0.001*\"закладная\" + 0.001*\"разбудить\" + 0.001*\"карта\" + 0.001*\"воспитывать\" + 0.001*\"номер\" + 0.001*\"кредит\"'),\n",
       " (14,\n",
       "  '0.002*\"кэш\" + 0.002*\"вячеслав\" + 0.001*\"автодозвон\" + 0.001*\"сбербанк\" + 0.001*\"безразличный\" + 0.001*\"предоплатить\" + 0.001*\"карта\" + 0.001*\"справа\" + 0.001*\"никитский\" + 0.001*\"кирилл\"'),\n",
       " (15,\n",
       "  '0.004*\"стандарт\" + 0.003*\"обзвон\" + 0.003*\"адресовать\" + 0.002*\"рсб\" + 0.002*\"сформировать\" + 0.002*\"евгений\" + 0.002*\"ленинский\" + 0.002*\"ложный\" + 0.002*\"орать\" + 0.002*\"исполнять\"'),\n",
       " (16,\n",
       "  '0.002*\"виктория\" + 0.002*\"аннулирование\" + 0.002*\"пинкод\" + 0.002*\"пролонгировать\" + 0.001*\"периодичность\" + 0.001*\"любовь\" + 0.001*\"сходненский\" + 0.001*\"сбербанк\" + 0.001*\"блокирование\" + 0.001*\"объявлять\"'),\n",
       " (17,\n",
       "  '0.002*\"задний\" + 0.001*\"затруднение\" + 0.001*\"бытовой\" + 0.001*\"сбербанк\" + 0.001*\"отрадный\" + 0.001*\"выступать\" + 0.001*\"корзина\" + 0.001*\"критический\" + 0.001*\"обзванивать\" + 0.001*\"леонид\"'),\n",
       " (18,\n",
       "  '0.005*\"карта\" + 0.003*\"кредит\" + 0.003*\"банкомат\" + 0.003*\"деньга\" + 0.003*\"вклад\" + 0.003*\"заявление\" + 0.003*\"счёт\" + 0.003*\"рубль\" + 0.003*\"сумма\" + 0.003*\"отделение\"')]"
      ]
     },
     "execution_count": 124,
     "metadata": {},
     "output_type": "execute_result"
    }
   ],
   "source": [
    "lda_model_2[n_to_ind[19]].show_topics(19)"
   ]
  },
  {
   "cell_type": "markdown",
   "metadata": {},
   "source": [
    "В основном в темах фигурирует сбербанк, например, 7-я тема явно связана с негативом в адрес этого банка."
   ]
  },
  {
   "cell_type": "code",
   "execution_count": null,
   "metadata": {},
   "outputs": [],
   "source": []
  },
  {
   "cell_type": "code",
   "execution_count": 125,
   "metadata": {},
   "outputs": [
    {
     "data": {
      "image/png": "[encoded data removed]",
      "text/plain": [
       "<Figure size 432x288 with 1 Axes>"
      ]
     },
     "metadata": {
      "needs_background": "dark"
     },
     "output_type": "display_data"
    }
   ],
   "source": [
    "plot_coherence(lda_coherence_vals_3)"
   ]
  },
  {
   "cell_type": "code",
   "execution_count": 126,
   "metadata": {},
   "outputs": [
    {
     "data": {
      "text/plain": [
       "[(10,\n",
       "  '0.002*\"монета\" + 0.002*\"лукойл\" + 0.002*\"хранитель\" + 0.001*\"азс\" + 0.001*\"локо\" + 0.001*\"кредит\" + 0.001*\"карта\" + 0.001*\"крым\" + 0.001*\"кусок\" + 0.001*\"убежать\"'),\n",
       " (9,\n",
       "  '0.001*\"судостроительный\" + 0.001*\"номерок\" + 0.001*\"ян\" + 0.001*\"нехороший\" + 0.001*\"сверхлимитный\" + 0.001*\"кредит\" + 0.001*\"карта\" + 0.001*\"зав\" + 0.001*\"бин\" + 0.001*\"помощник\"'),\n",
       " (8,\n",
       "  '0.002*\"бик\" + 0.001*\"счётчик\" + 0.001*\"валентин\" + 0.001*\"щас\" + 0.001*\"юнистрим\" + 0.001*\"кредит\" + 0.001*\"карта\" + 0.001*\"неудачно\" + 0.001*\"суточный\" + 0.001*\"павло\"'),\n",
       " (6,\n",
       "  '0.003*\"маня\" + 0.003*\"джия\" + 0.002*\"ржд\" + 0.001*\"кэшбек\" + 0.001*\"тёща\" + 0.001*\"транскредит\" + 0.001*\"транскредитбанк\" + 0.001*\"выбить\" + 0.001*\"отправление\" + 0.001*\"типо\"'),\n",
       " (0,\n",
       "  '0.001*\"кузнецов\" + 0.001*\"материнский\" + 0.001*\"алименты\" + 0.001*\"долговой\" + 0.001*\"применение\" + 0.001*\"ненадлежащий\" + 0.001*\"нестабильный\" + 0.001*\"квиток\" + 0.001*\"кредит\" + 0.001*\"карта\"'),\n",
       " (13,\n",
       "  '0.002*\"моментум\" + 0.001*\"служащий\" + 0.001*\"сохраниться\" + 0.001*\"присесть\" + 0.001*\"рко\" + 0.001*\"уэк\" + 0.001*\"сбрасывать\" + 0.001*\"записка\" + 0.001*\"ксения\" + 0.001*\"сми\"'),\n",
       " (15,\n",
       "  '0.004*\"птс\" + 0.002*\"каско\" + 0.002*\"неустойка\" + 0.002*\"полис\" + 0.001*\"застройщик\" + 0.001*\"незнакомый\" + 0.001*\"заём\" + 0.001*\"запретить\" + 0.001*\"вычесть\" + 0.001*\"отсрочка\"'),\n",
       " (11,\n",
       "  '0.019*\"новгород\" + 0.016*\"нижний\" + 0.002*\"дизайн\" + 0.002*\"северный\" + 0.002*\"центробанк\" + 0.002*\"ныне\" + 0.002*\"инвалид\" + 0.002*\"контрольный\" + 0.001*\"пробка\" + 0.001*\"завтрак\"'),\n",
       " (14,\n",
       "  '0.003*\"ленин\" + 0.003*\"должник\" + 0.003*\"полиция\" + 0.002*\"бки\" + 0.002*\"номер\" + 0.002*\"пристав\" + 0.002*\"агентство\" + 0.002*\"прокуратура\" + 0.002*\"налоговый\" + 0.002*\"коллекторский\"'),\n",
       " (2,\n",
       "  '0.005*\"карта\" + 0.004*\"кредит\" + 0.003*\"деньга\" + 0.003*\"банкомат\" + 0.003*\"счёт\" + 0.003*\"вклад\" + 0.003*\"заявление\" + 0.003*\"рубль\" + 0.003*\"платёж\" + 0.003*\"отделение\"')]"
      ]
     },
     "execution_count": 126,
     "metadata": {},
     "output_type": "execute_result"
    }
   ],
   "source": [
    "lda_model_3[n_to_ind[19]].show_topics()"
   ]
  },
  {
   "cell_type": "markdown",
   "metadata": {},
   "source": [
    "В данном случае получился сплошной негатив, так же в темах появились города, которые использовались для отбора документов."
   ]
  },
  {
   "cell_type": "code",
   "execution_count": null,
   "metadata": {},
   "outputs": [],
   "source": []
  },
  {
   "cell_type": "code",
   "execution_count": null,
   "metadata": {},
   "outputs": [],
   "source": []
  },
  {
   "cell_type": "markdown",
   "metadata": {},
   "source": [
    "## Часть 3. Классификация текстов [40/100]\n",
    "\n",
    "Сформулируем для простоты задачу бинарной классификации: будем классифицировать на два класса, то есть, различать резко отрицательные отзывы (с оценкой 1) и положительные отзывы (с оценкой 5). \n",
    "\n",
    "1.  Составьте обучающее и тестовое множество: выберите из всего набора данных N1 отзывов с оценкой 1 и N2 отзывов с оценкой 5 (значение N1 и N2 – на ваше усмотрение). Используйте ```sklearn.model_selection.train_test_split``` для разделения множества отобранных документов на обучающее и тестовое. \n",
    "2. Используйте любой известный вам алгоритм классификации текстов для решения задачи и получите baseline. Сравните разные варианты векторизации текста: использование только униграм, пар или троек слов или с использованием символьных $n$-грам. \n",
    "3. Сравните, как изменяется качество решения задачи при использовании скрытых тем в качестве признаков:\n",
    "* 1-ый вариант: $tf-idf$ преобразование (```sklearn.feature_extraction.text.TfidfTransformer```) и сингулярное разложение (оно же – латентый семантический анализ) (```sklearn.decomposition.TruncatedSVD```), \n",
    "* 2-ой вариант: тематические модели LDA (```sklearn.decomposition.LatentDirichletAllocation```). \n",
    "\n",
    "Используйте accuracy и F-measure для оценки качества классификации. \n",
    "\n",
    "Ниже написан примерный Pipeline для классификации текстов. \n",
    "\n",
    "Эта часть задания может быть сделана с использованием sklearn. "
   ]
  },
  {
   "cell_type": "code",
   "execution_count": 127,
   "metadata": {},
   "outputs": [],
   "source": [
    "X = pd.concat([df_1['text_lemms'], df_5['text_lemms']])\n",
    "y = pd.concat([df_1['rating_grade'], df_5['rating_grade']])"
   ]
  },
  {
   "cell_type": "code",
   "execution_count": 128,
   "metadata": {},
   "outputs": [],
   "source": [
    "X = X.apply(lambda lst: ' '.join(word for word in lst))"
   ]
  },
  {
   "cell_type": "code",
   "execution_count": 129,
   "metadata": {},
   "outputs": [],
   "source": [
    "from sklearn.model_selection import train_test_split"
   ]
  },
  {
   "cell_type": "code",
   "execution_count": 130,
   "metadata": {},
   "outputs": [],
   "source": [
    "X_train, X_test, y_train, y_test = train_test_split(X, y, test_size=0.2, random_state=42)"
   ]
  },
  {
   "cell_type": "code",
   "execution_count": 131,
   "metadata": {},
   "outputs": [],
   "source": [
    "from sklearn.pipeline import Pipeline\n",
    "from sklearn.ensemble import RandomForestClassifier\n",
    "from sklearn.naive_bayes import MultinomialNB\n",
    "from sklearn.feature_extraction.text import CountVectorizer, TfidfTransformer\n",
    "from sklearn.model_selection import GridSearchCV\n",
    "from sklearn.decomposition import TruncatedSVD\n",
    "from sklearn.metrics import accuracy_score, make_scorer, f1_score\n",
    "from sklearn.decomposition import LatentDirichletAllocation"
   ]
  },
  {
   "cell_type": "code",
   "execution_count": 156,
   "metadata": {},
   "outputs": [],
   "source": [
    "models_result = {'Model': [], 'Accuracy': [], 'F1_score': []}"
   ]
  },
  {
   "cell_type": "markdown",
   "metadata": {},
   "source": [
    "Попробуем модель MultinomialNB с и без LDA"
   ]
  },
  {
   "cell_type": "code",
   "execution_count": 157,
   "metadata": {},
   "outputs": [],
   "source": [
    "text_clf_mnb = Pipeline([\n",
    "        ('vect', CountVectorizer()),\n",
    "        ('tfidf', TfidfTransformer()),\n",
    "        ('lda', LatentDirichletAllocation()),\n",
    "        ('clf', MultinomialNB()),\n",
    "    ])\n",
    "\n",
    "gs_mnb_params = [\n",
    "        {\n",
    "        'vect__ngram_range': [(1, 1), (1, 2)],\n",
    "        'tfidf__use_idf': (True, False),\n",
    "        'lda__n_components': (10, 50, 100),\n",
    "        'clf__alpha': (1, 1e-1, 1e-2)\n",
    "        },\n",
    "        {\n",
    "        'vect__ngram_range': [(1, 1), (1, 2)],\n",
    "        'tfidf__use_idf': (True, False),\n",
    "        'lda': [None],\n",
    "        'clf__alpha': (1, 1e-1, 1e-2)\n",
    "        }\n",
    "]\n",
    "\n",
    "scoring = {'F1': 'f1', 'Accuracy': make_scorer(accuracy_score)}"
   ]
  },
  {
   "cell_type": "code",
   "execution_count": 158,
   "metadata": {},
   "outputs": [],
   "source": [
    "gs_clf_mnb = GridSearchCV(text_clf_mnb, gs_mnb_params, cv=3, n_jobs=-1, verbose=5, scoring=scoring, refit='Accuracy')"
   ]
  },
  {
   "cell_type": "code",
   "execution_count": 159,
   "metadata": {},
   "outputs": [
    {
     "name": "stdout",
     "output_type": "stream",
     "text": [
      "Fitting 3 folds for each of 48 candidates, totalling 144 fits\n"
     ]
    },
    {
     "name": "stderr",
     "output_type": "stream",
     "text": [
      "[Parallel(n_jobs=-1)]: Using backend LokyBackend with 12 concurrent workers.\n",
      "[Parallel(n_jobs=-1)]: Done  48 tasks      | elapsed: 17.0min\n",
      "[Parallel(n_jobs=-1)]: Done 144 out of 144 | elapsed: 44.5min finished\n"
     ]
    }
   ],
   "source": [
    "gs_clf_mnb = gs_clf_mnb.fit(X_train, y_train)"
   ]
  },
  {
   "cell_type": "code",
   "execution_count": 160,
   "metadata": {},
   "outputs": [
    {
     "data": {
      "text/html": [
       "<div>\n",
       "<style scoped>\n",
       "    .dataframe tbody tr th:only-of-type {\n",
       "        vertical-align: middle;\n",
       "    }\n",
       "\n",
       "    .dataframe tbody tr th {\n",
       "        vertical-align: top;\n",
       "    }\n",
       "\n",
       "    .dataframe thead th {\n",
       "        text-align: right;\n",
       "    }\n",
       "</style>\n",
       "<table border=\"1\" class=\"dataframe\">\n",
       "  <thead>\n",
       "    <tr style=\"text-align: right;\">\n",
       "      <th></th>\n",
       "      <th>47</th>\n",
       "      <th>41</th>\n",
       "      <th>45</th>\n",
       "      <th>43</th>\n",
       "      <th>37</th>\n",
       "    </tr>\n",
       "  </thead>\n",
       "  <tbody>\n",
       "    <tr>\n",
       "      <th>param_clf__alpha</th>\n",
       "      <td>0.01</td>\n",
       "      <td>0.1</td>\n",
       "      <td>0.01</td>\n",
       "      <td>0.1</td>\n",
       "      <td>1</td>\n",
       "    </tr>\n",
       "    <tr>\n",
       "      <th>param_lda__n_components</th>\n",
       "      <td>NaN</td>\n",
       "      <td>NaN</td>\n",
       "      <td>NaN</td>\n",
       "      <td>NaN</td>\n",
       "      <td>NaN</td>\n",
       "    </tr>\n",
       "    <tr>\n",
       "      <th>param_tfidf__use_idf</th>\n",
       "      <td>False</td>\n",
       "      <td>True</td>\n",
       "      <td>True</td>\n",
       "      <td>False</td>\n",
       "      <td>True</td>\n",
       "    </tr>\n",
       "    <tr>\n",
       "      <th>param_vect__ngram_range</th>\n",
       "      <td>(1, 2)</td>\n",
       "      <td>(1, 2)</td>\n",
       "      <td>(1, 2)</td>\n",
       "      <td>(1, 2)</td>\n",
       "      <td>(1, 2)</td>\n",
       "    </tr>\n",
       "    <tr>\n",
       "      <th>param_lda</th>\n",
       "      <td>None</td>\n",
       "      <td>None</td>\n",
       "      <td>None</td>\n",
       "      <td>None</td>\n",
       "      <td>None</td>\n",
       "    </tr>\n",
       "    <tr>\n",
       "      <th>params</th>\n",
       "      <td>{'clf__alpha': 0.01, 'lda': None, 'tfidf__use_...</td>\n",
       "      <td>{'clf__alpha': 0.1, 'lda': None, 'tfidf__use_i...</td>\n",
       "      <td>{'clf__alpha': 0.01, 'lda': None, 'tfidf__use_...</td>\n",
       "      <td>{'clf__alpha': 0.1, 'lda': None, 'tfidf__use_i...</td>\n",
       "      <td>{'clf__alpha': 1, 'lda': None, 'tfidf__use_idf...</td>\n",
       "    </tr>\n",
       "    <tr>\n",
       "      <th>split0_test_F1</th>\n",
       "      <td>0.932312</td>\n",
       "      <td>0.931826</td>\n",
       "      <td>0.929249</td>\n",
       "      <td>0.927403</td>\n",
       "      <td>0.923328</td>\n",
       "    </tr>\n",
       "    <tr>\n",
       "      <th>split1_test_F1</th>\n",
       "      <td>0.925716</td>\n",
       "      <td>0.925379</td>\n",
       "      <td>0.923862</td>\n",
       "      <td>0.921266</td>\n",
       "      <td>0.91881</td>\n",
       "    </tr>\n",
       "    <tr>\n",
       "      <th>split2_test_F1</th>\n",
       "      <td>0.929799</td>\n",
       "      <td>0.93053</td>\n",
       "      <td>0.926669</td>\n",
       "      <td>0.927915</td>\n",
       "      <td>0.927621</td>\n",
       "    </tr>\n",
       "    <tr>\n",
       "      <th>mean_test_F1</th>\n",
       "      <td>0.929276</td>\n",
       "      <td>0.929245</td>\n",
       "      <td>0.926593</td>\n",
       "      <td>0.925528</td>\n",
       "      <td>0.923253</td>\n",
       "    </tr>\n",
       "    <tr>\n",
       "      <th>std_test_F1</th>\n",
       "      <td>0.00271783</td>\n",
       "      <td>0.00278476</td>\n",
       "      <td>0.00219999</td>\n",
       "      <td>0.00302097</td>\n",
       "      <td>0.00359709</td>\n",
       "    </tr>\n",
       "    <tr>\n",
       "      <th>rank_test_F1</th>\n",
       "      <td>1</td>\n",
       "      <td>2</td>\n",
       "      <td>3</td>\n",
       "      <td>4</td>\n",
       "      <td>5</td>\n",
       "    </tr>\n",
       "    <tr>\n",
       "      <th>split0_test_Accuracy</th>\n",
       "      <td>0.930446</td>\n",
       "      <td>0.929884</td>\n",
       "      <td>0.927259</td>\n",
       "      <td>0.925947</td>\n",
       "      <td>0.920885</td>\n",
       "    </tr>\n",
       "    <tr>\n",
       "      <th>split1_test_Accuracy</th>\n",
       "      <td>0.923683</td>\n",
       "      <td>0.923308</td>\n",
       "      <td>0.92162</td>\n",
       "      <td>0.919745</td>\n",
       "      <td>0.916557</td>\n",
       "    </tr>\n",
       "    <tr>\n",
       "      <th>split2_test_Accuracy</th>\n",
       "      <td>0.927995</td>\n",
       "      <td>0.928746</td>\n",
       "      <td>0.92462</td>\n",
       "      <td>0.926495</td>\n",
       "      <td>0.925558</td>\n",
       "    </tr>\n",
       "    <tr>\n",
       "      <th>mean_test_Accuracy</th>\n",
       "      <td>0.927375</td>\n",
       "      <td>0.927312</td>\n",
       "      <td>0.9245</td>\n",
       "      <td>0.924063</td>\n",
       "      <td>0.921</td>\n",
       "    </tr>\n",
       "    <tr>\n",
       "      <th>std_test_Accuracy</th>\n",
       "      <td>0.00279585</td>\n",
       "      <td>0.00286956</td>\n",
       "      <td>0.00230372</td>\n",
       "      <td>0.00306101</td>\n",
       "      <td>0.00367525</td>\n",
       "    </tr>\n",
       "    <tr>\n",
       "      <th>rank_test_Accuracy</th>\n",
       "      <td>1</td>\n",
       "      <td>2</td>\n",
       "      <td>3</td>\n",
       "      <td>4</td>\n",
       "      <td>5</td>\n",
       "    </tr>\n",
       "  </tbody>\n",
       "</table>\n",
       "</div>"
      ],
      "text/plain": [
       "                                                                        47  \\\n",
       "param_clf__alpha                                                      0.01   \n",
       "param_lda__n_components                                                NaN   \n",
       "param_tfidf__use_idf                                                 False   \n",
       "param_vect__ngram_range                                             (1, 2)   \n",
       "param_lda                                                             None   \n",
       "params                   {'clf__alpha': 0.01, 'lda': None, 'tfidf__use_...   \n",
       "split0_test_F1                                                    0.932312   \n",
       "split1_test_F1                                                    0.925716   \n",
       "split2_test_F1                                                    0.929799   \n",
       "mean_test_F1                                                      0.929276   \n",
       "std_test_F1                                                     0.00271783   \n",
       "rank_test_F1                                                             1   \n",
       "split0_test_Accuracy                                              0.930446   \n",
       "split1_test_Accuracy                                              0.923683   \n",
       "split2_test_Accuracy                                              0.927995   \n",
       "mean_test_Accuracy                                                0.927375   \n",
       "std_test_Accuracy                                               0.00279585   \n",
       "rank_test_Accuracy                                                       1   \n",
       "\n",
       "                                                                        41  \\\n",
       "param_clf__alpha                                                       0.1   \n",
       "param_lda__n_components                                                NaN   \n",
       "param_tfidf__use_idf                                                  True   \n",
       "param_vect__ngram_range                                             (1, 2)   \n",
       "param_lda                                                             None   \n",
       "params                   {'clf__alpha': 0.1, 'lda': None, 'tfidf__use_i...   \n",
       "split0_test_F1                                                    0.931826   \n",
       "split1_test_F1                                                    0.925379   \n",
       "split2_test_F1                                                     0.93053   \n",
       "mean_test_F1                                                      0.929245   \n",
       "std_test_F1                                                     0.00278476   \n",
       "rank_test_F1                                                             2   \n",
       "split0_test_Accuracy                                              0.929884   \n",
       "split1_test_Accuracy                                              0.923308   \n",
       "split2_test_Accuracy                                              0.928746   \n",
       "mean_test_Accuracy                                                0.927312   \n",
       "std_test_Accuracy                                               0.00286956   \n",
       "rank_test_Accuracy                                                       2   \n",
       "\n",
       "                                                                        45  \\\n",
       "param_clf__alpha                                                      0.01   \n",
       "param_lda__n_components                                                NaN   \n",
       "param_tfidf__use_idf                                                  True   \n",
       "param_vect__ngram_range                                             (1, 2)   \n",
       "param_lda                                                             None   \n",
       "params                   {'clf__alpha': 0.01, 'lda': None, 'tfidf__use_...   \n",
       "split0_test_F1                                                    0.929249   \n",
       "split1_test_F1                                                    0.923862   \n",
       "split2_test_F1                                                    0.926669   \n",
       "mean_test_F1                                                      0.926593   \n",
       "std_test_F1                                                     0.00219999   \n",
       "rank_test_F1                                                             3   \n",
       "split0_test_Accuracy                                              0.927259   \n",
       "split1_test_Accuracy                                               0.92162   \n",
       "split2_test_Accuracy                                               0.92462   \n",
       "mean_test_Accuracy                                                  0.9245   \n",
       "std_test_Accuracy                                               0.00230372   \n",
       "rank_test_Accuracy                                                       3   \n",
       "\n",
       "                                                                        43  \\\n",
       "param_clf__alpha                                                       0.1   \n",
       "param_lda__n_components                                                NaN   \n",
       "param_tfidf__use_idf                                                 False   \n",
       "param_vect__ngram_range                                             (1, 2)   \n",
       "param_lda                                                             None   \n",
       "params                   {'clf__alpha': 0.1, 'lda': None, 'tfidf__use_i...   \n",
       "split0_test_F1                                                    0.927403   \n",
       "split1_test_F1                                                    0.921266   \n",
       "split2_test_F1                                                    0.927915   \n",
       "mean_test_F1                                                      0.925528   \n",
       "std_test_F1                                                     0.00302097   \n",
       "rank_test_F1                                                             4   \n",
       "split0_test_Accuracy                                              0.925947   \n",
       "split1_test_Accuracy                                              0.919745   \n",
       "split2_test_Accuracy                                              0.926495   \n",
       "mean_test_Accuracy                                                0.924063   \n",
       "std_test_Accuracy                                               0.00306101   \n",
       "rank_test_Accuracy                                                       4   \n",
       "\n",
       "                                                                        37  \n",
       "param_clf__alpha                                                         1  \n",
       "param_lda__n_components                                                NaN  \n",
       "param_tfidf__use_idf                                                  True  \n",
       "param_vect__ngram_range                                             (1, 2)  \n",
       "param_lda                                                             None  \n",
       "params                   {'clf__alpha': 1, 'lda': None, 'tfidf__use_idf...  \n",
       "split0_test_F1                                                    0.923328  \n",
       "split1_test_F1                                                     0.91881  \n",
       "split2_test_F1                                                    0.927621  \n",
       "mean_test_F1                                                      0.923253  \n",
       "std_test_F1                                                     0.00359709  \n",
       "rank_test_F1                                                             5  \n",
       "split0_test_Accuracy                                              0.920885  \n",
       "split1_test_Accuracy                                              0.916557  \n",
       "split2_test_Accuracy                                              0.925558  \n",
       "mean_test_Accuracy                                                   0.921  \n",
       "std_test_Accuracy                                               0.00367525  \n",
       "rank_test_Accuracy                                                       5  "
      ]
     },
     "execution_count": 160,
     "metadata": {},
     "output_type": "execute_result"
    }
   ],
   "source": [
    "pd.DataFrame(gs_clf_mnb.cv_results_).iloc[:,4:].sort_values('mean_test_Accuracy', ascending=False).head().T"
   ]
  },
  {
   "cell_type": "markdown",
   "metadata": {},
   "source": [
    "Без LDA результаты получились лучше, возможно было взято недостаточное кол-во топиков. Добавление биграмм дало лучший результат."
   ]
  },
  {
   "cell_type": "code",
   "execution_count": 161,
   "metadata": {},
   "outputs": [],
   "source": [
    "y_test_pred = gs_clf_mnb.predict(X_test)"
   ]
  },
  {
   "cell_type": "code",
   "execution_count": 162,
   "metadata": {},
   "outputs": [],
   "source": [
    "import seaborn\n",
    "from sklearn.metrics import confusion_matrix, classification_report"
   ]
  },
  {
   "cell_type": "code",
   "execution_count": 163,
   "metadata": {},
   "outputs": [
    {
     "data": {
      "image/png": "[encoded data removed]",
      "text/plain": [
       "<Figure size 432x288 with 2 Axes>"
      ]
     },
     "metadata": {
      "needs_background": "dark"
     },
     "output_type": "display_data"
    }
   ],
   "source": [
    "ax = sns.heatmap(confusion_matrix(y_test, y_test_pred), annot=True)"
   ]
  },
  {
   "cell_type": "code",
   "execution_count": 164,
   "metadata": {},
   "outputs": [
    {
     "name": "stdout",
     "output_type": "stream",
     "text": [
      "              precision    recall  f1-score   support\n",
      "\n",
      "         1.0       0.91      0.96      0.93      2019\n",
      "         5.0       0.95      0.90      0.93      1981\n",
      "\n",
      "    accuracy                           0.93      4000\n",
      "   macro avg       0.93      0.93      0.93      4000\n",
      "weighted avg       0.93      0.93      0.93      4000\n",
      "\n"
     ]
    }
   ],
   "source": [
    "print(classification_report(y_test, y_test_pred))"
   ]
  },
  {
   "cell_type": "code",
   "execution_count": 165,
   "metadata": {},
   "outputs": [],
   "source": [
    "models_result['Model'] += ['MultinomialNB']\n",
    "models_result['Accuracy'] += [accuracy_score(y_test, y_test_pred)]\n",
    "models_result['F1_score'] += [f1_score(y_test, y_test_pred)]"
   ]
  },
  {
   "cell_type": "code",
   "execution_count": null,
   "metadata": {},
   "outputs": [],
   "source": []
  },
  {
   "cell_type": "markdown",
   "metadata": {},
   "source": [
    "Попробуем RandomForestClassifier с LDA, LSA и без них."
   ]
  },
  {
   "cell_type": "code",
   "execution_count": 166,
   "metadata": {},
   "outputs": [],
   "source": [
    "text_clf_rfc = Pipeline([\n",
    "        ('vect', CountVectorizer()),\n",
    "        ('tfidf', TfidfTransformer()),\n",
    "        ('svd', TruncatedSVD()),\n",
    "        ('lda', LatentDirichletAllocation()),\n",
    "        ('clf', RandomForestClassifier(n_estimators=100)),\n",
    "    ])\n",
    "\n",
    "gs_rfc_params = [\n",
    "        {\n",
    "        'vect__ngram_range': [(1, 1), (1, 2)],\n",
    "        'tfidf__use_idf': (True, False),\n",
    "        'svd__n_components': [10, 50, 100],\n",
    "        'lda': [None],\n",
    "        },\n",
    "        {\n",
    "        'vect__ngram_range': [(1, 1), (1, 2)],\n",
    "        'tfidf__use_idf': (True, False),\n",
    "        'svd': [None],\n",
    "        'lda__n_components': [10, 50, 100],\n",
    "        },\n",
    "        {\n",
    "        'vect__ngram_range': [(1, 1), (1, 2)],\n",
    "        'tfidf__use_idf': (True, False),\n",
    "        'svd': [None],\n",
    "        'lda': [None],\n",
    "        },\n",
    "    ]\n",
    "\n",
    "scoring = {'F1': 'f1', 'Accuracy': make_scorer(accuracy_score)}"
   ]
  },
  {
   "cell_type": "code",
   "execution_count": 167,
   "metadata": {},
   "outputs": [],
   "source": [
    "gs_clf_rfc = GridSearchCV(text_clf_rfc, gs_rfc_params, cv=3, n_jobs=-1, verbose=5, scoring=scoring, refit='Accuracy')"
   ]
  },
  {
   "cell_type": "code",
   "execution_count": 172,
   "metadata": {},
   "outputs": [
    {
     "name": "stdout",
     "output_type": "stream",
     "text": [
      "Fitting 3 folds for each of 28 candidates, totalling 84 fits\n"
     ]
    },
    {
     "name": "stderr",
     "output_type": "stream",
     "text": [
      "[Parallel(n_jobs=-1)]: Using backend LokyBackend with 12 concurrent workers.\n",
      "[Parallel(n_jobs=-1)]: Done  48 tasks      | elapsed:  5.5min\n",
      "[Parallel(n_jobs=-1)]: Done  78 out of  84 | elapsed: 18.0min remaining:  1.4min\n",
      "[Parallel(n_jobs=-1)]: Done  84 out of  84 | elapsed: 19.4min finished\n"
     ]
    }
   ],
   "source": [
    "gs_clf_rfc = gs_clf_rfc.fit(X_train, y_train)"
   ]
  },
  {
   "cell_type": "code",
   "execution_count": 173,
   "metadata": {},
   "outputs": [
    {
     "data": {
      "text/html": [
       "<div>\n",
       "<style scoped>\n",
       "    .dataframe tbody tr th:only-of-type {\n",
       "        vertical-align: middle;\n",
       "    }\n",
       "\n",
       "    .dataframe tbody tr th {\n",
       "        vertical-align: top;\n",
       "    }\n",
       "\n",
       "    .dataframe thead th {\n",
       "        text-align: right;\n",
       "    }\n",
       "</style>\n",
       "<table border=\"1\" class=\"dataframe\">\n",
       "  <thead>\n",
       "    <tr style=\"text-align: right;\">\n",
       "      <th></th>\n",
       "      <th>24</th>\n",
       "      <th>26</th>\n",
       "      <th>25</th>\n",
       "      <th>27</th>\n",
       "      <th>4</th>\n",
       "    </tr>\n",
       "  </thead>\n",
       "  <tbody>\n",
       "    <tr>\n",
       "      <th>param_lda</th>\n",
       "      <td>None</td>\n",
       "      <td>None</td>\n",
       "      <td>None</td>\n",
       "      <td>None</td>\n",
       "      <td>None</td>\n",
       "    </tr>\n",
       "    <tr>\n",
       "      <th>param_svd__n_components</th>\n",
       "      <td>NaN</td>\n",
       "      <td>NaN</td>\n",
       "      <td>NaN</td>\n",
       "      <td>NaN</td>\n",
       "      <td>50</td>\n",
       "    </tr>\n",
       "    <tr>\n",
       "      <th>param_tfidf__use_idf</th>\n",
       "      <td>True</td>\n",
       "      <td>False</td>\n",
       "      <td>True</td>\n",
       "      <td>False</td>\n",
       "      <td>True</td>\n",
       "    </tr>\n",
       "    <tr>\n",
       "      <th>param_vect__ngram_range</th>\n",
       "      <td>(1, 1)</td>\n",
       "      <td>(1, 1)</td>\n",
       "      <td>(1, 2)</td>\n",
       "      <td>(1, 2)</td>\n",
       "      <td>(1, 1)</td>\n",
       "    </tr>\n",
       "    <tr>\n",
       "      <th>param_lda__n_components</th>\n",
       "      <td>NaN</td>\n",
       "      <td>NaN</td>\n",
       "      <td>NaN</td>\n",
       "      <td>NaN</td>\n",
       "      <td>NaN</td>\n",
       "    </tr>\n",
       "    <tr>\n",
       "      <th>param_svd</th>\n",
       "      <td>None</td>\n",
       "      <td>None</td>\n",
       "      <td>None</td>\n",
       "      <td>None</td>\n",
       "      <td>NaN</td>\n",
       "    </tr>\n",
       "    <tr>\n",
       "      <th>params</th>\n",
       "      <td>{'lda': None, 'svd': None, 'tfidf__use_idf': T...</td>\n",
       "      <td>{'lda': None, 'svd': None, 'tfidf__use_idf': F...</td>\n",
       "      <td>{'lda': None, 'svd': None, 'tfidf__use_idf': T...</td>\n",
       "      <td>{'lda': None, 'svd': None, 'tfidf__use_idf': F...</td>\n",
       "      <td>{'lda': None, 'svd__n_components': 50, 'tfidf_...</td>\n",
       "    </tr>\n",
       "    <tr>\n",
       "      <th>split0_test_F1</th>\n",
       "      <td>0.9323</td>\n",
       "      <td>0.930319</td>\n",
       "      <td>0.925641</td>\n",
       "      <td>0.922543</td>\n",
       "      <td>0.889456</td>\n",
       "    </tr>\n",
       "    <tr>\n",
       "      <th>split1_test_F1</th>\n",
       "      <td>0.931117</td>\n",
       "      <td>0.930086</td>\n",
       "      <td>0.921024</td>\n",
       "      <td>0.92274</td>\n",
       "      <td>0.89054</td>\n",
       "    </tr>\n",
       "    <tr>\n",
       "      <th>split2_test_F1</th>\n",
       "      <td>0.928956</td>\n",
       "      <td>0.926947</td>\n",
       "      <td>0.919729</td>\n",
       "      <td>0.921679</td>\n",
       "      <td>0.896652</td>\n",
       "    </tr>\n",
       "    <tr>\n",
       "      <th>mean_test_F1</th>\n",
       "      <td>0.930791</td>\n",
       "      <td>0.929117</td>\n",
       "      <td>0.922132</td>\n",
       "      <td>0.922321</td>\n",
       "      <td>0.892216</td>\n",
       "    </tr>\n",
       "    <tr>\n",
       "      <th>std_test_F1</th>\n",
       "      <td>0.0013848</td>\n",
       "      <td>0.00153763</td>\n",
       "      <td>0.00253739</td>\n",
       "      <td>0.000460655</td>\n",
       "      <td>0.00316745</td>\n",
       "    </tr>\n",
       "    <tr>\n",
       "      <th>rank_test_F1</th>\n",
       "      <td>1</td>\n",
       "      <td>2</td>\n",
       "      <td>4</td>\n",
       "      <td>3</td>\n",
       "      <td>5</td>\n",
       "    </tr>\n",
       "    <tr>\n",
       "      <th>split0_test_Accuracy</th>\n",
       "      <td>0.931196</td>\n",
       "      <td>0.929509</td>\n",
       "      <td>0.923885</td>\n",
       "      <td>0.92051</td>\n",
       "      <td>0.886389</td>\n",
       "    </tr>\n",
       "    <tr>\n",
       "      <th>split1_test_Accuracy</th>\n",
       "      <td>0.930058</td>\n",
       "      <td>0.929496</td>\n",
       "      <td>0.918995</td>\n",
       "      <td>0.920683</td>\n",
       "      <td>0.886743</td>\n",
       "    </tr>\n",
       "    <tr>\n",
       "      <th>split2_test_Accuracy</th>\n",
       "      <td>0.928183</td>\n",
       "      <td>0.925933</td>\n",
       "      <td>0.917682</td>\n",
       "      <td>0.919182</td>\n",
       "      <td>0.892931</td>\n",
       "    </tr>\n",
       "    <tr>\n",
       "      <th>mean_test_Accuracy</th>\n",
       "      <td>0.929813</td>\n",
       "      <td>0.928312</td>\n",
       "      <td>0.920188</td>\n",
       "      <td>0.920125</td>\n",
       "      <td>0.888687</td>\n",
       "    </tr>\n",
       "    <tr>\n",
       "      <th>std_test_Accuracy</th>\n",
       "      <td>0.00124231</td>\n",
       "      <td>0.00168258</td>\n",
       "      <td>0.00266878</td>\n",
       "      <td>0.000670168</td>\n",
       "      <td>0.0030038</td>\n",
       "    </tr>\n",
       "    <tr>\n",
       "      <th>rank_test_Accuracy</th>\n",
       "      <td>1</td>\n",
       "      <td>2</td>\n",
       "      <td>3</td>\n",
       "      <td>4</td>\n",
       "      <td>5</td>\n",
       "    </tr>\n",
       "  </tbody>\n",
       "</table>\n",
       "</div>"
      ],
      "text/plain": [
       "                                                                        24  \\\n",
       "param_lda                                                             None   \n",
       "param_svd__n_components                                                NaN   \n",
       "param_tfidf__use_idf                                                  True   \n",
       "param_vect__ngram_range                                             (1, 1)   \n",
       "param_lda__n_components                                                NaN   \n",
       "param_svd                                                             None   \n",
       "params                   {'lda': None, 'svd': None, 'tfidf__use_idf': T...   \n",
       "split0_test_F1                                                      0.9323   \n",
       "split1_test_F1                                                    0.931117   \n",
       "split2_test_F1                                                    0.928956   \n",
       "mean_test_F1                                                      0.930791   \n",
       "std_test_F1                                                      0.0013848   \n",
       "rank_test_F1                                                             1   \n",
       "split0_test_Accuracy                                              0.931196   \n",
       "split1_test_Accuracy                                              0.930058   \n",
       "split2_test_Accuracy                                              0.928183   \n",
       "mean_test_Accuracy                                                0.929813   \n",
       "std_test_Accuracy                                               0.00124231   \n",
       "rank_test_Accuracy                                                       1   \n",
       "\n",
       "                                                                        26  \\\n",
       "param_lda                                                             None   \n",
       "param_svd__n_components                                                NaN   \n",
       "param_tfidf__use_idf                                                 False   \n",
       "param_vect__ngram_range                                             (1, 1)   \n",
       "param_lda__n_components                                                NaN   \n",
       "param_svd                                                             None   \n",
       "params                   {'lda': None, 'svd': None, 'tfidf__use_idf': F...   \n",
       "split0_test_F1                                                    0.930319   \n",
       "split1_test_F1                                                    0.930086   \n",
       "split2_test_F1                                                    0.926947   \n",
       "mean_test_F1                                                      0.929117   \n",
       "std_test_F1                                                     0.00153763   \n",
       "rank_test_F1                                                             2   \n",
       "split0_test_Accuracy                                              0.929509   \n",
       "split1_test_Accuracy                                              0.929496   \n",
       "split2_test_Accuracy                                              0.925933   \n",
       "mean_test_Accuracy                                                0.928312   \n",
       "std_test_Accuracy                                               0.00168258   \n",
       "rank_test_Accuracy                                                       2   \n",
       "\n",
       "                                                                        25  \\\n",
       "param_lda                                                             None   \n",
       "param_svd__n_components                                                NaN   \n",
       "param_tfidf__use_idf                                                  True   \n",
       "param_vect__ngram_range                                             (1, 2)   \n",
       "param_lda__n_components                                                NaN   \n",
       "param_svd                                                             None   \n",
       "params                   {'lda': None, 'svd': None, 'tfidf__use_idf': T...   \n",
       "split0_test_F1                                                    0.925641   \n",
       "split1_test_F1                                                    0.921024   \n",
       "split2_test_F1                                                    0.919729   \n",
       "mean_test_F1                                                      0.922132   \n",
       "std_test_F1                                                     0.00253739   \n",
       "rank_test_F1                                                             4   \n",
       "split0_test_Accuracy                                              0.923885   \n",
       "split1_test_Accuracy                                              0.918995   \n",
       "split2_test_Accuracy                                              0.917682   \n",
       "mean_test_Accuracy                                                0.920188   \n",
       "std_test_Accuracy                                               0.00266878   \n",
       "rank_test_Accuracy                                                       3   \n",
       "\n",
       "                                                                        27  \\\n",
       "param_lda                                                             None   \n",
       "param_svd__n_components                                                NaN   \n",
       "param_tfidf__use_idf                                                 False   \n",
       "param_vect__ngram_range                                             (1, 2)   \n",
       "param_lda__n_components                                                NaN   \n",
       "param_svd                                                             None   \n",
       "params                   {'lda': None, 'svd': None, 'tfidf__use_idf': F...   \n",
       "split0_test_F1                                                    0.922543   \n",
       "split1_test_F1                                                     0.92274   \n",
       "split2_test_F1                                                    0.921679   \n",
       "mean_test_F1                                                      0.922321   \n",
       "std_test_F1                                                    0.000460655   \n",
       "rank_test_F1                                                             3   \n",
       "split0_test_Accuracy                                               0.92051   \n",
       "split1_test_Accuracy                                              0.920683   \n",
       "split2_test_Accuracy                                              0.919182   \n",
       "mean_test_Accuracy                                                0.920125   \n",
       "std_test_Accuracy                                              0.000670168   \n",
       "rank_test_Accuracy                                                       4   \n",
       "\n",
       "                                                                        4   \n",
       "param_lda                                                             None  \n",
       "param_svd__n_components                                                 50  \n",
       "param_tfidf__use_idf                                                  True  \n",
       "param_vect__ngram_range                                             (1, 1)  \n",
       "param_lda__n_components                                                NaN  \n",
       "param_svd                                                              NaN  \n",
       "params                   {'lda': None, 'svd__n_components': 50, 'tfidf_...  \n",
       "split0_test_F1                                                    0.889456  \n",
       "split1_test_F1                                                     0.89054  \n",
       "split2_test_F1                                                    0.896652  \n",
       "mean_test_F1                                                      0.892216  \n",
       "std_test_F1                                                     0.00316745  \n",
       "rank_test_F1                                                             5  \n",
       "split0_test_Accuracy                                              0.886389  \n",
       "split1_test_Accuracy                                              0.886743  \n",
       "split2_test_Accuracy                                              0.892931  \n",
       "mean_test_Accuracy                                                0.888687  \n",
       "std_test_Accuracy                                                0.0030038  \n",
       "rank_test_Accuracy                                                       5  "
      ]
     },
     "execution_count": 173,
     "metadata": {},
     "output_type": "execute_result"
    }
   ],
   "source": [
    "pd.DataFrame(gs_clf_rfc.cv_results_).iloc[:,4:].sort_values('mean_test_Accuracy', ascending=False).head().T"
   ]
  },
  {
   "cell_type": "markdown",
   "metadata": {},
   "source": [
    "Также результат получился лучше без использования LDA и без использования биграмм."
   ]
  },
  {
   "cell_type": "code",
   "execution_count": 174,
   "metadata": {},
   "outputs": [],
   "source": [
    "y_test_pred = gs_clf_rfc.predict(X_test)"
   ]
  },
  {
   "cell_type": "code",
   "execution_count": 175,
   "metadata": {},
   "outputs": [
    {
     "data": {
      "image/png": "[encoded data removed]",
      "text/plain": [
       "<Figure size 432x288 with 2 Axes>"
      ]
     },
     "metadata": {
      "needs_background": "dark"
     },
     "output_type": "display_data"
    }
   ],
   "source": [
    "ax = sns.heatmap(confusion_matrix(y_test, y_test_pred), annot=True)"
   ]
  },
  {
   "cell_type": "code",
   "execution_count": 176,
   "metadata": {},
   "outputs": [
    {
     "name": "stdout",
     "output_type": "stream",
     "text": [
      "              precision    recall  f1-score   support\n",
      "\n",
      "         1.0       0.92      0.95      0.93      2019\n",
      "         5.0       0.95      0.91      0.93      1981\n",
      "\n",
      "    accuracy                           0.93      4000\n",
      "   macro avg       0.93      0.93      0.93      4000\n",
      "weighted avg       0.93      0.93      0.93      4000\n",
      "\n"
     ]
    }
   ],
   "source": [
    "print(classification_report(y_test, y_test_pred))"
   ]
  },
  {
   "cell_type": "code",
   "execution_count": 177,
   "metadata": {},
   "outputs": [],
   "source": [
    "models_result['Model'] += ['RandomForest']\n",
    "models_result['Accuracy'] += [accuracy_score(y_test, y_test_pred)]\n",
    "models_result['F1_score'] += [f1_score(y_test, y_test_pred)]"
   ]
  },
  {
   "cell_type": "code",
   "execution_count": null,
   "metadata": {},
   "outputs": [],
   "source": []
  },
  {
   "cell_type": "code",
   "execution_count": 178,
   "metadata": {},
   "outputs": [
    {
     "data": {
      "text/html": [
       "<div>\n",
       "<style scoped>\n",
       "    .dataframe tbody tr th:only-of-type {\n",
       "        vertical-align: middle;\n",
       "    }\n",
       "\n",
       "    .dataframe tbody tr th {\n",
       "        vertical-align: top;\n",
       "    }\n",
       "\n",
       "    .dataframe thead th {\n",
       "        text-align: right;\n",
       "    }\n",
       "</style>\n",
       "<table border=\"1\" class=\"dataframe\">\n",
       "  <thead>\n",
       "    <tr style=\"text-align: right;\">\n",
       "      <th></th>\n",
       "      <th>Model</th>\n",
       "      <th>Accuracy</th>\n",
       "      <th>F1_score</th>\n",
       "    </tr>\n",
       "  </thead>\n",
       "  <tbody>\n",
       "    <tr>\n",
       "      <th>0</th>\n",
       "      <td>MultinomialNB</td>\n",
       "      <td>0.92975</td>\n",
       "      <td>0.932109</td>\n",
       "    </tr>\n",
       "    <tr>\n",
       "      <th>1</th>\n",
       "      <td>RandomForest</td>\n",
       "      <td>0.93200</td>\n",
       "      <td>0.933916</td>\n",
       "    </tr>\n",
       "  </tbody>\n",
       "</table>\n",
       "</div>"
      ],
      "text/plain": [
       "           Model  Accuracy  F1_score\n",
       "0  MultinomialNB   0.92975  0.932109\n",
       "1   RandomForest   0.93200  0.933916"
      ]
     },
     "execution_count": 178,
     "metadata": {},
     "output_type": "execute_result"
    }
   ],
   "source": [
    "pd.DataFrame(models_result)"
   ]
  },
  {
   "cell_type": "markdown",
   "metadata": {},
   "source": [
    "RandomForest оказался немного более точным на тестовой выборке."
   ]
  },
  {
   "cell_type": "code",
   "execution_count": null,
   "metadata": {},
   "outputs": [],
   "source": []
  }
 ],
 "metadata": {
  "kernelspec": {
   "display_name": "Python 3",
   "language": "python",
   "name": "python3"
  },
  "language_info": {
   "codemirror_mode": {
    "name": "ipython",
    "version": 3
   },
   "file_extension": ".py",
   "mimetype": "text/x-python",
   "name": "python",
   "nbconvert_exporter": "python",
   "pygments_lexer": "ipython3",
   "version": "3.7.3"
  }
 },
 "nbformat": 4,
 "nbformat_minor": 2
}
