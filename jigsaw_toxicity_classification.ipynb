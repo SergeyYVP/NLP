{
 "cells": [
  {
   "cell_type": "code",
   "execution_count": 1,
   "metadata": {},
   "outputs": [],
   "source": [
    "import pandas as pd\n",
    "import numpy as np\n",
    "import torch\n",
    "\n",
    "from torchtext import datasets\n",
    "\n",
    "from torchtext.data import Field, LabelField, TabularDataset\n",
    "from torchtext.data import BucketIterator, Iterator\n",
    "\n",
    "import torch.nn as nn\n",
    "import torch.nn.functional as F\n",
    "import torch.optim as optim\n",
    "import os\n",
    "import spacy\n",
    "import re\n",
    "import pickle\n",
    "import matplotlib.pyplot as plt"
   ]
  },
  {
   "cell_type": "code",
   "execution_count": 44,
   "metadata": {},
   "outputs": [],
   "source": [
    "df = pd.read_csv('data/train_0.csv')"
   ]
  },
  {
   "cell_type": "code",
   "execution_count": 45,
   "metadata": {},
   "outputs": [
    {
     "data": {
      "text/html": [
       "<div>\n",
       "<style scoped>\n",
       "    .dataframe tbody tr th:only-of-type {\n",
       "        vertical-align: middle;\n",
       "    }\n",
       "\n",
       "    .dataframe tbody tr th {\n",
       "        vertical-align: top;\n",
       "    }\n",
       "\n",
       "    .dataframe thead th {\n",
       "        text-align: right;\n",
       "    }\n",
       "</style>\n",
       "<table border=\"1\" class=\"dataframe\">\n",
       "  <thead>\n",
       "    <tr style=\"text-align: right;\">\n",
       "      <th></th>\n",
       "      <th>uuid</th>\n",
       "      <th>comment_text</th>\n",
       "      <th>toxicity</th>\n",
       "    </tr>\n",
       "  </thead>\n",
       "  <tbody>\n",
       "    <tr>\n",
       "      <th>0</th>\n",
       "      <td>0fdd21db-2d15-458e-96b1-542840fc6ae8</td>\n",
       "      <td>and tyrrell was its head nutcase</td>\n",
       "      <td>0.0</td>\n",
       "    </tr>\n",
       "    <tr>\n",
       "      <th>1</th>\n",
       "      <td>988b4e95-8c6e-4cc3-9cb5-0848fec3c256</td>\n",
       "      <td>sockpuppet template  i have to give it to you ...</td>\n",
       "      <td>0.0</td>\n",
       "    </tr>\n",
       "    <tr>\n",
       "      <th>2</th>\n",
       "      <td>7a57976f-c084-4a9b-b226-8391699468c9</td>\n",
       "      <td>invitation to take part in a study i am a wik...</td>\n",
       "      <td>0.0</td>\n",
       "    </tr>\n",
       "    <tr>\n",
       "      <th>3</th>\n",
       "      <td>7e21814e-4756-425a-8c24-74d424699aa2</td>\n",
       "      <td>here you are you stupid monkey</td>\n",
       "      <td>0.0</td>\n",
       "    </tr>\n",
       "    <tr>\n",
       "      <th>4</th>\n",
       "      <td>90bfe31f-8ab4-4386-8d34-cf8f9e708cbb</td>\n",
       "      <td>wpgm new monthly newsletter ctrb er if you do...</td>\n",
       "      <td>0.0</td>\n",
       "    </tr>\n",
       "  </tbody>\n",
       "</table>\n",
       "</div>"
      ],
      "text/plain": [
       "                                   uuid  \\\n",
       "0  0fdd21db-2d15-458e-96b1-542840fc6ae8   \n",
       "1  988b4e95-8c6e-4cc3-9cb5-0848fec3c256   \n",
       "2  7a57976f-c084-4a9b-b226-8391699468c9   \n",
       "3  7e21814e-4756-425a-8c24-74d424699aa2   \n",
       "4  90bfe31f-8ab4-4386-8d34-cf8f9e708cbb   \n",
       "\n",
       "                                        comment_text  toxicity  \n",
       "0                   and tyrrell was its head nutcase       0.0  \n",
       "1  sockpuppet template  i have to give it to you ...       0.0  \n",
       "2   invitation to take part in a study i am a wik...       0.0  \n",
       "3                     here you are you stupid monkey       0.0  \n",
       "4   wpgm new monthly newsletter ctrb er if you do...       0.0  "
      ]
     },
     "execution_count": 45,
     "metadata": {},
     "output_type": "execute_result"
    }
   ],
   "source": [
    "df.head()"
   ]
  },
  {
   "cell_type": "code",
   "execution_count": 46,
   "metadata": {},
   "outputs": [],
   "source": [
    "df = df.drop_duplicates(['comment_text', 'toxicity'])"
   ]
  },
  {
   "cell_type": "code",
   "execution_count": 47,
   "metadata": {},
   "outputs": [],
   "source": [
    "tmp = df[df['comment_text'].duplicated(keep=False)].groupby('comment_text').max()"
   ]
  },
  {
   "cell_type": "code",
   "execution_count": 48,
   "metadata": {},
   "outputs": [],
   "source": [
    "tmp_dct = tmp[['toxicity']].to_dict()['toxicity']"
   ]
  },
  {
   "cell_type": "code",
   "execution_count": 49,
   "metadata": {},
   "outputs": [],
   "source": [
    "df['toxicity'] = df['comment_text'].map(tmp_dct).fillna(df['toxicity'])"
   ]
  },
  {
   "cell_type": "code",
   "execution_count": 52,
   "metadata": {},
   "outputs": [
    {
     "data": {
      "text/html": [
       "<div>\n",
       "<style scoped>\n",
       "    .dataframe tbody tr th:only-of-type {\n",
       "        vertical-align: middle;\n",
       "    }\n",
       "\n",
       "    .dataframe tbody tr th {\n",
       "        vertical-align: top;\n",
       "    }\n",
       "\n",
       "    .dataframe thead th {\n",
       "        text-align: right;\n",
       "    }\n",
       "</style>\n",
       "<table border=\"1\" class=\"dataframe\">\n",
       "  <thead>\n",
       "    <tr style=\"text-align: right;\">\n",
       "      <th></th>\n",
       "      <th>uuid</th>\n",
       "      <th>comment_text</th>\n",
       "      <th>toxicity</th>\n",
       "    </tr>\n",
       "  </thead>\n",
       "  <tbody>\n",
       "    <tr>\n",
       "      <th>0</th>\n",
       "      <td>0fdd21db-2d15-458e-96b1-542840fc6ae8</td>\n",
       "      <td>and tyrrell was its head nutcase</td>\n",
       "      <td>0.0</td>\n",
       "    </tr>\n",
       "    <tr>\n",
       "      <th>1</th>\n",
       "      <td>988b4e95-8c6e-4cc3-9cb5-0848fec3c256</td>\n",
       "      <td>sockpuppet template  i have to give it to you ...</td>\n",
       "      <td>0.0</td>\n",
       "    </tr>\n",
       "    <tr>\n",
       "      <th>2</th>\n",
       "      <td>7a57976f-c084-4a9b-b226-8391699468c9</td>\n",
       "      <td>invitation to take part in a study i am a wik...</td>\n",
       "      <td>0.0</td>\n",
       "    </tr>\n",
       "    <tr>\n",
       "      <th>3</th>\n",
       "      <td>7e21814e-4756-425a-8c24-74d424699aa2</td>\n",
       "      <td>here you are you stupid monkey</td>\n",
       "      <td>0.0</td>\n",
       "    </tr>\n",
       "    <tr>\n",
       "      <th>4</th>\n",
       "      <td>90bfe31f-8ab4-4386-8d34-cf8f9e708cbb</td>\n",
       "      <td>wpgm new monthly newsletter ctrb er if you do...</td>\n",
       "      <td>0.0</td>\n",
       "    </tr>\n",
       "    <tr>\n",
       "      <th>...</th>\n",
       "      <td>...</td>\n",
       "      <td>...</td>\n",
       "      <td>...</td>\n",
       "    </tr>\n",
       "    <tr>\n",
       "      <th>34642</th>\n",
       "      <td>7b41d05d-3ef0-49b9-9871-c0b1cebac226</td>\n",
       "      <td>nigel is a crazy idiot</td>\n",
       "      <td>2.0</td>\n",
       "    </tr>\n",
       "    <tr>\n",
       "      <th>34643</th>\n",
       "      <td>14dc574c-61c4-4d30-af19-997d92883d13</td>\n",
       "      <td>well  now don t i feel stupid</td>\n",
       "      <td>1.0</td>\n",
       "    </tr>\n",
       "    <tr>\n",
       "      <th>34644</th>\n",
       "      <td>a3514de6-19d1-4908-b462-479c15eef9c1</td>\n",
       "      <td>fourth baldrick possibly being cleverer than...</td>\n",
       "      <td>1.0</td>\n",
       "    </tr>\n",
       "    <tr>\n",
       "      <th>34645</th>\n",
       "      <td>d5eaf094-6868-4496-b8d9-f2f3c650e913</td>\n",
       "      <td>iran that s right  iran  it was our drone  an...</td>\n",
       "      <td>2.0</td>\n",
       "    </tr>\n",
       "    <tr>\n",
       "      <th>34646</th>\n",
       "      <td>3a45103d-9d93-4635-a6ed-da2561b5068e</td>\n",
       "      <td>mel gibson is a  nazi bitch who makes shit mov...</td>\n",
       "      <td>3.0</td>\n",
       "    </tr>\n",
       "  </tbody>\n",
       "</table>\n",
       "<p>34603 rows × 3 columns</p>\n",
       "</div>"
      ],
      "text/plain": [
       "                                       uuid  \\\n",
       "0      0fdd21db-2d15-458e-96b1-542840fc6ae8   \n",
       "1      988b4e95-8c6e-4cc3-9cb5-0848fec3c256   \n",
       "2      7a57976f-c084-4a9b-b226-8391699468c9   \n",
       "3      7e21814e-4756-425a-8c24-74d424699aa2   \n",
       "4      90bfe31f-8ab4-4386-8d34-cf8f9e708cbb   \n",
       "...                                     ...   \n",
       "34642  7b41d05d-3ef0-49b9-9871-c0b1cebac226   \n",
       "34643  14dc574c-61c4-4d30-af19-997d92883d13   \n",
       "34644  a3514de6-19d1-4908-b462-479c15eef9c1   \n",
       "34645  d5eaf094-6868-4496-b8d9-f2f3c650e913   \n",
       "34646  3a45103d-9d93-4635-a6ed-da2561b5068e   \n",
       "\n",
       "                                            comment_text  toxicity  \n",
       "0                       and tyrrell was its head nutcase       0.0  \n",
       "1      sockpuppet template  i have to give it to you ...       0.0  \n",
       "2       invitation to take part in a study i am a wik...       0.0  \n",
       "3                         here you are you stupid monkey       0.0  \n",
       "4       wpgm new monthly newsletter ctrb er if you do...       0.0  \n",
       "...                                                  ...       ...  \n",
       "34642                            nigel is a crazy idiot        2.0  \n",
       "34643                    well  now don t i feel stupid         1.0  \n",
       "34644    fourth baldrick possibly being cleverer than...       1.0  \n",
       "34645   iran that s right  iran  it was our drone  an...       2.0  \n",
       "34646  mel gibson is a  nazi bitch who makes shit mov...       3.0  \n",
       "\n",
       "[34603 rows x 3 columns]"
      ]
     },
     "execution_count": 52,
     "metadata": {},
     "output_type": "execute_result"
    }
   ],
   "source": [
    "df"
   ]
  },
  {
   "cell_type": "code",
   "execution_count": 53,
   "metadata": {},
   "outputs": [
    {
     "data": {
      "text/plain": [
       "0.0    16328\n",
       "1.0     6681\n",
       "3.0     5129\n",
       "2.0     4076\n",
       "4.0     1938\n",
       "5.0      451\n",
       "Name: toxicity, dtype: int64"
      ]
     },
     "execution_count": 53,
     "metadata": {},
     "output_type": "execute_result"
    }
   ],
   "source": [
    "df['toxicity'].value_counts()"
   ]
  },
  {
   "cell_type": "code",
   "execution_count": 55,
   "metadata": {},
   "outputs": [],
   "source": [
    "from sklearn.model_selection import train_test_split"
   ]
  },
  {
   "cell_type": "code",
   "execution_count": 56,
   "metadata": {},
   "outputs": [],
   "source": [
    "train, val = train_test_split(df, test_size=0.1, stratify=df['toxicity'])"
   ]
  },
  {
   "cell_type": "code",
   "execution_count": 57,
   "metadata": {},
   "outputs": [],
   "source": [
    "train.to_csv('data/train.csv', index=False)"
   ]
  },
  {
   "cell_type": "code",
   "execution_count": 58,
   "metadata": {},
   "outputs": [],
   "source": [
    "val.to_csv('data/val.csv', index=False)"
   ]
  },
  {
   "cell_type": "code",
   "execution_count": 62,
   "metadata": {},
   "outputs": [],
   "source": [
    "import spacy"
   ]
  },
  {
   "cell_type": "code",
   "execution_count": 63,
   "metadata": {},
   "outputs": [],
   "source": [
    "nlp = spacy.load('en_core_web_sm', disable=['parser', 'tagger', 'ner'])"
   ]
  },
  {
   "cell_type": "code",
   "execution_count": 64,
   "metadata": {},
   "outputs": [],
   "source": [
    "def text_cleaner(text):\n",
    "    text = re.sub(r'[^A-Za-z0-9]+', ' ', text)\n",
    "    return text.strip()\n",
    "\n",
    "def tokenizer(s): \n",
    "    return [w.text.lower() for w in nlp(text_cleaner(s))]"
   ]
  },
  {
   "cell_type": "code",
   "execution_count": 65,
   "metadata": {},
   "outputs": [],
   "source": [
    "TEXT = Field(sequential=True, tokenize=tokenizer, include_lengths=True, lower=True)\n",
    "LABEL = LabelField(sequential=False, use_vocab=False, dtype=torch.float,)"
   ]
  },
  {
   "cell_type": "code",
   "execution_count": 66,
   "metadata": {},
   "outputs": [],
   "source": [
    "trn, vld = TabularDataset.splits(skip_header=True,\n",
    "        path='data/', train='train.csv', validation='val.csv', format='csv',\n",
    "        fields=[('uuid', None), ('comment_text', TEXT), ('toxicity', LABEL)])"
   ]
  },
  {
   "cell_type": "code",
   "execution_count": 67,
   "metadata": {},
   "outputs": [],
   "source": [
    "with open('data/dataset_316011_2.txt', 'r') as f:\n",
    "    test_file = f.read().split('\\n')\n",
    "    \n",
    "test_file= test_file[:-1]\n",
    "test_df = pd.DataFrame({'comment_text': test_file})\n",
    "test_df.to_csv('data/test.csv', index=False)\n",
    "\n",
    "tst = TabularDataset(\n",
    "           path=\"data/test.csv\", \n",
    "           format='csv',\n",
    "           skip_header=True,\n",
    "           fields=[('comment_text', TEXT)]\n",
    ")"
   ]
  },
  {
   "cell_type": "code",
   "execution_count": null,
   "metadata": {},
   "outputs": [],
   "source": []
  },
  {
   "cell_type": "code",
   "execution_count": 68,
   "metadata": {},
   "outputs": [],
   "source": [
    "from torchtext import vocab"
   ]
  },
  {
   "cell_type": "code",
   "execution_count": 69,
   "metadata": {},
   "outputs": [
    {
     "name": "stderr",
     "output_type": "stream",
     "text": [
      "  0%|                                                                                      | 0/2000000 [00:00<?, ?it/s]Skipping token b'2000000' with 1-dimensional vector [b'300']; likely a header\n",
      "100%|██████████████████████████████████████████████████████████████████████| 2000000/2000000 [03:44<00:00, 8905.96it/s]\n"
     ]
    }
   ],
   "source": [
    "vec = vocab.Vectors('crawl-300d-2M-subword.vec', './data')"
   ]
  },
  {
   "cell_type": "code",
   "execution_count": 70,
   "metadata": {},
   "outputs": [
    {
     "name": "stdout",
     "output_type": "stream",
     "text": [
      "Wall time: 1.11 s\n"
     ]
    }
   ],
   "source": [
    "%%time\n",
    "TEXT.build_vocab(trn, vld, tst, vectors=vec)"
   ]
  },
  {
   "cell_type": "code",
   "execution_count": 71,
   "metadata": {},
   "outputs": [
    {
     "name": "stdout",
     "output_type": "stream",
     "text": [
      "torch.Size([69778, 300])\n"
     ]
    }
   ],
   "source": [
    "print(TEXT.vocab.vectors.shape)"
   ]
  },
  {
   "cell_type": "code",
   "execution_count": 72,
   "metadata": {},
   "outputs": [
    {
     "data": {
      "text/plain": [
       "tensor([ 0.0642,  0.0233,  0.0933, -0.0364,  0.0180, -0.0550,  0.1413,  0.0361,\n",
       "         0.0221, -0.0311, -0.0238,  0.0797, -0.0133,  0.0260, -0.0029,  0.0269,\n",
       "         0.1007, -0.0038, -0.0478,  0.0150,  0.0241,  0.1228,  0.0348, -0.0354,\n",
       "         0.0108,  0.0330, -0.0473,  0.0132,  0.0151,  0.0149, -0.0583, -0.0174,\n",
       "        -0.0159, -0.0640,  0.0725,  0.0829,  0.0131,  0.0503,  0.0154, -0.0650,\n",
       "        -0.1467, -0.2259, -0.0142, -0.0125, -0.1148,  0.1187, -0.1453,  0.0106,\n",
       "        -0.0220, -0.1520, -0.0330, -0.0487,  0.1099, -0.0253, -0.0775, -0.0521,\n",
       "         0.0212, -0.0130, -0.1250,  0.0969,  0.0724, -0.0123, -0.1514, -0.0811,\n",
       "        -0.1173,  0.0757,  0.0729, -0.1476,  0.0393, -0.1193, -0.0063, -0.0470,\n",
       "         0.0992, -0.0473, -0.0045,  0.0036,  0.0222, -0.0331,  0.1007,  0.0158,\n",
       "         0.0346, -0.0280,  0.0192, -0.0565, -0.0075, -0.0396, -0.0334, -0.0024,\n",
       "        -0.0335,  0.0136,  0.0022,  0.0309, -0.0216,  0.0442, -0.0203,  0.2769,\n",
       "         0.0393,  0.0958,  0.0570, -0.0317,  0.0935, -0.0934,  0.0312, -0.0382,\n",
       "        -0.0586, -0.0115, -0.0122,  0.0728,  0.0651, -0.0124, -0.0465, -0.0521,\n",
       "         0.0408,  0.0554, -0.0192, -0.0080, -0.0572, -0.0482,  0.0499, -0.2515,\n",
       "         0.0152, -0.0147,  0.0069,  0.0808,  0.0025, -0.0865,  0.0191,  0.0090,\n",
       "         0.1156, -0.0397,  0.0157, -0.0306,  0.0090, -0.0122,  0.0650,  0.0710,\n",
       "        -0.0710,  0.0706, -0.0166, -0.0224,  0.1109, -0.0395,  0.0421,  0.0363,\n",
       "        -0.0137,  0.0027,  0.0901,  0.0553,  0.0343, -0.1313, -0.0367, -0.0454,\n",
       "        -0.0174, -0.0015, -0.0407,  0.0387, -0.0501, -0.0692,  0.0706,  0.1104,\n",
       "         0.0115,  0.0364,  0.0395,  0.0763,  0.0276,  0.0681, -0.0106,  0.0252,\n",
       "         0.0402, -0.1030, -0.0466,  0.0165, -0.0388, -0.0380,  0.0256, -0.0303,\n",
       "        -0.0141,  0.0366,  0.0704, -0.0276, -0.1311,  0.0034, -0.0118, -0.1132,\n",
       "        -0.0932,  0.0319,  0.0708, -0.0947,  0.0464,  0.0044, -0.0016,  0.0466,\n",
       "         0.0383, -0.0748, -0.1061, -0.0811,  0.0806, -0.0554,  0.0216, -0.0067,\n",
       "        -0.0388,  0.0249, -0.0003, -0.0847,  0.0717,  0.1139,  0.0287,  0.0144,\n",
       "        -0.0132,  0.0759, -0.1464, -0.0226,  0.0131,  0.1134, -0.0157,  0.0634,\n",
       "         0.1302,  0.0055, -0.0313,  0.0037,  0.0350,  0.0332, -0.0135, -0.0080,\n",
       "         0.1498, -0.0287,  0.0231,  0.1302,  0.0518,  0.1333, -0.0531,  0.0643,\n",
       "        -0.0212, -0.0105, -0.0698, -0.0743,  0.0225,  0.0094,  0.0324, -0.0573,\n",
       "        -0.0008,  0.0398, -0.0239, -0.0652, -0.0159, -0.0128, -0.0092,  0.0870,\n",
       "        -0.0143, -0.1458, -0.0124, -0.0095,  0.0271,  0.0674, -0.0214, -0.0201,\n",
       "        -0.0648,  0.0057,  0.0358, -0.0034,  0.0350, -0.0571, -0.1487, -0.0514,\n",
       "         0.0241, -0.0136,  0.0492,  0.0405, -0.0865,  0.0603,  0.0700, -0.0529,\n",
       "         0.0250,  0.0585,  0.0389, -0.0968, -0.0392,  0.0640,  0.0188, -0.0109,\n",
       "         0.0091, -0.0107,  0.0065,  0.0189,  0.0338,  0.0239, -0.0285, -0.0245,\n",
       "        -0.0250,  0.0336,  0.0043,  0.1544, -0.2056, -0.0044, -0.0260,  0.0602,\n",
       "         0.0697, -0.0826, -0.0973, -0.0265])"
      ]
     },
     "execution_count": 72,
     "metadata": {},
     "output_type": "execute_result"
    }
   ],
   "source": [
    "TEXT.vocab.vectors[TEXT.vocab.stoi['word']]"
   ]
  },
  {
   "cell_type": "code",
   "execution_count": 73,
   "metadata": {},
   "outputs": [],
   "source": [
    "LABEL.build_vocab(trn)"
   ]
  },
  {
   "cell_type": "code",
   "execution_count": 74,
   "metadata": {},
   "outputs": [
    {
     "data": {
      "text/plain": [
       "(69778, 6)"
      ]
     },
     "execution_count": 74,
     "metadata": {},
     "output_type": "execute_result"
    }
   ],
   "source": [
    "len(TEXT.vocab), len(LABEL.vocab)"
   ]
  },
  {
   "cell_type": "code",
   "execution_count": 75,
   "metadata": {},
   "outputs": [
    {
     "data": {
      "text/plain": [
       "[('the', 99314),\n",
       " ('you', 79331),\n",
       " ('i', 64147),\n",
       " ('to', 62761),\n",
       " ('a', 57499),\n",
       " ('and', 52105),\n",
       " ('of', 46456),\n",
       " ('is', 43322),\n",
       " ('that', 33922),\n",
       " ('fuck', 33046)]"
      ]
     },
     "execution_count": 75,
     "metadata": {},
     "output_type": "execute_result"
    }
   ],
   "source": [
    "TEXT.vocab.freqs.most_common(10)"
   ]
  },
  {
   "cell_type": "code",
   "execution_count": 76,
   "metadata": {},
   "outputs": [
    {
     "data": {
      "text/plain": [
       "[('0.0', 14695),\n",
       " ('1.0', 6013),\n",
       " ('3.0', 4616),\n",
       " ('2.0', 3668),\n",
       " ('4.0', 1744),\n",
       " ('5.0', 406)]"
      ]
     },
     "execution_count": 76,
     "metadata": {},
     "output_type": "execute_result"
    }
   ],
   "source": [
    "LABEL.vocab.freqs.most_common()"
   ]
  },
  {
   "cell_type": "code",
   "execution_count": 77,
   "metadata": {},
   "outputs": [],
   "source": [
    "device='cuda'"
   ]
  },
  {
   "cell_type": "code",
   "execution_count": 122,
   "metadata": {},
   "outputs": [],
   "source": [
    "batch_size = 32"
   ]
  },
  {
   "cell_type": "code",
   "execution_count": 78,
   "metadata": {},
   "outputs": [],
   "source": [
    "train_iter, val_iter = BucketIterator.splits(\n",
    "        (trn, vld),\n",
    "        batch_sizes=(batch_size, batch_size),\n",
    "        sort_key= lambda x: len(x.comment_text),\n",
    "        sort_within_batch=True,\n",
    "        device=device,\n",
    "        repeat=False,\n",
    ")"
   ]
  },
  {
   "cell_type": "code",
   "execution_count": 79,
   "metadata": {},
   "outputs": [],
   "source": [
    "vocab_size = len(TEXT.vocab)\n",
    "num_classes = len(LABEL.vocab)"
   ]
  },
  {
   "cell_type": "code",
   "execution_count": 80,
   "metadata": {},
   "outputs": [
    {
     "data": {
      "text/plain": [
       "(69778, 6)"
      ]
     },
     "execution_count": 80,
     "metadata": {},
     "output_type": "execute_result"
    }
   ],
   "source": [
    "vocab_size, num_classes"
   ]
  },
  {
   "cell_type": "code",
   "execution_count": null,
   "metadata": {},
   "outputs": [],
   "source": []
  },
  {
   "cell_type": "code",
   "execution_count": 81,
   "metadata": {},
   "outputs": [],
   "source": [
    "from torch.nn.utils.rnn import pack_padded_sequence, pad_packed_sequence"
   ]
  },
  {
   "cell_type": "code",
   "execution_count": 388,
   "metadata": {},
   "outputs": [],
   "source": [
    "class RNNBaseline(nn.Module):\n",
    "    def __init__(self, hidden_dim, emb_dim, vocab_size, pretrained_vecs):\n",
    "        super(RNNBaseline, self).__init__()\n",
    "        self.hidden_dim = hidden_dim\n",
    "        self.emb_dim = emb_dim\n",
    "        self.vocab_size = vocab_size\n",
    "        self.embed = nn.Embedding(vocab_size, emb_dim, padding_idx=1)\n",
    "        self.embed.weight.data.copy_(pretrained_vecs)\n",
    "        self.embed.weight.requires_grad = False\n",
    "        self.gru = nn.GRU(emb_dim, hidden_dim, batch_first=False, bidirectional=True)\n",
    "        self.fc_1 = nn.Linear(2*hidden_dim, 2*hidden_dim)\n",
    "        self.fc_2 = nn.Linear(2*hidden_dim, 6)\n",
    "        self.dropout = nn.Dropout(0.85)\n",
    "        \n",
    "            \n",
    "    def forward(self, seq, lens):\n",
    "        lens_clamped = lens.clamp(min=1)\n",
    "        embeds = self.embed(seq)\n",
    "        embeds = pack_padded_sequence(embeds, lens_clamped, enforce_sorted=False)\n",
    "        gru_out, h = self.gru(embeds)\n",
    "        h = torch.cat((h[-2,:,:], h[-1,:,:]), dim = 1)\n",
    "        x = F.leaky_relu(self.dropout(self.fc_1(h)))\n",
    "        preds = self.fc_2(x).view(-1, 6)\n",
    "        return preds"
   ]
  },
  {
   "cell_type": "code",
   "execution_count": 389,
   "metadata": {},
   "outputs": [],
   "source": [
    "em_sz = 300\n",
    "nh = 300\n",
    "\n",
    "model_base = RNNBaseline(nh, emb_dim=em_sz, vocab_size=vocab_size, \n",
    "                    pretrained_vecs=TEXT.vocab.vectors).to(device)"
   ]
  },
  {
   "cell_type": "code",
   "execution_count": 390,
   "metadata": {},
   "outputs": [
    {
     "data": {
      "text/plain": [
       "RNNBaseline(\n",
       "  (embed): Embedding(69778, 300, padding_idx=1)\n",
       "  (gru): GRU(300, 300, bidirectional=True)\n",
       "  (fc_1): Linear(in_features=600, out_features=600, bias=True)\n",
       "  (fc_2): Linear(in_features=600, out_features=6, bias=True)\n",
       "  (dropout): Dropout(p=0.85, inplace=False)\n",
       ")"
      ]
     },
     "execution_count": 390,
     "metadata": {},
     "output_type": "execute_result"
    }
   ],
   "source": [
    "model_base.cuda()\n"
   ]
  },
  {
   "cell_type": "code",
   "execution_count": 391,
   "metadata": {},
   "outputs": [],
   "source": [
    "opt = optim.Adam(filter(lambda p: p.requires_grad, model_base.parameters()), lr=3e-3, weight_decay=1e-5)\n",
    "loss_func = nn.CrossEntropyLoss()"
   ]
  },
  {
   "cell_type": "code",
   "execution_count": 392,
   "metadata": {},
   "outputs": [],
   "source": [
    "epochs = 15\n",
    "train_losses = [] \n",
    "val_losses = []"
   ]
  },
  {
   "cell_type": "code",
   "execution_count": 393,
   "metadata": {},
   "outputs": [
    {
     "name": "stdout",
     "output_type": "stream",
     "text": [
      "Epoch: 1, Training Loss: 0.9281373527627707, Validation Loss: 0.8181389728817371, Validation accuracy 0.6680150032043457\n",
      "Epoch: 2, Training Loss: 0.8118000953655223, Validation Loss: 0.7503259037065944, Validation accuracy 0.6821727752685547\n",
      "Epoch: 3, Training Loss: 0.7869700484696844, Validation Loss: 0.7573552798787389, Validation accuracy 0.6836174726486206\n",
      "Epoch: 4, Training Loss: 0.7650024578189458, Validation Loss: 0.7433082491432855, Validation accuracy 0.6847732067108154\n",
      "Epoch: 5, Training Loss: 0.7414230403530524, Validation Loss: 0.730378668516054, Validation accuracy 0.6865068078041077\n",
      "Epoch: 6, Training Loss: 0.8191671492474525, Validation Loss: 0.7565885336574064, Validation accuracy 0.6919965147972107\n",
      "Epoch: 7, Training Loss: 0.7939035538775231, Validation Loss: 0.7389748093731906, Validation accuracy 0.6836174726486206\n",
      "Epoch: 8, Training Loss: 0.7654364436283494, Validation Loss: 0.7334174439994567, Validation accuracy 0.689685046672821\n",
      "Epoch: 9, Training Loss: 0.7502840976450722, Validation Loss: 0.7480485406490641, Validation accuracy 0.7018203139305115\n",
      "Epoch: 10, Training Loss: 0.7410140029581176, Validation Loss: 0.7739512548534149, Validation accuracy 0.6931522488594055\n",
      "Epoch: 11, Training Loss: 0.7233876069162416, Validation Loss: 0.7328272915761406, Validation accuracy 0.6980641484260559\n",
      "Epoch: 12, Training Loss: 0.7085541612497346, Validation Loss: 0.7707083848638272, Validation accuracy 0.7018203139305115\n",
      "Epoch: 13, Training Loss: 0.7071275136584618, Validation Loss: 0.7564390156794032, Validation accuracy 0.6983530521392822\n",
      "Epoch: 14, Training Loss: 0.695522237163672, Validation Loss: 0.7683141511788062, Validation accuracy 0.6989309191703796\n",
      "Epoch: 15, Training Loss: 0.6681512310121828, Validation Loss: 0.7707422568437157, Validation accuracy 0.6951748132705688\n",
      "Wall time: 10min 33s\n"
     ]
    }
   ],
   "source": [
    "%%time\n",
    "with torch.autograd.set_detect_anomaly(True):\n",
    "    for epoch in range(1, epochs + 1):\n",
    "        running_loss = 0.0\n",
    "        running_corrects = 0\n",
    "        model_base.train() \n",
    "        for i, batch in enumerate(train_iter): \n",
    "            x, lens = batch.comment_text\n",
    "            y = batch.toxicity.long()\n",
    "\n",
    "            opt.zero_grad()\n",
    "            preds = model_base(x, lens)\n",
    "            loss = loss_func(preds, y)\n",
    "            loss.backward()\n",
    "            opt.step()\n",
    "            running_loss += loss.item()\n",
    "        epoch_loss = running_loss / len(train_iter)\n",
    "        train_losses.append(epoch_loss)\n",
    "\n",
    "        val_loss = 0.0\n",
    "        val_true = 0.0\n",
    "        val_overall = len(vld)\n",
    "        model_base.eval()\n",
    "        for j, batch in enumerate(val_iter):\n",
    "            with torch.no_grad():\n",
    "                x, lens = batch.comment_text\n",
    "                y = batch.toxicity.long()\n",
    "                preds = model_base(x, lens) \n",
    "                val_true += torch.sum(torch.argmax(preds, axis=1) == y)\n",
    "                loss = loss_func(preds, y.long())\n",
    "                val_loss += loss.item()\n",
    "        val_acc = val_true / val_overall\n",
    "        val_loss /= len(val_iter)\n",
    "        val_losses.append(val_loss)\n",
    "        print('Epoch: {}, Training Loss: {}, Validation Loss: {}, Validation accuracy {}'.format(epoch, epoch_loss, val_loss, val_acc))"
   ]
  },
  {
   "cell_type": "code",
   "execution_count": null,
   "metadata": {},
   "outputs": [],
   "source": []
  },
  {
   "cell_type": "code",
   "execution_count": 394,
   "metadata": {},
   "outputs": [
    {
     "data": {
      "image/png": "[encoded data removed]",
      "text/plain": [
       "<Figure size 864x432 with 1 Axes>"
      ]
     },
     "metadata": {
      "needs_background": "light"
     },
     "output_type": "display_data"
    }
   ],
   "source": [
    "plt.figure(figsize=(12,6))\n",
    "plt.plot(train_losses)\n",
    "plt.plot(val_losses)\n",
    "ticks = plt.xticks(range(epochs + 1))"
   ]
  },
  {
   "cell_type": "code",
   "execution_count": null,
   "metadata": {},
   "outputs": [],
   "source": []
  },
  {
   "cell_type": "code",
   "execution_count": 406,
   "metadata": {},
   "outputs": [],
   "source": [
    "with open('data/dataset_316011_2.txt', 'r') as f:\n",
    "    test_file = f.read().split('\\n')"
   ]
  },
  {
   "cell_type": "code",
   "execution_count": 407,
   "metadata": {},
   "outputs": [],
   "source": [
    "test_file= test_file[:-1]"
   ]
  },
  {
   "cell_type": "code",
   "execution_count": 408,
   "metadata": {},
   "outputs": [
    {
     "data": {
      "text/plain": [
       "9194"
      ]
     },
     "execution_count": 408,
     "metadata": {},
     "output_type": "execute_result"
    }
   ],
   "source": [
    "len(test_file)"
   ]
  },
  {
   "cell_type": "code",
   "execution_count": 409,
   "metadata": {},
   "outputs": [],
   "source": [
    "test_df = pd.DataFrame({'comment_text': test_file})"
   ]
  },
  {
   "cell_type": "code",
   "execution_count": 410,
   "metadata": {},
   "outputs": [
    {
     "data": {
      "text/html": [
       "<div>\n",
       "<style scoped>\n",
       "    .dataframe tbody tr th:only-of-type {\n",
       "        vertical-align: middle;\n",
       "    }\n",
       "\n",
       "    .dataframe tbody tr th {\n",
       "        vertical-align: top;\n",
       "    }\n",
       "\n",
       "    .dataframe thead th {\n",
       "        text-align: right;\n",
       "    }\n",
       "</style>\n",
       "<table border=\"1\" class=\"dataframe\">\n",
       "  <thead>\n",
       "    <tr style=\"text-align: right;\">\n",
       "      <th></th>\n",
       "      <th>comment_text</th>\n",
       "    </tr>\n",
       "  </thead>\n",
       "  <tbody>\n",
       "    <tr>\n",
       "      <th>0</th>\n",
       "      <td>that s great  many thanks  pigsonthewing talk ...</td>\n",
       "    </tr>\n",
       "    <tr>\n",
       "      <th>1</th>\n",
       "      <td>hey  thanks  i m sure this account will get  b...</td>\n",
       "    </tr>\n",
       "    <tr>\n",
       "      <th>2</th>\n",
       "      <td>yes  i mentioned that in the latest afd  how d...</td>\n",
       "    </tr>\n",
       "    <tr>\n",
       "      <th>3</th>\n",
       "      <td>nice try i just asked why the word terrorist w...</td>\n",
       "    </tr>\n",
       "    <tr>\n",
       "      <th>4</th>\n",
       "      <td>adoption can you adopt me please</td>\n",
       "    </tr>\n",
       "  </tbody>\n",
       "</table>\n",
       "</div>"
      ],
      "text/plain": [
       "                                        comment_text\n",
       "0  that s great  many thanks  pigsonthewing talk ...\n",
       "1  hey  thanks  i m sure this account will get  b...\n",
       "2  yes  i mentioned that in the latest afd  how d...\n",
       "3  nice try i just asked why the word terrorist w...\n",
       "4                   adoption can you adopt me please"
      ]
     },
     "execution_count": 410,
     "metadata": {},
     "output_type": "execute_result"
    }
   ],
   "source": [
    "test_df.head()"
   ]
  },
  {
   "cell_type": "code",
   "execution_count": 411,
   "metadata": {},
   "outputs": [
    {
     "data": {
      "text/html": [
       "<div>\n",
       "<style scoped>\n",
       "    .dataframe tbody tr th:only-of-type {\n",
       "        vertical-align: middle;\n",
       "    }\n",
       "\n",
       "    .dataframe tbody tr th {\n",
       "        vertical-align: top;\n",
       "    }\n",
       "\n",
       "    .dataframe thead th {\n",
       "        text-align: right;\n",
       "    }\n",
       "</style>\n",
       "<table border=\"1\" class=\"dataframe\">\n",
       "  <thead>\n",
       "    <tr style=\"text-align: right;\">\n",
       "      <th></th>\n",
       "      <th>comment_text</th>\n",
       "    </tr>\n",
       "  </thead>\n",
       "  <tbody>\n",
       "    <tr>\n",
       "      <th>9192</th>\n",
       "      <td>ignore the islamophobes you are truly a warrio...</td>\n",
       "    </tr>\n",
       "    <tr>\n",
       "      <th>9193</th>\n",
       "      <td>i think me and justin are going to try and get...</td>\n",
       "    </tr>\n",
       "  </tbody>\n",
       "</table>\n",
       "</div>"
      ],
      "text/plain": [
       "                                           comment_text\n",
       "9192  ignore the islamophobes you are truly a warrio...\n",
       "9193  i think me and justin are going to try and get..."
      ]
     },
     "execution_count": 411,
     "metadata": {},
     "output_type": "execute_result"
    }
   ],
   "source": [
    "test_df.tail(2)"
   ]
  },
  {
   "cell_type": "code",
   "execution_count": 412,
   "metadata": {},
   "outputs": [],
   "source": [
    "test_df.to_csv('data/test.csv', index=False)"
   ]
  },
  {
   "cell_type": "code",
   "execution_count": 413,
   "metadata": {},
   "outputs": [],
   "source": [
    "tst = TabularDataset(\n",
    "           path=\"data/test.csv\",\n",
    "           format='csv',\n",
    "           skip_header=True,\n",
    "           fields=[('comment_text', TEXT)]\n",
    ")"
   ]
  },
  {
   "cell_type": "code",
   "execution_count": 414,
   "metadata": {},
   "outputs": [],
   "source": [
    "tst_iter = Iterator(\n",
    "        tst,\n",
    "        batch_size=64,\n",
    "        sort=False,\n",
    "        sort_key= lambda x: len(x.comment_text),\n",
    "        sort_within_batch=False,\n",
    "        device=device,\n",
    "        train=False,\n",
    "        repeat=False,\n",
    ")\n"
   ]
  },
  {
   "cell_type": "code",
   "execution_count": 415,
   "metadata": {},
   "outputs": [],
   "source": [
    "test_preds = np.zeros(len(tst))\n",
    "model_base.eval()\n",
    "for i, batch in enumerate(tst_iter):\n",
    "    with torch.no_grad():\n",
    "        x, lens = batch.comment_text\n",
    "        y_pred = torch.argmax(model_base(x, lens).detach().cpu(), axis=1)\n",
    "        test_preds[i*64:min((i+1)*64, i*64+len(x))] = y_pred"
   ]
  },
  {
   "cell_type": "code",
   "execution_count": 416,
   "metadata": {},
   "outputs": [],
   "source": [
    "test_preds = test_preds.astype(int)"
   ]
  },
  {
   "cell_type": "code",
   "execution_count": 417,
   "metadata": {},
   "outputs": [
    {
     "data": {
      "text/plain": [
       "9194"
      ]
     },
     "execution_count": 417,
     "metadata": {},
     "output_type": "execute_result"
    }
   ],
   "source": [
    "len(test_preds)"
   ]
  },
  {
   "cell_type": "code",
   "execution_count": 418,
   "metadata": {},
   "outputs": [],
   "source": [
    "np.savetxt('data/submission.txt', test_preds, fmt='%d')"
   ]
  },
  {
   "cell_type": "code",
   "execution_count": 320,
   "metadata": {},
   "outputs": [
    {
     "data": {
      "text/html": [
       "<div>\n",
       "<style scoped>\n",
       "    .dataframe tbody tr th:only-of-type {\n",
       "        vertical-align: middle;\n",
       "    }\n",
       "\n",
       "    .dataframe tbody tr th {\n",
       "        vertical-align: top;\n",
       "    }\n",
       "\n",
       "    .dataframe thead th {\n",
       "        text-align: right;\n",
       "    }\n",
       "</style>\n",
       "<table border=\"1\" class=\"dataframe\">\n",
       "  <thead>\n",
       "    <tr style=\"text-align: right;\">\n",
       "      <th></th>\n",
       "      <th>uuid</th>\n",
       "      <th>comment_text</th>\n",
       "      <th>toxicity</th>\n",
       "    </tr>\n",
       "  </thead>\n",
       "  <tbody>\n",
       "    <tr>\n",
       "      <th>25574</th>\n",
       "      <td>dbdef750-57db-465e-b341-ada60acac237</td>\n",
       "      <td>screw off  i ll do what i want  southwest does...</td>\n",
       "      <td>3.0</td>\n",
       "    </tr>\n",
       "    <tr>\n",
       "      <th>2936</th>\n",
       "      <td>61e627e9-4b07-4daf-811c-25ffc64a0665</td>\n",
       "      <td>tagging of enlisy  i recently removed a speedy...</td>\n",
       "      <td>0.0</td>\n",
       "    </tr>\n",
       "    <tr>\n",
       "      <th>4369</th>\n",
       "      <td>45670a32-d24d-4773-aca1-1d147f985e90</td>\n",
       "      <td>the capital of ukraine is the city of kyiv art...</td>\n",
       "      <td>0.0</td>\n",
       "    </tr>\n",
       "    <tr>\n",
       "      <th>10090</th>\n",
       "      <td>9aed697f-d14d-4748-9400-adc1f4a26e36</td>\n",
       "      <td>re wording according to the european commiss...</td>\n",
       "      <td>0.0</td>\n",
       "    </tr>\n",
       "    <tr>\n",
       "      <th>3060</th>\n",
       "      <td>ef5345bb-4ea8-4903-9475-2e35119fac1d</td>\n",
       "      <td>do not erase my messages this behaviour is inf...</td>\n",
       "      <td>0.0</td>\n",
       "    </tr>\n",
       "    <tr>\n",
       "      <th>...</th>\n",
       "      <td>...</td>\n",
       "      <td>...</td>\n",
       "      <td>...</td>\n",
       "    </tr>\n",
       "    <tr>\n",
       "      <th>33081</th>\n",
       "      <td>38058a78-12f7-449c-b4e6-c5fa2b182b5f</td>\n",
       "      <td>aol ip block another aol ip block and such fo...</td>\n",
       "      <td>1.0</td>\n",
       "    </tr>\n",
       "    <tr>\n",
       "      <th>17222</th>\n",
       "      <td>a7941588-be52-4aed-8da3-2d8f8668dfff</td>\n",
       "      <td>fuck you  learn how to type a url correctly y...</td>\n",
       "      <td>4.0</td>\n",
       "    </tr>\n",
       "    <tr>\n",
       "      <th>15213</th>\n",
       "      <td>34cd61b4-5ba6-429b-8bd2-258d03f30786</td>\n",
       "      <td>doesn t surprise me  one of the side effects o...</td>\n",
       "      <td>0.0</td>\n",
       "    </tr>\n",
       "    <tr>\n",
       "      <th>29088</th>\n",
       "      <td>1d9a26bb-a76b-461a-95ad-4fac55e9d21a</td>\n",
       "      <td>this is a stupid idea  all it is doing is addi...</td>\n",
       "      <td>1.0</td>\n",
       "    </tr>\n",
       "    <tr>\n",
       "      <th>27039</th>\n",
       "      <td>9b97c6c3-5c1b-48e4-93a6-585176b7b35b</td>\n",
       "      <td>the question is not whether it s art or pornog...</td>\n",
       "      <td>2.0</td>\n",
       "    </tr>\n",
       "  </tbody>\n",
       "</table>\n",
       "<p>3461 rows × 3 columns</p>\n",
       "</div>"
      ],
      "text/plain": [
       "                                       uuid  \\\n",
       "25574  dbdef750-57db-465e-b341-ada60acac237   \n",
       "2936   61e627e9-4b07-4daf-811c-25ffc64a0665   \n",
       "4369   45670a32-d24d-4773-aca1-1d147f985e90   \n",
       "10090  9aed697f-d14d-4748-9400-adc1f4a26e36   \n",
       "3060   ef5345bb-4ea8-4903-9475-2e35119fac1d   \n",
       "...                                     ...   \n",
       "33081  38058a78-12f7-449c-b4e6-c5fa2b182b5f   \n",
       "17222  a7941588-be52-4aed-8da3-2d8f8668dfff   \n",
       "15213  34cd61b4-5ba6-429b-8bd2-258d03f30786   \n",
       "29088  1d9a26bb-a76b-461a-95ad-4fac55e9d21a   \n",
       "27039  9b97c6c3-5c1b-48e4-93a6-585176b7b35b   \n",
       "\n",
       "                                            comment_text  toxicity  \n",
       "25574  screw off  i ll do what i want  southwest does...       3.0  \n",
       "2936   tagging of enlisy  i recently removed a speedy...       0.0  \n",
       "4369   the capital of ukraine is the city of kyiv art...       0.0  \n",
       "10090    re wording according to the european commiss...       0.0  \n",
       "3060   do not erase my messages this behaviour is inf...       0.0  \n",
       "...                                                  ...       ...  \n",
       "33081   aol ip block another aol ip block and such fo...       1.0  \n",
       "17222   fuck you  learn how to type a url correctly y...       4.0  \n",
       "15213  doesn t surprise me  one of the side effects o...       0.0  \n",
       "29088  this is a stupid idea  all it is doing is addi...       1.0  \n",
       "27039  the question is not whether it s art or pornog...       2.0  \n",
       "\n",
       "[3461 rows x 3 columns]"
      ]
     },
     "execution_count": 320,
     "metadata": {},
     "output_type": "execute_result"
    }
   ],
   "source": [
    "val"
   ]
  },
  {
   "cell_type": "code",
   "execution_count": null,
   "metadata": {},
   "outputs": [],
   "source": []
  }
 ],
 "metadata": {
  "kernelspec": {
   "display_name": "Python 3",
   "language": "python",
   "name": "python3"
  },
  "language_info": {
   "codemirror_mode": {
    "name": "ipython",
    "version": 3
   },
   "file_extension": ".py",
   "mimetype": "text/x-python",
   "name": "python",
   "nbconvert_exporter": "python",
   "pygments_lexer": "ipython3",
   "version": "3.7.6"
  }
 },
 "nbformat": 4,
 "nbformat_minor": 4
}
